{
 "cells": [
  {
   "cell_type": "markdown",
   "metadata": {
    "id": "v--J7LUqL9Cj"
   },
   "source": [
    "# Setup"
   ]
  },
  {
   "cell_type": "code",
   "execution_count": 1,
   "metadata": {
    "colab": {
     "base_uri": "https://localhost:8080/"
    },
    "executionInfo": {
     "elapsed": 92462,
     "status": "ok",
     "timestamp": 1713748004073,
     "user": {
      "displayName": "LIANGYU WANG",
      "userId": "14294738231560219046"
     },
     "user_tz": 240
    },
    "id": "rKZmwX1V9l7G",
    "outputId": "3a40b146-5176-4608-f0fa-ca821dfcfe44"
   },
   "outputs": [
    {
     "name": "stdout",
     "output_type": "stream",
     "text": [
      "Mounted at /content/drive\n"
     ]
    }
   ],
   "source": [
    "from google.colab import drive\n",
    "drive.mount('/content/drive')"
   ]
  },
  {
   "cell_type": "code",
   "execution_count": 2,
   "metadata": {
    "colab": {
     "base_uri": "https://localhost:8080/"
    },
    "executionInfo": {
     "elapsed": 7489,
     "status": "ok",
     "timestamp": 1713748046990,
     "user": {
      "displayName": "LIANGYU WANG",
      "userId": "14294738231560219046"
     },
     "user_tz": 240
    },
    "id": "8Af_47xxWVhC",
    "outputId": "a2f2498f-0913-4f50-a137-79c660a83394"
   },
   "outputs": [
    {
     "name": "stdout",
     "output_type": "stream",
     "text": [
      "Requirement already satisfied: polars in /usr/local/lib/python3.10/dist-packages (0.20.2)\n"
     ]
    }
   ],
   "source": [
    "!pip install polars"
   ]
  },
  {
   "cell_type": "code",
   "execution_count": 3,
   "metadata": {
    "executionInfo": {
     "elapsed": 3174,
     "status": "ok",
     "timestamp": 1713748050161,
     "user": {
      "displayName": "LIANGYU WANG",
      "userId": "14294738231560219046"
     },
     "user_tz": 240
    },
    "id": "F-RBDJdwWdI-"
   },
   "outputs": [],
   "source": [
    "import os\n",
    "import gc\n",
    "import math\n",
    "import random\n",
    "from glob import glob\n",
    "from collections import defaultdict, Counter\n",
    "from typing import List, Dict\n",
    "import joblib\n",
    "import pickle\n",
    "\n",
    "from tqdm import tqdm\n",
    "import matplotlib.pyplot as plt\n",
    "import seaborn as sns\n",
    "import numpy as np\n",
    "import polars as pl\n",
    "import pandas as pd\n",
    "import lightgbm as lgb\n",
    "from sklearn.model_selection import GroupKFold"
   ]
  },
  {
   "cell_type": "markdown",
   "metadata": {
    "id": "hEPw4yzayxut"
   },
   "source": [
    "## constants"
   ]
  },
  {
   "cell_type": "code",
   "execution_count": 4,
   "metadata": {
    "executionInfo": {
     "elapsed": 3,
     "status": "ok",
     "timestamp": 1713748050161,
     "user": {
      "displayName": "LIANGYU WANG",
      "userId": "14294738231560219046"
     },
     "user_tz": 240
    },
    "id": "c3OCFFMJZoNy"
   },
   "outputs": [],
   "source": [
    "EXP_NAME = \"exp115\"\n",
    "DIR = \"/content/drive/MyDrive/kddcup2023-ly/kddcup2023\"\n",
    "K_FOLDS = 2\n",
    "SEED = 42\n",
    "LOCALES = [\"UK\", \"JP\", \"DE\"]\n",
    "\n",
    "# This parameter controls to which end item the candidate is tied.\n",
    "# For example, if [1,2], candidates are generated from the last item and second last item in each session.\n",
    "LAST_NS = [1, 2, 3]"
   ]
  },
  {
   "cell_type": "code",
   "execution_count": 5,
   "metadata": {
    "colab": {
     "base_uri": "https://localhost:8080/"
    },
    "executionInfo": {
     "elapsed": 12330,
     "status": "ok",
     "timestamp": 1713748062489,
     "user": {
      "displayName": "LIANGYU WANG",
      "userId": "14294738231560219046"
     },
     "user_tz": 240
    },
    "id": "A_SO8ZpI5oFj",
    "outputId": "1b50d237-7bd7-413f-dc96-cb2b56e75044"
   },
   "outputs": [
    {
     "name": "stdout",
     "output_type": "stream",
     "text": [
      "deb http://packages.cloud.google.com/apt gcsfuse-jammy main\n",
      "  % Total    % Received % Xferd  Average Speed   Time    Time     Time  Current\n",
      "                                 Dload  Upload   Total   Spent    Left  Speed\n",
      "100  2659  100  2659    0     0  31680      0 --:--:-- --:--:-- --:--:-- 32036\n",
      "Warning: apt-key is deprecated. Manage keyring files in trusted.gpg.d instead (see apt-key(8)).\n",
      "OK\n",
      "Get:1 http://security.ubuntu.com/ubuntu jammy-security InRelease [110 kB]\n",
      "Get:2 http://packages.cloud.google.com/apt gcsfuse-jammy InRelease [1,225 B]\n",
      "Get:3 https://cloud.r-project.org/bin/linux/ubuntu jammy-cran40/ InRelease [3,626 B]\n",
      "Get:4 https://developer.download.nvidia.com/compute/cuda/repos/ubuntu2204/x86_64  InRelease [1,581 B]\n",
      "Hit:5 http://archive.ubuntu.com/ubuntu jammy InRelease\n",
      "Get:6 https://ppa.launchpadcontent.net/c2d4u.team/c2d4u4.0+/ubuntu jammy InRelease [18.1 kB]\n",
      "Get:7 https://ppa.launchpadcontent.net/deadsnakes/ppa/ubuntu jammy InRelease [18.1 kB]\n",
      "Get:8 https://ppa.launchpadcontent.net/graphics-drivers/ppa/ubuntu jammy InRelease [24.3 kB]\n",
      "Get:9 https://ppa.launchpadcontent.net/ubuntugis/ppa/ubuntu jammy InRelease [23.8 kB]\n",
      "Get:10 http://archive.ubuntu.com/ubuntu jammy-updates InRelease [119 kB]\n",
      "Get:11 http://packages.cloud.google.com/apt gcsfuse-jammy/main amd64 Packages [20.3 kB]\n",
      "Get:12 http://packages.cloud.google.com/apt gcsfuse-jammy/main all Packages [750 B]\n",
      "Get:13 http://security.ubuntu.com/ubuntu jammy-security/restricted amd64 Packages [2,228 kB]\n",
      "Get:14 http://security.ubuntu.com/ubuntu jammy-security/universe amd64 Packages [1,077 kB]\n",
      "Get:15 http://security.ubuntu.com/ubuntu jammy-security/main amd64 Packages [1,739 kB]\n",
      "Get:16 https://developer.download.nvidia.com/compute/cuda/repos/ubuntu2204/x86_64  Packages [812 kB]\n",
      "Hit:17 http://archive.ubuntu.com/ubuntu jammy-backports InRelease\n",
      "Get:18 https://ppa.launchpadcontent.net/c2d4u.team/c2d4u4.0+/ubuntu jammy/main Sources [2,268 kB]\n",
      "Get:19 https://ppa.launchpadcontent.net/c2d4u.team/c2d4u4.0+/ubuntu jammy/main amd64 Packages [1,164 kB]\n",
      "Get:20 https://ppa.launchpadcontent.net/deadsnakes/ppa/ubuntu jammy/main amd64 Packages [27.8 kB]\n",
      "Get:21 https://ppa.launchpadcontent.net/graphics-drivers/ppa/ubuntu jammy/main amd64 Packages [44.7 kB]\n",
      "Get:22 https://ppa.launchpadcontent.net/ubuntugis/ppa/ubuntu jammy/main amd64 Packages [66.2 kB]\n",
      "Get:23 http://archive.ubuntu.com/ubuntu jammy-updates/restricted amd64 Packages [2,307 kB]\n",
      "Get:24 http://archive.ubuntu.com/ubuntu jammy-updates/main amd64 Packages [2,019 kB]\n",
      "Get:25 http://archive.ubuntu.com/ubuntu jammy-updates/universe amd64 Packages [1,369 kB]\n",
      "Fetched 15.5 MB in 2s (6,717 kB/s)\n",
      "Reading package lists... Done\n",
      "W: http://packages.cloud.google.com/apt/dists/gcsfuse-jammy/InRelease: Key is stored in legacy trusted.gpg keyring (/etc/apt/trusted.gpg), see the DEPRECATION section in apt-key(8) for details.\n",
      "Reading package lists... Done\n",
      "Building dependency tree... Done\n",
      "Reading state information... Done\n",
      "The following NEW packages will be installed:\n",
      "  gcsfuse\n",
      "0 upgraded, 1 newly installed, 0 to remove and 209 not upgraded.\n",
      "Need to get 8,705 kB of archives.\n",
      "After this operation, 0 B of additional disk space will be used.\n",
      "Get:1 http://packages.cloud.google.com/apt gcsfuse-jammy/main amd64 gcsfuse amd64 2.0.0 [8,705 kB]\n",
      "Fetched 8,705 kB in 0s (35.8 MB/s)\n",
      "Selecting previously unselected package gcsfuse.\n",
      "(Reading database ... 131015 files and directories currently installed.)\n",
      "Preparing to unpack .../gcsfuse_2.0.0_amd64.deb ...\n",
      "Unpacking gcsfuse (2.0.0) ...\n",
      "Setting up gcsfuse (2.0.0) ...\n"
     ]
    }
   ],
   "source": [
    "# Add the gcsfuse repository to the list of repositories\n",
    "!echo \"deb http://packages.cloud.google.com/apt gcsfuse-`lsb_release -c -s` main\" | sudo tee /etc/apt/sources.list.d/gcsfuse.list\n",
    "!curl https://packages.cloud.google.com/apt/doc/apt-key.gpg | sudo apt-key add -\n",
    "\n",
    "# Install\n",
    "!apt-get update\n",
    "!apt-get install gcsfuse"
   ]
  },
  {
   "cell_type": "code",
   "execution_count": 6,
   "metadata": {
    "colab": {
     "base_uri": "https://localhost:8080/"
    },
    "executionInfo": {
     "elapsed": 5,
     "status": "ok",
     "timestamp": 1713748062490,
     "user": {
      "displayName": "LIANGYU WANG",
      "userId": "14294738231560219046"
     },
     "user_tz": 240
    },
    "id": "H_9QQp2M7xe8",
    "outputId": "aa9873fa-4047-48b8-f973-1dcf66461380"
   },
   "outputs": [
    {
     "name": "stdout",
     "output_type": "stream",
     "text": [
      "env: DATA_ROOT=/content/drive/MyDrive/kddcup2023-ly/kddcup2023/data\n"
     ]
    }
   ],
   "source": [
    "%env DATA_ROOT /content/drive/MyDrive/kddcup2023-ly/kddcup2023/data"
   ]
  },
  {
   "cell_type": "code",
   "execution_count": 7,
   "metadata": {
    "colab": {
     "base_uri": "https://localhost:8080/"
    },
    "executionInfo": {
     "elapsed": 3,
     "status": "ok",
     "timestamp": 1713748062490,
     "user": {
      "displayName": "LIANGYU WANG",
      "userId": "14294738231560219046"
     },
     "user_tz": 240
    },
    "id": "I9mY9Yj_7xhQ",
    "outputId": "6e8a72bf-3772-4b6d-9b39-cc60f70d580b"
   },
   "outputs": [
    {
     "name": "stdout",
     "output_type": "stream",
     "text": [
      "env: EXP_NAME=exp115\n"
     ]
    }
   ],
   "source": [
    "%env EXP_NAME exp115"
   ]
  },
  {
   "cell_type": "code",
   "execution_count": 8,
   "metadata": {
    "executionInfo": {
     "elapsed": 2,
     "status": "ok",
     "timestamp": 1713748062490,
     "user": {
      "displayName": "LIANGYU WANG",
      "userId": "14294738231560219046"
     },
     "user_tz": 240
    },
    "id": "FWVBpIDnyz0I"
   },
   "outputs": [],
   "source": [
    "PARAMS = {\n",
    "    \"objective\": \"lambdarank\",\n",
    "    \"metric\": \"ndcg\",\n",
    "    \"boosting\": \"gbdt\",\n",
    "    \"seed\": SEED,\n",
    "    \"num_leaves\": 50,\n",
    "    \"max_depth\": 10,\n",
    "    \"learning_rate\": 0.1,\n",
    "    \"feature_fraction\": 0.9,\n",
    "    \"bagging_fraction\": 0.9,\n",
    "    \"bagging_freq\": 5,\n",
    "    \"min_data_in_leaf\": 30,\n",
    "    \"eval_at\": [20],\n",
    "    \"lambdarank_truncation_level\" : 40,\n",
    "    \"deterministic\":True,\n",
    "}"
   ]
  },
  {
   "cell_type": "code",
   "execution_count": 9,
   "metadata": {
    "executionInfo": {
     "elapsed": 245,
     "status": "ok",
     "timestamp": 1713748072666,
     "user": {
      "displayName": "LIANGYU WANG",
      "userId": "14294738231560219046"
     },
     "user_tz": 240
    },
    "id": "VePmzquzyz2C"
   },
   "outputs": [],
   "source": [
    "USE_FEATURES = [\n",
    "    # === candidate features ===\n",
    "    \"co_visit_weight_last1\", \"consective_1_weight_last1\", \"consective_3_weight_last1\", \"consective_5_weight_last1\", \"similarity_score_last1\", \"bert_distance_last1\", \"lift_last1\", \"prone_distance_last1\",\n",
    "    \"co_visit_weight_last2\", \"consective_1_weight_last2\", \"consective_3_weight_last2\", \"consective_5_weight_last2\", \"similarity_score_last2\", \"bert_distance_last2\", \"lift_last2\", \"prone_distance_last2\",\n",
    "    \"co_visit_weight_last3\", \"consective_1_weight_last3\", \"consective_3_weight_last3\", \"consective_5_weight_last3\", \"similarity_score_last3\", \"bert_distance_last3\", \"lift_last3\", \"prone_distance_last3\",\n",
    "    \"imf_score\", \"bpr_score\",\n",
    "    \"co_visit_rank_last1\", \"consective_1_rank_last1\", \"consective_3_rank_last1\", \"consective_5_rank_last1\", \"similarity_rank_last1\", \"bert_rank_last1\", \"lift_rank_last1\", \"prone_rank_last1\",\n",
    "    \"co_visit_rank_last2\", \"consective_1_rank_last2\", \"consective_3_rank_last2\", \"consective_5_rank_last2\", \"similarity_rank_last2\", \"bert_rank_last2\", \"lift_rank_last2\", \"prone_rank_last2\",\n",
    "    \"co_visit_rank_last3\", \"consective_1_rank_last3\", \"consective_3_rank_last3\", \"consective_5_rank_last3\", \"similarity_rank_last3\", \"bert_rank_last3\", \"lift_rank_last3\", \"prone_rank_last3\",\n",
    "    \"imf_rank\", \"bpr_rank\",\n",
    "    # === session features ===\n",
    "    \"S_session_length\",\n",
    "    \"S_nunique_brand\",\n",
    "    \"S_ratio_unique_brand\",\n",
    "    \"S_nunique_item\",\n",
    "    \"S_ratio_repurchase\",\n",
    "    \"S_locale\",\n",
    "    \"S_mean_price\", \"S_max_price\", \"S_min_price\", \"S_std_price\", \"S_total_amount\",\n",
    "    \"S_color_not_null_count\", \"S_size_not_null_count\", \"S_model_not_null_count\", \"S_material_not_null_count\", \"S_author_not_null_count\",\n",
    "    \"S_last_item_price\",\n",
    "    # === product features ===\n",
    "    \"P_price\",\n",
    "    \"P_purchase_count\", \"P_purchase_count_global\",\n",
    "    \"P_total_amount\",\n",
    "    \"P_brand_purchase_count\", \"P_brand_purchase_count_global\",\n",
    "    \"P_brand_mean_price\", \"P_brand_max_price\", \"P_brand_min_price\", \"P_brand_std_price\", \"P_total_brand_amount\",\n",
    "    \"P_price_diff_to_avg_brand_price\",\n",
    "    \"P_n_unique_locale\",\n",
    "    \"P_is_color_null\", \"P_is_size_null\", \"P_is_model_null\", \"P_is_material_null\", \"P_is_author_null\",\n",
    "    \"P_purchase_count_ratio_to_locale\", \"P_purchase_amount_ratio_to_locale\", \"P_purchase_count_ratio_to_brand\", \"P_purchase_amount_ratio_to_brand\",\n",
    "    # === session * product features ===\n",
    "    \"SP_price_diff_to_mean_price\", \"SP_price_diff_to_min_price\", \"SP_price_diff_to_max_price\", \"SP_price_diff_to_last_price\",\n",
    "    \"SP_brand_price_diff_to_mean_price\", \"SP_brand_price_diff_to_min_price\", \"SP_brand_price_diff_to_max_price\", \"SP_brand_price_diff_to_last_price\",\n",
    "    \"SP_same_brand_last1\", \"SP_same_brand_last2\", \"SP_same_brand_last3\",\n",
    "    \"SP_same_color_last1\", \"SP_same_color_last2\", \"SP_same_color_last3\",\n",
    "    \"SP_same_size_last1\", \"SP_same_size_last2\", \"SP_same_size_last3\",\n",
    "    \"SP_same_model_last1\", \"SP_same_model_last2\", \"SP_same_model_last3\",\n",
    "    \"SP_same_material_last1\", \"SP_same_material_last2\", \"SP_same_material_last3\",\n",
    "    \"SP_same_author_last1\", \"SP_same_author_last2\", \"SP_same_author_last3\",\n",
    "    \"SP_same_brand_sum\", \"SP_same_color_sum\", \"SP_same_size_sum\", \"SP_same_model_sum\", \"SP_same_material_sum\", \"SP_same_author_sum\",\n",
    "    # === similality features ===\n",
    "    \"imf_similarity\", \"bpr_similarity\",\n",
    "    \"graph_emb_similarity_last1\", \"graph_emb_similarity_last2\", \"graph_emb_similarity_last3\",\n",
    "    \"i2v_similarity_last1\", \"i2v_similarity_last2\", \"i2v_similarity_last3\",\n",
    "]"
   ]
  },
  {
   "cell_type": "markdown",
   "metadata": {
    "id": "E-NbXCWfyDZt"
   },
   "source": [
    "## functions"
   ]
  },
  {
   "cell_type": "code",
   "execution_count": 10,
   "metadata": {
    "executionInfo": {
     "elapsed": 240,
     "status": "ok",
     "timestamp": 1713748074859,
     "user": {
      "displayName": "LIANGYU WANG",
      "userId": "14294738231560219046"
     },
     "user_tz": 240
    },
    "id": "n9dS6r3wyE0x"
   },
   "outputs": [],
   "source": [
    "# functions for model training, prediction and evaluation\n",
    "\n",
    "def train_lgb_model(train:pd.DataFrame) -> np.array:\n",
    "    feat_imp = np.zeros((len(USE_FEATURES),))\n",
    "    gkf = GroupKFold(n_splits=K_FOLDS)\n",
    "    for fold, (train_idx, val_idx) in enumerate(gkf.split(train, train[\"label\"], groups=train[\"session_id\"])):\n",
    "        print(f'Fold {fold+1}')\n",
    "\n",
    "        # Split data into train and validation sets\n",
    "        train_tmp = train.iloc[train_idx].copy()\n",
    "        valid_tmp = train.iloc[val_idx].copy()\n",
    "        train_tmp.sort_values(\"session_id\", inplace=True)\n",
    "        valid_tmp.sort_values(\"session_id\", inplace=True)\n",
    "        train_baskets = train_tmp.groupby(\"session_id\")[\"candidate_item\"].count().values\n",
    "        valid_baskets = valid_tmp.groupby(\"session_id\")[\"candidate_item\"].count().values\n",
    "        X_train, y_train = train_tmp[USE_FEATURES], train_tmp[\"label\"]\n",
    "        X_val, y_val = valid_tmp[USE_FEATURES], valid_tmp[\"label\"]\n",
    "\n",
    "        # Create LightGBM dataset\n",
    "        lgb_train = lgb.Dataset(X_train, y_train, group=train_baskets)\n",
    "        lgb_val = lgb.Dataset(X_val, y_val, group=valid_baskets, reference=lgb_train)\n",
    "\n",
    "        del train_tmp, valid_tmp, X_train, y_train, train_baskets, X_val, y_val, valid_baskets\n",
    "        gc.collect()\n",
    "\n",
    "        # Train LightGBM model\n",
    "        model = lgb.train(PARAMS,\n",
    "                        lgb_train,\n",
    "                        num_boost_round=10000,\n",
    "                        valid_sets=[lgb_train, lgb_val],\n",
    "                        callbacks=[\n",
    "                            lgb.early_stopping(stopping_rounds=50),\n",
    "                            lgb.log_evaluation(100),\n",
    "                        ]\n",
    "                )\n",
    "\n",
    "        # Save LightGBM model\n",
    "        joblib.dump(model, f'/content/drive/MyDrive/kddcup2023/models/task1/{EXP_NAME}_{fold+1}.pkl')\n",
    "\n",
    "        # Add feature importance scores\n",
    "        feat_imp += model.feature_importance(importance_type=\"gain\")\n",
    "\n",
    "    return feat_imp"
   ]
  },
  {
   "cell_type": "markdown",
   "metadata": {
    "id": "_FPA8z96Zil9"
   },
   "source": [
    "## fix seed"
   ]
  },
  {
   "cell_type": "code",
   "execution_count": 11,
   "metadata": {
    "executionInfo": {
     "elapsed": 372,
     "status": "ok",
     "timestamp": 1713748077730,
     "user": {
      "displayName": "LIANGYU WANG",
      "userId": "14294738231560219046"
     },
     "user_tz": 240
    },
    "id": "wEckSTT1ZkDG"
   },
   "outputs": [],
   "source": [
    "def seed_everything(seed):\n",
    "    random.seed(seed)\n",
    "    np.random.seed(seed)\n",
    "    os.environ[\"PYTHONHASHSEED\"] = str(seed)\n",
    "seed_everything(SEED)"
   ]
  },
  {
   "cell_type": "markdown",
   "metadata": {
    "id": "l-9_8kPKFQSo"
   },
   "source": [
    "# Train"
   ]
  },
  {
   "cell_type": "markdown",
   "metadata": {
    "id": "pmqTdaXZXXFL"
   },
   "source": [
    "## train model"
   ]
  },
  {
   "cell_type": "code",
   "execution_count": 12,
   "metadata": {
    "colab": {
     "base_uri": "https://localhost:8080/"
    },
    "executionInfo": {
     "elapsed": 95751,
     "status": "ok",
     "timestamp": 1713748175081,
     "user": {
      "displayName": "LIANGYU WANG",
      "userId": "14294738231560219046"
     },
     "user_tz": 240
    },
    "id": "4B3TS5Fg8Q-C",
    "outputId": "ba43c4ed-cb74-43dd-8d68-09ecc5f43cc3"
   },
   "outputs": [
    {
     "name": "stderr",
     "output_type": "stream",
     "text": [
      "100%|██████████| 10/10 [01:19<00:00,  7.94s/it]\n"
     ]
    },
    {
     "data": {
      "text/plain": [
       "0"
      ]
     },
     "execution_count": 12,
     "metadata": {},
     "output_type": "execute_result"
    }
   ],
   "source": [
    "files = glob(f\"/content/drive/MyDrive/kddcup2023-ly/kddcup2023/data/interim/for_ranker/task1/train_chunk_{EXP_NAME}_*\")\n",
    "files = files[:10]\n",
    "dfs = []\n",
    "for f in tqdm(files):\n",
    "    dfs.append(pd.read_parquet(f))\n",
    "train = pd.concat(dfs)\n",
    "del dfs; gc.collect()"
   ]
  },
  {
   "cell_type": "code",
   "execution_count": 19,
   "metadata": {
    "executionInfo": {
     "elapsed": 223,
     "status": "ok",
     "timestamp": 1713748342513,
     "user": {
      "displayName": "LIANGYU WANG",
      "userId": "14294738231560219046"
     },
     "user_tz": 240
    },
    "id": "8f8ZZqUOWHx1"
   },
   "outputs": [],
   "source": [
    "def display_specific_columns(dataframe):\n",
    "    # 取前1列和后4列\n",
    "    columns_to_display = dataframe.columns.tolist()[:1] + dataframe.columns.tolist()[-4:]\n",
    "    # 使用.loc来选择需要展示的列\n",
    "    display_df = dataframe.loc[:, columns_to_display]\n",
    "\n",
    "    # 在显示之前，你可以自定义如何表示被省略的列，这里我用\"...\"来表示\n",
    "    # print(\"Displaying first column and last four columns:\")\n",
    "    # print(\"...\")\n",
    "    # print(display_df)\n",
    "    display_df.head()"
   ]
  },
  {
   "cell_type": "code",
   "execution_count": 20,
   "metadata": {
    "executionInfo": {
     "elapsed": 9125,
     "status": "ok",
     "timestamp": 1713748353683,
     "user": {
      "displayName": "LIANGYU WANG",
      "userId": "14294738231560219046"
     },
     "user_tz": 240
    },
    "id": "MMUZ1IuZ-ksL"
   },
   "outputs": [],
   "source": [
    "train = train[[\"session_id\", \"candidate_item\", \"label\"] + USE_FEATURES]"
   ]
  },
  {
   "cell_type": "code",
   "execution_count": 21,
   "metadata": {
    "executionInfo": {
     "elapsed": 753,
     "status": "ok",
     "timestamp": 1713748356382,
     "user": {
      "displayName": "LIANGYU WANG",
      "userId": "14294738231560219046"
     },
     "user_tz": 240
    },
    "id": "ZXCSbc9_WNjr"
   },
   "outputs": [],
   "source": [
    "display_specific_columns(train)"
   ]
  },
  {
   "cell_type": "code",
   "execution_count": null,
   "metadata": {
    "colab": {
     "base_uri": "https://localhost:8080/",
     "height": 255
    },
    "executionInfo": {
     "elapsed": 4,
     "status": "ok",
     "timestamp": 1712382062971,
     "user": {
      "displayName": "LIANGYU WANG",
      "userId": "14294738231560219046"
     },
     "user_tz": 240
    },
    "id": "hO-CQknhhYG1",
    "outputId": "58e68b44-7799-4f72-c015-0d0cf6858d47"
   },
   "outputs": [
    {
     "data": {
      "application/vnd.google.colaboratory.intrinsic+json": {
       "type": "dataframe",
       "variable_name": "train"
      },
      "text/html": [
       "\n",
       "  <div id=\"df-c9abbaf6-2465-420e-ac90-bf6139b9b6a5\" class=\"colab-df-container\">\n",
       "    <div>\n",
       "<style scoped>\n",
       "    .dataframe tbody tr th:only-of-type {\n",
       "        vertical-align: middle;\n",
       "    }\n",
       "\n",
       "    .dataframe tbody tr th {\n",
       "        vertical-align: top;\n",
       "    }\n",
       "\n",
       "    .dataframe thead th {\n",
       "        text-align: right;\n",
       "    }\n",
       "</style>\n",
       "<table border=\"1\" class=\"dataframe\">\n",
       "  <thead>\n",
       "    <tr style=\"text-align: right;\">\n",
       "      <th></th>\n",
       "      <th>session_id</th>\n",
       "      <th>candidate_item</th>\n",
       "      <th>label</th>\n",
       "      <th>co_visit_weight_last1</th>\n",
       "      <th>consective_1_weight_last1</th>\n",
       "      <th>consective_3_weight_last1</th>\n",
       "      <th>consective_5_weight_last1</th>\n",
       "      <th>similarity_score_last1</th>\n",
       "      <th>bert_distance_last1</th>\n",
       "      <th>lift_last1</th>\n",
       "      <th>...</th>\n",
       "      <th>SP_same_material_sum</th>\n",
       "      <th>SP_same_author_sum</th>\n",
       "      <th>imf_similarity</th>\n",
       "      <th>bpr_similarity</th>\n",
       "      <th>graph_emb_similarity_last1</th>\n",
       "      <th>graph_emb_similarity_last2</th>\n",
       "      <th>graph_emb_similarity_last3</th>\n",
       "      <th>i2v_similarity_last1</th>\n",
       "      <th>i2v_similarity_last2</th>\n",
       "      <th>i2v_similarity_last3</th>\n",
       "    </tr>\n",
       "  </thead>\n",
       "  <tbody>\n",
       "    <tr>\n",
       "      <th>0</th>\n",
       "      <td>train_1</td>\n",
       "      <td>B001B4THSA</td>\n",
       "      <td>1</td>\n",
       "      <td>19.10</td>\n",
       "      <td>6</td>\n",
       "      <td>6</td>\n",
       "      <td>6</td>\n",
       "      <td>0.516778</td>\n",
       "      <td>0.103985</td>\n",
       "      <td>1.910000</td>\n",
       "      <td>...</td>\n",
       "      <td>0</td>\n",
       "      <td>0</td>\n",
       "      <td>0.193230</td>\n",
       "      <td>0.0</td>\n",
       "      <td>0.792757</td>\n",
       "      <td>0.731243</td>\n",
       "      <td>0.268386</td>\n",
       "      <td>0.983131</td>\n",
       "      <td>0.901155</td>\n",
       "      <td>0.699726</td>\n",
       "    </tr>\n",
       "    <tr>\n",
       "      <th>1</th>\n",
       "      <td>train_3</td>\n",
       "      <td>B0B4R9NN4B</td>\n",
       "      <td>1</td>\n",
       "      <td>0.00</td>\n",
       "      <td>0</td>\n",
       "      <td>0</td>\n",
       "      <td>0</td>\n",
       "      <td>0.000000</td>\n",
       "      <td>-1.000000</td>\n",
       "      <td>0.000000</td>\n",
       "      <td>...</td>\n",
       "      <td>0</td>\n",
       "      <td>0</td>\n",
       "      <td>0.101819</td>\n",
       "      <td>0.0</td>\n",
       "      <td>0.976244</td>\n",
       "      <td>0.987364</td>\n",
       "      <td>0.985802</td>\n",
       "      <td>0.989610</td>\n",
       "      <td>0.966605</td>\n",
       "      <td>0.962165</td>\n",
       "    </tr>\n",
       "    <tr>\n",
       "      <th>2</th>\n",
       "      <td>train_4</td>\n",
       "      <td>B0BGVBKWGZ</td>\n",
       "      <td>1</td>\n",
       "      <td>0.00</td>\n",
       "      <td>0</td>\n",
       "      <td>0</td>\n",
       "      <td>0</td>\n",
       "      <td>0.000000</td>\n",
       "      <td>-1.000000</td>\n",
       "      <td>0.000000</td>\n",
       "      <td>...</td>\n",
       "      <td>0</td>\n",
       "      <td>0</td>\n",
       "      <td>0.047979</td>\n",
       "      <td>0.0</td>\n",
       "      <td>0.713439</td>\n",
       "      <td>0.665361</td>\n",
       "      <td>0.663519</td>\n",
       "      <td>0.816075</td>\n",
       "      <td>0.862360</td>\n",
       "      <td>0.830845</td>\n",
       "    </tr>\n",
       "    <tr>\n",
       "      <th>3</th>\n",
       "      <td>train_5</td>\n",
       "      <td>B0749TX4YS</td>\n",
       "      <td>1</td>\n",
       "      <td>9.75</td>\n",
       "      <td>3</td>\n",
       "      <td>4</td>\n",
       "      <td>4</td>\n",
       "      <td>0.864205</td>\n",
       "      <td>0.037787</td>\n",
       "      <td>0.790829</td>\n",
       "      <td>...</td>\n",
       "      <td>3</td>\n",
       "      <td>0</td>\n",
       "      <td>0.246166</td>\n",
       "      <td>0.0</td>\n",
       "      <td>0.945820</td>\n",
       "      <td>0.848091</td>\n",
       "      <td>0.838902</td>\n",
       "      <td>0.960843</td>\n",
       "      <td>0.969533</td>\n",
       "      <td>0.939104</td>\n",
       "    </tr>\n",
       "    <tr>\n",
       "      <th>4</th>\n",
       "      <td>train_7</td>\n",
       "      <td>B097CX2V3L</td>\n",
       "      <td>1</td>\n",
       "      <td>3.00</td>\n",
       "      <td>1</td>\n",
       "      <td>1</td>\n",
       "      <td>1</td>\n",
       "      <td>0.596653</td>\n",
       "      <td>0.205700</td>\n",
       "      <td>2.121320</td>\n",
       "      <td>...</td>\n",
       "      <td>0</td>\n",
       "      <td>0</td>\n",
       "      <td>0.229655</td>\n",
       "      <td>0.0</td>\n",
       "      <td>0.997039</td>\n",
       "      <td>0.913595</td>\n",
       "      <td>0.787737</td>\n",
       "      <td>0.932054</td>\n",
       "      <td>0.578067</td>\n",
       "      <td>0.647563</td>\n",
       "    </tr>\n",
       "  </tbody>\n",
       "</table>\n",
       "<p>5 rows × 134 columns</p>\n",
       "</div>\n",
       "    <div class=\"colab-df-buttons\">\n",
       "\n",
       "  <div class=\"colab-df-container\">\n",
       "    <button class=\"colab-df-convert\" onclick=\"convertToInteractive('df-c9abbaf6-2465-420e-ac90-bf6139b9b6a5')\"\n",
       "            title=\"Convert this dataframe to an interactive table.\"\n",
       "            style=\"display:none;\">\n",
       "\n",
       "  <svg xmlns=\"http://www.w3.org/2000/svg\" height=\"24px\" viewBox=\"0 -960 960 960\">\n",
       "    <path d=\"M120-120v-720h720v720H120Zm60-500h600v-160H180v160Zm220 220h160v-160H400v160Zm0 220h160v-160H400v160ZM180-400h160v-160H180v160Zm440 0h160v-160H620v160ZM180-180h160v-160H180v160Zm440 0h160v-160H620v160Z\"/>\n",
       "  </svg>\n",
       "    </button>\n",
       "\n",
       "  <style>\n",
       "    .colab-df-container {\n",
       "      display:flex;\n",
       "      gap: 12px;\n",
       "    }\n",
       "\n",
       "    .colab-df-convert {\n",
       "      background-color: #E8F0FE;\n",
       "      border: none;\n",
       "      border-radius: 50%;\n",
       "      cursor: pointer;\n",
       "      display: none;\n",
       "      fill: #1967D2;\n",
       "      height: 32px;\n",
       "      padding: 0 0 0 0;\n",
       "      width: 32px;\n",
       "    }\n",
       "\n",
       "    .colab-df-convert:hover {\n",
       "      background-color: #E2EBFA;\n",
       "      box-shadow: 0px 1px 2px rgba(60, 64, 67, 0.3), 0px 1px 3px 1px rgba(60, 64, 67, 0.15);\n",
       "      fill: #174EA6;\n",
       "    }\n",
       "\n",
       "    .colab-df-buttons div {\n",
       "      margin-bottom: 4px;\n",
       "    }\n",
       "\n",
       "    [theme=dark] .colab-df-convert {\n",
       "      background-color: #3B4455;\n",
       "      fill: #D2E3FC;\n",
       "    }\n",
       "\n",
       "    [theme=dark] .colab-df-convert:hover {\n",
       "      background-color: #434B5C;\n",
       "      box-shadow: 0px 1px 3px 1px rgba(0, 0, 0, 0.15);\n",
       "      filter: drop-shadow(0px 1px 2px rgba(0, 0, 0, 0.3));\n",
       "      fill: #FFFFFF;\n",
       "    }\n",
       "  </style>\n",
       "\n",
       "    <script>\n",
       "      const buttonEl =\n",
       "        document.querySelector('#df-c9abbaf6-2465-420e-ac90-bf6139b9b6a5 button.colab-df-convert');\n",
       "      buttonEl.style.display =\n",
       "        google.colab.kernel.accessAllowed ? 'block' : 'none';\n",
       "\n",
       "      async function convertToInteractive(key) {\n",
       "        const element = document.querySelector('#df-c9abbaf6-2465-420e-ac90-bf6139b9b6a5');\n",
       "        const dataTable =\n",
       "          await google.colab.kernel.invokeFunction('convertToInteractive',\n",
       "                                                    [key], {});\n",
       "        if (!dataTable) return;\n",
       "\n",
       "        const docLinkHtml = 'Like what you see? Visit the ' +\n",
       "          '<a target=\"_blank\" href=https://colab.research.google.com/notebooks/data_table.ipynb>data table notebook</a>'\n",
       "          + ' to learn more about interactive tables.';\n",
       "        element.innerHTML = '';\n",
       "        dataTable['output_type'] = 'display_data';\n",
       "        await google.colab.output.renderOutput(dataTable, element);\n",
       "        const docLink = document.createElement('div');\n",
       "        docLink.innerHTML = docLinkHtml;\n",
       "        element.appendChild(docLink);\n",
       "      }\n",
       "    </script>\n",
       "  </div>\n",
       "\n",
       "\n",
       "<div id=\"df-e1fb88d8-3c3d-4fc7-85ca-37bc10315072\">\n",
       "  <button class=\"colab-df-quickchart\" onclick=\"quickchart('df-e1fb88d8-3c3d-4fc7-85ca-37bc10315072')\"\n",
       "            title=\"Suggest charts\"\n",
       "            style=\"display:none;\">\n",
       "\n",
       "<svg xmlns=\"http://www.w3.org/2000/svg\" height=\"24px\"viewBox=\"0 0 24 24\"\n",
       "     width=\"24px\">\n",
       "    <g>\n",
       "        <path d=\"M19 3H5c-1.1 0-2 .9-2 2v14c0 1.1.9 2 2 2h14c1.1 0 2-.9 2-2V5c0-1.1-.9-2-2-2zM9 17H7v-7h2v7zm4 0h-2V7h2v10zm4 0h-2v-4h2v4z\"/>\n",
       "    </g>\n",
       "</svg>\n",
       "  </button>\n",
       "\n",
       "<style>\n",
       "  .colab-df-quickchart {\n",
       "      --bg-color: #E8F0FE;\n",
       "      --fill-color: #1967D2;\n",
       "      --hover-bg-color: #E2EBFA;\n",
       "      --hover-fill-color: #174EA6;\n",
       "      --disabled-fill-color: #AAA;\n",
       "      --disabled-bg-color: #DDD;\n",
       "  }\n",
       "\n",
       "  [theme=dark] .colab-df-quickchart {\n",
       "      --bg-color: #3B4455;\n",
       "      --fill-color: #D2E3FC;\n",
       "      --hover-bg-color: #434B5C;\n",
       "      --hover-fill-color: #FFFFFF;\n",
       "      --disabled-bg-color: #3B4455;\n",
       "      --disabled-fill-color: #666;\n",
       "  }\n",
       "\n",
       "  .colab-df-quickchart {\n",
       "    background-color: var(--bg-color);\n",
       "    border: none;\n",
       "    border-radius: 50%;\n",
       "    cursor: pointer;\n",
       "    display: none;\n",
       "    fill: var(--fill-color);\n",
       "    height: 32px;\n",
       "    padding: 0;\n",
       "    width: 32px;\n",
       "  }\n",
       "\n",
       "  .colab-df-quickchart:hover {\n",
       "    background-color: var(--hover-bg-color);\n",
       "    box-shadow: 0 1px 2px rgba(60, 64, 67, 0.3), 0 1px 3px 1px rgba(60, 64, 67, 0.15);\n",
       "    fill: var(--button-hover-fill-color);\n",
       "  }\n",
       "\n",
       "  .colab-df-quickchart-complete:disabled,\n",
       "  .colab-df-quickchart-complete:disabled:hover {\n",
       "    background-color: var(--disabled-bg-color);\n",
       "    fill: var(--disabled-fill-color);\n",
       "    box-shadow: none;\n",
       "  }\n",
       "\n",
       "  .colab-df-spinner {\n",
       "    border: 2px solid var(--fill-color);\n",
       "    border-color: transparent;\n",
       "    border-bottom-color: var(--fill-color);\n",
       "    animation:\n",
       "      spin 1s steps(1) infinite;\n",
       "  }\n",
       "\n",
       "  @keyframes spin {\n",
       "    0% {\n",
       "      border-color: transparent;\n",
       "      border-bottom-color: var(--fill-color);\n",
       "      border-left-color: var(--fill-color);\n",
       "    }\n",
       "    20% {\n",
       "      border-color: transparent;\n",
       "      border-left-color: var(--fill-color);\n",
       "      border-top-color: var(--fill-color);\n",
       "    }\n",
       "    30% {\n",
       "      border-color: transparent;\n",
       "      border-left-color: var(--fill-color);\n",
       "      border-top-color: var(--fill-color);\n",
       "      border-right-color: var(--fill-color);\n",
       "    }\n",
       "    40% {\n",
       "      border-color: transparent;\n",
       "      border-right-color: var(--fill-color);\n",
       "      border-top-color: var(--fill-color);\n",
       "    }\n",
       "    60% {\n",
       "      border-color: transparent;\n",
       "      border-right-color: var(--fill-color);\n",
       "    }\n",
       "    80% {\n",
       "      border-color: transparent;\n",
       "      border-right-color: var(--fill-color);\n",
       "      border-bottom-color: var(--fill-color);\n",
       "    }\n",
       "    90% {\n",
       "      border-color: transparent;\n",
       "      border-bottom-color: var(--fill-color);\n",
       "    }\n",
       "  }\n",
       "</style>\n",
       "\n",
       "  <script>\n",
       "    async function quickchart(key) {\n",
       "      const quickchartButtonEl =\n",
       "        document.querySelector('#' + key + ' button');\n",
       "      quickchartButtonEl.disabled = true;  // To prevent multiple clicks.\n",
       "      quickchartButtonEl.classList.add('colab-df-spinner');\n",
       "      try {\n",
       "        const charts = await google.colab.kernel.invokeFunction(\n",
       "            'suggestCharts', [key], {});\n",
       "      } catch (error) {\n",
       "        console.error('Error during call to suggestCharts:', error);\n",
       "      }\n",
       "      quickchartButtonEl.classList.remove('colab-df-spinner');\n",
       "      quickchartButtonEl.classList.add('colab-df-quickchart-complete');\n",
       "    }\n",
       "    (() => {\n",
       "      let quickchartButtonEl =\n",
       "        document.querySelector('#df-e1fb88d8-3c3d-4fc7-85ca-37bc10315072 button');\n",
       "      quickchartButtonEl.style.display =\n",
       "        google.colab.kernel.accessAllowed ? 'block' : 'none';\n",
       "    })();\n",
       "  </script>\n",
       "</div>\n",
       "\n",
       "    </div>\n",
       "  </div>\n"
      ],
      "text/plain": [
       "  session_id candidate_item  label  co_visit_weight_last1  \\\n",
       "0    train_1     B001B4THSA      1                  19.10   \n",
       "1    train_3     B0B4R9NN4B      1                   0.00   \n",
       "2    train_4     B0BGVBKWGZ      1                   0.00   \n",
       "3    train_5     B0749TX4YS      1                   9.75   \n",
       "4    train_7     B097CX2V3L      1                   3.00   \n",
       "\n",
       "   consective_1_weight_last1  consective_3_weight_last1  \\\n",
       "0                          6                          6   \n",
       "1                          0                          0   \n",
       "2                          0                          0   \n",
       "3                          3                          4   \n",
       "4                          1                          1   \n",
       "\n",
       "   consective_5_weight_last1  similarity_score_last1  bert_distance_last1  \\\n",
       "0                          6                0.516778             0.103985   \n",
       "1                          0                0.000000            -1.000000   \n",
       "2                          0                0.000000            -1.000000   \n",
       "3                          4                0.864205             0.037787   \n",
       "4                          1                0.596653             0.205700   \n",
       "\n",
       "   lift_last1  ...  SP_same_material_sum  SP_same_author_sum  imf_similarity  \\\n",
       "0    1.910000  ...                     0                   0        0.193230   \n",
       "1    0.000000  ...                     0                   0        0.101819   \n",
       "2    0.000000  ...                     0                   0        0.047979   \n",
       "3    0.790829  ...                     3                   0        0.246166   \n",
       "4    2.121320  ...                     0                   0        0.229655   \n",
       "\n",
       "   bpr_similarity  graph_emb_similarity_last1  graph_emb_similarity_last2  \\\n",
       "0             0.0                    0.792757                    0.731243   \n",
       "1             0.0                    0.976244                    0.987364   \n",
       "2             0.0                    0.713439                    0.665361   \n",
       "3             0.0                    0.945820                    0.848091   \n",
       "4             0.0                    0.997039                    0.913595   \n",
       "\n",
       "   graph_emb_similarity_last3  i2v_similarity_last1  i2v_similarity_last2  \\\n",
       "0                    0.268386              0.983131              0.901155   \n",
       "1                    0.985802              0.989610              0.966605   \n",
       "2                    0.663519              0.816075              0.862360   \n",
       "3                    0.838902              0.960843              0.969533   \n",
       "4                    0.787737              0.932054              0.578067   \n",
       "\n",
       "   i2v_similarity_last3  \n",
       "0              0.699726  \n",
       "1              0.962165  \n",
       "2              0.830845  \n",
       "3              0.939104  \n",
       "4              0.647563  \n",
       "\n",
       "[5 rows x 134 columns]"
      ]
     },
     "execution_count": 14,
     "metadata": {},
     "output_type": "execute_result"
    }
   ],
   "source": [
    "train.head()"
   ]
  },
  {
   "cell_type": "code",
   "execution_count": null,
   "metadata": {
    "colab": {
     "base_uri": "https://localhost:8080/",
     "height": 277
    },
    "executionInfo": {
     "elapsed": 254,
     "status": "ok",
     "timestamp": 1712382068136,
     "user": {
      "displayName": "LIANGYU WANG",
      "userId": "14294738231560219046"
     },
     "user_tz": 240
    },
    "id": "9lZtDu_OGBcA",
    "outputId": "e0bd6d9d-effc-4828-d4ba-8f0f7709e85c"
   },
   "outputs": [
    {
     "data": {
      "application/vnd.google.colaboratory.intrinsic+json": {
       "type": "dataframe",
       "variable_name": "filtered_df"
      },
      "text/html": [
       "\n",
       "  <div id=\"df-f8193bbf-c2e0-417d-a459-785a1d3cd9cc\" class=\"colab-df-container\">\n",
       "    <div>\n",
       "<style scoped>\n",
       "    .dataframe tbody tr th:only-of-type {\n",
       "        vertical-align: middle;\n",
       "    }\n",
       "\n",
       "    .dataframe tbody tr th {\n",
       "        vertical-align: top;\n",
       "    }\n",
       "\n",
       "    .dataframe thead th {\n",
       "        text-align: right;\n",
       "    }\n",
       "</style>\n",
       "<table border=\"1\" class=\"dataframe\">\n",
       "  <thead>\n",
       "    <tr style=\"text-align: right;\">\n",
       "      <th></th>\n",
       "      <th>session_id</th>\n",
       "      <th>candidate_item</th>\n",
       "      <th>label</th>\n",
       "      <th>co_visit_weight_last1</th>\n",
       "      <th>consective_1_weight_last1</th>\n",
       "      <th>consective_3_weight_last1</th>\n",
       "      <th>consective_5_weight_last1</th>\n",
       "      <th>similarity_score_last1</th>\n",
       "      <th>bert_distance_last1</th>\n",
       "      <th>lift_last1</th>\n",
       "      <th>...</th>\n",
       "      <th>SP_same_material_sum</th>\n",
       "      <th>SP_same_author_sum</th>\n",
       "      <th>imf_similarity</th>\n",
       "      <th>bpr_similarity</th>\n",
       "      <th>graph_emb_similarity_last1</th>\n",
       "      <th>graph_emb_similarity_last2</th>\n",
       "      <th>graph_emb_similarity_last3</th>\n",
       "      <th>i2v_similarity_last1</th>\n",
       "      <th>i2v_similarity_last2</th>\n",
       "      <th>i2v_similarity_last3</th>\n",
       "    </tr>\n",
       "  </thead>\n",
       "  <tbody>\n",
       "    <tr>\n",
       "      <th>5</th>\n",
       "      <td>train_8</td>\n",
       "      <td>B09B32SSDT</td>\n",
       "      <td>1</td>\n",
       "      <td>6.0</td>\n",
       "      <td>2</td>\n",
       "      <td>2</td>\n",
       "      <td>2</td>\n",
       "      <td>0.685383</td>\n",
       "      <td>0.132845</td>\n",
       "      <td>1.732051</td>\n",
       "      <td>...</td>\n",
       "      <td>0</td>\n",
       "      <td>0</td>\n",
       "      <td>0.187060</td>\n",
       "      <td>0.0</td>\n",
       "      <td>0.960128</td>\n",
       "      <td>0.912044</td>\n",
       "      <td>0.943177</td>\n",
       "      <td>0.984076</td>\n",
       "      <td>0.887403</td>\n",
       "      <td>0.928522</td>\n",
       "    </tr>\n",
       "    <tr>\n",
       "      <th>39737</th>\n",
       "      <td>train_8</td>\n",
       "      <td>B08T653XYP</td>\n",
       "      <td>0</td>\n",
       "      <td>0.0</td>\n",
       "      <td>0</td>\n",
       "      <td>0</td>\n",
       "      <td>0</td>\n",
       "      <td>0.000000</td>\n",
       "      <td>-1.000000</td>\n",
       "      <td>0.000000</td>\n",
       "      <td>...</td>\n",
       "      <td>0</td>\n",
       "      <td>0</td>\n",
       "      <td>0.047843</td>\n",
       "      <td>0.0</td>\n",
       "      <td>-0.025636</td>\n",
       "      <td>-0.015127</td>\n",
       "      <td>0.009304</td>\n",
       "      <td>0.623722</td>\n",
       "      <td>0.512112</td>\n",
       "      <td>0.515651</td>\n",
       "    </tr>\n",
       "    <tr>\n",
       "      <th>39741</th>\n",
       "      <td>train_8</td>\n",
       "      <td>B07NZWHVS4</td>\n",
       "      <td>0</td>\n",
       "      <td>0.0</td>\n",
       "      <td>0</td>\n",
       "      <td>0</td>\n",
       "      <td>0</td>\n",
       "      <td>0.000000</td>\n",
       "      <td>-1.000000</td>\n",
       "      <td>0.000000</td>\n",
       "      <td>...</td>\n",
       "      <td>0</td>\n",
       "      <td>0</td>\n",
       "      <td>0.081445</td>\n",
       "      <td>0.0</td>\n",
       "      <td>0.898909</td>\n",
       "      <td>0.868923</td>\n",
       "      <td>0.913593</td>\n",
       "      <td>0.975685</td>\n",
       "      <td>0.861076</td>\n",
       "      <td>0.900390</td>\n",
       "    </tr>\n",
       "    <tr>\n",
       "      <th>39745</th>\n",
       "      <td>train_8</td>\n",
       "      <td>B09ZBBH722</td>\n",
       "      <td>0</td>\n",
       "      <td>0.0</td>\n",
       "      <td>0</td>\n",
       "      <td>0</td>\n",
       "      <td>0</td>\n",
       "      <td>0.000000</td>\n",
       "      <td>-1.000000</td>\n",
       "      <td>0.000000</td>\n",
       "      <td>...</td>\n",
       "      <td>0</td>\n",
       "      <td>0</td>\n",
       "      <td>0.072150</td>\n",
       "      <td>0.0</td>\n",
       "      <td>0.620209</td>\n",
       "      <td>0.808888</td>\n",
       "      <td>0.653429</td>\n",
       "      <td>0.875337</td>\n",
       "      <td>0.926810</td>\n",
       "      <td>0.948983</td>\n",
       "    </tr>\n",
       "    <tr>\n",
       "      <th>39754</th>\n",
       "      <td>train_8</td>\n",
       "      <td>B09TH1HQQP</td>\n",
       "      <td>0</td>\n",
       "      <td>0.0</td>\n",
       "      <td>0</td>\n",
       "      <td>0</td>\n",
       "      <td>0</td>\n",
       "      <td>0.000000</td>\n",
       "      <td>-1.000000</td>\n",
       "      <td>0.000000</td>\n",
       "      <td>...</td>\n",
       "      <td>0</td>\n",
       "      <td>0</td>\n",
       "      <td>0.026414</td>\n",
       "      <td>0.0</td>\n",
       "      <td>-0.190299</td>\n",
       "      <td>0.091184</td>\n",
       "      <td>-0.163530</td>\n",
       "      <td>0.919142</td>\n",
       "      <td>0.712906</td>\n",
       "      <td>0.718971</td>\n",
       "    </tr>\n",
       "  </tbody>\n",
       "</table>\n",
       "<p>5 rows × 134 columns</p>\n",
       "</div>\n",
       "    <div class=\"colab-df-buttons\">\n",
       "\n",
       "  <div class=\"colab-df-container\">\n",
       "    <button class=\"colab-df-convert\" onclick=\"convertToInteractive('df-f8193bbf-c2e0-417d-a459-785a1d3cd9cc')\"\n",
       "            title=\"Convert this dataframe to an interactive table.\"\n",
       "            style=\"display:none;\">\n",
       "\n",
       "  <svg xmlns=\"http://www.w3.org/2000/svg\" height=\"24px\" viewBox=\"0 -960 960 960\">\n",
       "    <path d=\"M120-120v-720h720v720H120Zm60-500h600v-160H180v160Zm220 220h160v-160H400v160Zm0 220h160v-160H400v160ZM180-400h160v-160H180v160Zm440 0h160v-160H620v160ZM180-180h160v-160H180v160Zm440 0h160v-160H620v160Z\"/>\n",
       "  </svg>\n",
       "    </button>\n",
       "\n",
       "  <style>\n",
       "    .colab-df-container {\n",
       "      display:flex;\n",
       "      gap: 12px;\n",
       "    }\n",
       "\n",
       "    .colab-df-convert {\n",
       "      background-color: #E8F0FE;\n",
       "      border: none;\n",
       "      border-radius: 50%;\n",
       "      cursor: pointer;\n",
       "      display: none;\n",
       "      fill: #1967D2;\n",
       "      height: 32px;\n",
       "      padding: 0 0 0 0;\n",
       "      width: 32px;\n",
       "    }\n",
       "\n",
       "    .colab-df-convert:hover {\n",
       "      background-color: #E2EBFA;\n",
       "      box-shadow: 0px 1px 2px rgba(60, 64, 67, 0.3), 0px 1px 3px 1px rgba(60, 64, 67, 0.15);\n",
       "      fill: #174EA6;\n",
       "    }\n",
       "\n",
       "    .colab-df-buttons div {\n",
       "      margin-bottom: 4px;\n",
       "    }\n",
       "\n",
       "    [theme=dark] .colab-df-convert {\n",
       "      background-color: #3B4455;\n",
       "      fill: #D2E3FC;\n",
       "    }\n",
       "\n",
       "    [theme=dark] .colab-df-convert:hover {\n",
       "      background-color: #434B5C;\n",
       "      box-shadow: 0px 1px 3px 1px rgba(0, 0, 0, 0.15);\n",
       "      filter: drop-shadow(0px 1px 2px rgba(0, 0, 0, 0.3));\n",
       "      fill: #FFFFFF;\n",
       "    }\n",
       "  </style>\n",
       "\n",
       "    <script>\n",
       "      const buttonEl =\n",
       "        document.querySelector('#df-f8193bbf-c2e0-417d-a459-785a1d3cd9cc button.colab-df-convert');\n",
       "      buttonEl.style.display =\n",
       "        google.colab.kernel.accessAllowed ? 'block' : 'none';\n",
       "\n",
       "      async function convertToInteractive(key) {\n",
       "        const element = document.querySelector('#df-f8193bbf-c2e0-417d-a459-785a1d3cd9cc');\n",
       "        const dataTable =\n",
       "          await google.colab.kernel.invokeFunction('convertToInteractive',\n",
       "                                                    [key], {});\n",
       "        if (!dataTable) return;\n",
       "\n",
       "        const docLinkHtml = 'Like what you see? Visit the ' +\n",
       "          '<a target=\"_blank\" href=https://colab.research.google.com/notebooks/data_table.ipynb>data table notebook</a>'\n",
       "          + ' to learn more about interactive tables.';\n",
       "        element.innerHTML = '';\n",
       "        dataTable['output_type'] = 'display_data';\n",
       "        await google.colab.output.renderOutput(dataTable, element);\n",
       "        const docLink = document.createElement('div');\n",
       "        docLink.innerHTML = docLinkHtml;\n",
       "        element.appendChild(docLink);\n",
       "      }\n",
       "    </script>\n",
       "  </div>\n",
       "\n",
       "\n",
       "<div id=\"df-724843f6-6921-438d-91f3-9b5774adf379\">\n",
       "  <button class=\"colab-df-quickchart\" onclick=\"quickchart('df-724843f6-6921-438d-91f3-9b5774adf379')\"\n",
       "            title=\"Suggest charts\"\n",
       "            style=\"display:none;\">\n",
       "\n",
       "<svg xmlns=\"http://www.w3.org/2000/svg\" height=\"24px\"viewBox=\"0 0 24 24\"\n",
       "     width=\"24px\">\n",
       "    <g>\n",
       "        <path d=\"M19 3H5c-1.1 0-2 .9-2 2v14c0 1.1.9 2 2 2h14c1.1 0 2-.9 2-2V5c0-1.1-.9-2-2-2zM9 17H7v-7h2v7zm4 0h-2V7h2v10zm4 0h-2v-4h2v4z\"/>\n",
       "    </g>\n",
       "</svg>\n",
       "  </button>\n",
       "\n",
       "<style>\n",
       "  .colab-df-quickchart {\n",
       "      --bg-color: #E8F0FE;\n",
       "      --fill-color: #1967D2;\n",
       "      --hover-bg-color: #E2EBFA;\n",
       "      --hover-fill-color: #174EA6;\n",
       "      --disabled-fill-color: #AAA;\n",
       "      --disabled-bg-color: #DDD;\n",
       "  }\n",
       "\n",
       "  [theme=dark] .colab-df-quickchart {\n",
       "      --bg-color: #3B4455;\n",
       "      --fill-color: #D2E3FC;\n",
       "      --hover-bg-color: #434B5C;\n",
       "      --hover-fill-color: #FFFFFF;\n",
       "      --disabled-bg-color: #3B4455;\n",
       "      --disabled-fill-color: #666;\n",
       "  }\n",
       "\n",
       "  .colab-df-quickchart {\n",
       "    background-color: var(--bg-color);\n",
       "    border: none;\n",
       "    border-radius: 50%;\n",
       "    cursor: pointer;\n",
       "    display: none;\n",
       "    fill: var(--fill-color);\n",
       "    height: 32px;\n",
       "    padding: 0;\n",
       "    width: 32px;\n",
       "  }\n",
       "\n",
       "  .colab-df-quickchart:hover {\n",
       "    background-color: var(--hover-bg-color);\n",
       "    box-shadow: 0 1px 2px rgba(60, 64, 67, 0.3), 0 1px 3px 1px rgba(60, 64, 67, 0.15);\n",
       "    fill: var(--button-hover-fill-color);\n",
       "  }\n",
       "\n",
       "  .colab-df-quickchart-complete:disabled,\n",
       "  .colab-df-quickchart-complete:disabled:hover {\n",
       "    background-color: var(--disabled-bg-color);\n",
       "    fill: var(--disabled-fill-color);\n",
       "    box-shadow: none;\n",
       "  }\n",
       "\n",
       "  .colab-df-spinner {\n",
       "    border: 2px solid var(--fill-color);\n",
       "    border-color: transparent;\n",
       "    border-bottom-color: var(--fill-color);\n",
       "    animation:\n",
       "      spin 1s steps(1) infinite;\n",
       "  }\n",
       "\n",
       "  @keyframes spin {\n",
       "    0% {\n",
       "      border-color: transparent;\n",
       "      border-bottom-color: var(--fill-color);\n",
       "      border-left-color: var(--fill-color);\n",
       "    }\n",
       "    20% {\n",
       "      border-color: transparent;\n",
       "      border-left-color: var(--fill-color);\n",
       "      border-top-color: var(--fill-color);\n",
       "    }\n",
       "    30% {\n",
       "      border-color: transparent;\n",
       "      border-left-color: var(--fill-color);\n",
       "      border-top-color: var(--fill-color);\n",
       "      border-right-color: var(--fill-color);\n",
       "    }\n",
       "    40% {\n",
       "      border-color: transparent;\n",
       "      border-right-color: var(--fill-color);\n",
       "      border-top-color: var(--fill-color);\n",
       "    }\n",
       "    60% {\n",
       "      border-color: transparent;\n",
       "      border-right-color: var(--fill-color);\n",
       "    }\n",
       "    80% {\n",
       "      border-color: transparent;\n",
       "      border-right-color: var(--fill-color);\n",
       "      border-bottom-color: var(--fill-color);\n",
       "    }\n",
       "    90% {\n",
       "      border-color: transparent;\n",
       "      border-bottom-color: var(--fill-color);\n",
       "    }\n",
       "  }\n",
       "</style>\n",
       "\n",
       "  <script>\n",
       "    async function quickchart(key) {\n",
       "      const quickchartButtonEl =\n",
       "        document.querySelector('#' + key + ' button');\n",
       "      quickchartButtonEl.disabled = true;  // To prevent multiple clicks.\n",
       "      quickchartButtonEl.classList.add('colab-df-spinner');\n",
       "      try {\n",
       "        const charts = await google.colab.kernel.invokeFunction(\n",
       "            'suggestCharts', [key], {});\n",
       "      } catch (error) {\n",
       "        console.error('Error during call to suggestCharts:', error);\n",
       "      }\n",
       "      quickchartButtonEl.classList.remove('colab-df-spinner');\n",
       "      quickchartButtonEl.classList.add('colab-df-quickchart-complete');\n",
       "    }\n",
       "    (() => {\n",
       "      let quickchartButtonEl =\n",
       "        document.querySelector('#df-724843f6-6921-438d-91f3-9b5774adf379 button');\n",
       "      quickchartButtonEl.style.display =\n",
       "        google.colab.kernel.accessAllowed ? 'block' : 'none';\n",
       "    })();\n",
       "  </script>\n",
       "</div>\n",
       "\n",
       "    </div>\n",
       "  </div>\n"
      ],
      "text/plain": [
       "      session_id candidate_item  label  co_visit_weight_last1  \\\n",
       "5        train_8     B09B32SSDT      1                    6.0   \n",
       "39737    train_8     B08T653XYP      0                    0.0   \n",
       "39741    train_8     B07NZWHVS4      0                    0.0   \n",
       "39745    train_8     B09ZBBH722      0                    0.0   \n",
       "39754    train_8     B09TH1HQQP      0                    0.0   \n",
       "\n",
       "       consective_1_weight_last1  consective_3_weight_last1  \\\n",
       "5                              2                          2   \n",
       "39737                          0                          0   \n",
       "39741                          0                          0   \n",
       "39745                          0                          0   \n",
       "39754                          0                          0   \n",
       "\n",
       "       consective_5_weight_last1  similarity_score_last1  bert_distance_last1  \\\n",
       "5                              2                0.685383             0.132845   \n",
       "39737                          0                0.000000            -1.000000   \n",
       "39741                          0                0.000000            -1.000000   \n",
       "39745                          0                0.000000            -1.000000   \n",
       "39754                          0                0.000000            -1.000000   \n",
       "\n",
       "       lift_last1  ...  SP_same_material_sum  SP_same_author_sum  \\\n",
       "5        1.732051  ...                     0                   0   \n",
       "39737    0.000000  ...                     0                   0   \n",
       "39741    0.000000  ...                     0                   0   \n",
       "39745    0.000000  ...                     0                   0   \n",
       "39754    0.000000  ...                     0                   0   \n",
       "\n",
       "       imf_similarity  bpr_similarity  graph_emb_similarity_last1  \\\n",
       "5            0.187060             0.0                    0.960128   \n",
       "39737        0.047843             0.0                   -0.025636   \n",
       "39741        0.081445             0.0                    0.898909   \n",
       "39745        0.072150             0.0                    0.620209   \n",
       "39754        0.026414             0.0                   -0.190299   \n",
       "\n",
       "       graph_emb_similarity_last2  graph_emb_similarity_last3  \\\n",
       "5                        0.912044                    0.943177   \n",
       "39737                   -0.015127                    0.009304   \n",
       "39741                    0.868923                    0.913593   \n",
       "39745                    0.808888                    0.653429   \n",
       "39754                    0.091184                   -0.163530   \n",
       "\n",
       "       i2v_similarity_last1  i2v_similarity_last2  i2v_similarity_last3  \n",
       "5                  0.984076              0.887403              0.928522  \n",
       "39737              0.623722              0.512112              0.515651  \n",
       "39741              0.975685              0.861076              0.900390  \n",
       "39745              0.875337              0.926810              0.948983  \n",
       "39754              0.919142              0.712906              0.718971  \n",
       "\n",
       "[5 rows x 134 columns]"
      ]
     },
     "execution_count": 15,
     "metadata": {},
     "output_type": "execute_result"
    },
    {
     "name": "stdout",
     "output_type": "stream",
     "text": [
      "Warning: Total number of columns (134) exceeds max_columns (20) limiting to first (20) columns.\n"
     ]
    }
   ],
   "source": [
    "filtered_df = train[train['session_id'] == 'train_8']\n",
    "filtered_df.head()"
   ]
  },
  {
   "cell_type": "code",
   "execution_count": null,
   "metadata": {
    "colab": {
     "base_uri": "https://localhost:8080/",
     "height": 478
    },
    "executionInfo": {
     "elapsed": 465,
     "status": "error",
     "timestamp": 1712382155025,
     "user": {
      "displayName": "LIANGYU WANG",
      "userId": "14294738231560219046"
     },
     "user_tz": 240
    },
    "id": "m7k8hRE97XUm",
    "outputId": "a9333251-f0e0-4790-ef78-4174fe20a84e"
   },
   "outputs": [
    {
     "ename": "KeyError",
     "evalue": "'next_item'",
     "output_type": "error",
     "traceback": [
      "\u001b[0;31m---------------------------------------------------------------------------\u001b[0m",
      "\u001b[0;31mKeyError\u001b[0m                                  Traceback (most recent call last)",
      "\u001b[0;32m/usr/local/lib/python3.10/dist-packages/pandas/core/indexes/base.py\u001b[0m in \u001b[0;36mget_loc\u001b[0;34m(self, key)\u001b[0m\n\u001b[1;32m   3652\u001b[0m         \u001b[0;32mtry\u001b[0m\u001b[0;34m:\u001b[0m\u001b[0;34m\u001b[0m\u001b[0;34m\u001b[0m\u001b[0m\n\u001b[0;32m-> 3653\u001b[0;31m             \u001b[0;32mreturn\u001b[0m \u001b[0mself\u001b[0m\u001b[0;34m.\u001b[0m\u001b[0m_engine\u001b[0m\u001b[0;34m.\u001b[0m\u001b[0mget_loc\u001b[0m\u001b[0;34m(\u001b[0m\u001b[0mcasted_key\u001b[0m\u001b[0;34m)\u001b[0m\u001b[0;34m\u001b[0m\u001b[0;34m\u001b[0m\u001b[0m\n\u001b[0m\u001b[1;32m   3654\u001b[0m         \u001b[0;32mexcept\u001b[0m \u001b[0mKeyError\u001b[0m \u001b[0;32mas\u001b[0m \u001b[0merr\u001b[0m\u001b[0;34m:\u001b[0m\u001b[0;34m\u001b[0m\u001b[0;34m\u001b[0m\u001b[0m\n",
      "\u001b[0;32m/usr/local/lib/python3.10/dist-packages/pandas/_libs/index.pyx\u001b[0m in \u001b[0;36mpandas._libs.index.IndexEngine.get_loc\u001b[0;34m()\u001b[0m\n",
      "\u001b[0;32m/usr/local/lib/python3.10/dist-packages/pandas/_libs/index.pyx\u001b[0m in \u001b[0;36mpandas._libs.index.IndexEngine.get_loc\u001b[0;34m()\u001b[0m\n",
      "\u001b[0;32mpandas/_libs/hashtable_class_helper.pxi\u001b[0m in \u001b[0;36mpandas._libs.hashtable.PyObjectHashTable.get_item\u001b[0;34m()\u001b[0m\n",
      "\u001b[0;32mpandas/_libs/hashtable_class_helper.pxi\u001b[0m in \u001b[0;36mpandas._libs.hashtable.PyObjectHashTable.get_item\u001b[0;34m()\u001b[0m\n",
      "\u001b[0;31mKeyError\u001b[0m: 'next_item'",
      "\nThe above exception was the direct cause of the following exception:\n",
      "\u001b[0;31mKeyError\u001b[0m                                  Traceback (most recent call last)",
      "\u001b[0;32m<ipython-input-16-793614c46743>\u001b[0m in \u001b[0;36m<cell line: 1>\u001b[0;34m()\u001b[0m\n\u001b[0;32m----> 1\u001b[0;31m \u001b[0mnext_item\u001b[0m \u001b[0;34m=\u001b[0m \u001b[0mfiltered_df\u001b[0m\u001b[0;34m[\u001b[0m\u001b[0;34m'next_item'\u001b[0m\u001b[0;34m]\u001b[0m\u001b[0;34m.\u001b[0m\u001b[0miloc\u001b[0m\u001b[0;34m[\u001b[0m\u001b[0;36m0\u001b[0m\u001b[0;34m]\u001b[0m\u001b[0;34m\u001b[0m\u001b[0;34m\u001b[0m\u001b[0m\n\u001b[0m",
      "\u001b[0;32m/usr/local/lib/python3.10/dist-packages/pandas/core/frame.py\u001b[0m in \u001b[0;36m__getitem__\u001b[0;34m(self, key)\u001b[0m\n\u001b[1;32m   3759\u001b[0m             \u001b[0;32mif\u001b[0m \u001b[0mself\u001b[0m\u001b[0;34m.\u001b[0m\u001b[0mcolumns\u001b[0m\u001b[0;34m.\u001b[0m\u001b[0mnlevels\u001b[0m \u001b[0;34m>\u001b[0m \u001b[0;36m1\u001b[0m\u001b[0;34m:\u001b[0m\u001b[0;34m\u001b[0m\u001b[0;34m\u001b[0m\u001b[0m\n\u001b[1;32m   3760\u001b[0m                 \u001b[0;32mreturn\u001b[0m \u001b[0mself\u001b[0m\u001b[0;34m.\u001b[0m\u001b[0m_getitem_multilevel\u001b[0m\u001b[0;34m(\u001b[0m\u001b[0mkey\u001b[0m\u001b[0;34m)\u001b[0m\u001b[0;34m\u001b[0m\u001b[0;34m\u001b[0m\u001b[0m\n\u001b[0;32m-> 3761\u001b[0;31m             \u001b[0mindexer\u001b[0m \u001b[0;34m=\u001b[0m \u001b[0mself\u001b[0m\u001b[0;34m.\u001b[0m\u001b[0mcolumns\u001b[0m\u001b[0;34m.\u001b[0m\u001b[0mget_loc\u001b[0m\u001b[0;34m(\u001b[0m\u001b[0mkey\u001b[0m\u001b[0;34m)\u001b[0m\u001b[0;34m\u001b[0m\u001b[0;34m\u001b[0m\u001b[0m\n\u001b[0m\u001b[1;32m   3762\u001b[0m             \u001b[0;32mif\u001b[0m \u001b[0mis_integer\u001b[0m\u001b[0;34m(\u001b[0m\u001b[0mindexer\u001b[0m\u001b[0;34m)\u001b[0m\u001b[0;34m:\u001b[0m\u001b[0;34m\u001b[0m\u001b[0;34m\u001b[0m\u001b[0m\n\u001b[1;32m   3763\u001b[0m                 \u001b[0mindexer\u001b[0m \u001b[0;34m=\u001b[0m \u001b[0;34m[\u001b[0m\u001b[0mindexer\u001b[0m\u001b[0;34m]\u001b[0m\u001b[0;34m\u001b[0m\u001b[0;34m\u001b[0m\u001b[0m\n",
      "\u001b[0;32m/usr/local/lib/python3.10/dist-packages/pandas/core/indexes/base.py\u001b[0m in \u001b[0;36mget_loc\u001b[0;34m(self, key)\u001b[0m\n\u001b[1;32m   3653\u001b[0m             \u001b[0;32mreturn\u001b[0m \u001b[0mself\u001b[0m\u001b[0;34m.\u001b[0m\u001b[0m_engine\u001b[0m\u001b[0;34m.\u001b[0m\u001b[0mget_loc\u001b[0m\u001b[0;34m(\u001b[0m\u001b[0mcasted_key\u001b[0m\u001b[0;34m)\u001b[0m\u001b[0;34m\u001b[0m\u001b[0;34m\u001b[0m\u001b[0m\n\u001b[1;32m   3654\u001b[0m         \u001b[0;32mexcept\u001b[0m \u001b[0mKeyError\u001b[0m \u001b[0;32mas\u001b[0m \u001b[0merr\u001b[0m\u001b[0;34m:\u001b[0m\u001b[0;34m\u001b[0m\u001b[0;34m\u001b[0m\u001b[0m\n\u001b[0;32m-> 3655\u001b[0;31m             \u001b[0;32mraise\u001b[0m \u001b[0mKeyError\u001b[0m\u001b[0;34m(\u001b[0m\u001b[0mkey\u001b[0m\u001b[0;34m)\u001b[0m \u001b[0;32mfrom\u001b[0m \u001b[0merr\u001b[0m\u001b[0;34m\u001b[0m\u001b[0;34m\u001b[0m\u001b[0m\n\u001b[0m\u001b[1;32m   3656\u001b[0m         \u001b[0;32mexcept\u001b[0m \u001b[0mTypeError\u001b[0m\u001b[0;34m:\u001b[0m\u001b[0;34m\u001b[0m\u001b[0;34m\u001b[0m\u001b[0m\n\u001b[1;32m   3657\u001b[0m             \u001b[0;31m# If we have a listlike key, _check_indexing_error will raise\u001b[0m\u001b[0;34m\u001b[0m\u001b[0;34m\u001b[0m\u001b[0m\n",
      "\u001b[0;31mKeyError\u001b[0m: 'next_item'"
     ]
    }
   ],
   "source": [
    "next_item = filtered_df['next_item'].iloc[0]"
   ]
  },
  {
   "cell_type": "code",
   "execution_count": null,
   "metadata": {
    "colab": {
     "base_uri": "https://localhost:8080/"
    },
    "executionInfo": {
     "elapsed": 143,
     "status": "ok",
     "timestamp": 1711948944477,
     "user": {
      "displayName": "LIANGYU WANG",
      "userId": "14294738231560219046"
     },
     "user_tz": 240
    },
    "id": "Y0xnHFIvGhZT",
    "outputId": "e6340dde-6e04-4bdb-d6d4-2eab92a5101b"
   },
   "outputs": [
    {
     "data": {
      "text/plain": [
       "(42, 134)"
      ]
     },
     "execution_count": 33,
     "metadata": {},
     "output_type": "execute_result"
    }
   ],
   "source": [
    "filtered_df.shape"
   ]
  },
  {
   "cell_type": "code",
   "execution_count": null,
   "metadata": {
    "colab": {
     "base_uri": "https://localhost:8080/",
     "height": 972
    },
    "executionInfo": {
     "elapsed": 990740,
     "status": "ok",
     "timestamp": 1705840585414,
     "user": {
      "displayName": "王晓",
      "userId": "03118875830758001304"
     },
     "user_tz": -480
    },
    "id": "q2dmxExBXYl8",
    "outputId": "78e98a91-5072-4f5a-eff7-5fcbf8b7dd1a"
   },
   "outputs": [
    {
     "name": "stdout",
     "output_type": "stream",
     "text": [
      "Fold 1\n",
      "[LightGBM] [Info] Auto-choosing row-wise multi-threading, the overhead of testing was 1.353721 seconds.\n",
      "You can set `force_row_wise=true` to remove the overhead.\n",
      "And if memory is not enough, you can set `force_col_wise=true`.\n",
      "[LightGBM] [Info] Total Bins 18023\n",
      "[LightGBM] [Info] Number of data points in the train set: 9406315, number of used features: 129\n",
      "Training until validation scores don't improve for 50 rounds\n",
      "[100]\ttraining's ndcg@20: 0.774557\tvalid_1's ndcg@20: 0.767275\n",
      "[200]\ttraining's ndcg@20: 0.784881\tvalid_1's ndcg@20: 0.769608\n",
      "[300]\ttraining's ndcg@20: 0.792795\tvalid_1's ndcg@20: 0.76983\n",
      "[400]\ttraining's ndcg@20: 0.799316\tvalid_1's ndcg@20: 0.769951\n",
      "Early stopping, best iteration is:\n",
      "[371]\ttraining's ndcg@20: 0.797506\tvalid_1's ndcg@20: 0.770022\n",
      "Fold 2\n",
      "[LightGBM] [Info] Auto-choosing row-wise multi-threading, the overhead of testing was 1.368676 seconds.\n",
      "You can set `force_row_wise=true` to remove the overhead.\n",
      "And if memory is not enough, you can set `force_col_wise=true`.\n",
      "[LightGBM] [Info] Total Bins 18056\n",
      "[LightGBM] [Info] Number of data points in the train set: 9406316, number of used features: 129\n",
      "Training until validation scores don't improve for 50 rounds\n",
      "[100]\ttraining's ndcg@20: 0.773914\tvalid_1's ndcg@20: 0.767913\n",
      "[200]\ttraining's ndcg@20: 0.784623\tvalid_1's ndcg@20: 0.770294\n",
      "[300]\ttraining's ndcg@20: 0.792167\tvalid_1's ndcg@20: 0.770699\n",
      "Early stopping, best iteration is:\n",
      "[341]\ttraining's ndcg@20: 0.79477\tvalid_1's ndcg@20: 0.770726\n",
      "CPU times: user 2h 25min 48s, sys: 47.7 s, total: 2h 26min 35s\n",
      "Wall time: 16min 30s\n"
     ]
    },
    {
     "data": {
      "text/plain": [
       "[Text(0.5, 1.0, 'Feature Importance TOP25')]"
      ]
     },
     "execution_count": 45,
     "metadata": {},
     "output_type": "execute_result"
    },
    {
     "data": {
      "image/png": "[encoded data removed]",
      "text/plain": [
       "<Figure size 640x480 with 1 Axes>"
      ]
     },
     "metadata": {},
     "output_type": "display_data"
    }
   ],
   "source": [
    "%%time\n",
    "# train lgbm model\n",
    "feat_imp = train_lgb_model(train)\n",
    "\n",
    "# visualize feature importances\n",
    "fi_df = pd.DataFrame(index=USE_FEATURES)\n",
    "fi_df[\"importance\"] = feat_imp / K_FOLDS\n",
    "fi_df = fi_df.sort_values(by=\"importance\", ascending=False).head(25)\n",
    "sns.barplot(x=\"importance\", y=fi_df.index, data=fi_df).set(title=\"Feature Importance TOP25\")"
   ]
  },
  {
   "cell_type": "code",
   "execution_count": null,
   "metadata": {
    "id": "ZmM2tz-LsSTK"
   },
   "outputs": [],
   "source": []
  }
 ],
 "metadata": {
  "colab": {
   "machine_shape": "hm",
   "provenance": []
  },
  "kernelspec": {
   "display_name": "Python 3",
   "name": "python3"
  },
  "language_info": {
   "name": "python"
  }
 },
 "nbformat": 4,
 "nbformat_minor": 0
}
