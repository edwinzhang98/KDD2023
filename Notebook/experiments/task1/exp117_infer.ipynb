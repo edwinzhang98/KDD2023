{
 "cells": [
  {
   "cell_type": "markdown",
   "metadata": {
    "id": "v--J7LUqL9Cj"
   },
   "source": [
    "# Setup"
   ]
  },
  {
   "cell_type": "code",
   "execution_count": null,
   "metadata": {
    "colab": {
     "base_uri": "https://localhost:8080/"
    },
    "executionInfo": {
     "elapsed": 25251,
     "status": "ok",
     "timestamp": 1686193634564,
     "user": {
      "displayName": "chimuichimu",
      "userId": "08341172728947671838"
     },
     "user_tz": -540
    },
    "id": "BnKnD-UQWSEg",
    "outputId": "11927b39-5ef3-4d8d-eab5-38df2f1d0a2e"
   },
   "outputs": [
    {
     "name": "stdout",
     "output_type": "stream",
     "text": [
      "Mounted at /gdrive\n"
     ]
    }
   ],
   "source": [
    "from google.colab import drive\n",
    "drive.mount('/content/drive')"
   ]
  },
  {
   "cell_type": "code",
   "execution_count": null,
   "metadata": {
    "colab": {
     "base_uri": "https://localhost:8080/"
    },
    "executionInfo": {
     "elapsed": 3820,
     "status": "ok",
     "timestamp": 1686193638378,
     "user": {
      "displayName": "chimuichimu",
      "userId": "08341172728947671838"
     },
     "user_tz": -540
    },
    "id": "8Af_47xxWVhC",
    "outputId": "37d1805a-205d-4dee-eeff-69fd679b36cf"
   },
   "outputs": [
    {
     "name": "stdout",
     "output_type": "stream",
     "text": [
      "Looking in indexes: https://pypi.org/simple, https://us-python.pkg.dev/colab-wheels/public/simple/\n",
      "Requirement already satisfied: polars in /usr/local/lib/python3.10/dist-packages (0.17.3)\n",
      "Requirement already satisfied: typing_extensions>=4.0.1 in /usr/local/lib/python3.10/dist-packages (from polars) (4.5.0)\n"
     ]
    }
   ],
   "source": [
    "!pip install polars"
   ]
  },
  {
   "cell_type": "code",
   "execution_count": null,
   "metadata": {
    "id": "F-RBDJdwWdI-"
   },
   "outputs": [],
   "source": [
    "import os\n",
    "import gc\n",
    "import math\n",
    "import random\n",
    "from glob import glob\n",
    "from collections import defaultdict, Counter\n",
    "from typing import List, Dict\n",
    "import joblib\n",
    "import pickle\n",
    "\n",
    "from tqdm import tqdm\n",
    "import matplotlib.pyplot as plt\n",
    "import seaborn as sns\n",
    "import numpy as np\n",
    "import polars as pl\n",
    "import pandas as pd\n",
    "import lightgbm as lgb\n",
    "from sklearn.model_selection import GroupKFold"
   ]
  },
  {
   "cell_type": "markdown",
   "metadata": {
    "id": "hEPw4yzayxut"
   },
   "source": [
    "## constants"
   ]
  },
  {
   "cell_type": "code",
   "execution_count": null,
   "metadata": {
    "id": "c3OCFFMJZoNy"
   },
   "outputs": [],
   "source": [
    "EXP_NAME = \"exp117\"\n",
    "DIR = \"/content/drive/MyDrive/kddcup2023/\"\n",
    "K_FOLDS = 2\n",
    "SEED = 42\n",
    "LOCALES = [\"UK\", \"JP\", \"DE\"]\n",
    "\n",
    "# This parameter controls to which end item the candidate is tied.\n",
    "# For example, if [1,2], candidates are generated from the last item and second last item in each session.\n",
    "LAST_NS = [1, 2, 3]"
   ]
  },
  {
   "cell_type": "code",
   "execution_count": null,
   "metadata": {
    "id": "VePmzquzyz2C"
   },
   "outputs": [],
   "source": [
    "USE_FEATURES = [\n",
    "    # === candidate features ===\n",
    "    \"co_visit_weight_last1\", \"consective_1_weight_last1\", \"consective_3_weight_last1\", \"consective_5_weight_last1\", \"similarity_score_last1\", \"bert_distance_last1\", \"lift_last1\", \"prone_distance_last1\",\n",
    "    \"co_visit_weight_last2\", \"consective_1_weight_last2\", \"consective_3_weight_last2\", \"consective_5_weight_last2\", \"similarity_score_last2\", \"bert_distance_last2\", \"lift_last2\", \"prone_distance_last2\",\n",
    "    \"co_visit_weight_last3\", \"consective_1_weight_last3\", \"consective_3_weight_last3\", \"consective_5_weight_last3\", \"similarity_score_last3\", \"bert_distance_last3\", \"lift_last3\", \"prone_distance_last3\",\n",
    "    \"imf_score\", \"bpr_score\",\n",
    "    \"co_visit_rank_last1\", \"consective_1_rank_last1\", \"consective_3_rank_last1\", \"consective_5_rank_last1\", \"similarity_rank_last1\", \"bert_rank_last1\", \"lift_rank_last1\", \"prone_rank_last1\",\n",
    "    \"co_visit_rank_last2\", \"consective_1_rank_last2\", \"consective_3_rank_last2\", \"consective_5_rank_last2\", \"similarity_rank_last2\", \"bert_rank_last2\", \"lift_rank_last2\", \"prone_rank_last2\",\n",
    "    \"co_visit_rank_last3\", \"consective_1_rank_last3\", \"consective_3_rank_last3\", \"consective_5_rank_last3\", \"similarity_rank_last3\", \"bert_rank_last3\", \"lift_rank_last3\", \"prone_rank_last3\",\n",
    "    \"imf_rank\", \"bpr_rank\",\n",
    "    # === session features ===\n",
    "    \"S_session_length\",\n",
    "    \"S_nunique_brand\",\n",
    "    \"S_ratio_unique_brand\",\n",
    "    \"S_nunique_item\",\n",
    "    \"S_ratio_repurchase\",\n",
    "    \"S_locale\",\n",
    "    \"S_mean_price\", \"S_max_price\", \"S_min_price\", \"S_std_price\", \"S_total_amount\",\n",
    "    \"S_color_not_null_count\", \"S_size_not_null_count\", \"S_model_not_null_count\", \"S_material_not_null_count\", \"S_author_not_null_count\",\n",
    "    \"S_last_item_price\",\n",
    "    # === product features ===\n",
    "    \"P_price\",\n",
    "    \"P_purchase_count\", \"P_purchase_count_global\",\n",
    "    \"P_total_amount\",\n",
    "    \"P_brand_purchase_count\", \"P_brand_purchase_count_global\",\n",
    "    \"P_brand_mean_price\", \"P_brand_max_price\", \"P_brand_min_price\", \"P_brand_std_price\", \"P_total_brand_amount\",\n",
    "    \"P_price_diff_to_avg_brand_price\",\n",
    "    \"P_n_unique_locale\",\n",
    "    \"P_is_color_null\", \"P_is_size_null\", \"P_is_model_null\", \"P_is_material_null\", \"P_is_author_null\",\n",
    "    \"P_purchase_count_ratio_to_locale\", \"P_purchase_amount_ratio_to_locale\", \"P_purchase_count_ratio_to_brand\", \"P_purchase_amount_ratio_to_brand\",\n",
    "    # === session * product features ===\n",
    "    \"SP_price_diff_to_mean_price\", \"SP_price_diff_to_min_price\", \"SP_price_diff_to_max_price\", \"SP_price_diff_to_last_price\",\n",
    "    \"SP_brand_price_diff_to_mean_price\", \"SP_brand_price_diff_to_min_price\", \"SP_brand_price_diff_to_max_price\", \"SP_brand_price_diff_to_last_price\",\n",
    "    \"SP_same_brand_last1\", \"SP_same_brand_last2\", \"SP_same_brand_last3\",\n",
    "    \"SP_same_color_last1\", \"SP_same_color_last2\", \"SP_same_color_last3\",\n",
    "    \"SP_same_size_last1\", \"SP_same_size_last2\", \"SP_same_size_last3\",\n",
    "    \"SP_same_model_last1\", \"SP_same_model_last2\", \"SP_same_model_last3\",\n",
    "    \"SP_same_material_last1\", \"SP_same_material_last2\", \"SP_same_material_last3\",\n",
    "    \"SP_same_author_last1\", \"SP_same_author_last2\", \"SP_same_author_last3\",\n",
    "    \"SP_same_brand_sum\", \"SP_same_color_sum\", \"SP_same_size_sum\", \"SP_same_model_sum\", \"SP_same_material_sum\", \"SP_same_author_sum\",\n",
    "    # === similality features ===\n",
    "    \"imf_similarity\", \"bpr_similarity\",\n",
    "    \"graph_emb_similarity_last1\", \"graph_emb_similarity_last2\", \"graph_emb_similarity_last3\",\n",
    "    \"i2v_similarity_last1\", \"i2v_similarity_last2\", \"i2v_similarity_last3\",\n",
    "]"
   ]
  },
  {
   "cell_type": "markdown",
   "metadata": {
    "id": "E-NbXCWfyDZt"
   },
   "source": [
    "## functions"
   ]
  },
  {
   "cell_type": "code",
   "execution_count": null,
   "metadata": {
    "id": "n9dS6r3wyE0x"
   },
   "outputs": [],
   "source": [
    "# functions for model training, prediction and evaluation\n",
    "\n",
    "def predict(df:pl.DataFrame, chunk_size:int=30_000_000) -> np.array:\n",
    "    preds = np.zeros((df.shape[0],))\n",
    "    for fold in range(K_FOLDS):\n",
    "        # load model\n",
    "        model = pickle.load(open(f'{DIR}models/task1/{EXP_NAME}_{fold+1}.pkl', \"rb\"))\n",
    "        # chunk data and predict to prevent OOM\n",
    "        preds_by_one_model = []\n",
    "        for frame in df.iter_slices(n_rows=chunk_size):\n",
    "            preds_chunk = model.predict(frame[USE_FEATURES].to_pandas(), num_iteration=model.best_iteration)\n",
    "            preds_by_one_model.append(preds_chunk)\n",
    "        preds += np.concatenate(preds_by_one_model)\n",
    "    preds /= K_FOLDS\n",
    "    return preds\n",
    "\n",
    "\n",
    "def rr_at_k(user_relevances:List[int], k:int=100) -> float:\n",
    "    user_relevances = user_relevances[:k]\n",
    "    rr = 0\n",
    "    for i, label in enumerate(user_relevances):\n",
    "        if label == 1:\n",
    "            rr = 1/(i+1)\n",
    "            break\n",
    "    return rr\n",
    "\n",
    "def mrr_at_k(users_relevances:List[List[int]], k:int=100) -> float:\n",
    "    rr = 0\n",
    "    for user_relevances in users_relevances:\n",
    "        rr += rr_at_k(user_relevances, k)\n",
    "    mrr = rr / len(users_relevances)\n",
    "    return mrr"
   ]
  },
  {
   "cell_type": "markdown",
   "metadata": {
    "id": "_FPA8z96Zil9"
   },
   "source": [
    "## fix seed"
   ]
  },
  {
   "cell_type": "code",
   "execution_count": null,
   "metadata": {
    "id": "wEckSTT1ZkDG"
   },
   "outputs": [],
   "source": [
    "def seed_everything(seed):\n",
    "    random.seed(seed)\n",
    "    np.random.seed(seed)\n",
    "    os.environ[\"PYTHONHASHSEED\"] = str(seed)\n",
    "seed_everything(SEED)"
   ]
  },
  {
   "cell_type": "markdown",
   "metadata": {
    "id": "l-9_8kPKFQSo"
   },
   "source": [
    "# Train and Inference"
   ]
  },
  {
   "cell_type": "markdown",
   "metadata": {
    "id": "pKwRQoSQcR65"
   },
   "source": [
    "## evaluation"
   ]
  },
  {
   "cell_type": "code",
   "execution_count": null,
   "metadata": {
    "id": "vYrj7HRCRzAk"
   },
   "outputs": [],
   "source": [
    "# files = glob(DIR + f\"data/interim/for_ranker/task1/valid_chunk_{EXP_NAME}_*.parquet\")\n",
    "# rr = 0\n",
    "# session_num = 0\n",
    "# for f in tqdm(files):\n",
    "#     print(f)\n",
    "#     df = pl.read_parquet(f)\n",
    "#     session_num += df[\"session_id\"].n_unique()\n",
    "\n",
    "#     # prediction\n",
    "#     df = df.with_columns(\n",
    "#         pl.Series(name=\"pred\", values=predict(df))\n",
    "#     )\n",
    "#     preds = df[[\"session_id\", \"label\", \"pred\"]]\n",
    "#     preds = preds.sort([\"session_id\", \"pred\"], descending=[False, True])\n",
    "\n",
    "#     # calculate RR\n",
    "#     label_lists = preds.groupby(\"session_id\", maintain_order=True).all()[\"label\"].to_list()\n",
    "#     for label_list in label_lists:\n",
    "#         rr += rr_at_k(label_list, 100)\n",
    "\n",
    "# # calculate MRR\n",
    "# print(\" \")\n",
    "# print(\"MRR@100:\", round(rr/session_num, 5))"
   ]
  },
  {
   "cell_type": "markdown",
   "metadata": {
    "id": "B7jzvJcWsOC8"
   },
   "source": [
    "## inference"
   ]
  },
  {
   "cell_type": "code",
   "execution_count": null,
   "metadata": {
    "colab": {
     "background_save": true,
     "base_uri": "https://localhost:8080/"
    },
    "executionInfo": {
     "elapsed": 9421777,
     "status": "ok",
     "timestamp": 1686210629373,
     "user": {
      "displayName": "chimuichimu",
      "userId": "08341172728947671838"
     },
     "user_tz": -540
    },
    "id": "hi6KfL1Acsng",
    "outputId": "1375edd5-3814-49ba-ad8d-a0a01f1b1953"
   },
   "outputs": [
    {
     "name": "stderr",
     "output_type": "stream",
     "text": [
      "\r  0%|          | 0/22 [00:00<?, ?it/s]"
     ]
    },
    {
     "name": "stdout",
     "output_type": "stream",
     "text": [
      "/gdrive/MyDrive/amazon_kdd_2023/data/interim/for_ranker/task1/test_chunk_exp115_0\n"
     ]
    },
    {
     "name": "stderr",
     "output_type": "stream",
     "text": [
      "\r  5%|▍         | 1/22 [13:02<4:34:02, 782.98s/it]"
     ]
    },
    {
     "name": "stdout",
     "output_type": "stream",
     "text": [
      "/gdrive/MyDrive/amazon_kdd_2023/data/interim/for_ranker/task1/test_chunk_exp115_1\n"
     ]
    },
    {
     "name": "stderr",
     "output_type": "stream",
     "text": [
      "\r  9%|▉         | 2/22 [25:59<4:19:37, 778.89s/it]"
     ]
    },
    {
     "name": "stdout",
     "output_type": "stream",
     "text": [
      "/gdrive/MyDrive/amazon_kdd_2023/data/interim/for_ranker/task1/test_chunk_exp115_2\n"
     ]
    },
    {
     "name": "stderr",
     "output_type": "stream",
     "text": [
      "\r 14%|█▎        | 3/22 [39:08<4:08:10, 783.71s/it]"
     ]
    },
    {
     "name": "stdout",
     "output_type": "stream",
     "text": [
      "/gdrive/MyDrive/amazon_kdd_2023/data/interim/for_ranker/task1/test_chunk_exp115_3\n"
     ]
    },
    {
     "name": "stderr",
     "output_type": "stream",
     "text": [
      "\r 18%|█▊        | 4/22 [52:17<3:55:46, 785.92s/it]"
     ]
    },
    {
     "name": "stdout",
     "output_type": "stream",
     "text": [
      "/gdrive/MyDrive/amazon_kdd_2023/data/interim/for_ranker/task1/test_chunk_exp115_4\n"
     ]
    },
    {
     "name": "stderr",
     "output_type": "stream",
     "text": [
      "\r 23%|██▎       | 5/22 [1:05:29<3:43:17, 788.08s/it]"
     ]
    },
    {
     "name": "stdout",
     "output_type": "stream",
     "text": [
      "/gdrive/MyDrive/amazon_kdd_2023/data/interim/for_ranker/task1/test_chunk_exp115_5\n"
     ]
    },
    {
     "name": "stderr",
     "output_type": "stream",
     "text": [
      "\r 27%|██▋       | 6/22 [1:18:40<3:30:21, 788.85s/it]"
     ]
    },
    {
     "name": "stdout",
     "output_type": "stream",
     "text": [
      "/gdrive/MyDrive/amazon_kdd_2023/data/interim/for_ranker/task1/test_chunk_exp115_6\n"
     ]
    },
    {
     "name": "stderr",
     "output_type": "stream",
     "text": [
      "\r 32%|███▏      | 7/22 [1:31:50<3:17:20, 789.34s/it]"
     ]
    },
    {
     "name": "stdout",
     "output_type": "stream",
     "text": [
      "/gdrive/MyDrive/amazon_kdd_2023/data/interim/for_ranker/task1/test_chunk_exp115_7\n"
     ]
    },
    {
     "name": "stderr",
     "output_type": "stream",
     "text": [
      "\r 36%|███▋      | 8/22 [1:46:03<3:08:56, 809.75s/it]"
     ]
    },
    {
     "name": "stdout",
     "output_type": "stream",
     "text": [
      "/gdrive/MyDrive/amazon_kdd_2023/data/interim/for_ranker/task1/test_chunk_exp115_8\n"
     ]
    },
    {
     "name": "stderr",
     "output_type": "stream",
     "text": [
      "\r 41%|████      | 9/22 [2:00:08<2:57:46, 820.52s/it]"
     ]
    },
    {
     "name": "stdout",
     "output_type": "stream",
     "text": [
      "/gdrive/MyDrive/amazon_kdd_2023/data/interim/for_ranker/task1/test_chunk_exp115_9\n"
     ]
    },
    {
     "name": "stderr",
     "output_type": "stream",
     "text": [
      "\r 45%|████▌     | 10/22 [2:14:24<2:46:20, 831.68s/it]"
     ]
    },
    {
     "name": "stdout",
     "output_type": "stream",
     "text": [
      "/gdrive/MyDrive/amazon_kdd_2023/data/interim/for_ranker/task1/test_chunk_exp115_10\n"
     ]
    },
    {
     "name": "stderr",
     "output_type": "stream",
     "text": [
      "\r 50%|█████     | 11/22 [2:28:32<2:33:21, 836.52s/it]"
     ]
    },
    {
     "name": "stdout",
     "output_type": "stream",
     "text": [
      "/gdrive/MyDrive/amazon_kdd_2023/data/interim/for_ranker/task1/test_chunk_exp115_11\n"
     ]
    },
    {
     "name": "stderr",
     "output_type": "stream",
     "text": [
      "\r 55%|█████▍    | 12/22 [2:42:51<2:20:35, 843.52s/it]"
     ]
    },
    {
     "name": "stdout",
     "output_type": "stream",
     "text": [
      "/gdrive/MyDrive/amazon_kdd_2023/data/interim/for_ranker/task1/test_chunk_exp115_12\n"
     ]
    },
    {
     "name": "stderr",
     "output_type": "stream",
     "text": [
      "\r 59%|█████▉    | 13/22 [2:56:58<2:06:41, 844.66s/it]"
     ]
    },
    {
     "name": "stdout",
     "output_type": "stream",
     "text": [
      "/gdrive/MyDrive/amazon_kdd_2023/data/interim/for_ranker/task1/test_chunk_exp115_13\n"
     ]
    },
    {
     "name": "stderr",
     "output_type": "stream",
     "text": [
      "\r 64%|██████▎   | 14/22 [3:10:17<1:50:46, 830.85s/it]"
     ]
    },
    {
     "name": "stdout",
     "output_type": "stream",
     "text": [
      "/gdrive/MyDrive/amazon_kdd_2023/data/interim/for_ranker/task1/test_chunk_exp115_14\n"
     ]
    },
    {
     "name": "stderr",
     "output_type": "stream",
     "text": [
      "\r 68%|██████▊   | 15/22 [3:23:15<1:35:04, 814.86s/it]"
     ]
    },
    {
     "name": "stdout",
     "output_type": "stream",
     "text": [
      "/gdrive/MyDrive/amazon_kdd_2023/data/interim/for_ranker/task1/test_chunk_exp115_15\n"
     ]
    },
    {
     "name": "stderr",
     "output_type": "stream",
     "text": [
      "\r 73%|███████▎  | 16/22 [3:36:21<1:20:35, 805.95s/it]"
     ]
    },
    {
     "name": "stdout",
     "output_type": "stream",
     "text": [
      "/gdrive/MyDrive/amazon_kdd_2023/data/interim/for_ranker/task1/test_chunk_exp115_16\n"
     ]
    },
    {
     "name": "stderr",
     "output_type": "stream",
     "text": [
      "\r 77%|███████▋  | 17/22 [3:49:17<1:06:25, 797.08s/it]"
     ]
    },
    {
     "name": "stdout",
     "output_type": "stream",
     "text": [
      "/gdrive/MyDrive/amazon_kdd_2023/data/interim/for_ranker/task1/test_chunk_exp115_17\n"
     ]
    },
    {
     "name": "stderr",
     "output_type": "stream",
     "text": [
      "\r 82%|████████▏ | 18/22 [4:02:23<52:54, 793.64s/it]  "
     ]
    },
    {
     "name": "stdout",
     "output_type": "stream",
     "text": [
      "/gdrive/MyDrive/amazon_kdd_2023/data/interim/for_ranker/task1/test_chunk_exp115_18\n"
     ]
    },
    {
     "name": "stderr",
     "output_type": "stream",
     "text": [
      "\r 86%|████████▋ | 19/22 [4:15:20<39:26, 788.91s/it]"
     ]
    },
    {
     "name": "stdout",
     "output_type": "stream",
     "text": [
      "/gdrive/MyDrive/amazon_kdd_2023/data/interim/for_ranker/task1/test_chunk_exp115_19\n"
     ]
    },
    {
     "name": "stderr",
     "output_type": "stream",
     "text": [
      "\r 91%|█████████ | 20/22 [4:28:24<26:14, 787.35s/it]"
     ]
    },
    {
     "name": "stdout",
     "output_type": "stream",
     "text": [
      "/gdrive/MyDrive/amazon_kdd_2023/data/interim/for_ranker/task1/test_chunk_exp115_20\n"
     ]
    },
    {
     "name": "stderr",
     "output_type": "stream",
     "text": [
      "\r 95%|█████████▌| 21/22 [4:41:14<13:02, 782.05s/it]"
     ]
    },
    {
     "name": "stdout",
     "output_type": "stream",
     "text": [
      "/gdrive/MyDrive/amazon_kdd_2023/data/interim/for_ranker/task1/test_chunk_exp115_21\n"
     ]
    },
    {
     "name": "stderr",
     "output_type": "stream",
     "text": [
      "100%|██████████| 22/22 [4:42:53<00:00, 771.51s/it]\n"
     ]
    }
   ],
   "source": [
    "files = glob(DIR + f\"data/interim/for_ranker/task1/test_chunk_exp115_*\")\n",
    "dfs = []\n",
    "for f in tqdm(files):\n",
    "    print(f)\n",
    "    df = pl.read_parquet(f)\n",
    "\n",
    "    # prediction\n",
    "    df = df.with_columns(\n",
    "        pl.Series(name=\"pred\", values=predict(df))\n",
    "    )\n",
    "    df = df[[\"session_id\", \"locale\", \"candidate_item\", \"pred\"]]\n",
    "    df = df.sort([\"session_id\", \"pred\"], descending=[False, True])\n",
    "    df = df.groupby(\"session_id\", maintain_order=True).head(100)\n",
    "    dfs.append(df)\n",
    "\n",
    "test = pl.concat(dfs)"
   ]
  },
  {
   "cell_type": "code",
   "execution_count": null,
   "metadata": {
    "colab": {
     "background_save": true
    },
    "id": "KTyGN1TPsSJ1"
   },
   "outputs": [],
   "source": [
    "test = test.with_columns(\n",
    "    pl.col(\"session_id\").str.slice(12).cast(pl.Int32).alias(\"session_id\")\n",
    ")"
   ]
  },
  {
   "cell_type": "code",
   "execution_count": null,
   "metadata": {
    "colab": {
     "background_save": true
    },
    "id": "wT0heKZ1sSM6"
   },
   "outputs": [],
   "source": [
    "preds = test.sort([\"session_id\", \"pred\"], descending=[False, True])\n",
    "preds = preds.groupby(\"session_id\", maintain_order=True).head(100)"
   ]
  },
  {
   "cell_type": "code",
   "execution_count": null,
   "metadata": {
    "id": "5GoWjk8FsSQG"
   },
   "outputs": [],
   "source": [
    "preds = pl.DataFrame({\n",
    "    \"locale\": preds.groupby(\"session_id\", maintain_order=True).first()[\"locale\"].to_list(),\n",
    "    \"next_item_prediction\": preds.groupby(\"session_id\", maintain_order=True).all()[\"candidate_item\"].to_list()\n",
    "})"
   ]
  },
  {
   "cell_type": "code",
   "execution_count": null,
   "metadata": {
    "colab": {
     "background_save": true
    },
    "id": "JSB7Qa1SsXpR",
    "outputId": "5323a239-9308-4643-b08f-46b41b9c381f"
   },
   "outputs": [
    {
     "data": {
      "text/html": [
       "<div><style>\n",
       ".dataframe > thead > tr > th,\n",
       ".dataframe > tbody > tr > td {\n",
       "  text-align: right;\n",
       "}\n",
       "</style>\n",
       "<small>shape: (5, 2)</small><table border=\"1\" class=\"dataframe\"><thead><tr><th>locale</th><th>next_item_prediction</th></tr><tr><td>str</td><td>list[str]</td></tr></thead><tbody><tr><td>&quot;DE&quot;</td><td>[&quot;B07SDFLVKD&quot;, &quot;B091CK241X&quot;, … &quot;B08L6K3H3Y&quot;]</td></tr><tr><td>&quot;DE&quot;</td><td>[&quot;B084CB7GX9&quot;, &quot;B0B7KCP6SL&quot;, … &quot;B07Y8BQC67&quot;]</td></tr><tr><td>&quot;DE&quot;</td><td>[&quot;B09Z4PZQBF&quot;, &quot;B09KBCTXF5&quot;, … &quot;B099FB3T56&quot;]</td></tr><tr><td>&quot;DE&quot;</td><td>[&quot;B07Y1KLF25&quot;, &quot;B07T5XY2CJ&quot;, … &quot;B09N35PZCD&quot;]</td></tr><tr><td>&quot;DE&quot;</td><td>[&quot;B0B2JY9THB&quot;, &quot;B08SXLWXH9&quot;, … &quot;3518390457&quot;]</td></tr></tbody></table></div>"
      ],
      "text/plain": [
       "shape: (5, 2)\n",
       "┌────────┬───────────────────────────────────┐\n",
       "│ locale ┆ next_item_prediction              │\n",
       "│ ---    ┆ ---                               │\n",
       "│ str    ┆ list[str]                         │\n",
       "╞════════╪═══════════════════════════════════╡\n",
       "│ DE     ┆ [\"B07SDFLVKD\", \"B091CK241X\", … \"… │\n",
       "│ DE     ┆ [\"B084CB7GX9\", \"B0B7KCP6SL\", … \"… │\n",
       "│ DE     ┆ [\"B09Z4PZQBF\", \"B09KBCTXF5\", … \"… │\n",
       "│ DE     ┆ [\"B07Y1KLF25\", \"B07T5XY2CJ\", … \"… │\n",
       "│ DE     ┆ [\"B0B2JY9THB\", \"B08SXLWXH9\", … \"… │\n",
       "└────────┴───────────────────────────────────┘"
      ]
     },
     "execution_count": 13,
     "metadata": {},
     "output_type": "execute_result"
    }
   ],
   "source": [
    "preds.head()"
   ]
  },
  {
   "cell_type": "code",
   "execution_count": null,
   "metadata": {
    "colab": {
     "background_save": true
    },
    "id": "45QoID9WsXss"
   },
   "outputs": [],
   "source": [
    "preds.write_parquet(DIR + \"data/output/task1/\" + EXP_NAME + \".parquet\", use_pyarrow=True)"
   ]
  },
  {
   "cell_type": "code",
   "execution_count": null,
   "metadata": {
    "colab": {
     "background_save": true
    },
    "id": "x2UHU_q7sXwH",
    "outputId": "07f2d8a1-cda2-4260-f51b-8f01132d9480"
   },
   "outputs": [
    {
     "data": {
      "text/html": [
       "<div><style>\n",
       ".dataframe > thead > tr > th,\n",
       ".dataframe > tbody > tr > td {\n",
       "  text-align: right;\n",
       "}\n",
       "</style>\n",
       "<small>shape: (9, 2)</small><table border=\"1\" class=\"dataframe\"><thead><tr><th>statistic</th><th>value</th></tr><tr><td>str</td><td>f64</td></tr></thead><tbody><tr><td>&quot;count&quot;</td><td>316972.0</td></tr><tr><td>&quot;null_count&quot;</td><td>0.0</td></tr><tr><td>&quot;mean&quot;</td><td>100.0</td></tr><tr><td>&quot;std&quot;</td><td>0.0</td></tr><tr><td>&quot;min&quot;</td><td>100.0</td></tr><tr><td>&quot;max&quot;</td><td>100.0</td></tr><tr><td>&quot;median&quot;</td><td>100.0</td></tr><tr><td>&quot;25%&quot;</td><td>100.0</td></tr><tr><td>&quot;75%&quot;</td><td>100.0</td></tr></tbody></table></div>"
      ],
      "text/plain": [
       "shape: (9, 2)\n",
       "┌────────────┬──────────┐\n",
       "│ statistic  ┆ value    │\n",
       "│ ---        ┆ ---      │\n",
       "│ str        ┆ f64      │\n",
       "╞════════════╪══════════╡\n",
       "│ count      ┆ 316972.0 │\n",
       "│ null_count ┆ 0.0      │\n",
       "│ mean       ┆ 100.0    │\n",
       "│ std        ┆ 0.0      │\n",
       "│ min        ┆ 100.0    │\n",
       "│ max        ┆ 100.0    │\n",
       "│ median     ┆ 100.0    │\n",
       "│ 25%        ┆ 100.0    │\n",
       "│ 75%        ┆ 100.0    │\n",
       "└────────────┴──────────┘"
      ]
     },
     "execution_count": 15,
     "metadata": {},
     "output_type": "execute_result"
    }
   ],
   "source": [
    "preds = preds.with_columns(\n",
    "    pl.col(\"next_item_prediction\").apply(len).alias(\"pred_count\")\n",
    ")\n",
    "preds[\"pred_count\"].describe()"
   ]
  },
  {
   "cell_type": "code",
   "execution_count": null,
   "metadata": {
    "id": "ZmM2tz-LsSTK"
   },
   "outputs": [],
   "source": []
  }
 ],
 "metadata": {
  "colab": {
   "machine_shape": "hm",
   "provenance": []
  },
  "gpuClass": "standard",
  "kernelspec": {
   "display_name": "Python 3",
   "name": "python3"
  },
  "language_info": {
   "name": "python"
  }
 },
 "nbformat": 4,
 "nbformat_minor": 0
}
