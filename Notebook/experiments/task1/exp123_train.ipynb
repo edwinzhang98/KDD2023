{
 "cells": [
  {
   "cell_type": "code",
   "execution_count": null,
   "metadata": {
    "id": "WmPWnUNFnpLA"
   },
   "outputs": [],
   "source": [
    "from google.colab import drive\n",
    "drive.mount('/content/drive')"
   ]
  },
  {
   "cell_type": "markdown",
   "metadata": {
    "id": "v--J7LUqL9Cj"
   },
   "source": [
    "# Setup"
   ]
  },
  {
   "cell_type": "code",
   "execution_count": null,
   "metadata": {
    "id": "8Af_47xxWVhC"
   },
   "outputs": [],
   "source": [
    "!pip install polars"
   ]
  },
  {
   "cell_type": "code",
   "execution_count": null,
   "metadata": {
    "id": "F-RBDJdwWdI-"
   },
   "outputs": [],
   "source": [
    "import os\n",
    "import gc\n",
    "import math\n",
    "import random\n",
    "from glob import glob\n",
    "from collections import defaultdict, Counter\n",
    "from typing import List, Dict\n",
    "import joblib\n",
    "import pickle\n",
    "\n",
    "from tqdm import tqdm\n",
    "import matplotlib.pyplot as plt\n",
    "import seaborn as sns\n",
    "import numpy as np\n",
    "import polars as pl\n",
    "import pandas as pd\n",
    "import lightgbm as lgb\n",
    "from sklearn.model_selection import GroupKFold"
   ]
  },
  {
   "cell_type": "markdown",
   "metadata": {
    "id": "hEPw4yzayxut"
   },
   "source": [
    "## constants"
   ]
  },
  {
   "cell_type": "code",
   "execution_count": null,
   "metadata": {
    "id": "c3OCFFMJZoNy"
   },
   "outputs": [],
   "source": [
    "EXP_NAME = \"exp123\"\n",
    "DIR = \"/content/drive/MyDrive/kddcup2023/\"\n",
    "K_FOLDS = 3\n",
    "SEED = 42\n",
    "LOCALES = [\"UK\", \"JP\", \"DE\"]\n",
    "\n",
    "# This parameter controls to which end item the candidate is tied.\n",
    "# For example, if [1,2], candidates are generated from the last item and second last item in each session.\n",
    "LAST_NS = [1, 2, 3]"
   ]
  },
  {
   "cell_type": "code",
   "execution_count": null,
   "metadata": {
    "colab": {
     "base_uri": "https://localhost:8080/"
    },
    "executionInfo": {
     "elapsed": 15199,
     "status": "ok",
     "timestamp": 1686219243784,
     "user": {
      "displayName": "chimuichimu",
      "userId": "08341172728947671838"
     },
     "user_tz": -540
    },
    "id": "A_SO8ZpI5oFj",
    "outputId": "fcc4b427-0fe6-4e8c-eca3-fe8b8786339b"
   },
   "outputs": [
    {
     "name": "stdout",
     "output_type": "stream",
     "text": [
      "deb http://packages.cloud.google.com/apt gcsfuse-focal main\n",
      "  % Total    % Received % Xferd  Average Speed   Time    Time     Time  Current\n",
      "                                 Dload  Upload   Total   Spent    Left  Speed\n",
      "100  2659  100  2659    0     0  48345      0 --:--:-- --:--:-- --:--:-- 48345\n",
      "OK\n",
      "Get:1 https://cloud.r-project.org/bin/linux/ubuntu focal-cran40/ InRelease [3,622 B]\n",
      "Get:2 https://developer.download.nvidia.com/compute/cuda/repos/ubuntu2004/x86_64  InRelease [1,581 B]\n",
      "Get:3 https://cloud.r-project.org/bin/linux/ubuntu focal-cran40/ Packages [78.0 kB]\n",
      "Get:4 https://developer.download.nvidia.com/compute/cuda/repos/ubuntu2004/x86_64  Packages [1,011 kB]\n",
      "Get:5 http://security.ubuntu.com/ubuntu focal-security InRelease [114 kB]\n",
      "Hit:6 http://archive.ubuntu.com/ubuntu focal InRelease\n",
      "Get:7 http://packages.cloud.google.com/apt gcsfuse-focal InRelease [5,002 B]\n",
      "Get:8 http://ppa.launchpad.net/c2d4u.team/c2d4u4.0+/ubuntu focal InRelease [18.1 kB]\n",
      "Get:9 http://archive.ubuntu.com/ubuntu focal-updates InRelease [114 kB]\n",
      "Get:10 http://packages.cloud.google.com/apt gcsfuse-focal/main amd64 Packages [2,286 B]\n",
      "Get:11 http://security.ubuntu.com/ubuntu focal-security/universe amd64 Packages [1,057 kB]\n",
      "Hit:12 http://ppa.launchpad.net/cran/libgit2/ubuntu focal InRelease\n",
      "Get:13 http://archive.ubuntu.com/ubuntu focal-backports InRelease [108 kB]\n",
      "Get:14 http://ppa.launchpad.net/deadsnakes/ppa/ubuntu focal InRelease [18.1 kB]\n",
      "Get:15 http://security.ubuntu.com/ubuntu focal-security/main amd64 Packages [2,774 kB]\n",
      "Get:16 http://archive.ubuntu.com/ubuntu focal-updates/restricted amd64 Packages [2,483 kB]\n",
      "Get:17 http://security.ubuntu.com/ubuntu focal-security/restricted amd64 Packages [2,345 kB]\n",
      "Get:18 http://ppa.launchpad.net/graphics-drivers/ppa/ubuntu focal InRelease [24.3 kB]\n",
      "Get:19 http://archive.ubuntu.com/ubuntu focal-updates/main amd64 Packages [3,255 kB]\n",
      "Hit:20 http://ppa.launchpad.net/ubuntugis/ppa/ubuntu focal InRelease\n",
      "Get:21 http://archive.ubuntu.com/ubuntu focal-updates/universe amd64 Packages [1,353 kB]\n",
      "Get:22 http://archive.ubuntu.com/ubuntu focal-backports/main amd64 Packages [55.2 kB]\n",
      "Get:23 http://archive.ubuntu.com/ubuntu focal-backports/universe amd64 Packages [28.6 kB]\n",
      "Get:24 http://ppa.launchpad.net/c2d4u.team/c2d4u4.0+/ubuntu focal/main Sources [2,589 kB]\n",
      "Get:25 http://ppa.launchpad.net/c2d4u.team/c2d4u4.0+/ubuntu focal/main amd64 Packages [1,222 kB]\n",
      "Get:26 http://ppa.launchpad.net/deadsnakes/ppa/ubuntu focal/main amd64 Packages [29.6 kB]\n",
      "Get:27 http://ppa.launchpad.net/graphics-drivers/ppa/ubuntu focal/main amd64 Packages [46.7 kB]\n",
      "Fetched 18.7 MB in 8s (2,212 kB/s)\n",
      "Reading package lists... Done\n",
      "Reading package lists... Done\n",
      "Building dependency tree       \n",
      "Reading state information... Done\n",
      "The following NEW packages will be installed:\n",
      "  gcsfuse\n",
      "0 upgraded, 1 newly installed, 0 to remove and 123 not upgraded.\n",
      "Need to get 14.0 MB of archives.\n",
      "After this operation, 31.2 MB of additional disk space will be used.\n",
      "Get:1 http://packages.cloud.google.com/apt gcsfuse-focal/main amd64 gcsfuse amd64 0.42.5 [14.0 MB]\n",
      "Fetched 14.0 MB in 1s (16.1 MB/s)\n",
      "Selecting previously unselected package gcsfuse.\n",
      "(Reading database ... 122518 files and directories currently installed.)\n",
      "Preparing to unpack .../gcsfuse_0.42.5_amd64.deb ...\n",
      "Unpacking gcsfuse (0.42.5) ...\n",
      "Setting up gcsfuse (0.42.5) ...\n",
      "I0608 10:14:02.835751 2023/06/08 10:14:02.835721 Start gcsfuse/0.42.5 (Go version go1.20.3) for app \"\" using mount point: /content/gcs\n"
     ]
    }
   ],
   "source": [
    "# Add the gcsfuse repository to the list of repositories\n",
    "!echo \"deb http://packages.cloud.google.com/apt gcsfuse-`lsb_release -c -s` main\" | sudo tee /etc/apt/sources.list.d/gcsfuse.list\n",
    "!curl https://packages.cloud.google.com/apt/doc/apt-key.gpg | sudo apt-key add -\n",
    "\n",
    "# Install\n",
    "!apt-get update\n",
    "!apt-get install gcsfuse"
   ]
  },
  {
   "cell_type": "code",
   "execution_count": null,
   "metadata": {
    "id": "FWVBpIDnyz0I"
   },
   "outputs": [],
   "source": [
    "PARAMS = {\n",
    "    \"objective\": \"lambdarank\",\n",
    "    \"metric\": \"ndcg\",\n",
    "    \"boosting\": \"gbdt\",\n",
    "    \"seed\": SEED,\n",
    "    \"num_leaves\": 50,\n",
    "    \"max_depth\": 10,\n",
    "    \"learning_rate\": 0.05,\n",
    "    \"feature_fraction\": 0.9,\n",
    "    \"bagging_fraction\": 0.9,\n",
    "    \"bagging_freq\": 5,\n",
    "    \"min_data_in_leaf\": 30,\n",
    "    \"eval_at\": [20],\n",
    "    \"lambdarank_truncation_level\" : 40,\n",
    "    \"deterministic\":True,\n",
    "}"
   ]
  },
  {
   "cell_type": "code",
   "execution_count": null,
   "metadata": {
    "id": "VePmzquzyz2C"
   },
   "outputs": [],
   "source": [
    "USE_FEATURES = [\n",
    "    # === candidate features ===\n",
    "    \"co_visit_weight_last1\", \"consective_1_weight_last1\", \"consective_3_weight_last1\", \"consective_5_weight_last1\", \"similarity_score_last1\", \"bert_distance_last1\", \"lift_last1\", \"prone_distance_last1\",\n",
    "    \"co_visit_weight_last2\", \"consective_1_weight_last2\", \"consective_3_weight_last2\", \"consective_5_weight_last2\", \"similarity_score_last2\", \"bert_distance_last2\", \"lift_last2\", \"prone_distance_last2\",\n",
    "    \"co_visit_weight_last3\", \"consective_1_weight_last3\", \"consective_3_weight_last3\", \"consective_5_weight_last3\", \"similarity_score_last3\", \"bert_distance_last3\", \"lift_last3\", \"prone_distance_last3\",\n",
    "    \"imf_score\", \"bpr_score\",\n",
    "    \"co_visit_rank_last1\", \"consective_1_rank_last1\", \"consective_3_rank_last1\", \"consective_5_rank_last1\", \"similarity_rank_last1\", \"bert_rank_last1\", \"lift_rank_last1\", \"prone_rank_last1\",\n",
    "    \"co_visit_rank_last2\", \"consective_1_rank_last2\", \"consective_3_rank_last2\", \"consective_5_rank_last2\", \"similarity_rank_last2\", \"bert_rank_last2\", \"lift_rank_last2\", \"prone_rank_last2\",\n",
    "    \"co_visit_rank_last3\", \"consective_1_rank_last3\", \"consective_3_rank_last3\", \"consective_5_rank_last3\", \"similarity_rank_last3\", \"bert_rank_last3\", \"lift_rank_last3\", \"prone_rank_last3\",\n",
    "    \"imf_rank\", \"bpr_rank\",\n",
    "    # === session features ===\n",
    "    \"S_session_length\",\n",
    "    \"S_nunique_brand\",\n",
    "    \"S_ratio_unique_brand\",\n",
    "    \"S_nunique_item\",\n",
    "    \"S_ratio_repurchase\",\n",
    "    \"S_locale\",\n",
    "    \"S_mean_price\", \"S_max_price\", \"S_min_price\", \"S_std_price\", \"S_total_amount\",\n",
    "    \"S_color_not_null_count\", \"S_size_not_null_count\", \"S_model_not_null_count\", \"S_material_not_null_count\", \"S_author_not_null_count\",\n",
    "    \"S_last_item_price\",\n",
    "    # === product features ===\n",
    "    \"P_price\",\n",
    "    \"P_purchase_count\", \"P_purchase_count_global\",\n",
    "    \"P_total_amount\",\n",
    "    \"P_brand_purchase_count\", \"P_brand_purchase_count_global\",\n",
    "    \"P_brand_mean_price\", \"P_brand_max_price\", \"P_brand_min_price\", \"P_brand_std_price\", \"P_total_brand_amount\",\n",
    "    \"P_price_diff_to_avg_brand_price\",\n",
    "    \"P_n_unique_locale\",\n",
    "    \"P_is_color_null\", \"P_is_size_null\", \"P_is_model_null\", \"P_is_material_null\", \"P_is_author_null\",\n",
    "    \"P_purchase_count_ratio_to_locale\", \"P_purchase_amount_ratio_to_locale\", \"P_purchase_count_ratio_to_brand\", \"P_purchase_amount_ratio_to_brand\",\n",
    "    # === session * product features ===\n",
    "    \"SP_price_diff_to_mean_price\", \"SP_price_diff_to_min_price\", \"SP_price_diff_to_max_price\", \"SP_price_diff_to_last_price\",\n",
    "    \"SP_brand_price_diff_to_mean_price\", \"SP_brand_price_diff_to_min_price\", \"SP_brand_price_diff_to_max_price\", \"SP_brand_price_diff_to_last_price\",\n",
    "    \"SP_same_brand_last1\", \"SP_same_brand_last2\", \"SP_same_brand_last3\",\n",
    "    \"SP_same_color_last1\", \"SP_same_color_last2\", \"SP_same_color_last3\",\n",
    "    \"SP_same_size_last1\", \"SP_same_size_last2\", \"SP_same_size_last3\",\n",
    "    \"SP_same_model_last1\", \"SP_same_model_last2\", \"SP_same_model_last3\",\n",
    "    \"SP_same_material_last1\", \"SP_same_material_last2\", \"SP_same_material_last3\",\n",
    "    \"SP_same_author_last1\", \"SP_same_author_last2\", \"SP_same_author_last3\",\n",
    "    \"SP_same_brand_sum\", \"SP_same_color_sum\", \"SP_same_size_sum\", \"SP_same_model_sum\", \"SP_same_material_sum\", \"SP_same_author_sum\",\n",
    "    # === similality features ===\n",
    "    \"imf_similarity\", \"bpr_similarity\",\n",
    "    \"graph_emb_similarity_last1\", \"graph_emb_similarity_last2\", \"graph_emb_similarity_last3\",\n",
    "    \"i2v_similarity_last1\", \"i2v_similarity_last2\", \"i2v_similarity_last3\",\n",
    "]"
   ]
  },
  {
   "cell_type": "markdown",
   "metadata": {
    "id": "E-NbXCWfyDZt"
   },
   "source": [
    "## functions"
   ]
  },
  {
   "cell_type": "code",
   "execution_count": null,
   "metadata": {
    "id": "n9dS6r3wyE0x"
   },
   "outputs": [],
   "source": [
    "# functions for model training, prediction and evaluation\n",
    "\n",
    "def train_lgb_model(train:pd.DataFrame) -> np.array:\n",
    "    feat_imp = np.zeros((len(USE_FEATURES),))\n",
    "    gkf = GroupKFold(n_splits=K_FOLDS)\n",
    "    for fold, (train_idx, val_idx) in enumerate(gkf.split(train, train[\"label\"], groups=train[\"session_id\"])):\n",
    "        print(f'Fold {fold+1}')\n",
    "\n",
    "        # Split data into train and validation sets\n",
    "        train_tmp = train.iloc[train_idx].copy()\n",
    "        valid_tmp = train.iloc[val_idx].copy()\n",
    "        train_tmp.sort_values(\"session_id\", inplace=True)\n",
    "        valid_tmp.sort_values(\"session_id\", inplace=True)\n",
    "        train_baskets = train_tmp.groupby(\"session_id\")[\"candidate_item\"].count().values\n",
    "        valid_baskets = valid_tmp.groupby(\"session_id\")[\"candidate_item\"].count().values\n",
    "        X_train, y_train = train_tmp[USE_FEATURES], train_tmp[\"label\"]\n",
    "        X_val, y_val = valid_tmp[USE_FEATURES], valid_tmp[\"label\"]\n",
    "\n",
    "        # Create LightGBM dataset\n",
    "        lgb_train = lgb.Dataset(X_train, y_train, group=train_baskets)\n",
    "        lgb_val = lgb.Dataset(X_val, y_val, group=valid_baskets, reference=lgb_train)\n",
    "\n",
    "        del train_tmp, valid_tmp, X_train, y_train, train_baskets, X_val, y_val, valid_baskets\n",
    "        gc.collect()\n",
    "\n",
    "        # Train LightGBM model\n",
    "        model = lgb.train(PARAMS,\n",
    "                        lgb_train,\n",
    "                        num_boost_round=10000,\n",
    "                        valid_sets=[lgb_train, lgb_val],\n",
    "                        callbacks=[\n",
    "                            lgb.early_stopping(stopping_rounds=50),\n",
    "                            lgb.log_evaluation(100),\n",
    "                        ]\n",
    "                )\n",
    "\n",
    "        # Save LightGBM model\n",
    "        joblib.dump(model, f'/content/drive/MyDrive/kddcup2023/models/task1/{EXP_NAME}_{fold+1}.pkl')\n",
    "\n",
    "        # Add feature importance scores\n",
    "        feat_imp += model.feature_importance(importance_type=\"gain\")\n",
    "\n",
    "    return feat_imp"
   ]
  },
  {
   "cell_type": "markdown",
   "metadata": {
    "id": "_FPA8z96Zil9"
   },
   "source": [
    "## fix seed"
   ]
  },
  {
   "cell_type": "code",
   "execution_count": null,
   "metadata": {
    "id": "wEckSTT1ZkDG"
   },
   "outputs": [],
   "source": [
    "def seed_everything(seed):\n",
    "    random.seed(seed)\n",
    "    np.random.seed(seed)\n",
    "    os.environ[\"PYTHONHASHSEED\"] = str(seed)\n",
    "seed_everything(SEED)"
   ]
  },
  {
   "cell_type": "markdown",
   "metadata": {
    "id": "l-9_8kPKFQSo"
   },
   "source": [
    "# Train"
   ]
  },
  {
   "cell_type": "markdown",
   "metadata": {
    "id": "pmqTdaXZXXFL"
   },
   "source": [
    "## train model"
   ]
  },
  {
   "cell_type": "code",
   "execution_count": null,
   "metadata": {
    "colab": {
     "base_uri": "https://localhost:8080/"
    },
    "executionInfo": {
     "elapsed": 111208,
     "status": "ok",
     "timestamp": 1686219580012,
     "user": {
      "displayName": "chimuichimu",
      "userId": "08341172728947671838"
     },
     "user_tz": -540
    },
    "id": "4B3TS5Fg8Q-C",
    "outputId": "a2f36013-0bbb-4971-95b4-97e5571e71c5"
   },
   "outputs": [
    {
     "name": "stderr",
     "output_type": "stream",
     "text": [
      "100%|██████████| 66/66 [00:55<00:00,  1.19it/s]\n"
     ]
    },
    {
     "data": {
      "text/plain": [
       "30"
      ]
     },
     "execution_count": 18,
     "metadata": {},
     "output_type": "execute_result"
    }
   ],
   "source": [
    "files = glob(f\"/content/data/train_chunk_exp115_*\")\n",
    "dfs = []\n",
    "for f in tqdm(files):\n",
    "    dfs.append(pd.read_parquet(f))\n",
    "train = pd.concat(dfs)\n",
    "del dfs; gc.collect()"
   ]
  },
  {
   "cell_type": "code",
   "execution_count": null,
   "metadata": {
    "id": "MMUZ1IuZ-ksL"
   },
   "outputs": [],
   "source": [
    "train = train[[\"session_id\", \"candidate_item\", \"label\"] + USE_FEATURES]"
   ]
  },
  {
   "cell_type": "code",
   "execution_count": null,
   "metadata": {
    "colab": {
     "base_uri": "https://localhost:8080/",
     "height": 299
    },
    "executionInfo": {
     "elapsed": 29,
     "status": "ok",
     "timestamp": 1686219652017,
     "user": {
      "displayName": "chimuichimu",
      "userId": "08341172728947671838"
     },
     "user_tz": -540
    },
    "id": "hO-CQknhhYG1",
    "outputId": "969996bc-195b-48db-ccce-7002c062c2f7"
   },
   "outputs": [
    {
     "data": {
      "text/html": [
       "\n",
       "  <div id=\"df-a6622d6d-1faf-4afd-b0d8-f75dce51ff16\">\n",
       "    <div class=\"colab-df-container\">\n",
       "      <div>\n",
       "<style scoped>\n",
       "    .dataframe tbody tr th:only-of-type {\n",
       "        vertical-align: middle;\n",
       "    }\n",
       "\n",
       "    .dataframe tbody tr th {\n",
       "        vertical-align: top;\n",
       "    }\n",
       "\n",
       "    .dataframe thead th {\n",
       "        text-align: right;\n",
       "    }\n",
       "</style>\n",
       "<table border=\"1\" class=\"dataframe\">\n",
       "  <thead>\n",
       "    <tr style=\"text-align: right;\">\n",
       "      <th></th>\n",
       "      <th>session_id</th>\n",
       "      <th>candidate_item</th>\n",
       "      <th>label</th>\n",
       "      <th>co_visit_weight_last1</th>\n",
       "      <th>consective_1_weight_last1</th>\n",
       "      <th>consective_3_weight_last1</th>\n",
       "      <th>consective_5_weight_last1</th>\n",
       "      <th>similarity_score_last1</th>\n",
       "      <th>bert_distance_last1</th>\n",
       "      <th>lift_last1</th>\n",
       "      <th>...</th>\n",
       "      <th>SP_same_material_sum</th>\n",
       "      <th>SP_same_author_sum</th>\n",
       "      <th>imf_similarity</th>\n",
       "      <th>bpr_similarity</th>\n",
       "      <th>graph_emb_similarity_last1</th>\n",
       "      <th>graph_emb_similarity_last2</th>\n",
       "      <th>graph_emb_similarity_last3</th>\n",
       "      <th>i2v_similarity_last1</th>\n",
       "      <th>i2v_similarity_last2</th>\n",
       "      <th>i2v_similarity_last3</th>\n",
       "    </tr>\n",
       "  </thead>\n",
       "  <tbody>\n",
       "    <tr>\n",
       "      <th>0</th>\n",
       "      <td>train_1111417</td>\n",
       "      <td>B084QJGSVH</td>\n",
       "      <td>1</td>\n",
       "      <td>3.95</td>\n",
       "      <td>1</td>\n",
       "      <td>2</td>\n",
       "      <td>4</td>\n",
       "      <td>0.705215</td>\n",
       "      <td>0.202256</td>\n",
       "      <td>0.242190</td>\n",
       "      <td>...</td>\n",
       "      <td>0</td>\n",
       "      <td>1</td>\n",
       "      <td>0.033607</td>\n",
       "      <td>0.0</td>\n",
       "      <td>0.639501</td>\n",
       "      <td>0.342910</td>\n",
       "      <td>-1.000000</td>\n",
       "      <td>0.834130</td>\n",
       "      <td>0.859668</td>\n",
       "      <td>-1.000000</td>\n",
       "    </tr>\n",
       "    <tr>\n",
       "      <th>1</th>\n",
       "      <td>train_1111418</td>\n",
       "      <td>B08NY8NLGS</td>\n",
       "      <td>1</td>\n",
       "      <td>0.00</td>\n",
       "      <td>0</td>\n",
       "      <td>0</td>\n",
       "      <td>0</td>\n",
       "      <td>0.677728</td>\n",
       "      <td>0.140590</td>\n",
       "      <td>0.000000</td>\n",
       "      <td>...</td>\n",
       "      <td>0</td>\n",
       "      <td>0</td>\n",
       "      <td>0.047032</td>\n",
       "      <td>0.0</td>\n",
       "      <td>0.913188</td>\n",
       "      <td>0.909147</td>\n",
       "      <td>0.913188</td>\n",
       "      <td>0.915032</td>\n",
       "      <td>0.910090</td>\n",
       "      <td>0.915032</td>\n",
       "    </tr>\n",
       "    <tr>\n",
       "      <th>2</th>\n",
       "      <td>train_1111419</td>\n",
       "      <td>B09VXJ3V1R</td>\n",
       "      <td>1</td>\n",
       "      <td>0.65</td>\n",
       "      <td>0</td>\n",
       "      <td>0</td>\n",
       "      <td>0</td>\n",
       "      <td>0.377794</td>\n",
       "      <td>0.245923</td>\n",
       "      <td>0.017931</td>\n",
       "      <td>...</td>\n",
       "      <td>0</td>\n",
       "      <td>0</td>\n",
       "      <td>0.170699</td>\n",
       "      <td>0.0</td>\n",
       "      <td>0.709090</td>\n",
       "      <td>0.706344</td>\n",
       "      <td>0.722743</td>\n",
       "      <td>0.789686</td>\n",
       "      <td>0.774387</td>\n",
       "      <td>0.793378</td>\n",
       "    </tr>\n",
       "    <tr>\n",
       "      <th>3</th>\n",
       "      <td>train_1111420</td>\n",
       "      <td>B07GH48D5P</td>\n",
       "      <td>1</td>\n",
       "      <td>3.00</td>\n",
       "      <td>1</td>\n",
       "      <td>1</td>\n",
       "      <td>1</td>\n",
       "      <td>0.983818</td>\n",
       "      <td>0.000000</td>\n",
       "      <td>0.369274</td>\n",
       "      <td>...</td>\n",
       "      <td>3</td>\n",
       "      <td>0</td>\n",
       "      <td>0.253944</td>\n",
       "      <td>0.0</td>\n",
       "      <td>0.930691</td>\n",
       "      <td>0.881341</td>\n",
       "      <td>0.840828</td>\n",
       "      <td>0.982889</td>\n",
       "      <td>0.918730</td>\n",
       "      <td>0.930656</td>\n",
       "    </tr>\n",
       "    <tr>\n",
       "      <th>4</th>\n",
       "      <td>train_1111422</td>\n",
       "      <td>B08WK59CM6</td>\n",
       "      <td>1</td>\n",
       "      <td>0.00</td>\n",
       "      <td>0</td>\n",
       "      <td>0</td>\n",
       "      <td>0</td>\n",
       "      <td>0.000000</td>\n",
       "      <td>-1.000000</td>\n",
       "      <td>0.000000</td>\n",
       "      <td>...</td>\n",
       "      <td>0</td>\n",
       "      <td>0</td>\n",
       "      <td>0.037218</td>\n",
       "      <td>0.0</td>\n",
       "      <td>0.075622</td>\n",
       "      <td>0.783394</td>\n",
       "      <td>-1.000000</td>\n",
       "      <td>0.877571</td>\n",
       "      <td>0.891324</td>\n",
       "      <td>-1.000000</td>\n",
       "    </tr>\n",
       "  </tbody>\n",
       "</table>\n",
       "<p>5 rows × 134 columns</p>\n",
       "</div>\n",
       "      <button class=\"colab-df-convert\" onclick=\"convertToInteractive('df-a6622d6d-1faf-4afd-b0d8-f75dce51ff16')\"\n",
       "              title=\"Convert this dataframe to an interactive table.\"\n",
       "              style=\"display:none;\">\n",
       "        \n",
       "  <svg xmlns=\"http://www.w3.org/2000/svg\" height=\"24px\"viewBox=\"0 0 24 24\"\n",
       "       width=\"24px\">\n",
       "    <path d=\"M0 0h24v24H0V0z\" fill=\"none\"/>\n",
       "    <path d=\"M18.56 5.44l.94 2.06.94-2.06 2.06-.94-2.06-.94-.94-2.06-.94 2.06-2.06.94zm-11 1L8.5 8.5l.94-2.06 2.06-.94-2.06-.94L8.5 2.5l-.94 2.06-2.06.94zm10 10l.94 2.06.94-2.06 2.06-.94-2.06-.94-.94-2.06-.94 2.06-2.06.94z\"/><path d=\"M17.41 7.96l-1.37-1.37c-.4-.4-.92-.59-1.43-.59-.52 0-1.04.2-1.43.59L10.3 9.45l-7.72 7.72c-.78.78-.78 2.05 0 2.83L4 21.41c.39.39.9.59 1.41.59.51 0 1.02-.2 1.41-.59l7.78-7.78 2.81-2.81c.8-.78.8-2.07 0-2.86zM5.41 20L4 18.59l7.72-7.72 1.47 1.35L5.41 20z\"/>\n",
       "  </svg>\n",
       "      </button>\n",
       "      \n",
       "  <style>\n",
       "    .colab-df-container {\n",
       "      display:flex;\n",
       "      flex-wrap:wrap;\n",
       "      gap: 12px;\n",
       "    }\n",
       "\n",
       "    .colab-df-convert {\n",
       "      background-color: #E8F0FE;\n",
       "      border: none;\n",
       "      border-radius: 50%;\n",
       "      cursor: pointer;\n",
       "      display: none;\n",
       "      fill: #1967D2;\n",
       "      height: 32px;\n",
       "      padding: 0 0 0 0;\n",
       "      width: 32px;\n",
       "    }\n",
       "\n",
       "    .colab-df-convert:hover {\n",
       "      background-color: #E2EBFA;\n",
       "      box-shadow: 0px 1px 2px rgba(60, 64, 67, 0.3), 0px 1px 3px 1px rgba(60, 64, 67, 0.15);\n",
       "      fill: #174EA6;\n",
       "    }\n",
       "\n",
       "    [theme=dark] .colab-df-convert {\n",
       "      background-color: #3B4455;\n",
       "      fill: #D2E3FC;\n",
       "    }\n",
       "\n",
       "    [theme=dark] .colab-df-convert:hover {\n",
       "      background-color: #434B5C;\n",
       "      box-shadow: 0px 1px 3px 1px rgba(0, 0, 0, 0.15);\n",
       "      filter: drop-shadow(0px 1px 2px rgba(0, 0, 0, 0.3));\n",
       "      fill: #FFFFFF;\n",
       "    }\n",
       "  </style>\n",
       "\n",
       "      <script>\n",
       "        const buttonEl =\n",
       "          document.querySelector('#df-a6622d6d-1faf-4afd-b0d8-f75dce51ff16 button.colab-df-convert');\n",
       "        buttonEl.style.display =\n",
       "          google.colab.kernel.accessAllowed ? 'block' : 'none';\n",
       "\n",
       "        async function convertToInteractive(key) {\n",
       "          const element = document.querySelector('#df-a6622d6d-1faf-4afd-b0d8-f75dce51ff16');\n",
       "          const dataTable =\n",
       "            await google.colab.kernel.invokeFunction('convertToInteractive',\n",
       "                                                     [key], {});\n",
       "          if (!dataTable) return;\n",
       "\n",
       "          const docLinkHtml = 'Like what you see? Visit the ' +\n",
       "            '<a target=\"_blank\" href=https://colab.research.google.com/notebooks/data_table.ipynb>data table notebook</a>'\n",
       "            + ' to learn more about interactive tables.';\n",
       "          element.innerHTML = '';\n",
       "          dataTable['output_type'] = 'display_data';\n",
       "          await google.colab.output.renderOutput(dataTable, element);\n",
       "          const docLink = document.createElement('div');\n",
       "          docLink.innerHTML = docLinkHtml;\n",
       "          element.appendChild(docLink);\n",
       "        }\n",
       "      </script>\n",
       "    </div>\n",
       "  </div>\n",
       "  "
      ],
      "text/plain": [
       "      session_id candidate_item  label  co_visit_weight_last1  \\\n",
       "0  train_1111417     B084QJGSVH      1                   3.95   \n",
       "1  train_1111418     B08NY8NLGS      1                   0.00   \n",
       "2  train_1111419     B09VXJ3V1R      1                   0.65   \n",
       "3  train_1111420     B07GH48D5P      1                   3.00   \n",
       "4  train_1111422     B08WK59CM6      1                   0.00   \n",
       "\n",
       "   consective_1_weight_last1  consective_3_weight_last1  \\\n",
       "0                          1                          2   \n",
       "1                          0                          0   \n",
       "2                          0                          0   \n",
       "3                          1                          1   \n",
       "4                          0                          0   \n",
       "\n",
       "   consective_5_weight_last1  similarity_score_last1  bert_distance_last1  \\\n",
       "0                          4                0.705215             0.202256   \n",
       "1                          0                0.677728             0.140590   \n",
       "2                          0                0.377794             0.245923   \n",
       "3                          1                0.983818             0.000000   \n",
       "4                          0                0.000000            -1.000000   \n",
       "\n",
       "   lift_last1  ...  SP_same_material_sum  SP_same_author_sum  imf_similarity  \\\n",
       "0    0.242190  ...                     0                   1        0.033607   \n",
       "1    0.000000  ...                     0                   0        0.047032   \n",
       "2    0.017931  ...                     0                   0        0.170699   \n",
       "3    0.369274  ...                     3                   0        0.253944   \n",
       "4    0.000000  ...                     0                   0        0.037218   \n",
       "\n",
       "   bpr_similarity  graph_emb_similarity_last1  graph_emb_similarity_last2  \\\n",
       "0             0.0                    0.639501                    0.342910   \n",
       "1             0.0                    0.913188                    0.909147   \n",
       "2             0.0                    0.709090                    0.706344   \n",
       "3             0.0                    0.930691                    0.881341   \n",
       "4             0.0                    0.075622                    0.783394   \n",
       "\n",
       "   graph_emb_similarity_last3  i2v_similarity_last1  i2v_similarity_last2  \\\n",
       "0                   -1.000000              0.834130              0.859668   \n",
       "1                    0.913188              0.915032              0.910090   \n",
       "2                    0.722743              0.789686              0.774387   \n",
       "3                    0.840828              0.982889              0.918730   \n",
       "4                   -1.000000              0.877571              0.891324   \n",
       "\n",
       "   i2v_similarity_last3  \n",
       "0             -1.000000  \n",
       "1              0.915032  \n",
       "2              0.793378  \n",
       "3              0.930656  \n",
       "4             -1.000000  \n",
       "\n",
       "[5 rows x 134 columns]"
      ]
     },
     "execution_count": 20,
     "metadata": {},
     "output_type": "execute_result"
    }
   ],
   "source": [
    "train.head()"
   ]
  },
  {
   "cell_type": "code",
   "execution_count": null,
   "metadata": {
    "colab": {
     "base_uri": "https://localhost:8080/"
    },
    "executionInfo": {
     "elapsed": 9241002,
     "status": "ok",
     "timestamp": 1686233203503,
     "user": {
      "displayName": "chimuichimu",
      "userId": "08341172728947671838"
     },
     "user_tz": -540
    },
    "id": "q2dmxExBXYl8",
    "outputId": "e08519cd-28b4-4e31-df28-1cf8f8c0fc52"
   },
   "outputs": [
    {
     "name": "stdout",
     "output_type": "stream",
     "text": [
      "Fold 1\n",
      "[LightGBM] [Warning] Auto-choosing row-wise multi-threading, the overhead of testing was 6.235068 seconds.\n",
      "You can set `force_row_wise=true` to remove the overhead.\n",
      "And if memory is not enough, you can set `force_col_wise=true`.\n",
      "[LightGBM] [Info] Total Bins 18062\n",
      "[LightGBM] [Info] Number of data points in the train set: 81777256, number of used features: 130\n",
      "Training until validation scores don't improve for 50 rounds\n",
      "[100]\ttraining's ndcg@20: 0.776727\tvalid_1's ndcg@20: 0.777129\n",
      "[200]\ttraining's ndcg@20: 0.781901\tvalid_1's ndcg@20: 0.78178\n",
      "[300]\ttraining's ndcg@20: 0.784421\tvalid_1's ndcg@20: 0.783831\n",
      "[400]\ttraining's ndcg@20: 0.786032\tvalid_1's ndcg@20: 0.784976\n",
      "[500]\ttraining's ndcg@20: 0.787287\tvalid_1's ndcg@20: 0.785703\n",
      "[600]\ttraining's ndcg@20: 0.788332\tvalid_1's ndcg@20: 0.786121\n",
      "[700]\ttraining's ndcg@20: 0.789274\tvalid_1's ndcg@20: 0.786382\n",
      "[800]\ttraining's ndcg@20: 0.790106\tvalid_1's ndcg@20: 0.786601\n",
      "[900]\ttraining's ndcg@20: 0.790917\tvalid_1's ndcg@20: 0.786813\n",
      "[1000]\ttraining's ndcg@20: 0.791693\tvalid_1's ndcg@20: 0.786982\n",
      "[1100]\ttraining's ndcg@20: 0.792406\tvalid_1's ndcg@20: 0.787131\n",
      "[1200]\ttraining's ndcg@20: 0.793032\tvalid_1's ndcg@20: 0.78727\n",
      "[1300]\ttraining's ndcg@20: 0.793679\tvalid_1's ndcg@20: 0.787359\n",
      "[1400]\ttraining's ndcg@20: 0.794274\tvalid_1's ndcg@20: 0.787455\n",
      "[1500]\ttraining's ndcg@20: 0.794886\tvalid_1's ndcg@20: 0.787534\n",
      "Early stopping, best iteration is:\n",
      "[1461]\ttraining's ndcg@20: 0.794663\tvalid_1's ndcg@20: 0.787543\n",
      "Fold 2\n",
      "[LightGBM] [Warning] Auto-choosing row-wise multi-threading, the overhead of testing was 5.763884 seconds.\n",
      "You can set `force_row_wise=true` to remove the overhead.\n",
      "And if memory is not enough, you can set `force_col_wise=true`.\n",
      "[LightGBM] [Info] Total Bins 18108\n",
      "[LightGBM] [Info] Number of data points in the train set: 81777256, number of used features: 130\n",
      "Training until validation scores don't improve for 50 rounds\n",
      "[100]\ttraining's ndcg@20: 0.777349\tvalid_1's ndcg@20: 0.775967\n",
      "[200]\ttraining's ndcg@20: 0.78241\tvalid_1's ndcg@20: 0.780661\n",
      "[300]\ttraining's ndcg@20: 0.784925\tvalid_1's ndcg@20: 0.78267\n",
      "[400]\ttraining's ndcg@20: 0.786564\tvalid_1's ndcg@20: 0.783799\n",
      "[500]\ttraining's ndcg@20: 0.787807\tvalid_1's ndcg@20: 0.784548\n",
      "[600]\ttraining's ndcg@20: 0.788845\tvalid_1's ndcg@20: 0.785021\n",
      "[700]\ttraining's ndcg@20: 0.789764\tvalid_1's ndcg@20: 0.785359\n",
      "[800]\ttraining's ndcg@20: 0.79062\tvalid_1's ndcg@20: 0.78563\n",
      "[900]\ttraining's ndcg@20: 0.791468\tvalid_1's ndcg@20: 0.785824\n",
      "[1000]\ttraining's ndcg@20: 0.792232\tvalid_1's ndcg@20: 0.786007\n",
      "[1100]\ttraining's ndcg@20: 0.79295\tvalid_1's ndcg@20: 0.786121\n",
      "[1200]\ttraining's ndcg@20: 0.793639\tvalid_1's ndcg@20: 0.786308\n",
      "[1300]\ttraining's ndcg@20: 0.794287\tvalid_1's ndcg@20: 0.786462\n",
      "[1400]\ttraining's ndcg@20: 0.79497\tvalid_1's ndcg@20: 0.786552\n",
      "[1500]\ttraining's ndcg@20: 0.79561\tvalid_1's ndcg@20: 0.786638\n",
      "[1600]\ttraining's ndcg@20: 0.796201\tvalid_1's ndcg@20: 0.786715\n",
      "[1700]\ttraining's ndcg@20: 0.796801\tvalid_1's ndcg@20: 0.786785\n",
      "[1800]\ttraining's ndcg@20: 0.797344\tvalid_1's ndcg@20: 0.786874\n",
      "[1900]\ttraining's ndcg@20: 0.797901\tvalid_1's ndcg@20: 0.786945\n",
      "[2000]\ttraining's ndcg@20: 0.798402\tvalid_1's ndcg@20: 0.786993\n",
      "[2100]\ttraining's ndcg@20: 0.798925\tvalid_1's ndcg@20: 0.787035\n",
      "[2200]\ttraining's ndcg@20: 0.799372\tvalid_1's ndcg@20: 0.787071\n",
      "[2300]\ttraining's ndcg@20: 0.799904\tvalid_1's ndcg@20: 0.787132\n",
      "[2400]\ttraining's ndcg@20: 0.800421\tvalid_1's ndcg@20: 0.787191\n",
      "[2500]\ttraining's ndcg@20: 0.800934\tvalid_1's ndcg@20: 0.787273\n",
      "Early stopping, best iteration is:\n",
      "[2492]\ttraining's ndcg@20: 0.800903\tvalid_1's ndcg@20: 0.787286\n",
      "Fold 3\n",
      "[LightGBM] [Warning] Auto-choosing row-wise multi-threading, the overhead of testing was 5.986675 seconds.\n",
      "You can set `force_row_wise=true` to remove the overhead.\n",
      "And if memory is not enough, you can set `force_col_wise=true`.\n",
      "[LightGBM] [Info] Total Bins 18063\n",
      "[LightGBM] [Info] Number of data points in the train set: 81777250, number of used features: 130\n",
      "Training until validation scores don't improve for 50 rounds\n",
      "[100]\ttraining's ndcg@20: 0.777205\tvalid_1's ndcg@20: 0.776295\n",
      "[200]\ttraining's ndcg@20: 0.78233\tvalid_1's ndcg@20: 0.781079\n",
      "[300]\ttraining's ndcg@20: 0.784741\tvalid_1's ndcg@20: 0.783107\n",
      "[400]\ttraining's ndcg@20: 0.786353\tvalid_1's ndcg@20: 0.784195\n",
      "[500]\ttraining's ndcg@20: 0.787611\tvalid_1's ndcg@20: 0.784938\n",
      "[600]\ttraining's ndcg@20: 0.788643\tvalid_1's ndcg@20: 0.785403\n",
      "[700]\ttraining's ndcg@20: 0.789566\tvalid_1's ndcg@20: 0.785695\n",
      "[800]\ttraining's ndcg@20: 0.790403\tvalid_1's ndcg@20: 0.785965\n",
      "[900]\ttraining's ndcg@20: 0.791188\tvalid_1's ndcg@20: 0.786189\n",
      "[1000]\ttraining's ndcg@20: 0.792037\tvalid_1's ndcg@20: 0.786371\n",
      "[1100]\ttraining's ndcg@20: 0.79277\tvalid_1's ndcg@20: 0.786486\n",
      "[1200]\ttraining's ndcg@20: 0.793456\tvalid_1's ndcg@20: 0.786608\n",
      "[1300]\ttraining's ndcg@20: 0.794129\tvalid_1's ndcg@20: 0.786714\n",
      "[1400]\ttraining's ndcg@20: 0.794735\tvalid_1's ndcg@20: 0.786807\n",
      "[1500]\ttraining's ndcg@20: 0.795282\tvalid_1's ndcg@20: 0.786873\n",
      "[1600]\ttraining's ndcg@20: 0.795785\tvalid_1's ndcg@20: 0.786938\n",
      "[1700]\ttraining's ndcg@20: 0.796335\tvalid_1's ndcg@20: 0.787005\n",
      "[1800]\ttraining's ndcg@20: 0.796908\tvalid_1's ndcg@20: 0.787108\n",
      "[1900]\ttraining's ndcg@20: 0.797447\tvalid_1's ndcg@20: 0.78718\n",
      "[2000]\ttraining's ndcg@20: 0.797997\tvalid_1's ndcg@20: 0.787251\n",
      "[2100]\ttraining's ndcg@20: 0.79851\tvalid_1's ndcg@20: 0.787316\n",
      "Early stopping, best iteration is:\n",
      "[2067]\ttraining's ndcg@20: 0.798358\tvalid_1's ndcg@20: 0.787338\n",
      "CPU times: user 5d 14h 55min 58s, sys: 11min 26s, total: 5d 15h 7min 24s\n",
      "Wall time: 3h 45min 50s\n"
     ]
    },
    {
     "data": {
      "text/plain": [
       "[Text(0.5, 1.0, 'Feature Importance TOP25')]"
      ]
     },
     "execution_count": 21,
     "metadata": {},
     "output_type": "execute_result"
    },
    {
     "data": {
      "image/png": "[encoded data removed]",
      "text/plain": [
       "<Figure size 640x480 with 1 Axes>"
      ]
     },
     "metadata": {},
     "output_type": "display_data"
    }
   ],
   "source": [
    "%%time\n",
    "# train lgbm model\n",
    "feat_imp = train_lgb_model(train)\n",
    "\n",
    "# visualize feature importances\n",
    "fi_df = pd.DataFrame(index=USE_FEATURES)\n",
    "fi_df[\"importance\"] = feat_imp / K_FOLDS\n",
    "fi_df = fi_df.sort_values(by=\"importance\", ascending=False).head(25)\n",
    "sns.barplot(x=\"importance\", y=fi_df.index, data=fi_df).set(title=\"Feature Importance TOP25\")"
   ]
  },
  {
   "cell_type": "code",
   "execution_count": null,
   "metadata": {
    "id": "ZmM2tz-LsSTK"
   },
   "outputs": [],
   "source": []
  }
 ],
 "metadata": {
  "colab": {
   "machine_shape": "hm",
   "provenance": []
  },
  "gpuClass": "standard",
  "kernelspec": {
   "display_name": "Python 3",
   "name": "python3"
  },
  "language_info": {
   "name": "python"
  }
 },
 "nbformat": 4,
 "nbformat_minor": 0
}
