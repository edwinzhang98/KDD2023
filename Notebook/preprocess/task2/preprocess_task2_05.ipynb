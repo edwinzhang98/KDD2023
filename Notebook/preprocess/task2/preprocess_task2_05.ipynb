{
 "cells": [
  {
   "cell_type": "code",
   "execution_count": null,
   "metadata": {
    "colab": {
     "base_uri": "https://localhost:8080/"
    },
    "executionInfo": {
     "elapsed": 22334,
     "status": "ok",
     "timestamp": 1702867149395,
     "user": {
      "displayName": "pp rich",
      "userId": "00371241177131396451"
     },
     "user_tz": -480
    },
    "id": "jDnrNw8paoV-",
    "outputId": "baa83cbf-acbf-4a8a-9585-e19c360689cc"
   },
   "outputs": [
    {
     "name": "stdout",
     "output_type": "stream",
     "text": [
      "Mounted at /content/drive\n"
     ]
    }
   ],
   "source": [
    "from google.colab import drive\n",
    "drive.mount('/content/drive')"
   ]
  },
  {
   "cell_type": "code",
   "execution_count": null,
   "metadata": {
    "colab": {
     "base_uri": "https://localhost:8080/"
    },
    "executionInfo": {
     "elapsed": 6851,
     "status": "ok",
     "timestamp": 1702867193153,
     "user": {
      "displayName": "pp rich",
      "userId": "00371241177131396451"
     },
     "user_tz": -480
    },
    "id": "NkUF1u-Nbahy",
    "outputId": "cc795b78-8ac2-4ad7-a9d3-f26d7510a080"
   },
   "outputs": [
    {
     "name": "stdout",
     "output_type": "stream",
     "text": [
      "Requirement already satisfied: polars in /usr/local/lib/python3.10/dist-packages (0.17.3)\n",
      "Requirement already satisfied: typing_extensions>=4.0.1 in /usr/local/lib/python3.10/dist-packages (from polars) (4.5.0)\n"
     ]
    }
   ],
   "source": [
    "!pip install polars"
   ]
  },
  {
   "cell_type": "code",
   "execution_count": null,
   "metadata": {
    "id": "JHcOx0KpbevL"
   },
   "outputs": [],
   "source": [
    "from collections import defaultdict, Counter\n",
    "from typing import List, Dict\n",
    "\n",
    "from tqdm import tqdm\n",
    "import pandas as pd\n",
    "import polars as pl"
   ]
  },
  {
   "cell_type": "code",
   "execution_count": null,
   "metadata": {
    "id": "_9vqNHp7bf1M"
   },
   "outputs": [],
   "source": [
    "train = pd.read_csv(\"/content/drive/MyDrive/kddcup2023/data/raw/sessions_train.csv\")\n",
    "test1 = pd.read_csv(\"/content/drive/MyDrive/kddcup2023/data/raw/sessions_test_task2_phase1.csv\")\n",
    "test2 = pd.read_csv(\"/content/drive/MyDrive/kddcup2023/data/raw/sessions_test_task2.csv\")\n",
    "\n",
    "train = pl.from_pandas(train)\n",
    "test1 = pl.from_pandas(test1)\n",
    "test2 = pl.from_pandas(test2)"
   ]
  },
  {
   "cell_type": "code",
   "execution_count": null,
   "metadata": {
    "id": "vAJkPcvYbh1c"
   },
   "outputs": [],
   "source": [
    "LOCALES = [\"FR\", \"ES\", \"IT\"]\n",
    "train = train.filter(pl.col(\"locale\").is_in(LOCALES))\n",
    "test1 = test1.filter(pl.col(\"locale\").is_in(LOCALES))\n",
    "test2 = test2.filter(pl.col(\"locale\").is_in(LOCALES))"
   ]
  },
  {
   "cell_type": "code",
   "execution_count": null,
   "metadata": {
    "id": "43cyPQUobqsf"
   },
   "outputs": [],
   "source": [
    "# get prev_items\n",
    "def str2list(s):\n",
    "    s = s.replace(\"[\", \"\").replace(\"]\", \"\").replace(\"'\", \"\").replace(\"\\n\", \" \").replace(\"\\r\", \" \")\n",
    "    s = s.split() # split\n",
    "    return s\n",
    "\n",
    "train = train.with_columns(pl.col(\"prev_items\").apply(str2list).alias(\"prev_items\"))\n",
    "test1 = test1.with_columns(pl.col(\"prev_items\").apply(str2list).alias(\"prev_items\"))\n",
    "test2 = test2.with_columns(pl.col(\"prev_items\").apply(str2list).alias(\"prev_items\"))"
   ]
  },
  {
   "cell_type": "code",
   "execution_count": null,
   "metadata": {
    "id": "mhCLAnUSKrsd"
   },
   "outputs": [],
   "source": [
    "# get session_id\n",
    "train = train.with_columns(pl.Series(name=\"session_id\", values=[\"train_\" + str(i) for i in range(len(train))]))\n",
    "test1 = test1.with_columns(pl.Series(name=\"session_id\", values=[\"test_phase1_\" + str(i) for i in range(len(test1))]))\n",
    "test2 = test2.with_columns(pl.Series(name=\"session_id\", values=[\"test_phase2_\" + str(i) for i in range(len(test2))]))"
   ]
  },
  {
   "cell_type": "code",
   "execution_count": null,
   "metadata": {
    "colab": {
     "base_uri": "https://localhost:8080/",
     "height": 255
    },
    "executionInfo": {
     "elapsed": 10,
     "status": "ok",
     "timestamp": 1702867222886,
     "user": {
      "displayName": "pp rich",
      "userId": "00371241177131396451"
     },
     "user_tz": -480
    },
    "id": "WKkR0uMDcM6T",
    "outputId": "c3d3d582-f7fc-411e-cd40-34fc24bcc75d"
   },
   "outputs": [
    {
     "data": {
      "text/html": [
       "<div><style>\n",
       ".dataframe > thead > tr > th,\n",
       ".dataframe > tbody > tr > td {\n",
       "  text-align: right;\n",
       "}\n",
       "</style>\n",
       "<small>shape: (5, 4)</small><table border=\"1\" class=\"dataframe\"><thead><tr><th>prev_items</th><th>next_item</th><th>locale</th><th>session_id</th></tr><tr><td>list[str]</td><td>str</td><td>str</td><td>str</td></tr></thead><tbody><tr><td>[&quot;B08MV5B53K&quot;, &quot;B08MV4RCQR&quot;, &quot;B08MV5B53K&quot;]</td><td>&quot;B012408XPC&quot;</td><td>&quot;ES&quot;</td><td>&quot;train_0&quot;</td></tr><tr><td>[&quot;B07JGW4QWX&quot;, &quot;B085VCXHXL&quot;]</td><td>&quot;B07JFPYN5P&quot;</td><td>&quot;ES&quot;</td><td>&quot;train_1&quot;</td></tr><tr><td>[&quot;B08BFQ52PR&quot;, &quot;B08LVSTZVF&quot;, &quot;B08BFQ52PR&quot;]</td><td>&quot;B08NJP3KT6&quot;</td><td>&quot;ES&quot;</td><td>&quot;train_2&quot;</td></tr><tr><td>[&quot;B08PPBF9C6&quot;, &quot;B08PPBF9C6&quot;, … &quot;B08PPBF9C6&quot;]</td><td>&quot;B08PP6BLLK&quot;</td><td>&quot;ES&quot;</td><td>&quot;train_3&quot;</td></tr><tr><td>[&quot;B0B6W67XCR&quot;, &quot;B0B712FY2M&quot;, &quot;B0B6ZYJ3S2&quot;]</td><td>&quot;B09SL4MBM2&quot;</td><td>&quot;ES&quot;</td><td>&quot;train_4&quot;</td></tr></tbody></table></div>"
      ],
      "text/plain": [
       "shape: (5, 4)\n",
       "┌───────────────────────────────────┬────────────┬────────┬────────────┐\n",
       "│ prev_items                        ┆ next_item  ┆ locale ┆ session_id │\n",
       "│ ---                               ┆ ---        ┆ ---    ┆ ---        │\n",
       "│ list[str]                         ┆ str        ┆ str    ┆ str        │\n",
       "╞═══════════════════════════════════╪════════════╪════════╪════════════╡\n",
       "│ [\"B08MV5B53K\", \"B08MV4RCQR\", \"B0… ┆ B012408XPC ┆ ES     ┆ train_0    │\n",
       "│ [\"B07JGW4QWX\", \"B085VCXHXL\"]      ┆ B07JFPYN5P ┆ ES     ┆ train_1    │\n",
       "│ [\"B08BFQ52PR\", \"B08LVSTZVF\", \"B0… ┆ B08NJP3KT6 ┆ ES     ┆ train_2    │\n",
       "│ [\"B08PPBF9C6\", \"B08PPBF9C6\", … \"… ┆ B08PP6BLLK ┆ ES     ┆ train_3    │\n",
       "│ [\"B0B6W67XCR\", \"B0B712FY2M\", \"B0… ┆ B09SL4MBM2 ┆ ES     ┆ train_4    │\n",
       "└───────────────────────────────────┴────────────┴────────┴────────────┘"
      ]
     },
     "execution_count": 8,
     "metadata": {},
     "output_type": "execute_result"
    }
   ],
   "source": [
    "train.head()"
   ]
  },
  {
   "cell_type": "code",
   "execution_count": null,
   "metadata": {
    "colab": {
     "base_uri": "https://localhost:8080/",
     "height": 380
    },
    "executionInfo": {
     "elapsed": 8,
     "status": "ok",
     "timestamp": 1702867222886,
     "user": {
      "displayName": "pp rich",
      "userId": "00371241177131396451"
     },
     "user_tz": -480
    },
    "id": "CbDPxazB57jT",
    "outputId": "a85ab10e-0162-458c-ce06-8f8a0bf513d8"
   },
   "outputs": [
    {
     "data": {
      "text/html": [
       "<div><style>\n",
       ".dataframe > thead > tr > th,\n",
       ".dataframe > tbody > tr > td {\n",
       "  text-align: right;\n",
       "}\n",
       "</style>\n",
       "<small>shape: (9, 5)</small><table border=\"1\" class=\"dataframe\"><thead><tr><th>describe</th><th>prev_items</th><th>next_item</th><th>locale</th><th>session_id</th></tr><tr><td>str</td><td>str</td><td>str</td><td>str</td><td>str</td></tr></thead><tbody><tr><td>&quot;count&quot;</td><td>&quot;333533&quot;</td><td>&quot;333533&quot;</td><td>&quot;333533&quot;</td><td>&quot;333533&quot;</td></tr><tr><td>&quot;null_count&quot;</td><td>&quot;0&quot;</td><td>&quot;0&quot;</td><td>&quot;0&quot;</td><td>&quot;0&quot;</td></tr><tr><td>&quot;mean&quot;</td><td>null</td><td>null</td><td>null</td><td>null</td></tr><tr><td>&quot;std&quot;</td><td>null</td><td>null</td><td>null</td><td>null</td></tr><tr><td>&quot;min&quot;</td><td>null</td><td>&quot;0007477155&quot;</td><td>&quot;ES&quot;</td><td>&quot;train_0&quot;</td></tr><tr><td>&quot;max&quot;</td><td>null</td><td>&quot;B0BL7HFKVT&quot;</td><td>&quot;IT&quot;</td><td>&quot;train_99999&quot;</td></tr><tr><td>&quot;median&quot;</td><td>null</td><td>null</td><td>null</td><td>null</td></tr><tr><td>&quot;25%&quot;</td><td>null</td><td>null</td><td>null</td><td>null</td></tr><tr><td>&quot;75%&quot;</td><td>null</td><td>null</td><td>null</td><td>null</td></tr></tbody></table></div>"
      ],
      "text/plain": [
       "shape: (9, 5)\n",
       "┌────────────┬────────────┬────────────┬────────┬─────────────┐\n",
       "│ describe   ┆ prev_items ┆ next_item  ┆ locale ┆ session_id  │\n",
       "│ ---        ┆ ---        ┆ ---        ┆ ---    ┆ ---         │\n",
       "│ str        ┆ str        ┆ str        ┆ str    ┆ str         │\n",
       "╞════════════╪════════════╪════════════╪════════╪═════════════╡\n",
       "│ count      ┆ 333533     ┆ 333533     ┆ 333533 ┆ 333533      │\n",
       "│ null_count ┆ 0          ┆ 0          ┆ 0      ┆ 0           │\n",
       "│ mean       ┆ null       ┆ null       ┆ null   ┆ null        │\n",
       "│ std        ┆ null       ┆ null       ┆ null   ┆ null        │\n",
       "│ min        ┆ null       ┆ 0007477155 ┆ ES     ┆ train_0     │\n",
       "│ max        ┆ null       ┆ B0BL7HFKVT ┆ IT     ┆ train_99999 │\n",
       "│ median     ┆ null       ┆ null       ┆ null   ┆ null        │\n",
       "│ 25%        ┆ null       ┆ null       ┆ null   ┆ null        │\n",
       "│ 75%        ┆ null       ┆ null       ┆ null   ┆ null        │\n",
       "└────────────┴────────────┴────────────┴────────┴─────────────┘"
      ]
     },
     "execution_count": 9,
     "metadata": {},
     "output_type": "execute_result"
    }
   ],
   "source": [
    "train.describe()"
   ]
  },
  {
   "cell_type": "code",
   "execution_count": null,
   "metadata": {
    "colab": {
     "base_uri": "https://localhost:8080/",
     "height": 255
    },
    "executionInfo": {
     "elapsed": 8,
     "status": "ok",
     "timestamp": 1702867222886,
     "user": {
      "displayName": "pp rich",
      "userId": "00371241177131396451"
     },
     "user_tz": -480
    },
    "id": "6DVE1ncEd-Uq",
    "outputId": "c332843f-dde3-4670-8edf-45a9fc5a41be"
   },
   "outputs": [
    {
     "data": {
      "text/html": [
       "<div><style>\n",
       ".dataframe > thead > tr > th,\n",
       ".dataframe > tbody > tr > td {\n",
       "  text-align: right;\n",
       "}\n",
       "</style>\n",
       "<small>shape: (5, 3)</small><table border=\"1\" class=\"dataframe\"><thead><tr><th>prev_items</th><th>locale</th><th>session_id</th></tr><tr><td>list[str]</td><td>str</td><td>str</td></tr></thead><tbody><tr><td>[&quot;B08GYKNCCP&quot;, &quot;B08HCPTMJG&quot;, &quot;B08HCHS64Y&quot;]</td><td>&quot;ES&quot;</td><td>&quot;test_phase1_0&quot;</td></tr><tr><td>[&quot;B08NYF9MBQ&quot;, &quot;B085NGXGWM&quot;]</td><td>&quot;ES&quot;</td><td>&quot;test_phase1_1&quot;</td></tr><tr><td>[&quot;B091FL1QFK&quot;, &quot;B0B1DG29F4&quot;]</td><td>&quot;ES&quot;</td><td>&quot;test_phase1_2&quot;</td></tr><tr><td>[&quot;B004APAHCW&quot;, &quot;B07JMF49HN&quot;, … &quot;B07JMF49HN&quot;]</td><td>&quot;ES&quot;</td><td>&quot;test_phase1_3&quot;</td></tr><tr><td>[&quot;B09YM11D4T&quot;, &quot;B0B12QWP5G&quot;, … &quot;B07N8N6C85&quot;]</td><td>&quot;ES&quot;</td><td>&quot;test_phase1_4&quot;</td></tr></tbody></table></div>"
      ],
      "text/plain": [
       "shape: (5, 3)\n",
       "┌───────────────────────────────────┬────────┬───────────────┐\n",
       "│ prev_items                        ┆ locale ┆ session_id    │\n",
       "│ ---                               ┆ ---    ┆ ---           │\n",
       "│ list[str]                         ┆ str    ┆ str           │\n",
       "╞═══════════════════════════════════╪════════╪═══════════════╡\n",
       "│ [\"B08GYKNCCP\", \"B08HCPTMJG\", \"B0… ┆ ES     ┆ test_phase1_0 │\n",
       "│ [\"B08NYF9MBQ\", \"B085NGXGWM\"]      ┆ ES     ┆ test_phase1_1 │\n",
       "│ [\"B091FL1QFK\", \"B0B1DG29F4\"]      ┆ ES     ┆ test_phase1_2 │\n",
       "│ [\"B004APAHCW\", \"B07JMF49HN\", … \"… ┆ ES     ┆ test_phase1_3 │\n",
       "│ [\"B09YM11D4T\", \"B0B12QWP5G\", … \"… ┆ ES     ┆ test_phase1_4 │\n",
       "└───────────────────────────────────┴────────┴───────────────┘"
      ]
     },
     "execution_count": 10,
     "metadata": {},
     "output_type": "execute_result"
    }
   ],
   "source": [
    "test1.head()"
   ]
  },
  {
   "cell_type": "code",
   "execution_count": null,
   "metadata": {
    "colab": {
     "base_uri": "https://localhost:8080/",
     "height": 380
    },
    "executionInfo": {
     "elapsed": 8,
     "status": "ok",
     "timestamp": 1702867222886,
     "user": {
      "displayName": "pp rich",
      "userId": "00371241177131396451"
     },
     "user_tz": -480
    },
    "id": "ujEpCwdi5VIr",
    "outputId": "669a069c-7a98-4ffd-a34b-f2a2569a0935"
   },
   "outputs": [
    {
     "data": {
      "text/html": [
       "<div><style>\n",
       ".dataframe > thead > tr > th,\n",
       ".dataframe > tbody > tr > td {\n",
       "  text-align: right;\n",
       "}\n",
       "</style>\n",
       "<small>shape: (9, 4)</small><table border=\"1\" class=\"dataframe\"><thead><tr><th>describe</th><th>prev_items</th><th>locale</th><th>session_id</th></tr><tr><td>str</td><td>str</td><td>str</td><td>str</td></tr></thead><tbody><tr><td>&quot;count&quot;</td><td>&quot;34688&quot;</td><td>&quot;34688&quot;</td><td>&quot;34688&quot;</td></tr><tr><td>&quot;null_count&quot;</td><td>&quot;0&quot;</td><td>&quot;0&quot;</td><td>&quot;0&quot;</td></tr><tr><td>&quot;mean&quot;</td><td>null</td><td>null</td><td>null</td></tr><tr><td>&quot;std&quot;</td><td>null</td><td>null</td><td>null</td></tr><tr><td>&quot;min&quot;</td><td>null</td><td>&quot;ES&quot;</td><td>&quot;test_phase1_0&quot;</td></tr><tr><td>&quot;max&quot;</td><td>null</td><td>&quot;IT&quot;</td><td>&quot;test_phase1_99…</td></tr><tr><td>&quot;median&quot;</td><td>null</td><td>null</td><td>null</td></tr><tr><td>&quot;25%&quot;</td><td>null</td><td>null</td><td>null</td></tr><tr><td>&quot;75%&quot;</td><td>null</td><td>null</td><td>null</td></tr></tbody></table></div>"
      ],
      "text/plain": [
       "shape: (9, 4)\n",
       "┌────────────┬────────────┬────────┬──────────────────┐\n",
       "│ describe   ┆ prev_items ┆ locale ┆ session_id       │\n",
       "│ ---        ┆ ---        ┆ ---    ┆ ---              │\n",
       "│ str        ┆ str        ┆ str    ┆ str              │\n",
       "╞════════════╪════════════╪════════╪══════════════════╡\n",
       "│ count      ┆ 34688      ┆ 34688  ┆ 34688            │\n",
       "│ null_count ┆ 0          ┆ 0      ┆ 0                │\n",
       "│ mean       ┆ null       ┆ null   ┆ null             │\n",
       "│ std        ┆ null       ┆ null   ┆ null             │\n",
       "│ min        ┆ null       ┆ ES     ┆ test_phase1_0    │\n",
       "│ max        ┆ null       ┆ IT     ┆ test_phase1_9999 │\n",
       "│ median     ┆ null       ┆ null   ┆ null             │\n",
       "│ 25%        ┆ null       ┆ null   ┆ null             │\n",
       "│ 75%        ┆ null       ┆ null   ┆ null             │\n",
       "└────────────┴────────────┴────────┴──────────────────┘"
      ]
     },
     "execution_count": 11,
     "metadata": {},
     "output_type": "execute_result"
    }
   ],
   "source": [
    "test1.describe()"
   ]
  },
  {
   "cell_type": "code",
   "execution_count": null,
   "metadata": {
    "colab": {
     "base_uri": "https://localhost:8080/",
     "height": 255
    },
    "executionInfo": {
     "elapsed": 7,
     "status": "ok",
     "timestamp": 1702867222886,
     "user": {
      "displayName": "pp rich",
      "userId": "00371241177131396451"
     },
     "user_tz": -480
    },
    "id": "iaGKXK2h6CTE",
    "outputId": "0c6b5c1a-f7d4-447b-f79c-b1912bde82e9"
   },
   "outputs": [
    {
     "data": {
      "text/html": [
       "<div><style>\n",
       ".dataframe > thead > tr > th,\n",
       ".dataframe > tbody > tr > td {\n",
       "  text-align: right;\n",
       "}\n",
       "</style>\n",
       "<small>shape: (5, 3)</small><table border=\"1\" class=\"dataframe\"><thead><tr><th>prev_items</th><th>locale</th><th>session_id</th></tr><tr><td>list[str]</td><td>str</td><td>str</td></tr></thead><tbody><tr><td>[&quot;B07GTS7SWK&quot;, &quot;B07GTS7SWK&quot;]</td><td>&quot;ES&quot;</td><td>&quot;test_phase2_0&quot;</td></tr><tr><td>[&quot;B0B33YWVHR&quot;, &quot;849988993X&quot;, … &quot;B09K7TDY1H&quot;]</td><td>&quot;ES&quot;</td><td>&quot;test_phase2_1&quot;</td></tr><tr><td>[&quot;B08FMPXDTJ&quot;, &quot;B0B4612MTM&quot;, … &quot;B0B45YR21M&quot;]</td><td>&quot;ES&quot;</td><td>&quot;test_phase2_2&quot;</td></tr><tr><td>[&quot;B07R3W4XQ7&quot;, &quot;B07R3FB5B5&quot;]</td><td>&quot;ES&quot;</td><td>&quot;test_phase2_3&quot;</td></tr><tr><td>[&quot;B09V4KBWPL&quot;, &quot;B09G9FTLPB&quot;]</td><td>&quot;ES&quot;</td><td>&quot;test_phase2_4&quot;</td></tr></tbody></table></div>"
      ],
      "text/plain": [
       "shape: (5, 3)\n",
       "┌───────────────────────────────────┬────────┬───────────────┐\n",
       "│ prev_items                        ┆ locale ┆ session_id    │\n",
       "│ ---                               ┆ ---    ┆ ---           │\n",
       "│ list[str]                         ┆ str    ┆ str           │\n",
       "╞═══════════════════════════════════╪════════╪═══════════════╡\n",
       "│ [\"B07GTS7SWK\", \"B07GTS7SWK\"]      ┆ ES     ┆ test_phase2_0 │\n",
       "│ [\"B0B33YWVHR\", \"849988993X\", … \"… ┆ ES     ┆ test_phase2_1 │\n",
       "│ [\"B08FMPXDTJ\", \"B0B4612MTM\", … \"… ┆ ES     ┆ test_phase2_2 │\n",
       "│ [\"B07R3W4XQ7\", \"B07R3FB5B5\"]      ┆ ES     ┆ test_phase2_3 │\n",
       "│ [\"B09V4KBWPL\", \"B09G9FTLPB\"]      ┆ ES     ┆ test_phase2_4 │\n",
       "└───────────────────────────────────┴────────┴───────────────┘"
      ]
     },
     "execution_count": 12,
     "metadata": {},
     "output_type": "execute_result"
    }
   ],
   "source": [
    "test2.head()"
   ]
  },
  {
   "cell_type": "code",
   "execution_count": null,
   "metadata": {
    "colab": {
     "base_uri": "https://localhost:8080/",
     "height": 380
    },
    "executionInfo": {
     "elapsed": 7,
     "status": "ok",
     "timestamp": 1702867222886,
     "user": {
      "displayName": "pp rich",
      "userId": "00371241177131396451"
     },
     "user_tz": -480
    },
    "id": "DHsj5N_A6CXH",
    "outputId": "3e041b19-fd0c-42ec-9d10-972642430c7b"
   },
   "outputs": [
    {
     "data": {
      "text/html": [
       "<div><style>\n",
       ".dataframe > thead > tr > th,\n",
       ".dataframe > tbody > tr > td {\n",
       "  text-align: right;\n",
       "}\n",
       "</style>\n",
       "<small>shape: (9, 4)</small><table border=\"1\" class=\"dataframe\"><thead><tr><th>describe</th><th>prev_items</th><th>locale</th><th>session_id</th></tr><tr><td>str</td><td>str</td><td>str</td><td>str</td></tr></thead><tbody><tr><td>&quot;count&quot;</td><td>&quot;34690&quot;</td><td>&quot;34690&quot;</td><td>&quot;34690&quot;</td></tr><tr><td>&quot;null_count&quot;</td><td>&quot;0&quot;</td><td>&quot;0&quot;</td><td>&quot;0&quot;</td></tr><tr><td>&quot;mean&quot;</td><td>null</td><td>null</td><td>null</td></tr><tr><td>&quot;std&quot;</td><td>null</td><td>null</td><td>null</td></tr><tr><td>&quot;min&quot;</td><td>null</td><td>&quot;ES&quot;</td><td>&quot;test_phase2_0&quot;</td></tr><tr><td>&quot;max&quot;</td><td>null</td><td>&quot;IT&quot;</td><td>&quot;test_phase2_99…</td></tr><tr><td>&quot;median&quot;</td><td>null</td><td>null</td><td>null</td></tr><tr><td>&quot;25%&quot;</td><td>null</td><td>null</td><td>null</td></tr><tr><td>&quot;75%&quot;</td><td>null</td><td>null</td><td>null</td></tr></tbody></table></div>"
      ],
      "text/plain": [
       "shape: (9, 4)\n",
       "┌────────────┬────────────┬────────┬──────────────────┐\n",
       "│ describe   ┆ prev_items ┆ locale ┆ session_id       │\n",
       "│ ---        ┆ ---        ┆ ---    ┆ ---              │\n",
       "│ str        ┆ str        ┆ str    ┆ str              │\n",
       "╞════════════╪════════════╪════════╪══════════════════╡\n",
       "│ count      ┆ 34690      ┆ 34690  ┆ 34690            │\n",
       "│ null_count ┆ 0          ┆ 0      ┆ 0                │\n",
       "│ mean       ┆ null       ┆ null   ┆ null             │\n",
       "│ std        ┆ null       ┆ null   ┆ null             │\n",
       "│ min        ┆ null       ┆ ES     ┆ test_phase2_0    │\n",
       "│ max        ┆ null       ┆ IT     ┆ test_phase2_9999 │\n",
       "│ median     ┆ null       ┆ null   ┆ null             │\n",
       "│ 25%        ┆ null       ┆ null   ┆ null             │\n",
       "│ 75%        ┆ null       ┆ null   ┆ null             │\n",
       "└────────────┴────────────┴────────┴──────────────────┘"
      ]
     },
     "execution_count": 13,
     "metadata": {},
     "output_type": "execute_result"
    }
   ],
   "source": [
    "test2.describe()"
   ]
  },
  {
   "cell_type": "code",
   "execution_count": null,
   "metadata": {
    "id": "O-DxS2o4eNUs"
   },
   "outputs": [],
   "source": [
    "train.write_parquet(\"/content/drive/MyDrive/kddcup2023/data/preprocessed/task2/train_task2.parquet\")"
   ]
  },
  {
   "cell_type": "code",
   "execution_count": null,
   "metadata": {
    "id": "CkBGU5Gb40YP"
   },
   "outputs": [],
   "source": [
    "test1.write_parquet(\"/content/drive/MyDrive/kddcup2023/data/preprocessed/task2/test_task2_phase1.parquet\")"
   ]
  },
  {
   "cell_type": "code",
   "execution_count": null,
   "metadata": {
    "id": "nNKsh6yao1ws"
   },
   "outputs": [],
   "source": [
    "test2.write_parquet(\"/content/drive/MyDrive/kddcup2023/data/preprocessed/task2/test_task2_phase2.parquet\")"
   ]
  },
  {
   "cell_type": "code",
   "execution_count": null,
   "metadata": {
    "id": "VlGb6sQy6Ru9"
   },
   "outputs": [],
   "source": []
  }
 ],
 "metadata": {
  "colab": {
   "provenance": []
  },
  "kernelspec": {
   "display_name": "Python 3",
   "name": "python3"
  },
  "language_info": {
   "name": "python"
  }
 },
 "nbformat": 4,
 "nbformat_minor": 0
}
