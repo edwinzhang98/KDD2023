{
 "cells": [
  {
   "cell_type": "code",
   "execution_count": null,
   "metadata": {
    "colab": {
     "base_uri": "https://localhost:8080/"
    },
    "executionInfo": {
     "elapsed": 17800,
     "status": "ok",
     "timestamp": 1702867258824,
     "user": {
      "displayName": "pp rich",
      "userId": "00371241177131396451"
     },
     "user_tz": -480
    },
    "id": "jDnrNw8paoV-",
    "outputId": "bf746122-caa7-4aeb-b776-7806d8f584ae"
   },
   "outputs": [
    {
     "name": "stdout",
     "output_type": "stream",
     "text": [
      "Mounted at /content/drive\n"
     ]
    }
   ],
   "source": [
    "from google.colab import drive\n",
    "drive.mount('/content/drive')"
   ]
  },
  {
   "cell_type": "code",
   "execution_count": null,
   "metadata": {
    "colab": {
     "base_uri": "https://localhost:8080/"
    },
    "executionInfo": {
     "elapsed": 6543,
     "status": "ok",
     "timestamp": 1702867291407,
     "user": {
      "displayName": "pp rich",
      "userId": "00371241177131396451"
     },
     "user_tz": -480
    },
    "id": "NkUF1u-Nbahy",
    "outputId": "3a2014fe-f4c1-444b-904d-f204737e5f72"
   },
   "outputs": [
    {
     "name": "stdout",
     "output_type": "stream",
     "text": [
      "Requirement already satisfied: polars in /usr/local/lib/python3.10/dist-packages (0.17.3)\n",
      "Requirement already satisfied: typing_extensions>=4.0.1 in /usr/local/lib/python3.10/dist-packages (from polars) (4.5.0)\n"
     ]
    }
   ],
   "source": [
    "!pip install polars"
   ]
  },
  {
   "cell_type": "code",
   "execution_count": null,
   "metadata": {
    "id": "JHcOx0KpbevL"
   },
   "outputs": [],
   "source": [
    "from collections import defaultdict, Counter\n",
    "from typing import List, Dict\n",
    "\n",
    "from tqdm import tqdm\n",
    "import pandas as pd\n",
    "import polars as pl"
   ]
  },
  {
   "cell_type": "code",
   "execution_count": null,
   "metadata": {
    "id": "Qn6Pwz_eMmIZ"
   },
   "outputs": [],
   "source": [
    "LOCALES = [\"FR\", \"ES\", \"IT\"]"
   ]
  },
  {
   "cell_type": "code",
   "execution_count": null,
   "metadata": {
    "id": "_9vqNHp7bf1M"
   },
   "outputs": [],
   "source": [
    "train = pd.read_csv(\"/content/drive/MyDrive/kddcup2023/data/raw/sessions_train.csv\")\n",
    "test = pd.concat([\n",
    "    pd.read_csv(\"/content/drive/MyDrive/kddcup2023/data/raw/sessions_test_task2_phase1.csv\"),\n",
    "    pd.read_csv(\"/content/drive/MyDrive/kddcup2023/data/raw/sessions_test_task2.csv\"),\n",
    "    pd.read_csv(\"/content/drive/MyDrive/kddcup2023/data/raw/sessions_test_task3_phase1.csv\"),\n",
    "    pd.read_csv(\"/content/drive/MyDrive/kddcup2023/data/raw/sessions_test_task3.csv\"),\n",
    "])\n",
    "train = train[train[\"locale\"].isin(LOCALES)]\n",
    "test = test[test[\"locale\"].isin(LOCALES)]\n",
    "train = pl.from_pandas(train)\n",
    "test = pl.from_pandas(test)"
   ]
  },
  {
   "cell_type": "code",
   "execution_count": null,
   "metadata": {
    "id": "YUnwwv84crPU"
   },
   "outputs": [],
   "source": [
    "# prev_items\n",
    "def str2list(s):\n",
    "    s = s.replace(\"[\", \"\").replace(\"]\", \"\").replace(\"'\", \"\").replace(\"\\n\", \" \").replace(\"\\r\", \" \")\n",
    "    s = s.split()\n",
    "    return s\n",
    "\n",
    "train = train.with_columns(pl.col(\"prev_items\").apply(str2list).alias(\"prev_items\"))\n",
    "test = test.with_columns(pl.col(\"prev_items\").apply(str2list).alias(\"prev_items\"))"
   ]
  },
  {
   "cell_type": "code",
   "execution_count": null,
   "metadata": {
    "colab": {
     "base_uri": "https://localhost:8080/"
    },
    "executionInfo": {
     "elapsed": 9,
     "status": "ok",
     "timestamp": 1702867307625,
     "user": {
      "displayName": "pp rich",
      "userId": "00371241177131396451"
     },
     "user_tz": -480
    },
    "id": "En6qfwMvTjJv",
    "outputId": "3ff540d4-0aff-48e2-ab4e-c17d4edcab4d"
   },
   "outputs": [
    {
     "name": "stdout",
     "output_type": "stream",
     "text": [
      "333533\n",
      "122221\n"
     ]
    }
   ],
   "source": [
    "print(len(train))\n",
    "print(len(test))"
   ]
  },
  {
   "cell_type": "code",
   "execution_count": null,
   "metadata": {
    "id": "T-BySbinI5nD"
   },
   "outputs": [],
   "source": [
    "# Add test data to train\n",
    "\n",
    "# Condition 1: Number of sessions is more than 3\n",
    "# Condition 2: Last item is not interacted with.\n",
    "test = test.with_columns(\n",
    "    pl.col(\"prev_items\").apply(len).alias(\"session_count\")\n",
    ")\n",
    "prev_items_list = test[\"prev_items\"].to_list()\n",
    "next_item_list = []\n",
    "prev_items_list_updated = []\n",
    "for prev_items in prev_items_list:\n",
    "    next_item_list.append(prev_items[-1])\n",
    "    prev_items_list_updated.append(prev_items[:-1])\n",
    "test = test.with_columns([\n",
    "    pl.Series(name=\"next_item\", values=next_item_list),\n",
    "    pl.Series(name=\"prev_items_updated\", values=prev_items_list_updated),\n",
    "])\n",
    "\n",
    "test_add_to_train = test.filter(\n",
    "    (pl.col(\"session_count\") >= 3) &\n",
    "    (~pl.col(\"next_item\").is_in(pl.col(\"prev_items_updated\")))\n",
    ")\n",
    "test_add_to_train = test_add_to_train[[\"prev_items_updated\", \"next_item\", \"locale\"]]\n",
    "test_add_to_train = test_add_to_train.rename({\"prev_items_updated\":\"prev_items\"})\n",
    "\n",
    "test_not_add_to_train = test.filter(\n",
    "    (pl.col(\"session_count\") < 3) |\n",
    "    (pl.col(\"next_item\").is_in(pl.col(\"prev_items_updated\")))\n",
    ")\n",
    "test_not_add_to_train = test_not_add_to_train[[\"prev_items\", \"locale\"]]"
   ]
  },
  {
   "cell_type": "code",
   "execution_count": null,
   "metadata": {
    "colab": {
     "base_uri": "https://localhost:8080/"
    },
    "executionInfo": {
     "elapsed": 4,
     "status": "ok",
     "timestamp": 1702867309292,
     "user": {
      "displayName": "pp rich",
      "userId": "00371241177131396451"
     },
     "user_tz": -480
    },
    "id": "lcvGG-81Tmnu",
    "outputId": "5f19cd73-1f6b-445c-fbfa-2c85d4f93f3b"
   },
   "outputs": [
    {
     "name": "stdout",
     "output_type": "stream",
     "text": [
      "49557\n",
      "72664\n"
     ]
    }
   ],
   "source": [
    "assert len(test_add_to_train) + len(test_not_add_to_train) == len(test)\n",
    "print(len(test_add_to_train))\n",
    "print(len(test_not_add_to_train))"
   ]
  },
  {
   "cell_type": "code",
   "execution_count": null,
   "metadata": {
    "colab": {
     "base_uri": "https://localhost:8080/"
    },
    "executionInfo": {
     "elapsed": 2,
     "status": "ok",
     "timestamp": 1702867309292,
     "user": {
      "displayName": "pp rich",
      "userId": "00371241177131396451"
     },
     "user_tz": -480
    },
    "id": "GnHL_d1gI5sC",
    "outputId": "9de37a1b-274d-47d4-b731-0a7412f577b6"
   },
   "outputs": [
    {
     "name": "stdout",
     "output_type": "stream",
     "text": [
      "test追加前 333533\n",
      "test追加後 383090\n"
     ]
    }
   ],
   "source": [
    "print(\"test追加前\", len(train))\n",
    "train = pl.concat([train, test_add_to_train])\n",
    "print(\"test追加后\", len(train))"
   ]
  },
  {
   "cell_type": "code",
   "execution_count": null,
   "metadata": {
    "id": "IBqOjVzId94n"
   },
   "outputs": [],
   "source": [
    "# session_id\n",
    "train = train.with_columns(pl.Series(name=\"session_id\", values=[\"train_\" + str(i) for i in range(len(train))]))\n",
    "test_not_add_to_train = test_not_add_to_train.with_columns(pl.Series(name=\"session_id\", values=[\"test_leftover_\" + str(i) for i in range(len(test_not_add_to_train))]))"
   ]
  },
  {
   "cell_type": "code",
   "execution_count": null,
   "metadata": {
    "colab": {
     "base_uri": "https://localhost:8080/",
     "height": 255
    },
    "executionInfo": {
     "elapsed": 7,
     "status": "ok",
     "timestamp": 1702867309905,
     "user": {
      "displayName": "pp rich",
      "userId": "00371241177131396451"
     },
     "user_tz": -480
    },
    "id": "Coem0STeTIaH",
    "outputId": "f7b90de7-12b7-453c-cadb-d5d1eac416f4"
   },
   "outputs": [
    {
     "data": {
      "text/html": [
       "<div><style>\n",
       ".dataframe > thead > tr > th,\n",
       ".dataframe > tbody > tr > td {\n",
       "  text-align: right;\n",
       "}\n",
       "</style>\n",
       "<small>shape: (5, 4)</small><table border=\"1\" class=\"dataframe\"><thead><tr><th>prev_items</th><th>next_item</th><th>locale</th><th>session_id</th></tr><tr><td>list[str]</td><td>str</td><td>str</td><td>str</td></tr></thead><tbody><tr><td>[&quot;B08MV5B53K&quot;, &quot;B08MV4RCQR&quot;, &quot;B08MV5B53K&quot;]</td><td>&quot;B012408XPC&quot;</td><td>&quot;ES&quot;</td><td>&quot;train_0&quot;</td></tr><tr><td>[&quot;B07JGW4QWX&quot;, &quot;B085VCXHXL&quot;]</td><td>&quot;B07JFPYN5P&quot;</td><td>&quot;ES&quot;</td><td>&quot;train_1&quot;</td></tr><tr><td>[&quot;B08BFQ52PR&quot;, &quot;B08LVSTZVF&quot;, &quot;B08BFQ52PR&quot;]</td><td>&quot;B08NJP3KT6&quot;</td><td>&quot;ES&quot;</td><td>&quot;train_2&quot;</td></tr><tr><td>[&quot;B08PPBF9C6&quot;, &quot;B08PPBF9C6&quot;, … &quot;B08PPBF9C6&quot;]</td><td>&quot;B08PP6BLLK&quot;</td><td>&quot;ES&quot;</td><td>&quot;train_3&quot;</td></tr><tr><td>[&quot;B0B6W67XCR&quot;, &quot;B0B712FY2M&quot;, &quot;B0B6ZYJ3S2&quot;]</td><td>&quot;B09SL4MBM2&quot;</td><td>&quot;ES&quot;</td><td>&quot;train_4&quot;</td></tr></tbody></table></div>"
      ],
      "text/plain": [
       "shape: (5, 4)\n",
       "┌───────────────────────────────────┬────────────┬────────┬────────────┐\n",
       "│ prev_items                        ┆ next_item  ┆ locale ┆ session_id │\n",
       "│ ---                               ┆ ---        ┆ ---    ┆ ---        │\n",
       "│ list[str]                         ┆ str        ┆ str    ┆ str        │\n",
       "╞═══════════════════════════════════╪════════════╪════════╪════════════╡\n",
       "│ [\"B08MV5B53K\", \"B08MV4RCQR\", \"B0… ┆ B012408XPC ┆ ES     ┆ train_0    │\n",
       "│ [\"B07JGW4QWX\", \"B085VCXHXL\"]      ┆ B07JFPYN5P ┆ ES     ┆ train_1    │\n",
       "│ [\"B08BFQ52PR\", \"B08LVSTZVF\", \"B0… ┆ B08NJP3KT6 ┆ ES     ┆ train_2    │\n",
       "│ [\"B08PPBF9C6\", \"B08PPBF9C6\", … \"… ┆ B08PP6BLLK ┆ ES     ┆ train_3    │\n",
       "│ [\"B0B6W67XCR\", \"B0B712FY2M\", \"B0… ┆ B09SL4MBM2 ┆ ES     ┆ train_4    │\n",
       "└───────────────────────────────────┴────────────┴────────┴────────────┘"
      ]
     },
     "execution_count": 12,
     "metadata": {},
     "output_type": "execute_result"
    }
   ],
   "source": [
    "train.head()"
   ]
  },
  {
   "cell_type": "code",
   "execution_count": null,
   "metadata": {
    "colab": {
     "base_uri": "https://localhost:8080/",
     "height": 255
    },
    "executionInfo": {
     "elapsed": 6,
     "status": "ok",
     "timestamp": 1702867309905,
     "user": {
      "displayName": "pp rich",
      "userId": "00371241177131396451"
     },
     "user_tz": -480
    },
    "id": "yCS9rabcU3UT",
    "outputId": "481863e3-ef65-4d07-ead3-2ff14934283c"
   },
   "outputs": [
    {
     "data": {
      "text/html": [
       "<div><style>\n",
       ".dataframe > thead > tr > th,\n",
       ".dataframe > tbody > tr > td {\n",
       "  text-align: right;\n",
       "}\n",
       "</style>\n",
       "<small>shape: (5, 3)</small><table border=\"1\" class=\"dataframe\"><thead><tr><th>prev_items</th><th>next_item</th><th>locale</th></tr><tr><td>list[str]</td><td>str</td><td>str</td></tr></thead><tbody><tr><td>[&quot;B08GYKNCCP&quot;, &quot;B08HCPTMJG&quot;]</td><td>&quot;B08HCHS64Y&quot;</td><td>&quot;ES&quot;</td></tr><tr><td>[&quot;B09YM11D4T&quot;, &quot;B0B12QWP5G&quot;, … &quot;B0B12QWP5G&quot;]</td><td>&quot;B07N8N6C85&quot;</td><td>&quot;ES&quot;</td></tr><tr><td>[&quot;B08D9PKL3W&quot;, &quot;B09CQ72HCJ&quot;, &quot;B09CQ7H87G&quot;]</td><td>&quot;B08D9PGC9P&quot;</td><td>&quot;ES&quot;</td></tr><tr><td>[&quot;B0B9ZW2RPV&quot;, &quot;B08DKFQFJH&quot;]</td><td>&quot;B07ZKKZXCX&quot;</td><td>&quot;ES&quot;</td></tr><tr><td>[&quot;B08MFH1TTJ&quot;, &quot;B08MFDT65P&quot;, &quot;B0968HW8GY&quot;]</td><td>&quot;B0968HFSMH&quot;</td><td>&quot;ES&quot;</td></tr></tbody></table></div>"
      ],
      "text/plain": [
       "shape: (5, 3)\n",
       "┌───────────────────────────────────┬────────────┬────────┐\n",
       "│ prev_items                        ┆ next_item  ┆ locale │\n",
       "│ ---                               ┆ ---        ┆ ---    │\n",
       "│ list[str]                         ┆ str        ┆ str    │\n",
       "╞═══════════════════════════════════╪════════════╪════════╡\n",
       "│ [\"B08GYKNCCP\", \"B08HCPTMJG\"]      ┆ B08HCHS64Y ┆ ES     │\n",
       "│ [\"B09YM11D4T\", \"B0B12QWP5G\", … \"… ┆ B07N8N6C85 ┆ ES     │\n",
       "│ [\"B08D9PKL3W\", \"B09CQ72HCJ\", \"B0… ┆ B08D9PGC9P ┆ ES     │\n",
       "│ [\"B0B9ZW2RPV\", \"B08DKFQFJH\"]      ┆ B07ZKKZXCX ┆ ES     │\n",
       "│ [\"B08MFH1TTJ\", \"B08MFDT65P\", \"B0… ┆ B0968HFSMH ┆ ES     │\n",
       "└───────────────────────────────────┴────────────┴────────┘"
      ]
     },
     "execution_count": 13,
     "metadata": {},
     "output_type": "execute_result"
    }
   ],
   "source": [
    "test_add_to_train.head()"
   ]
  },
  {
   "cell_type": "code",
   "execution_count": null,
   "metadata": {
    "colab": {
     "base_uri": "https://localhost:8080/",
     "height": 255
    },
    "executionInfo": {
     "elapsed": 5,
     "status": "ok",
     "timestamp": 1702867309905,
     "user": {
      "displayName": "pp rich",
      "userId": "00371241177131396451"
     },
     "user_tz": -480
    },
    "id": "BTVcs6R7U3W4",
    "outputId": "b77ced56-6739-4ec7-e658-8894edec9d49"
   },
   "outputs": [
    {
     "data": {
      "text/html": [
       "<div><style>\n",
       ".dataframe > thead > tr > th,\n",
       ".dataframe > tbody > tr > td {\n",
       "  text-align: right;\n",
       "}\n",
       "</style>\n",
       "<small>shape: (5, 3)</small><table border=\"1\" class=\"dataframe\"><thead><tr><th>prev_items</th><th>locale</th><th>session_id</th></tr><tr><td>list[str]</td><td>str</td><td>str</td></tr></thead><tbody><tr><td>[&quot;B08NYF9MBQ&quot;, &quot;B085NGXGWM&quot;]</td><td>&quot;ES&quot;</td><td>&quot;test_leftover_…</td></tr><tr><td>[&quot;B091FL1QFK&quot;, &quot;B0B1DG29F4&quot;]</td><td>&quot;ES&quot;</td><td>&quot;test_leftover_…</td></tr><tr><td>[&quot;B004APAHCW&quot;, &quot;B07JMF49HN&quot;, … &quot;B07JMF49HN&quot;]</td><td>&quot;ES&quot;</td><td>&quot;test_leftover_…</td></tr><tr><td>[&quot;B07TX86KFZ&quot;, &quot;B0882ZCHMW&quot;, &quot;B07TX86KFZ&quot;]</td><td>&quot;ES&quot;</td><td>&quot;test_leftover_…</td></tr><tr><td>[&quot;B08FJ3MR54&quot;, &quot;B0BBM523JX&quot;]</td><td>&quot;ES&quot;</td><td>&quot;test_leftover_…</td></tr></tbody></table></div>"
      ],
      "text/plain": [
       "shape: (5, 3)\n",
       "┌───────────────────────────────────┬────────┬─────────────────┐\n",
       "│ prev_items                        ┆ locale ┆ session_id      │\n",
       "│ ---                               ┆ ---    ┆ ---             │\n",
       "│ list[str]                         ┆ str    ┆ str             │\n",
       "╞═══════════════════════════════════╪════════╪═════════════════╡\n",
       "│ [\"B08NYF9MBQ\", \"B085NGXGWM\"]      ┆ ES     ┆ test_leftover_0 │\n",
       "│ [\"B091FL1QFK\", \"B0B1DG29F4\"]      ┆ ES     ┆ test_leftover_1 │\n",
       "│ [\"B004APAHCW\", \"B07JMF49HN\", … \"… ┆ ES     ┆ test_leftover_2 │\n",
       "│ [\"B07TX86KFZ\", \"B0882ZCHMW\", \"B0… ┆ ES     ┆ test_leftover_3 │\n",
       "│ [\"B08FJ3MR54\", \"B0BBM523JX\"]      ┆ ES     ┆ test_leftover_4 │\n",
       "└───────────────────────────────────┴────────┴─────────────────┘"
      ]
     },
     "execution_count": 14,
     "metadata": {},
     "output_type": "execute_result"
    }
   ],
   "source": [
    "test_not_add_to_train.head()"
   ]
  },
  {
   "cell_type": "code",
   "execution_count": null,
   "metadata": {
    "id": "O-DxS2o4eNUs"
   },
   "outputs": [],
   "source": [
    "train.write_parquet(\"/content/drive/MyDrive/kddcup2023/data/preprocessed/task2/train_task2_augmented.parquet\")"
   ]
  },
  {
   "cell_type": "code",
   "execution_count": null,
   "metadata": {
    "id": "mhLwrrXNsBhJ"
   },
   "outputs": [],
   "source": [
    "test_not_add_to_train.write_parquet(\"/content/drive/MyDrive/kddcup2023/data/preprocessed/task2/test_task2_leftover.parquet\")"
   ]
  },
  {
   "cell_type": "code",
   "execution_count": null,
   "metadata": {
    "id": "8_SIIXKpWR_y"
   },
   "outputs": [],
   "source": []
  }
 ],
 "metadata": {
  "colab": {
   "machine_shape": "hm",
   "provenance": []
  },
  "gpuClass": "standard",
  "kernelspec": {
   "display_name": "Python 3",
   "name": "python3"
  },
  "language_info": {
   "name": "python"
  }
 },
 "nbformat": 4,
 "nbformat_minor": 0
}
