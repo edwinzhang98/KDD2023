{
 "cells": [
  {
   "cell_type": "code",
   "execution_count": null,
   "metadata": {
    "colab": {
     "base_uri": "https://localhost:8080/"
    },
    "executionInfo": {
     "elapsed": 22705,
     "status": "ok",
     "timestamp": 1702224209880,
     "user": {
      "displayName": "pp rich",
      "userId": "00371241177131396451"
     },
     "user_tz": -480
    },
    "id": "jDnrNw8paoV-",
    "outputId": "bcff4b1b-5397-4e48-ad43-b5c4b83e3f2c"
   },
   "outputs": [
    {
     "name": "stdout",
     "output_type": "stream",
     "text": [
      "Mounted at /content/drive\n"
     ]
    }
   ],
   "source": [
    "from google.colab import drive\n",
    "drive.mount('/content/drive')"
   ]
  },
  {
   "cell_type": "code",
   "execution_count": null,
   "metadata": {
    "colab": {
     "base_uri": "https://localhost:8080/"
    },
    "executionInfo": {
     "elapsed": 11558,
     "status": "ok",
     "timestamp": 1702224221435,
     "user": {
      "displayName": "pp rich",
      "userId": "00371241177131396451"
     },
     "user_tz": -480
    },
    "id": "NkUF1u-Nbahy",
    "outputId": "343882fc-d462-4bfa-c773-3680a4a321dc"
   },
   "outputs": [
    {
     "name": "stdout",
     "output_type": "stream",
     "text": [
      "Requirement already satisfied: polars in /usr/local/lib/python3.10/dist-packages (0.17.3)\n",
      "Requirement already satisfied: typing_extensions>=4.0.1 in /usr/local/lib/python3.10/dist-packages (from polars) (4.5.0)\n"
     ]
    }
   ],
   "source": [
    "!pip install polars"
   ]
  },
  {
   "cell_type": "code",
   "execution_count": null,
   "metadata": {
    "id": "JHcOx0KpbevL"
   },
   "outputs": [],
   "source": [
    "from collections import defaultdict, Counter\n",
    "from typing import List, Dict\n",
    "\n",
    "from tqdm import tqdm\n",
    "import polars as pl\n",
    "import pandas as pd"
   ]
  },
  {
   "cell_type": "code",
   "execution_count": null,
   "metadata": {
    "id": "K9CHWupe7ydv"
   },
   "outputs": [],
   "source": [
    "train = pd.read_csv(\"/content/drive/MyDrive/kddcup2023/data/raw/sessions_train.csv\")\n",
    "test1 = pd.read_csv(\"/content/drive/MyDrive/kddcup2023/data/raw/sessions_test_task3_phase1.csv\")\n",
    "test2 = pd.read_csv(\"/content/drive/MyDrive/kddcup2023/data/raw/sessions_test_task3.csv\")\n",
    "\n",
    "train = pl.from_pandas(train)\n",
    "test1 = pl.from_pandas(test1)\n",
    "test2 = pl.from_pandas(test2)"
   ]
  },
  {
   "cell_type": "code",
   "execution_count": null,
   "metadata": {
    "id": "43cyPQUobqsf"
   },
   "outputs": [],
   "source": [
    "def str2list(s):\n",
    "    s = s.replace(\"[\", \"\").replace(\"]\", \"\").replace(\"'\", \"\").replace(\"\\n\", \" \").replace(\"\\r\", \" \")\n",
    "    s = s.split()\n",
    "    return s\n",
    "\n",
    "train = train.with_columns(pl.col(\"prev_items\").apply(str2list).alias(\"prev_items\"))\n",
    "test1 = test1.with_columns(pl.col(\"prev_items\").apply(str2list).alias(\"prev_items\"))\n",
    "test2 = test2.with_columns(pl.col(\"prev_items\").apply(str2list).alias(\"prev_items\"))"
   ]
  },
  {
   "cell_type": "code",
   "execution_count": null,
   "metadata": {
    "id": "mhCLAnUSKrsd"
   },
   "outputs": [],
   "source": [
    "train = train.with_columns(pl.Series(name=\"session_id\", values=[\"train_\" + str(i) for i in range(len(train))]))\n",
    "test1 = test1.with_columns(pl.Series(name=\"session_id\", values=[\"test_phase1_\" + str(i) for i in range(len(test1))]))\n",
    "test2 = test2.with_columns(pl.Series(name=\"session_id\", values=[\"test_phase2_\" + str(i) for i in range(len(test2))]))"
   ]
  },
  {
   "cell_type": "code",
   "execution_count": null,
   "metadata": {
    "colab": {
     "base_uri": "https://localhost:8080/",
     "height": 255
    },
    "executionInfo": {
     "elapsed": 5,
     "status": "ok",
     "timestamp": 1702224322484,
     "user": {
      "displayName": "pp rich",
      "userId": "00371241177131396451"
     },
     "user_tz": -480
    },
    "id": "WKkR0uMDcM6T",
    "outputId": "5144d5e7-9814-4e85-ec62-e137b955d81c"
   },
   "outputs": [
    {
     "data": {
      "text/html": [
       "<div><style>\n",
       ".dataframe > thead > tr > th,\n",
       ".dataframe > tbody > tr > td {\n",
       "  text-align: right;\n",
       "}\n",
       "</style>\n",
       "<small>shape: (5, 4)</small><table border=\"1\" class=\"dataframe\"><thead><tr><th>prev_items</th><th>next_item</th><th>locale</th><th>session_id</th></tr><tr><td>list[str]</td><td>str</td><td>str</td><td>str</td></tr></thead><tbody><tr><td>[&quot;B09W9FND7K&quot;, &quot;B09JSPLN1M&quot;]</td><td>&quot;B09M7GY217&quot;</td><td>&quot;DE&quot;</td><td>&quot;train_0&quot;</td></tr><tr><td>[&quot;B076THCGSG&quot;, &quot;B007MO8IME&quot;, … &quot;B001B4TKA0&quot;]</td><td>&quot;B001B4THSA&quot;</td><td>&quot;DE&quot;</td><td>&quot;train_1&quot;</td></tr><tr><td>[&quot;B0B1LGXWDS&quot;, &quot;B00AZYORS2&quot;, … &quot;B00AZYORS2&quot;]</td><td>&quot;B0767DTG2Q&quot;</td><td>&quot;DE&quot;</td><td>&quot;train_2&quot;</td></tr><tr><td>[&quot;B09XMTWDVT&quot;, &quot;B0B4MZZ8MB&quot;, … &quot;B0B71CHT1L&quot;]</td><td>&quot;B0B4R9NN4B&quot;</td><td>&quot;DE&quot;</td><td>&quot;train_3&quot;</td></tr><tr><td>[&quot;B09Y5CSL3T&quot;, &quot;B09Y5DPTXN&quot;, &quot;B09FKD61R8&quot;]</td><td>&quot;B0BGVBKWGZ&quot;</td><td>&quot;DE&quot;</td><td>&quot;train_4&quot;</td></tr></tbody></table></div>"
      ],
      "text/plain": [
       "shape: (5, 4)\n",
       "┌───────────────────────────────────┬────────────┬────────┬────────────┐\n",
       "│ prev_items                        ┆ next_item  ┆ locale ┆ session_id │\n",
       "│ ---                               ┆ ---        ┆ ---    ┆ ---        │\n",
       "│ list[str]                         ┆ str        ┆ str    ┆ str        │\n",
       "╞═══════════════════════════════════╪════════════╪════════╪════════════╡\n",
       "│ [\"B09W9FND7K\", \"B09JSPLN1M\"]      ┆ B09M7GY217 ┆ DE     ┆ train_0    │\n",
       "│ [\"B076THCGSG\", \"B007MO8IME\", … \"… ┆ B001B4THSA ┆ DE     ┆ train_1    │\n",
       "│ [\"B0B1LGXWDS\", \"B00AZYORS2\", … \"… ┆ B0767DTG2Q ┆ DE     ┆ train_2    │\n",
       "│ [\"B09XMTWDVT\", \"B0B4MZZ8MB\", … \"… ┆ B0B4R9NN4B ┆ DE     ┆ train_3    │\n",
       "│ [\"B09Y5CSL3T\", \"B09Y5DPTXN\", \"B0… ┆ B0BGVBKWGZ ┆ DE     ┆ train_4    │\n",
       "└───────────────────────────────────┴────────────┴────────┴────────────┘"
      ]
     },
     "execution_count": 7,
     "metadata": {},
     "output_type": "execute_result"
    }
   ],
   "source": [
    "train.head()"
   ]
  },
  {
   "cell_type": "code",
   "execution_count": null,
   "metadata": {
    "id": "O-DxS2o4eNUs"
   },
   "outputs": [],
   "source": [
    "train.write_parquet(\"/content/drive/MyDrive/kddcup2023/data/preprocessed/task3/train_task3.parquet\")"
   ]
  },
  {
   "cell_type": "code",
   "execution_count": null,
   "metadata": {
    "id": "ViX9kcnr8GvX"
   },
   "outputs": [],
   "source": [
    "test1.write_parquet(\"/content/drive/MyDrive/kddcup2023/data/preprocessed/task3/test_task3_phase1.parquet\")"
   ]
  },
  {
   "cell_type": "code",
   "execution_count": null,
   "metadata": {
    "id": "nNKsh6yao1ws"
   },
   "outputs": [],
   "source": [
    "test2.write_parquet(\"/content/drive/MyDrive/kddcup2023/data/preprocessed/task3/test_task3_phase2.parquet\")"
   ]
  },
  {
   "cell_type": "code",
   "execution_count": null,
   "metadata": {
    "id": "6b_97nqyJUJ9"
   },
   "outputs": [],
   "source": []
  }
 ],
 "metadata": {
  "colab": {
   "provenance": []
  },
  "kernelspec": {
   "display_name": "Python 3",
   "name": "python3"
  },
  "language_info": {
   "name": "python"
  }
 },
 "nbformat": 4,
 "nbformat_minor": 0
}
