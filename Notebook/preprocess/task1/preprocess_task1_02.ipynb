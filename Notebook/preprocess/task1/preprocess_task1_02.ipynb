{
 "cells": [
  {
   "cell_type": "code",
   "execution_count": null,
   "metadata": {
    "colab": {
     "base_uri": "https://localhost:8080/"
    },
    "executionInfo": {
     "elapsed": 17694,
     "status": "ok",
     "timestamp": 1684913440043,
     "user": {
      "displayName": "chimuichimu",
      "userId": "08341172728947671838"
     },
     "user_tz": -540
    },
    "id": "jDnrNw8paoV-",
    "outputId": "97ad8d87-be78-411c-9d8c-369a9fe14e34"
   },
   "outputs": [
    {
     "name": "stdout",
     "output_type": "stream",
     "text": [
      "Mounted at /gdrive\n"
     ]
    }
   ],
   "source": [
    "from google.colab import drive\n",
    "drive.mount('/content/drive')"
   ]
  },
  {
   "cell_type": "code",
   "execution_count": null,
   "metadata": {
    "colab": {
     "base_uri": "https://localhost:8080/"
    },
    "executionInfo": {
     "elapsed": 9114,
     "status": "ok",
     "timestamp": 1702222684140,
     "user": {
      "displayName": "pp rich",
      "userId": "00371241177131396451"
     },
     "user_tz": -480
    },
    "id": "NkUF1u-Nbahy",
    "outputId": "80b478ae-f277-4970-fdbd-c5dc8d734e93"
   },
   "outputs": [
    {
     "name": "stdout",
     "output_type": "stream",
     "text": [
      "Requirement already satisfied: polars in /usr/local/lib/python3.10/dist-packages (0.17.3)\n",
      "Requirement already satisfied: typing_extensions>=4.0.1 in /usr/local/lib/python3.10/dist-packages (from polars) (4.5.0)\n"
     ]
    }
   ],
   "source": [
    "!pip install polars"
   ]
  },
  {
   "cell_type": "code",
   "execution_count": null,
   "metadata": {
    "id": "JHcOx0KpbevL"
   },
   "outputs": [],
   "source": [
    "from collections import defaultdict, Counter\n",
    "from typing import List, Dict\n",
    "\n",
    "from tqdm import tqdm\n",
    "import pandas as pd\n",
    "import polars as pl"
   ]
  },
  {
   "cell_type": "code",
   "execution_count": null,
   "metadata": {
    "id": "_9vqNHp7bf1M"
   },
   "outputs": [],
   "source": [
    "train = pd.read_csv(\"/content/drive/MyDrive/kddcup2023/data/raw/sessions_train.csv\")\n",
    "test1 = pd.read_csv(\"/content/drive/MyDrive/kddcup2023/data/raw/sessions_test_task1_phase1.csv\")\n",
    "test2 = pd.read_csv(\"/content/drive/MyDrive/kddcup2023/data/raw/sessions_test_task1.csv\")\n",
    "\n",
    "train = pl.from_pandas(train)\n",
    "test1 = pl.from_pandas(test1)\n",
    "test2 = pl.from_pandas(test2)"
   ]
  },
  {
   "cell_type": "code",
   "execution_count": null,
   "metadata": {
    "id": "vAJkPcvYbh1c"
   },
   "outputs": [],
   "source": [
    "LOCALES = [\"DE\", \"UK\", \"JP\"]\n",
    "train = train.filter(pl.col(\"locale\").is_in(LOCALES))\n",
    "test1 = test1.filter(pl.col(\"locale\").is_in(LOCALES))\n",
    "test2 = test2.filter(pl.col(\"locale\").is_in(LOCALES))"
   ]
  },
  {
   "cell_type": "code",
   "execution_count": null,
   "metadata": {
    "colab": {
     "base_uri": "https://localhost:8080/"
    },
    "executionInfo": {
     "elapsed": 68335,
     "status": "ok",
     "timestamp": 1702222778649,
     "user": {
      "displayName": "pp rich",
      "userId": "00371241177131396451"
     },
     "user_tz": -480
    },
    "id": "43cyPQUobqsf",
    "outputId": "389e26b0-8132-41cc-8505-0d6c1989af12"
   },
   "outputs": [
    {
     "name": "stdout",
     "output_type": "stream",
     "text": [
      "CPU times: user 55 s, sys: 6.6 s, total: 1min 1s\n",
      "Wall time: 1min 7s\n"
     ]
    }
   ],
   "source": [
    "%%time\n",
    "def str2list(s):\n",
    "    s = s.replace(\"[\", \"\").replace(\"]\", \"\").replace(\"'\", \"\").replace(\"\\n\", \" \").replace(\"\\r\", \" \")\n",
    "    s = s.split() # \"\" split\n",
    "    return s\n",
    "\n",
    "train = train.with_columns(pl.col(\"prev_items\").apply(str2list).alias(\"prev_items\"))\n",
    "test1 = test1.with_columns(pl.col(\"prev_items\").apply(str2list).alias(\"prev_items\"))\n",
    "test2 = test2.with_columns(pl.col(\"prev_items\").apply(str2list).alias(\"prev_items\"))"
   ]
  },
  {
   "cell_type": "code",
   "execution_count": null,
   "metadata": {
    "id": "mhCLAnUSKrsd"
   },
   "outputs": [],
   "source": [
    "train = train.with_columns(pl.Series(name=\"session_id\", values=[\"train_\" + str(i) for i in range(len(train))]))\n",
    "test1 = test1.with_columns(pl.Series(name=\"session_id\", values=[\"test_phase1_\" + str(i) for i in range(len(test1))]))\n",
    "test2 = test2.with_columns(pl.Series(name=\"session_id\", values=[\"test_phase2_\" + str(i) for i in range(len(test2))]))"
   ]
  },
  {
   "cell_type": "code",
   "execution_count": null,
   "metadata": {
    "colab": {
     "base_uri": "https://localhost:8080/",
     "height": 255
    },
    "executionInfo": {
     "elapsed": 351,
     "status": "ok",
     "timestamp": 1702222790890,
     "user": {
      "displayName": "pp rich",
      "userId": "00371241177131396451"
     },
     "user_tz": -480
    },
    "id": "WKkR0uMDcM6T",
    "outputId": "5bf0f638-dc80-4de8-857f-617844b112dd"
   },
   "outputs": [
    {
     "data": {
      "text/html": [
       "<div><style>\n",
       ".dataframe > thead > tr > th,\n",
       ".dataframe > tbody > tr > td {\n",
       "  text-align: right;\n",
       "}\n",
       "</style>\n",
       "<small>shape: (5, 4)</small><table border=\"1\" class=\"dataframe\"><thead><tr><th>prev_items</th><th>next_item</th><th>locale</th><th>session_id</th></tr><tr><td>list[str]</td><td>str</td><td>str</td><td>str</td></tr></thead><tbody><tr><td>[&quot;B09W9FND7K&quot;, &quot;B09JSPLN1M&quot;]</td><td>&quot;B09M7GY217&quot;</td><td>&quot;DE&quot;</td><td>&quot;train_0&quot;</td></tr><tr><td>[&quot;B076THCGSG&quot;, &quot;B007MO8IME&quot;, … &quot;B001B4TKA0&quot;]</td><td>&quot;B001B4THSA&quot;</td><td>&quot;DE&quot;</td><td>&quot;train_1&quot;</td></tr><tr><td>[&quot;B0B1LGXWDS&quot;, &quot;B00AZYORS2&quot;, … &quot;B00AZYORS2&quot;]</td><td>&quot;B0767DTG2Q&quot;</td><td>&quot;DE&quot;</td><td>&quot;train_2&quot;</td></tr><tr><td>[&quot;B09XMTWDVT&quot;, &quot;B0B4MZZ8MB&quot;, … &quot;B0B71CHT1L&quot;]</td><td>&quot;B0B4R9NN4B&quot;</td><td>&quot;DE&quot;</td><td>&quot;train_3&quot;</td></tr><tr><td>[&quot;B09Y5CSL3T&quot;, &quot;B09Y5DPTXN&quot;, &quot;B09FKD61R8&quot;]</td><td>&quot;B0BGVBKWGZ&quot;</td><td>&quot;DE&quot;</td><td>&quot;train_4&quot;</td></tr></tbody></table></div>"
      ],
      "text/plain": [
       "shape: (5, 4)\n",
       "┌───────────────────────────────────┬────────────┬────────┬────────────┐\n",
       "│ prev_items                        ┆ next_item  ┆ locale ┆ session_id │\n",
       "│ ---                               ┆ ---        ┆ ---    ┆ ---        │\n",
       "│ list[str]                         ┆ str        ┆ str    ┆ str        │\n",
       "╞═══════════════════════════════════╪════════════╪════════╪════════════╡\n",
       "│ [\"B09W9FND7K\", \"B09JSPLN1M\"]      ┆ B09M7GY217 ┆ DE     ┆ train_0    │\n",
       "│ [\"B076THCGSG\", \"B007MO8IME\", … \"… ┆ B001B4THSA ┆ DE     ┆ train_1    │\n",
       "│ [\"B0B1LGXWDS\", \"B00AZYORS2\", … \"… ┆ B0767DTG2Q ┆ DE     ┆ train_2    │\n",
       "│ [\"B09XMTWDVT\", \"B0B4MZZ8MB\", … \"… ┆ B0B4R9NN4B ┆ DE     ┆ train_3    │\n",
       "│ [\"B09Y5CSL3T\", \"B09Y5DPTXN\", \"B0… ┆ B0BGVBKWGZ ┆ DE     ┆ train_4    │\n",
       "└───────────────────────────────────┴────────────┴────────┴────────────┘"
      ]
     },
     "execution_count": 18,
     "metadata": {},
     "output_type": "execute_result"
    }
   ],
   "source": [
    "train.head()"
   ]
  },
  {
   "cell_type": "code",
   "execution_count": null,
   "metadata": {
    "colab": {
     "base_uri": "https://localhost:8080/",
     "height": 380
    },
    "executionInfo": {
     "elapsed": 395,
     "status": "ok",
     "timestamp": 1702222810174,
     "user": {
      "displayName": "pp rich",
      "userId": "00371241177131396451"
     },
     "user_tz": -480
    },
    "id": "CbDPxazB57jT",
    "outputId": "cfa6e05b-f9d2-4dab-b33e-57f3b5583682"
   },
   "outputs": [
    {
     "data": {
      "text/html": [
       "<div><style>\n",
       ".dataframe > thead > tr > th,\n",
       ".dataframe > tbody > tr > td {\n",
       "  text-align: right;\n",
       "}\n",
       "</style>\n",
       "<small>shape: (9, 5)</small><table border=\"1\" class=\"dataframe\"><thead><tr><th>describe</th><th>prev_items</th><th>next_item</th><th>locale</th><th>session_id</th></tr><tr><td>str</td><td>str</td><td>str</td><td>str</td><td>str</td></tr></thead><tbody><tr><td>&quot;count&quot;</td><td>&quot;3272716&quot;</td><td>&quot;3272716&quot;</td><td>&quot;3272716&quot;</td><td>&quot;3272716&quot;</td></tr><tr><td>&quot;null_count&quot;</td><td>&quot;0&quot;</td><td>&quot;0&quot;</td><td>&quot;0&quot;</td><td>&quot;0&quot;</td></tr><tr><td>&quot;mean&quot;</td><td>null</td><td>null</td><td>null</td><td>null</td></tr><tr><td>&quot;std&quot;</td><td>null</td><td>null</td><td>null</td><td>null</td></tr><tr><td>&quot;min&quot;</td><td>null</td><td>&quot;000647988X&quot;</td><td>&quot;DE&quot;</td><td>&quot;train_0&quot;</td></tr><tr><td>&quot;max&quot;</td><td>null</td><td>&quot;B0BLKGX588&quot;</td><td>&quot;UK&quot;</td><td>&quot;train_999999&quot;</td></tr><tr><td>&quot;median&quot;</td><td>null</td><td>null</td><td>null</td><td>null</td></tr><tr><td>&quot;25%&quot;</td><td>null</td><td>null</td><td>null</td><td>null</td></tr><tr><td>&quot;75%&quot;</td><td>null</td><td>null</td><td>null</td><td>null</td></tr></tbody></table></div>"
      ],
      "text/plain": [
       "shape: (9, 5)\n",
       "┌────────────┬────────────┬────────────┬─────────┬──────────────┐\n",
       "│ describe   ┆ prev_items ┆ next_item  ┆ locale  ┆ session_id   │\n",
       "│ ---        ┆ ---        ┆ ---        ┆ ---     ┆ ---          │\n",
       "│ str        ┆ str        ┆ str        ┆ str     ┆ str          │\n",
       "╞════════════╪════════════╪════════════╪═════════╪══════════════╡\n",
       "│ count      ┆ 3272716    ┆ 3272716    ┆ 3272716 ┆ 3272716      │\n",
       "│ null_count ┆ 0          ┆ 0          ┆ 0       ┆ 0            │\n",
       "│ mean       ┆ null       ┆ null       ┆ null    ┆ null         │\n",
       "│ std        ┆ null       ┆ null       ┆ null    ┆ null         │\n",
       "│ min        ┆ null       ┆ 000647988X ┆ DE      ┆ train_0      │\n",
       "│ max        ┆ null       ┆ B0BLKGX588 ┆ UK      ┆ train_999999 │\n",
       "│ median     ┆ null       ┆ null       ┆ null    ┆ null         │\n",
       "│ 25%        ┆ null       ┆ null       ┆ null    ┆ null         │\n",
       "│ 75%        ┆ null       ┆ null       ┆ null    ┆ null         │\n",
       "└────────────┴────────────┴────────────┴─────────┴──────────────┘"
      ]
     },
     "execution_count": 19,
     "metadata": {},
     "output_type": "execute_result"
    }
   ],
   "source": [
    "train.describe()"
   ]
  },
  {
   "cell_type": "code",
   "execution_count": null,
   "metadata": {
    "colab": {
     "base_uri": "https://localhost:8080/",
     "height": 255
    },
    "executionInfo": {
     "elapsed": 369,
     "status": "ok",
     "timestamp": 1702222815269,
     "user": {
      "displayName": "pp rich",
      "userId": "00371241177131396451"
     },
     "user_tz": -480
    },
    "id": "6DVE1ncEd-Uq",
    "outputId": "0138e503-a907-419e-ba1a-347d38aa4100"
   },
   "outputs": [
    {
     "data": {
      "text/html": [
       "<div><style>\n",
       ".dataframe > thead > tr > th,\n",
       ".dataframe > tbody > tr > td {\n",
       "  text-align: right;\n",
       "}\n",
       "</style>\n",
       "<small>shape: (5, 3)</small><table border=\"1\" class=\"dataframe\"><thead><tr><th>prev_items</th><th>locale</th><th>session_id</th></tr><tr><td>list[str]</td><td>str</td><td>str</td></tr></thead><tbody><tr><td>[&quot;B08V12CT4C&quot;, &quot;B08V1KXBQD&quot;, … &quot;B099NQFMG7&quot;]</td><td>&quot;DE&quot;</td><td>&quot;test_phase1_0&quot;</td></tr><tr><td>[&quot;B00R9R5ND6&quot;, &quot;B00R9RZ9ZS&quot;, &quot;B00R9RZ9ZS&quot;]</td><td>&quot;DE&quot;</td><td>&quot;test_phase1_1&quot;</td></tr><tr><td>[&quot;B07YSRXJD3&quot;, &quot;B07G7Q5N6G&quot;, … &quot;B07G7Q5N6G&quot;]</td><td>&quot;DE&quot;</td><td>&quot;test_phase1_2&quot;</td></tr><tr><td>[&quot;B08KQBYV43&quot;, &quot;3955350843&quot;, … &quot;3955350843&quot;]</td><td>&quot;DE&quot;</td><td>&quot;test_phase1_3&quot;</td></tr><tr><td>[&quot;B09FPTCWMC&quot;, &quot;B09FPTQP68&quot;, … &quot;B09J945WQR&quot;]</td><td>&quot;DE&quot;</td><td>&quot;test_phase1_4&quot;</td></tr></tbody></table></div>"
      ],
      "text/plain": [
       "shape: (5, 3)\n",
       "┌───────────────────────────────────┬────────┬───────────────┐\n",
       "│ prev_items                        ┆ locale ┆ session_id    │\n",
       "│ ---                               ┆ ---    ┆ ---           │\n",
       "│ list[str]                         ┆ str    ┆ str           │\n",
       "╞═══════════════════════════════════╪════════╪═══════════════╡\n",
       "│ [\"B08V12CT4C\", \"B08V1KXBQD\", … \"… ┆ DE     ┆ test_phase1_0 │\n",
       "│ [\"B00R9R5ND6\", \"B00R9RZ9ZS\", \"B0… ┆ DE     ┆ test_phase1_1 │\n",
       "│ [\"B07YSRXJD3\", \"B07G7Q5N6G\", … \"… ┆ DE     ┆ test_phase1_2 │\n",
       "│ [\"B08KQBYV43\", \"3955350843\", … \"… ┆ DE     ┆ test_phase1_3 │\n",
       "│ [\"B09FPTCWMC\", \"B09FPTQP68\", … \"… ┆ DE     ┆ test_phase1_4 │\n",
       "└───────────────────────────────────┴────────┴───────────────┘"
      ]
     },
     "execution_count": 20,
     "metadata": {},
     "output_type": "execute_result"
    }
   ],
   "source": [
    "test1.head()"
   ]
  },
  {
   "cell_type": "code",
   "execution_count": null,
   "metadata": {
    "colab": {
     "base_uri": "https://localhost:8080/",
     "height": 380
    },
    "executionInfo": {
     "elapsed": 377,
     "status": "ok",
     "timestamp": 1702222820072,
     "user": {
      "displayName": "pp rich",
      "userId": "00371241177131396451"
     },
     "user_tz": -480
    },
    "id": "ujEpCwdi5VIr",
    "outputId": "6fc728ec-b89f-4778-e6d4-be1d72bc715e"
   },
   "outputs": [
    {
     "data": {
      "text/html": [
       "<div><style>\n",
       ".dataframe > thead > tr > th,\n",
       ".dataframe > tbody > tr > td {\n",
       "  text-align: right;\n",
       "}\n",
       "</style>\n",
       "<small>shape: (9, 4)</small><table border=\"1\" class=\"dataframe\"><thead><tr><th>describe</th><th>prev_items</th><th>locale</th><th>session_id</th></tr><tr><td>str</td><td>str</td><td>str</td><td>str</td></tr></thead><tbody><tr><td>&quot;count&quot;</td><td>&quot;316971&quot;</td><td>&quot;316971&quot;</td><td>&quot;316971&quot;</td></tr><tr><td>&quot;null_count&quot;</td><td>&quot;0&quot;</td><td>&quot;0&quot;</td><td>&quot;0&quot;</td></tr><tr><td>&quot;mean&quot;</td><td>null</td><td>null</td><td>null</td></tr><tr><td>&quot;std&quot;</td><td>null</td><td>null</td><td>null</td></tr><tr><td>&quot;min&quot;</td><td>null</td><td>&quot;DE&quot;</td><td>&quot;test_phase1_0&quot;</td></tr><tr><td>&quot;max&quot;</td><td>null</td><td>&quot;UK&quot;</td><td>&quot;test_phase1_99…</td></tr><tr><td>&quot;median&quot;</td><td>null</td><td>null</td><td>null</td></tr><tr><td>&quot;25%&quot;</td><td>null</td><td>null</td><td>null</td></tr><tr><td>&quot;75%&quot;</td><td>null</td><td>null</td><td>null</td></tr></tbody></table></div>"
      ],
      "text/plain": [
       "shape: (9, 4)\n",
       "┌────────────┬────────────┬────────┬───────────────────┐\n",
       "│ describe   ┆ prev_items ┆ locale ┆ session_id        │\n",
       "│ ---        ┆ ---        ┆ ---    ┆ ---               │\n",
       "│ str        ┆ str        ┆ str    ┆ str               │\n",
       "╞════════════╪════════════╪════════╪═══════════════════╡\n",
       "│ count      ┆ 316971     ┆ 316971 ┆ 316971            │\n",
       "│ null_count ┆ 0          ┆ 0      ┆ 0                 │\n",
       "│ mean       ┆ null       ┆ null   ┆ null              │\n",
       "│ std        ┆ null       ┆ null   ┆ null              │\n",
       "│ min        ┆ null       ┆ DE     ┆ test_phase1_0     │\n",
       "│ max        ┆ null       ┆ UK     ┆ test_phase1_99999 │\n",
       "│ median     ┆ null       ┆ null   ┆ null              │\n",
       "│ 25%        ┆ null       ┆ null   ┆ null              │\n",
       "│ 75%        ┆ null       ┆ null   ┆ null              │\n",
       "└────────────┴────────────┴────────┴───────────────────┘"
      ]
     },
     "execution_count": 21,
     "metadata": {},
     "output_type": "execute_result"
    }
   ],
   "source": [
    "test1.describe()"
   ]
  },
  {
   "cell_type": "code",
   "execution_count": null,
   "metadata": {
    "colab": {
     "base_uri": "https://localhost:8080/",
     "height": 255
    },
    "executionInfo": {
     "elapsed": 379,
     "status": "ok",
     "timestamp": 1702222825217,
     "user": {
      "displayName": "pp rich",
      "userId": "00371241177131396451"
     },
     "user_tz": -480
    },
    "id": "iaGKXK2h6CTE",
    "outputId": "d8156cab-52a8-47f0-ecd2-df6ceb4157d6"
   },
   "outputs": [
    {
     "data": {
      "text/html": [
       "<div><style>\n",
       ".dataframe > thead > tr > th,\n",
       ".dataframe > tbody > tr > td {\n",
       "  text-align: right;\n",
       "}\n",
       "</style>\n",
       "<small>shape: (5, 3)</small><table border=\"1\" class=\"dataframe\"><thead><tr><th>prev_items</th><th>locale</th><th>session_id</th></tr><tr><td>list[str]</td><td>str</td><td>str</td></tr></thead><tbody><tr><td>[&quot;B087VLP2RT&quot;, &quot;B09BRQSHYH&quot;, &quot;B099KW4ZLV&quot;]</td><td>&quot;DE&quot;</td><td>&quot;test_phase2_0&quot;</td></tr><tr><td>[&quot;B08XW4W667&quot;, &quot;B096VMCJYF&quot;, &quot;B096VMCJYF&quot;]</td><td>&quot;DE&quot;</td><td>&quot;test_phase2_1&quot;</td></tr><tr><td>[&quot;B09Z4T2GJ3&quot;, &quot;B09Z3FBXMB&quot;, … &quot;B09Z4PYG8Q&quot;]</td><td>&quot;DE&quot;</td><td>&quot;test_phase2_2&quot;</td></tr><tr><td>[&quot;B07T6Y2HG7&quot;, &quot;B07T2NBLX9&quot;, &quot;B07Y1G5F3Y&quot;]</td><td>&quot;DE&quot;</td><td>&quot;test_phase2_3&quot;</td></tr><tr><td>[&quot;B0B2DRKZ6X&quot;, &quot;B0B2DRKZ6X&quot;, &quot;B0B2DRKZ6X&quot;]</td><td>&quot;DE&quot;</td><td>&quot;test_phase2_4&quot;</td></tr></tbody></table></div>"
      ],
      "text/plain": [
       "shape: (5, 3)\n",
       "┌───────────────────────────────────┬────────┬───────────────┐\n",
       "│ prev_items                        ┆ locale ┆ session_id    │\n",
       "│ ---                               ┆ ---    ┆ ---           │\n",
       "│ list[str]                         ┆ str    ┆ str           │\n",
       "╞═══════════════════════════════════╪════════╪═══════════════╡\n",
       "│ [\"B087VLP2RT\", \"B09BRQSHYH\", \"B0… ┆ DE     ┆ test_phase2_0 │\n",
       "│ [\"B08XW4W667\", \"B096VMCJYF\", \"B0… ┆ DE     ┆ test_phase2_1 │\n",
       "│ [\"B09Z4T2GJ3\", \"B09Z3FBXMB\", … \"… ┆ DE     ┆ test_phase2_2 │\n",
       "│ [\"B07T6Y2HG7\", \"B07T2NBLX9\", \"B0… ┆ DE     ┆ test_phase2_3 │\n",
       "│ [\"B0B2DRKZ6X\", \"B0B2DRKZ6X\", \"B0… ┆ DE     ┆ test_phase2_4 │\n",
       "└───────────────────────────────────┴────────┴───────────────┘"
      ]
     },
     "execution_count": 22,
     "metadata": {},
     "output_type": "execute_result"
    }
   ],
   "source": [
    "test2.head()"
   ]
  },
  {
   "cell_type": "code",
   "execution_count": null,
   "metadata": {
    "colab": {
     "base_uri": "https://localhost:8080/",
     "height": 380
    },
    "executionInfo": {
     "elapsed": 369,
     "status": "ok",
     "timestamp": 1702222828333,
     "user": {
      "displayName": "pp rich",
      "userId": "00371241177131396451"
     },
     "user_tz": -480
    },
    "id": "DHsj5N_A6CXH",
    "outputId": "6a2a6e4a-ce05-443d-bec9-66a15e88938c"
   },
   "outputs": [
    {
     "data": {
      "text/html": [
       "<div><style>\n",
       ".dataframe > thead > tr > th,\n",
       ".dataframe > tbody > tr > td {\n",
       "  text-align: right;\n",
       "}\n",
       "</style>\n",
       "<small>shape: (9, 4)</small><table border=\"1\" class=\"dataframe\"><thead><tr><th>describe</th><th>prev_items</th><th>locale</th><th>session_id</th></tr><tr><td>str</td><td>str</td><td>str</td><td>str</td></tr></thead><tbody><tr><td>&quot;count&quot;</td><td>&quot;316972&quot;</td><td>&quot;316972&quot;</td><td>&quot;316972&quot;</td></tr><tr><td>&quot;null_count&quot;</td><td>&quot;0&quot;</td><td>&quot;0&quot;</td><td>&quot;0&quot;</td></tr><tr><td>&quot;mean&quot;</td><td>null</td><td>null</td><td>null</td></tr><tr><td>&quot;std&quot;</td><td>null</td><td>null</td><td>null</td></tr><tr><td>&quot;min&quot;</td><td>null</td><td>&quot;DE&quot;</td><td>&quot;test_phase2_0&quot;</td></tr><tr><td>&quot;max&quot;</td><td>null</td><td>&quot;UK&quot;</td><td>&quot;test_phase2_99…</td></tr><tr><td>&quot;median&quot;</td><td>null</td><td>null</td><td>null</td></tr><tr><td>&quot;25%&quot;</td><td>null</td><td>null</td><td>null</td></tr><tr><td>&quot;75%&quot;</td><td>null</td><td>null</td><td>null</td></tr></tbody></table></div>"
      ],
      "text/plain": [
       "shape: (9, 4)\n",
       "┌────────────┬────────────┬────────┬───────────────────┐\n",
       "│ describe   ┆ prev_items ┆ locale ┆ session_id        │\n",
       "│ ---        ┆ ---        ┆ ---    ┆ ---               │\n",
       "│ str        ┆ str        ┆ str    ┆ str               │\n",
       "╞════════════╪════════════╪════════╪═══════════════════╡\n",
       "│ count      ┆ 316972     ┆ 316972 ┆ 316972            │\n",
       "│ null_count ┆ 0          ┆ 0      ┆ 0                 │\n",
       "│ mean       ┆ null       ┆ null   ┆ null              │\n",
       "│ std        ┆ null       ┆ null   ┆ null              │\n",
       "│ min        ┆ null       ┆ DE     ┆ test_phase2_0     │\n",
       "│ max        ┆ null       ┆ UK     ┆ test_phase2_99999 │\n",
       "│ median     ┆ null       ┆ null   ┆ null              │\n",
       "│ 25%        ┆ null       ┆ null   ┆ null              │\n",
       "│ 75%        ┆ null       ┆ null   ┆ null              │\n",
       "└────────────┴────────────┴────────┴───────────────────┘"
      ]
     },
     "execution_count": 23,
     "metadata": {},
     "output_type": "execute_result"
    }
   ],
   "source": [
    "test2.describe()"
   ]
  },
  {
   "cell_type": "code",
   "execution_count": null,
   "metadata": {
    "id": "O-DxS2o4eNUs"
   },
   "outputs": [],
   "source": [
    "train.write_parquet(\"/content/drive/MyDrive/kddcup2023/data/preprocessed/task1/train_task1.parquet\")"
   ]
  },
  {
   "cell_type": "code",
   "execution_count": null,
   "metadata": {
    "id": "CkBGU5Gb40YP"
   },
   "outputs": [],
   "source": [
    "test1.write_parquet(\"/content/drive/MyDrive/kddcup2023/data/preprocessed/task1/test_task1_phase1.parquet\")"
   ]
  },
  {
   "cell_type": "code",
   "execution_count": null,
   "metadata": {
    "id": "nNKsh6yao1ws"
   },
   "outputs": [],
   "source": [
    "test2.write_parquet(\"/content/drive/MyDrive/kddcup2023/data/preprocessed/task1/test_task1_phase2.parquet\")"
   ]
  },
  {
   "cell_type": "code",
   "execution_count": null,
   "metadata": {
    "id": "VlGb6sQy6Ru9"
   },
   "outputs": [],
   "source": []
  }
 ],
 "metadata": {
  "colab": {
   "provenance": []
  },
  "kernelspec": {
   "display_name": "Python 3",
   "name": "python3"
  },
  "language_info": {
   "name": "python"
  }
 },
 "nbformat": 4,
 "nbformat_minor": 0
}
