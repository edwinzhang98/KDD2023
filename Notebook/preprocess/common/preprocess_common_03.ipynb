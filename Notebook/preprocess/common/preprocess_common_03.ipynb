{
 "cells": [
  {
   "cell_type": "code",
   "execution_count": null,
   "metadata": {
    "colab": {
     "base_uri": "https://localhost:8080/"
    },
    "executionInfo": {
     "elapsed": 17979,
     "status": "ok",
     "timestamp": 1702223449092,
     "user": {
      "displayName": "pp rich",
      "userId": "00371241177131396451"
     },
     "user_tz": -480
    },
    "id": "zQ0jh11G9NJS",
    "outputId": "c295250a-69f0-4e90-b607-39f814cc5f8b"
   },
   "outputs": [
    {
     "name": "stdout",
     "output_type": "stream",
     "text": [
      "Mounted at /content/drive\n"
     ]
    }
   ],
   "source": [
    "from google.colab import drive\n",
    "drive.mount('/content/drive')"
   ]
  },
  {
   "cell_type": "code",
   "execution_count": null,
   "metadata": {
    "colab": {
     "base_uri": "https://localhost:8080/"
    },
    "executionInfo": {
     "elapsed": 10253,
     "status": "ok",
     "timestamp": 1702223534777,
     "user": {
      "displayName": "pp rich",
      "userId": "00371241177131396451"
     },
     "user_tz": -480
    },
    "id": "1CqrWw1W9TXf",
    "outputId": "a0c9d928-894f-40fe-c514-ad132caefed7"
   },
   "outputs": [
    {
     "name": "stdout",
     "output_type": "stream",
     "text": [
      "Requirement already satisfied: polars in /usr/local/lib/python3.10/dist-packages (0.17.3)\n",
      "Requirement already satisfied: typing_extensions>=4.0.1 in /usr/local/lib/python3.10/dist-packages (from polars) (4.5.0)\n"
     ]
    }
   ],
   "source": [
    "!pip install polars"
   ]
  },
  {
   "cell_type": "code",
   "execution_count": null,
   "metadata": {
    "id": "tzR_Rbnl9TZb"
   },
   "outputs": [],
   "source": [
    "import os\n",
    "import gc\n",
    "import random\n",
    "from collections import defaultdict, Counter\n",
    "from typing import List, Dict\n",
    "import joblib\n",
    "import pickle\n",
    "\n",
    "from tqdm import tqdm\n",
    "import matplotlib.pyplot as plt\n",
    "import seaborn as sns\n",
    "import numpy as np\n",
    "import polars as pl\n",
    "import pandas as pd\n",
    "import lightgbm as lgb\n",
    "from sklearn.model_selection import StratifiedKFold"
   ]
  },
  {
   "cell_type": "code",
   "execution_count": null,
   "metadata": {
    "id": "H5wK0UBz9TeC"
   },
   "outputs": [],
   "source": [
    "product = pl.read_csv(\"/content/drive/MyDrive/kddcup2023/data/raw/products_train.csv\")"
   ]
  },
  {
   "cell_type": "markdown",
   "metadata": {
    "id": "MyTVlBYfCF8A"
   },
   "source": [
    "# PRICE outlier processing"
   ]
  },
  {
   "cell_type": "code",
   "execution_count": null,
   "metadata": {
    "id": "M0M7lTNN_oAX"
   },
   "outputs": [],
   "source": [
    "product = product.with_columns(\n",
    "    pl.when(product['price'] == 40000000.07).then(None).otherwise(product['price']).alias(\"price\")\n",
    ")"
   ]
  },
  {
   "cell_type": "markdown",
   "metadata": {
    "id": "FWA-oQ_pCPED"
   },
   "source": [
    "# Assignment of handling locales\n",
    "\n"
   ]
  },
  {
   "cell_type": "code",
   "execution_count": null,
   "metadata": {
    "colab": {
     "base_uri": "https://localhost:8080/",
     "height": 255
    },
    "executionInfo": {
     "elapsed": 5,
     "status": "ok",
     "timestamp": 1702223552362,
     "user": {
      "displayName": "pp rich",
      "userId": "00371241177131396451"
     },
     "user_tz": -480
    },
    "id": "yCCB77NUCRyL",
    "outputId": "d3541f31-9201-4a5d-c6f9-1c63598a970f"
   },
   "outputs": [
    {
     "data": {
      "text/html": [
       "<div><style>\n",
       ".dataframe > thead > tr > th,\n",
       ".dataframe > tbody > tr > td {\n",
       "  text-align: right;\n",
       "}\n",
       "</style>\n",
       "<small>shape: (5, 11)</small><table border=\"1\" class=\"dataframe\"><thead><tr><th>id</th><th>locale</th><th>title</th><th>price</th><th>brand</th><th>color</th><th>size</th><th>model</th><th>material</th><th>author</th><th>desc</th></tr><tr><td>str</td><td>str</td><td>str</td><td>f64</td><td>str</td><td>str</td><td>str</td><td>str</td><td>str</td><td>str</td><td>str</td></tr></thead><tbody><tr><td>&quot;B005ZSSN10&quot;</td><td>&quot;DE&quot;</td><td>&quot;RED DRAGON Amb…</td><td>30.95</td><td>&quot;RED DRAGON&quot;</td><td>null</td><td>null</td><td>&quot;RDD0089&quot;</td><td>null</td><td>null</td><td>&quot;Amberjacks Ste…</td></tr><tr><td>&quot;B08PRYN6LD&quot;</td><td>&quot;DE&quot;</td><td>&quot;Simply Keto Lo…</td><td>17.9</td><td>&quot;Simply Keto&quot;</td><td>null</td><td>&quot;750 g (1er Pac…</td><td>null</td><td>null</td><td>null</td><td>&quot;🌱 NATÜRLICHE S…</td></tr><tr><td>&quot;B09MBZJ48V&quot;</td><td>&quot;DE&quot;</td><td>&quot;Sennheiser 508…</td><td>68.89</td><td>&quot;Sennheiser&quot;</td><td>&quot;Multi-Colour&quot;</td><td>&quot;One size&quot;</td><td>&quot;508377&quot;</td><td>&quot;Kunstleder&quot;</td><td>null</td><td>&quot;3.5 MM BUCHSE …</td></tr><tr><td>&quot;B08ZN6F26S&quot;</td><td>&quot;DE&quot;</td><td>&quot;AmyBenton Auto…</td><td>18.99</td><td>&quot;Amy &amp; Benton&quot;</td><td>&quot;Animal Car&quot;</td><td>null</td><td>&quot;2008B&quot;</td><td>&quot;aufziehauto 1 …</td><td>null</td><td>&quot;【Auto aufziehb…</td></tr><tr><td>&quot;B094DGRV7D&quot;</td><td>&quot;DE&quot;</td><td>&quot;PLAYMOBIL - 70…</td><td>7.17</td><td>&quot;PLAYMOBIL&quot;</td><td>&quot;Nicht Zutreffe…</td><td>&quot;OneSize&quot;</td><td>&quot;70522&quot;</td><td>&quot;Polypropylen&quot;</td><td>null</td><td>&quot;Inhalt: 1 Stüc…</td></tr></tbody></table></div>"
      ],
      "text/plain": [
       "shape: (5, 11)\n",
       "┌────────────┬────────┬───────────────┬───────┬───┬─────────┬──────────────┬────────┬──────────────┐\n",
       "│ id         ┆ locale ┆ title         ┆ price ┆ … ┆ model   ┆ material     ┆ author ┆ desc         │\n",
       "│ ---        ┆ ---    ┆ ---           ┆ ---   ┆   ┆ ---     ┆ ---          ┆ ---    ┆ ---          │\n",
       "│ str        ┆ str    ┆ str           ┆ f64   ┆   ┆ str     ┆ str          ┆ str    ┆ str          │\n",
       "╞════════════╪════════╪═══════════════╪═══════╪═══╪═════════╪══════════════╪════════╪══════════════╡\n",
       "│ B005ZSSN10 ┆ DE     ┆ RED DRAGON    ┆ 30.95 ┆ … ┆ RDD0089 ┆ null         ┆ null   ┆ Amberjacks   │\n",
       "│            ┆        ┆ Amberjack 3 - ┆       ┆   ┆         ┆              ┆        ┆ Steel        │\n",
       "│            ┆        ┆ Steel T…      ┆       ┆   ┆         ┆              ┆        ┆ Dartpfeile   │\n",
       "│            ┆        ┆               ┆       ┆   ┆         ┆              ┆        ┆ sind…        │\n",
       "│ B08PRYN6LD ┆ DE     ┆ Simply Keto   ┆ 17.9  ┆ … ┆ null    ┆ null         ┆ null   ┆ 🌱           │\n",
       "│            ┆        ┆ Lower Carb*   ┆       ┆   ┆         ┆              ┆        ┆ NATÜRLICHE   │\n",
       "│            ┆        ┆ Schokodr…     ┆       ┆   ┆         ┆              ┆        ┆ SÜSSE DURCH  │\n",
       "│            ┆        ┆               ┆       ┆   ┆         ┆              ┆        ┆ ERYTHRI…     │\n",
       "│ B09MBZJ48V ┆ DE     ┆ Sennheiser    ┆ 68.89 ┆ … ┆ 508377  ┆ Kunstleder   ┆ null   ┆ 3.5 MM       │\n",
       "│            ┆        ┆ 508377 PC 5.2 ┆       ┆   ┆         ┆              ┆        ┆ BUCHSE -     │\n",
       "│            ┆        ┆ Chat, S…      ┆       ┆   ┆         ┆              ┆        ┆ Kann         │\n",
       "│            ┆        ┆               ┆       ┆   ┆         ┆              ┆        ┆ problemlos … │\n",
       "│ B08ZN6F26S ┆ DE     ┆ AmyBenton     ┆ 18.99 ┆ … ┆ 2008B   ┆ aufziehauto  ┆ null   ┆ 【Auto aufzi │\n",
       "│            ┆        ┆ Auto ab 1 2 3 ┆       ┆   ┆         ┆ 1 jahr       ┆        ┆ ehbar】:     │\n",
       "│            ┆        ┆ ahre - B…     ┆       ┆   ┆         ┆              ┆        ┆ Drücken Sie  │\n",
       "│            ┆        ┆               ┆       ┆   ┆         ┆              ┆        ┆ e…           │\n",
       "│ B094DGRV7D ┆ DE     ┆ PLAYMOBIL -   ┆ 7.17  ┆ … ┆ 70522   ┆ Polypropylen ┆ null   ┆ Inhalt: 1    │\n",
       "│            ┆        ┆ 70522 -       ┆       ┆   ┆         ┆              ┆        ┆ Stück        │\n",
       "│            ┆        ┆ Cavaliere mi… ┆       ┆   ┆         ┆              ┆        ┆              │\n",
       "└────────────┴────────┴───────────────┴───────┴───┴─────────┴──────────────┴────────┴──────────────┘"
      ]
     },
     "execution_count": 6,
     "metadata": {},
     "output_type": "execute_result"
    }
   ],
   "source": [
    "product.head()"
   ]
  },
  {
   "cell_type": "code",
   "execution_count": null,
   "metadata": {
    "id": "xDkA7T--CR0K"
   },
   "outputs": [],
   "source": [
    "product_id2locales = defaultdict(list)"
   ]
  },
  {
   "cell_type": "code",
   "execution_count": null,
   "metadata": {
    "colab": {
     "base_uri": "https://localhost:8080/"
    },
    "executionInfo": {
     "elapsed": 4912,
     "status": "ok",
     "timestamp": 1702223568706,
     "user": {
      "displayName": "pp rich",
      "userId": "00371241177131396451"
     },
     "user_tz": -480
    },
    "id": "rWQmUrC5CR1-",
    "outputId": "f0d9bb82-3512-4ddb-8573-f8e02cf32404"
   },
   "outputs": [
    {
     "name": "stderr",
     "output_type": "stream",
     "text": [
      "100%|██████████| 1551057/1551057 [00:04<00:00, 343635.50it/s]\n"
     ]
    }
   ],
   "source": [
    "ids = product[\"id\"].to_list()\n",
    "locales = product[\"locale\"].to_list()\n",
    "\n",
    "for id, locale in tqdm(zip(ids, locales), total=len(ids)):\n",
    "    product_id2locales[id].append(locale)"
   ]
  },
  {
   "cell_type": "code",
   "execution_count": null,
   "metadata": {
    "id": "A6VLVA7XCR3-"
   },
   "outputs": [],
   "source": [
    "product = product.with_columns(\n",
    "    pl.col(\"id\").map_dict(product_id2locales).alias(\"available_locales\")\n",
    ")"
   ]
  },
  {
   "cell_type": "code",
   "execution_count": null,
   "metadata": {
    "id": "jGRM8OsR_3Rb"
   },
   "outputs": [],
   "source": [
    "product.write_parquet(\"/content/drive/MyDrive/kddcup2023/data/preprocessed/common/product_03.parquet\")"
   ]
  },
  {
   "cell_type": "code",
   "execution_count": null,
   "metadata": {
    "id": "Xcd5qnk5EL46"
   },
   "outputs": [],
   "source": []
  }
 ],
 "metadata": {
  "colab": {
   "provenance": []
  },
  "kernelspec": {
   "display_name": "Python 3",
   "name": "python3"
  },
  "language_info": {
   "name": "python"
  }
 },
 "nbformat": 4,
 "nbformat_minor": 0
}
