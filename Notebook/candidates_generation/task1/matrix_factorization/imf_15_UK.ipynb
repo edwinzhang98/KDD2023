{
 "cells": [
  {
   "cell_type": "code",
   "execution_count": null,
   "metadata": {
    "colab": {
     "base_uri": "https://localhost:8080/"
    },
    "executionInfo": {
     "elapsed": 62420,
     "status": "ok",
     "timestamp": 1702477802657,
     "user": {
      "displayName": "pp rich",
      "userId": "00371241177131396451"
     },
     "user_tz": -480
    },
    "id": "BnKnD-UQWSEg",
    "outputId": "c95e523d-b35e-4242-9ce8-afe56a186249"
   },
   "outputs": [
    {
     "name": "stdout",
     "output_type": "stream",
     "text": [
      "Mounted at /content/drive\n"
     ]
    }
   ],
   "source": [
    "from google.colab import drive\n",
    "drive.mount('/content/drive')"
   ]
  },
  {
   "cell_type": "code",
   "execution_count": null,
   "metadata": {
    "colab": {
     "base_uri": "https://localhost:8080/"
    },
    "executionInfo": {
     "elapsed": 9140,
     "status": "ok",
     "timestamp": 1702477811794,
     "user": {
      "displayName": "pp rich",
      "userId": "00371241177131396451"
     },
     "user_tz": -480
    },
    "id": "rFm-yeEMrIjU",
    "outputId": "e2cd3fe0-b847-453b-9e93-9d757325a22c"
   },
   "outputs": [
    {
     "name": "stdout",
     "output_type": "stream",
     "text": [
      "Collecting implicit\n",
      "  Downloading implicit-0.7.2-cp310-cp310-manylinux2014_x86_64.whl (8.9 MB)\n",
      "\u001b[2K     \u001b[90m━━━━━━━━━━━━━━━━━━━━━━━━━━━━━━━━━━━━━━━━\u001b[0m \u001b[32m8.9/8.9 MB\u001b[0m \u001b[31m53.5 MB/s\u001b[0m eta \u001b[36m0:00:00\u001b[0m\n",
      "\u001b[?25hRequirement already satisfied: numpy>=1.17.0 in /usr/local/lib/python3.10/dist-packages (from implicit) (1.23.5)\n",
      "Requirement already satisfied: scipy>=0.16 in /usr/local/lib/python3.10/dist-packages (from implicit) (1.11.4)\n",
      "Requirement already satisfied: tqdm>=4.27 in /usr/local/lib/python3.10/dist-packages (from implicit) (4.66.1)\n",
      "Requirement already satisfied: threadpoolctl in /usr/local/lib/python3.10/dist-packages (from implicit) (3.2.0)\n",
      "Installing collected packages: implicit\n",
      "Successfully installed implicit-0.7.2\n"
     ]
    }
   ],
   "source": [
    "!pip install implicit"
   ]
  },
  {
   "cell_type": "code",
   "execution_count": null,
   "metadata": {
    "colab": {
     "base_uri": "https://localhost:8080/"
    },
    "executionInfo": {
     "elapsed": 5813,
     "status": "ok",
     "timestamp": 1702477817574,
     "user": {
      "displayName": "pp rich",
      "userId": "00371241177131396451"
     },
     "user_tz": -480
    },
    "id": "8Af_47xxWVhC",
    "outputId": "b3d7ae38-1ed0-4875-a61b-f508ffc87aef"
   },
   "outputs": [
    {
     "name": "stdout",
     "output_type": "stream",
     "text": [
      "Requirement already satisfied: polars in /usr/local/lib/python3.10/dist-packages (0.17.3)\n",
      "Requirement already satisfied: typing_extensions>=4.0.1 in /usr/local/lib/python3.10/dist-packages (from polars) (4.5.0)\n"
     ]
    }
   ],
   "source": [
    "!pip install polars"
   ]
  },
  {
   "cell_type": "code",
   "execution_count": null,
   "metadata": {
    "colab": {
     "base_uri": "https://localhost:8080/"
    },
    "executionInfo": {
     "elapsed": 1428,
     "status": "ok",
     "timestamp": 1702477818957,
     "user": {
      "displayName": "pp rich",
      "userId": "00371241177131396451"
     },
     "user_tz": -480
    },
    "id": "F-RBDJdwWdI-",
    "outputId": "6531f560-667f-47e0-bf82-1db41c4882cd"
   },
   "outputs": [
    {
     "name": "stderr",
     "output_type": "stream",
     "text": [
      "/usr/local/lib/python3.10/dist-packages/implicit/gpu/__init__.py:13: UserWarning: CUDA extension is built, but disabling GPU support because of 'Cuda Error: CUDA driver version is insufficient for CUDA runtime version (/project/./implicit/gpu/utils.h:71)'\n",
      "  warnings.warn(\n"
     ]
    }
   ],
   "source": [
    "import random\n",
    "from collections import defaultdict, Counter\n",
    "from typing import List, Dict, Union\n",
    "import pickle\n",
    "\n",
    "import numpy as np\n",
    "import implicit\n",
    "from scipy.sparse import lil_matrix\n",
    "from tqdm import tqdm\n",
    "import pandas as pd\n",
    "import polars as pl"
   ]
  },
  {
   "cell_type": "code",
   "execution_count": null,
   "metadata": {
    "id": "YamzEAnvF6Sz"
   },
   "outputs": [],
   "source": [
    "TOP_N = 200\n",
    "LOCALE = \"UK\"\n",
    "VER = \"15\"\n",
    "DIR = \"/content/drive/MyDrive/kddcup2023/\"\n",
    "\n",
    "# parameters for IMF\n",
    "ALPHA = 50000\n",
    "LAMBDA = 0.01\n",
    "FACTORS = 200\n",
    "N_EPOCHS = 15\n",
    "SEED = 42"
   ]
  },
  {
   "cell_type": "code",
   "execution_count": null,
   "metadata": {
    "id": "fTqrjJF11A4n"
   },
   "outputs": [],
   "source": [
    "def preprocess(df:pl.DataFrame) -> pl.DataFrame:\n",
    "    df = df.explode([\"prev_items\"])\n",
    "    df = df.with_columns(\n",
    "        df.select(pl.col(\"session_id\").cumcount().over(\"session_id\").alias(\"sequence_num\"))\n",
    "    )\n",
    "    return df"
   ]
  },
  {
   "cell_type": "code",
   "execution_count": null,
   "metadata": {
    "id": "XTn45hIkzaJN"
   },
   "outputs": [],
   "source": [
    "def train_and_generate_candidates(df:pd.DataFrame):\n",
    "    # generate sparse matrix\n",
    "    unique_user_ids = sorted(df[\"session_id\"].unique())\n",
    "    unique_item_ids = sorted(df[\"prev_items\"].unique())\n",
    "    user_id2index = dict(zip(unique_user_ids, range(len(unique_user_ids))))\n",
    "    item_id2index = dict(zip(unique_item_ids, range(len(unique_item_ids))))\n",
    "\n",
    "    matrix = lil_matrix((len(unique_user_ids), len(unique_item_ids)))\n",
    "    for _, row in tqdm(df.iterrows()):\n",
    "        user_index = user_id2index[row[\"session_id\"]]\n",
    "        item_index = item_id2index[row[\"prev_items\"]]\n",
    "        matrix[user_index, item_index] = 1.0\n",
    "\n",
    "    # convert LIL to CSR\n",
    "    matrix = matrix.tocsr()\n",
    "\n",
    "    # model initialization\n",
    "    model = implicit.als.AlternatingLeastSquares(\n",
    "        factors = FACTORS,\n",
    "        alpha = ALPHA,\n",
    "        iterations = N_EPOCHS,\n",
    "        regularization = LAMBDA,\n",
    "        calculate_training_loss = True,\n",
    "        random_state = SEED,\n",
    "    )\n",
    "\n",
    "    # train model\n",
    "    model.fit(matrix)\n",
    "\n",
    "    # generate candidate\n",
    "    users = []\n",
    "    candidates = []\n",
    "    imf_scores = []\n",
    "\n",
    "    for user_id, user_index in tqdm(user_id2index.items()):\n",
    "        item_indexes, scores = model.recommend(user_index, matrix[user_index], N=TOP_N, filter_already_liked_items=True)\n",
    "        for item_index, score in zip(item_indexes, scores):\n",
    "            users.append(user_id)\n",
    "            candidates.append(unique_item_ids[item_index])\n",
    "            imf_scores.append(score)\n",
    "\n",
    "    candidates = pd.DataFrame({\n",
    "        \"session_id\": users,\n",
    "        \"candidate_item\": candidates,\n",
    "        \"imf_score\": imf_scores,\n",
    "    })\n",
    "\n",
    "\n",
    "    candidates = pl.from_pandas(candidates)\n",
    "    candidates = candidates \\\n",
    "    .sort([\"session_id\", \"imf_score\"], descending=[False, True]) \\\n",
    "    .with_columns(pl.col(\"imf_score\").rank(descending=True, method=\"min\").over(\"session_id\").alias(\"imf_rank\"))\n",
    "    candidates = candidates.to_pandas()\n",
    "\n",
    "\n",
    "    return model, user_id2index, item_id2index, candidates"
   ]
  },
  {
   "cell_type": "markdown",
   "metadata": {
    "id": "VaW0ArYLzkTa"
   },
   "source": [
    "## For local train/eval"
   ]
  },
  {
   "cell_type": "code",
   "execution_count": null,
   "metadata": {
    "id": "kppiCZHz2kMb"
   },
   "outputs": [],
   "source": [
    "train = pl.read_parquet(\"/content/drive/MyDrive/kddcup2023/data/preprocessed/task1/train_task1.parquet\")\n",
    "test = pl.read_parquet(\"/content/drive/MyDrive/kddcup2023/data/preprocessed/task1/test_task1_phase2.parquet\")\n",
    "\n",
    "train = preprocess(train)\n",
    "test = preprocess(test)\n",
    "session_df = pl.concat([\n",
    "    train[\"prev_items\", \"locale\", \"session_id\", \"sequence_num\"],\n",
    "    test[\"prev_items\", \"locale\", \"session_id\", \"sequence_num\"],\n",
    "])\n",
    "session_df = session_df.to_pandas()\n",
    "session_df = session_df[session_df[\"locale\"] == LOCALE]"
   ]
  },
  {
   "cell_type": "code",
   "execution_count": null,
   "metadata": {
    "colab": {
     "background_save": true,
     "base_uri": "https://localhost:8080/",
     "height": 176,
     "referenced_widgets": [
      "e3d92e265351449c8cd6c6b78cf43d2c",
      "53160e099d3b4d2496ed2ed525d3e507",
      "a17d8f3f98c24e6e9d6aab0f4f34f2e7",
      "25826a80bca74c69bc20acc21e3271b4",
      "4a3bbfd09fab4e5abd8fbec85c720655",
      "5b2c16b378e045c3bee88421caf655f2",
      "96fa3ac9610f408d90e128c066886d67",
      "b2955e10ac9f4b3fb36b93b1d292a038",
      "a968aaea154b40ed88fd847a95b50976",
      "b34b16d210084a098ec22fb2363fa897",
      "c8e2d61654d045fc845134193067764c"
     ]
    },
    "executionInfo": {
     "elapsed": 2326891,
     "status": "ok",
     "timestamp": 1702499264657,
     "user": {
      "displayName": "pp rich",
      "userId": "00371241177131396451"
     },
     "user_tz": -480
    },
    "id": "nSx4pLwHWSme",
    "outputId": "b99b77b3-75ca-4545-bf18-0b4e748fb7f9"
   },
   "outputs": [
    {
     "name": "stderr",
     "output_type": "stream",
     "text": [
      "5336525it [05:08, 17320.14it/s]\n",
      "/usr/local/lib/python3.10/dist-packages/implicit/cpu/als.py:95: RuntimeWarning: OpenBLAS is configured to use 8 threads. It is highly recommended to disable its internal threadpool by setting the environment variable 'OPENBLAS_NUM_THREADS=1' or by calling 'threadpoolctl.threadpool_limits(1, \"blas\")'. Having OpenBLAS use a threadpool can lead to severe performance issues here.\n",
      "  check_blas_config()\n"
     ]
    },
    {
     "data": {
      "application/vnd.jupyter.widget-view+json": {
       "model_id": "e3d92e265351449c8cd6c6b78cf43d2c",
       "version_major": 2,
       "version_minor": 0
      },
      "text/plain": [
       "  0%|          | 0/15 [00:00<?, ?it/s]"
      ]
     },
     "metadata": {},
     "output_type": "display_data"
    },
    {
     "name": "stderr",
     "output_type": "stream",
     "text": [
      "100%|██████████| 1298118/1298118 [5:33:29<00:00, 64.87it/s]\n"
     ]
    },
    {
     "name": "stdout",
     "output_type": "stream",
     "text": [
      "CPU times: user 1d 6h 2min 15s, sys: 13h 7min 18s, total: 1d 19h 9min 33s\n",
      "Wall time: 5h 57min\n"
     ]
    }
   ],
   "source": [
    "%%time\n",
    "model, user_id2index, item_id2index, candidates = train_and_generate_candidates(session_df)"
   ]
  },
  {
   "cell_type": "code",
   "execution_count": null,
   "metadata": {
    "colab": {
     "background_save": true
    },
    "id": "SWaQAEc5z8h7"
   },
   "outputs": [],
   "source": [
    "file_name = f\"imf_{VER}_{LOCALE}_for_train_or_eval.parquet\"\n",
    "candidates.to_parquet(\"/content/drive/MyDrive/kddcup2023/data/interim/candidates/task1/\" + file_name)"
   ]
  },
  {
   "cell_type": "code",
   "execution_count": null,
   "metadata": {
    "colab": {
     "background_save": true
    },
    "id": "6jHG9aDFlkL_"
   },
   "outputs": [],
   "source": [
    "# save models\n",
    "model_name = f\"imf_{VER}_{LOCALE}_model_for_train_or_eval.npz\"\n",
    "user_ids_name = f\"imf_{VER}_{LOCALE}_user_id2index_for_train_or_eval.pickle\"\n",
    "item_ids_name = f\"imf_{VER}_{LOCALE}_item_id2index_for_train_or_eval.pickle\"\n",
    "model.save(DIR + \"models/task1/\" + model_name)\n",
    "with open(DIR + \"models/task1/\" + user_ids_name, \"wb\") as f:\n",
    "    pickle.dump(user_id2index, f)\n",
    "with open(DIR + \"models/task1/\" + item_ids_name, \"wb\") as f:\n",
    "    pickle.dump(item_id2index, f)\n",
    "\n",
    "# save candidates\n",
    "file_name = f\"imf_{VER}_{LOCALE}_for_train_or_eval.parquet\"\n",
    "candidates.to_parquet(DIR + \"data/interim/candidates/task1/\" + file_name)"
   ]
  },
  {
   "cell_type": "markdown",
   "metadata": {
    "id": "CKbKMNdz1hAV"
   },
   "source": [
    "# For test inference"
   ]
  },
  {
   "cell_type": "code",
   "execution_count": null,
   "metadata": {
    "colab": {
     "background_save": true
    },
    "id": "5k6uEgpl1-cf"
   },
   "outputs": [],
   "source": [
    "train = pl.read_parquet(\"/content/drive/MyDrive/kddcup2023/data/preprocessed/task1/train_task1.parquet\")\n",
    "test = pl.read_parquet(\"/content/drive/MyDrive/kddcup2023/data/preprocessed/task1/test_task1_phase2.parquet\")"
   ]
  },
  {
   "cell_type": "code",
   "execution_count": null,
   "metadata": {
    "colab": {
     "background_save": true
    },
    "id": "YCjieXyS1jTN"
   },
   "outputs": [],
   "source": [
    "# Append train's next_item to prev_items\n",
    "prev_items_list = train[\"prev_items\"].to_list()\n",
    "next_item_list = train[\"next_item\"].to_list()\n",
    "prev_items_list_updated = []\n",
    "for prev_items, next_item in zip(prev_items_list, next_item_list):\n",
    "    prev_items.append(next_item)\n",
    "    prev_items_list_updated.append(prev_items)\n",
    "\n",
    "train = train.with_columns(\n",
    "    pl.Series(name=\"prev_items\", values=prev_items_list_updated)\n",
    ")"
   ]
  },
  {
   "cell_type": "code",
   "execution_count": null,
   "metadata": {
    "colab": {
     "background_save": true
    },
    "id": "qQCDBpyp1jVG"
   },
   "outputs": [],
   "source": [
    "train = preprocess(train)\n",
    "test = preprocess(test)\n",
    "session_df = pl.concat([\n",
    "    train[\"prev_items\", \"locale\", \"session_id\", \"sequence_num\"],\n",
    "    test[\"prev_items\", \"locale\", \"session_id\", \"sequence_num\"],\n",
    "])\n",
    "session_df = session_df.to_pandas()\n",
    "session_df = session_df[session_df[\"locale\"] == LOCALE]"
   ]
  },
  {
   "cell_type": "code",
   "execution_count": null,
   "metadata": {
    "id": "rEjyTMsO1jXM"
   },
   "outputs": [],
   "source": [
    "%%time\n",
    "model, user_id2index, item_id2index, candidates = train_and_generate_candidates(session_df)"
   ]
  },
  {
   "cell_type": "code",
   "execution_count": null,
   "metadata": {
    "id": "ycQo6QBk1ja7"
   },
   "outputs": [],
   "source": [
    "# save models\n",
    "model_name = f\"imf_{VER}_{LOCALE}_model_for_inference.npz\"\n",
    "user_ids_name = f\"imf_{VER}_{LOCALE}_user_id2index_for_inference.pickle\"\n",
    "item_ids_name = f\"imf_{VER}_{LOCALE}_item_id2index_for_inference.pickle\"\n",
    "model.save(DIR + \"models/task1/\" + model_name)\n",
    "with open(DIR + \"models/task1/\" + user_ids_name, \"wb\") as f:\n",
    "    pickle.dump(user_id2index, f)\n",
    "with open(DIR + \"models/task1/\" + item_ids_name, \"wb\") as f:\n",
    "    pickle.dump(item_id2index, f)\n",
    "\n",
    "# save candidates\n",
    "file_name = f\"imf_{VER}_{LOCALE}_for_inference.parquet\"\n",
    "candidates.to_parquet(DIR + \"data/interim/candidates/task1/\" + file_name)"
   ]
  },
  {
   "cell_type": "code",
   "execution_count": null,
   "metadata": {
    "id": "gSAabA1o3vhJ"
   },
   "outputs": [],
   "source": []
  }
 ],
 "metadata": {
  "colab": {
   "machine_shape": "hm",
   "provenance": []
  },
  "gpuClass": "standard",
  "kernelspec": {
   "display_name": "Python 3",
   "name": "python3"
  },
  "language_info": {
   "name": "python"
  },
  "widgets": {
   "application/vnd.jupyter.widget-state+json": {
    "25826a80bca74c69bc20acc21e3271b4": {
     "model_module": "@jupyter-widgets/controls",
     "model_module_version": "1.5.0",
     "model_name": "HTMLModel",
     "state": {
      "_dom_classes": [],
      "_model_module": "@jupyter-widgets/controls",
      "_model_module_version": "1.5.0",
      "_model_name": "HTMLModel",
      "_view_count": null,
      "_view_module": "@jupyter-widgets/controls",
      "_view_module_version": "1.5.0",
      "_view_name": "HTMLView",
      "description": "",
      "description_tooltip": null,
      "layout": "IPY_MODEL_b34b16d210084a098ec22fb2363fa897",
      "placeholder": "​",
      "style": "IPY_MODEL_c8e2d61654d045fc845134193067764c",
      "value": " 15/15 [12:48&lt;00:00, 51.30s/it, loss=0.00374]"
     }
    },
    "4a3bbfd09fab4e5abd8fbec85c720655": {
     "model_module": "@jupyter-widgets/base",
     "model_module_version": "1.2.0",
     "model_name": "LayoutModel",
     "state": {
      "_model_module": "@jupyter-widgets/base",
      "_model_module_version": "1.2.0",
      "_model_name": "LayoutModel",
      "_view_count": null,
      "_view_module": "@jupyter-widgets/base",
      "_view_module_version": "1.2.0",
      "_view_name": "LayoutView",
      "align_content": null,
      "align_items": null,
      "align_self": null,
      "border": null,
      "bottom": null,
      "display": null,
      "flex": null,
      "flex_flow": null,
      "grid_area": null,
      "grid_auto_columns": null,
      "grid_auto_flow": null,
      "grid_auto_rows": null,
      "grid_column": null,
      "grid_gap": null,
      "grid_row": null,
      "grid_template_areas": null,
      "grid_template_columns": null,
      "grid_template_rows": null,
      "height": null,
      "justify_content": null,
      "justify_items": null,
      "left": null,
      "margin": null,
      "max_height": null,
      "max_width": null,
      "min_height": null,
      "min_width": null,
      "object_fit": null,
      "object_position": null,
      "order": null,
      "overflow": null,
      "overflow_x": null,
      "overflow_y": null,
      "padding": null,
      "right": null,
      "top": null,
      "visibility": null,
      "width": null
     }
    },
    "53160e099d3b4d2496ed2ed525d3e507": {
     "model_module": "@jupyter-widgets/controls",
     "model_module_version": "1.5.0",
     "model_name": "HTMLModel",
     "state": {
      "_dom_classes": [],
      "_model_module": "@jupyter-widgets/controls",
      "_model_module_version": "1.5.0",
      "_model_name": "HTMLModel",
      "_view_count": null,
      "_view_module": "@jupyter-widgets/controls",
      "_view_module_version": "1.5.0",
      "_view_name": "HTMLView",
      "description": "",
      "description_tooltip": null,
      "layout": "IPY_MODEL_5b2c16b378e045c3bee88421caf655f2",
      "placeholder": "​",
      "style": "IPY_MODEL_96fa3ac9610f408d90e128c066886d67",
      "value": "100%"
     }
    },
    "5b2c16b378e045c3bee88421caf655f2": {
     "model_module": "@jupyter-widgets/base",
     "model_module_version": "1.2.0",
     "model_name": "LayoutModel",
     "state": {
      "_model_module": "@jupyter-widgets/base",
      "_model_module_version": "1.2.0",
      "_model_name": "LayoutModel",
      "_view_count": null,
      "_view_module": "@jupyter-widgets/base",
      "_view_module_version": "1.2.0",
      "_view_name": "LayoutView",
      "align_content": null,
      "align_items": null,
      "align_self": null,
      "border": null,
      "bottom": null,
      "display": null,
      "flex": null,
      "flex_flow": null,
      "grid_area": null,
      "grid_auto_columns": null,
      "grid_auto_flow": null,
      "grid_auto_rows": null,
      "grid_column": null,
      "grid_gap": null,
      "grid_row": null,
      "grid_template_areas": null,
      "grid_template_columns": null,
      "grid_template_rows": null,
      "height": null,
      "justify_content": null,
      "justify_items": null,
      "left": null,
      "margin": null,
      "max_height": null,
      "max_width": null,
      "min_height": null,
      "min_width": null,
      "object_fit": null,
      "object_position": null,
      "order": null,
      "overflow": null,
      "overflow_x": null,
      "overflow_y": null,
      "padding": null,
      "right": null,
      "top": null,
      "visibility": null,
      "width": null
     }
    },
    "96fa3ac9610f408d90e128c066886d67": {
     "model_module": "@jupyter-widgets/controls",
     "model_module_version": "1.5.0",
     "model_name": "DescriptionStyleModel",
     "state": {
      "_model_module": "@jupyter-widgets/controls",
      "_model_module_version": "1.5.0",
      "_model_name": "DescriptionStyleModel",
      "_view_count": null,
      "_view_module": "@jupyter-widgets/base",
      "_view_module_version": "1.2.0",
      "_view_name": "StyleView",
      "description_width": ""
     }
    },
    "a17d8f3f98c24e6e9d6aab0f4f34f2e7": {
     "model_module": "@jupyter-widgets/controls",
     "model_module_version": "1.5.0",
     "model_name": "FloatProgressModel",
     "state": {
      "_dom_classes": [],
      "_model_module": "@jupyter-widgets/controls",
      "_model_module_version": "1.5.0",
      "_model_name": "FloatProgressModel",
      "_view_count": null,
      "_view_module": "@jupyter-widgets/controls",
      "_view_module_version": "1.5.0",
      "_view_name": "ProgressView",
      "bar_style": "success",
      "description": "",
      "description_tooltip": null,
      "layout": "IPY_MODEL_b2955e10ac9f4b3fb36b93b1d292a038",
      "max": 15,
      "min": 0,
      "orientation": "horizontal",
      "style": "IPY_MODEL_a968aaea154b40ed88fd847a95b50976",
      "value": 15
     }
    },
    "a968aaea154b40ed88fd847a95b50976": {
     "model_module": "@jupyter-widgets/controls",
     "model_module_version": "1.5.0",
     "model_name": "ProgressStyleModel",
     "state": {
      "_model_module": "@jupyter-widgets/controls",
      "_model_module_version": "1.5.0",
      "_model_name": "ProgressStyleModel",
      "_view_count": null,
      "_view_module": "@jupyter-widgets/base",
      "_view_module_version": "1.2.0",
      "_view_name": "StyleView",
      "bar_color": null,
      "description_width": ""
     }
    },
    "b2955e10ac9f4b3fb36b93b1d292a038": {
     "model_module": "@jupyter-widgets/base",
     "model_module_version": "1.2.0",
     "model_name": "LayoutModel",
     "state": {
      "_model_module": "@jupyter-widgets/base",
      "_model_module_version": "1.2.0",
      "_model_name": "LayoutModel",
      "_view_count": null,
      "_view_module": "@jupyter-widgets/base",
      "_view_module_version": "1.2.0",
      "_view_name": "LayoutView",
      "align_content": null,
      "align_items": null,
      "align_self": null,
      "border": null,
      "bottom": null,
      "display": null,
      "flex": null,
      "flex_flow": null,
      "grid_area": null,
      "grid_auto_columns": null,
      "grid_auto_flow": null,
      "grid_auto_rows": null,
      "grid_column": null,
      "grid_gap": null,
      "grid_row": null,
      "grid_template_areas": null,
      "grid_template_columns": null,
      "grid_template_rows": null,
      "height": null,
      "justify_content": null,
      "justify_items": null,
      "left": null,
      "margin": null,
      "max_height": null,
      "max_width": null,
      "min_height": null,
      "min_width": null,
      "object_fit": null,
      "object_position": null,
      "order": null,
      "overflow": null,
      "overflow_x": null,
      "overflow_y": null,
      "padding": null,
      "right": null,
      "top": null,
      "visibility": null,
      "width": null
     }
    },
    "b34b16d210084a098ec22fb2363fa897": {
     "model_module": "@jupyter-widgets/base",
     "model_module_version": "1.2.0",
     "model_name": "LayoutModel",
     "state": {
      "_model_module": "@jupyter-widgets/base",
      "_model_module_version": "1.2.0",
      "_model_name": "LayoutModel",
      "_view_count": null,
      "_view_module": "@jupyter-widgets/base",
      "_view_module_version": "1.2.0",
      "_view_name": "LayoutView",
      "align_content": null,
      "align_items": null,
      "align_self": null,
      "border": null,
      "bottom": null,
      "display": null,
      "flex": null,
      "flex_flow": null,
      "grid_area": null,
      "grid_auto_columns": null,
      "grid_auto_flow": null,
      "grid_auto_rows": null,
      "grid_column": null,
      "grid_gap": null,
      "grid_row": null,
      "grid_template_areas": null,
      "grid_template_columns": null,
      "grid_template_rows": null,
      "height": null,
      "justify_content": null,
      "justify_items": null,
      "left": null,
      "margin": null,
      "max_height": null,
      "max_width": null,
      "min_height": null,
      "min_width": null,
      "object_fit": null,
      "object_position": null,
      "order": null,
      "overflow": null,
      "overflow_x": null,
      "overflow_y": null,
      "padding": null,
      "right": null,
      "top": null,
      "visibility": null,
      "width": null
     }
    },
    "c8e2d61654d045fc845134193067764c": {
     "model_module": "@jupyter-widgets/controls",
     "model_module_version": "1.5.0",
     "model_name": "DescriptionStyleModel",
     "state": {
      "_model_module": "@jupyter-widgets/controls",
      "_model_module_version": "1.5.0",
      "_model_name": "DescriptionStyleModel",
      "_view_count": null,
      "_view_module": "@jupyter-widgets/base",
      "_view_module_version": "1.2.0",
      "_view_name": "StyleView",
      "description_width": ""
     }
    },
    "e3d92e265351449c8cd6c6b78cf43d2c": {
     "model_module": "@jupyter-widgets/controls",
     "model_module_version": "1.5.0",
     "model_name": "HBoxModel",
     "state": {
      "_dom_classes": [],
      "_model_module": "@jupyter-widgets/controls",
      "_model_module_version": "1.5.0",
      "_model_name": "HBoxModel",
      "_view_count": null,
      "_view_module": "@jupyter-widgets/controls",
      "_view_module_version": "1.5.0",
      "_view_name": "HBoxView",
      "box_style": "",
      "children": [
       "IPY_MODEL_53160e099d3b4d2496ed2ed525d3e507",
       "IPY_MODEL_a17d8f3f98c24e6e9d6aab0f4f34f2e7",
       "IPY_MODEL_25826a80bca74c69bc20acc21e3271b4"
      ],
      "layout": "IPY_MODEL_4a3bbfd09fab4e5abd8fbec85c720655"
     }
    }
   }
  }
 },
 "nbformat": 4,
 "nbformat_minor": 0
}
