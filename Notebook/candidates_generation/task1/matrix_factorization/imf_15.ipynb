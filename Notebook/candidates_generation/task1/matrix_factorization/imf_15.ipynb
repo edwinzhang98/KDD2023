{
 "cells": [
  {
   "cell_type": "code",
   "execution_count": null,
   "metadata": {
    "colab": {
     "base_uri": "https://localhost:8080/"
    },
    "executionInfo": {
     "elapsed": 130339,
     "status": "ok",
     "timestamp": 1705160952916,
     "user": {
      "displayName": "王晓",
      "userId": "03118875830758001304"
     },
     "user_tz": -480
    },
    "id": "8ZGfFvBIc5zD",
    "outputId": "8d5cc732-1064-4a56-9073-fcfdb35ed0a9"
   },
   "outputs": [
    {
     "name": "stdout",
     "output_type": "stream",
     "text": [
      "Mounted at /content/drive\n"
     ]
    }
   ],
   "source": [
    "from google.colab import drive\n",
    "drive.mount('/content/drive')"
   ]
  },
  {
   "cell_type": "code",
   "execution_count": null,
   "metadata": {
    "colab": {
     "base_uri": "https://localhost:8080/"
    },
    "executionInfo": {
     "elapsed": 7197,
     "status": "ok",
     "timestamp": 1705161059373,
     "user": {
      "displayName": "王晓",
      "userId": "03118875830758001304"
     },
     "user_tz": -480
    },
    "id": "LAxxcmTYBPJh",
    "outputId": "262f0bc2-dcac-4971-a8c3-623d847f0c94"
   },
   "outputs": [
    {
     "name": "stdout",
     "output_type": "stream",
     "text": [
      "Requirement already satisfied: polars in /usr/local/lib/python3.10/dist-packages (0.17.3)\n",
      "Requirement already satisfied: typing_extensions>=4.0.1 in /usr/local/lib/python3.10/dist-packages (from polars) (4.5.0)\n"
     ]
    }
   ],
   "source": [
    "!pip install polars"
   ]
  },
  {
   "cell_type": "code",
   "execution_count": null,
   "metadata": {
    "id": "0fhZc9OKdHz0"
   },
   "outputs": [],
   "source": [
    "import concurrent.futures\n",
    "import math\n",
    "\n",
    "from tqdm import tqdm\n",
    "import numpy as np\n",
    "import polars as pl\n",
    "import pandas as pd\n",
    "from sklearn.feature_extraction.text import TfidfVectorizer\n",
    "from sklearn.metrics.pairwise import cosine_similarity\n",
    "from scipy.sparse import csr_matrix\n",
    "from scipy.spatial.distance import cosine"
   ]
  },
  {
   "cell_type": "code",
   "execution_count": null,
   "metadata": {
    "id": "ZGG5lcnkoC7b"
   },
   "outputs": [],
   "source": [
    "TOP_N = 100\n",
    "VER = \"15\"\n",
    "DIR = \"/content/drive/MyDrive/kddcup2023/\""
   ]
  },
  {
   "cell_type": "markdown",
   "metadata": {
    "id": "eEh9d0v8dgLP"
   },
   "source": [
    "# MRR@100"
   ]
  },
  {
   "cell_type": "code",
   "execution_count": null,
   "metadata": {
    "id": "ZUzb3ed-dH8l"
   },
   "outputs": [],
   "source": [
    "train = pl.read_parquet(\"/content/drive/MyDrive/kddcup2023/data/preprocessed/task1/train_task1.parquet\")"
   ]
  },
  {
   "cell_type": "markdown",
   "metadata": {
    "id": "UTXHlRKaha2G"
   },
   "source": []
  },
  {
   "cell_type": "code",
   "execution_count": null,
   "metadata": {
    "id": "S0pPABU-JGrF"
   },
   "outputs": [],
   "source": [
    "candidates = pl.concat([\n",
    "    pl.read_parquet(DIR + f\"data/interim/candidates/task1/imf_{VER}_DE_for_train_or_eval.parquet\").filter(pl.col(\"session_id\").str.starts_with(\"train\")).sort([\"session_id\", \"imf_score\"], descending=[False, True]).groupby(\"session_id\", maintain_order=True).head(TOP_N),\n",
    "    pl.read_parquet(DIR + f\"data/interim/candidates/task1/imf_{VER}_UK_for_train_or_eval.parquet\").filter(pl.col(\"session_id\").str.starts_with(\"train\")).sort([\"session_id\", \"imf_score\"], descending=[False, True]).groupby(\"session_id\", maintain_order=True).head(TOP_N),\n",
    "    pl.read_parquet(DIR + f\"data/interim/candidates/task1/imf_{VER}_JP_for_train_or_eval.parquet\").filter(pl.col(\"session_id\").str.starts_with(\"train\")).sort([\"session_id\", \"imf_score\"], descending=[False, True]).groupby(\"session_id\", maintain_order=True).head(TOP_N),\n",
    "])"
   ]
  },
  {
   "cell_type": "code",
   "execution_count": null,
   "metadata": {
    "id": "vHa0Z-qMJ8It"
   },
   "outputs": [],
   "source": [
    "candidates = candidates.filter(pl.col(\"imf_score\") != 0)\n",
    "candidates.write_parquet(DIR + f\"data/interim/candidates/task1/imf_{VER}_for_train_or_eval.parquet\")"
   ]
  },
  {
   "cell_type": "code",
   "execution_count": null,
   "metadata": {
    "colab": {
     "base_uri": "https://localhost:8080/",
     "height": 255
    },
    "executionInfo": {
     "elapsed": 11,
     "status": "ok",
     "timestamp": 1705210770476,
     "user": {
      "displayName": "王晓",
      "userId": "03118875830758001304"
     },
     "user_tz": -480
    },
    "id": "iyOQEEMNJK01",
    "outputId": "2367b667-e3db-441e-f18d-82832f8e7a36"
   },
   "outputs": [
    {
     "data": {
      "text/html": [
       "<div><style>\n",
       ".dataframe > thead > tr > th,\n",
       ".dataframe > tbody > tr > td {\n",
       "  text-align: right;\n",
       "}\n",
       "</style>\n",
       "<small>shape: (5, 4)</small><table border=\"1\" class=\"dataframe\"><thead><tr><th>session_id</th><th>candidate_item</th><th>imf_score</th><th>imf_rank</th></tr><tr><td>str</td><td>str</td><td>f32</td><td>u32</td></tr></thead><tbody><tr><td>&quot;train_0&quot;</td><td>&quot;B09P83WGQG&quot;</td><td>0.71407</td><td>1</td></tr><tr><td>&quot;train_0&quot;</td><td>&quot;B07KDC7PJH&quot;</td><td>0.684053</td><td>2</td></tr><tr><td>&quot;train_0&quot;</td><td>&quot;B08L66WJWR&quot;</td><td>0.650294</td><td>3</td></tr><tr><td>&quot;train_0&quot;</td><td>&quot;B09R3YSYYG&quot;</td><td>0.603924</td><td>4</td></tr><tr><td>&quot;train_0&quot;</td><td>&quot;B08ZJFWQMV&quot;</td><td>0.579268</td><td>5</td></tr></tbody></table></div>"
      ],
      "text/plain": [
       "shape: (5, 4)\n",
       "┌────────────┬────────────────┬───────────┬──────────┐\n",
       "│ session_id ┆ candidate_item ┆ imf_score ┆ imf_rank │\n",
       "│ ---        ┆ ---            ┆ ---       ┆ ---      │\n",
       "│ str        ┆ str            ┆ f32       ┆ u32      │\n",
       "╞════════════╪════════════════╪═══════════╪══════════╡\n",
       "│ train_0    ┆ B09P83WGQG     ┆ 0.71407   ┆ 1        │\n",
       "│ train_0    ┆ B07KDC7PJH     ┆ 0.684053  ┆ 2        │\n",
       "│ train_0    ┆ B08L66WJWR     ┆ 0.650294  ┆ 3        │\n",
       "│ train_0    ┆ B09R3YSYYG     ┆ 0.603924  ┆ 4        │\n",
       "│ train_0    ┆ B08ZJFWQMV     ┆ 0.579268  ┆ 5        │\n",
       "└────────────┴────────────────┴───────────┴──────────┘"
      ]
     },
     "execution_count": 10,
     "metadata": {},
     "output_type": "execute_result"
    }
   ],
   "source": [
    "candidates.head()"
   ]
  },
  {
   "cell_type": "code",
   "execution_count": null,
   "metadata": {
    "colab": {
     "base_uri": "https://localhost:8080/"
    },
    "executionInfo": {
     "elapsed": 260726,
     "status": "ok",
     "timestamp": 1705211031196,
     "user": {
      "displayName": "王晓",
      "userId": "03118875830758001304"
     },
     "user_tz": -480
    },
    "id": "jXavJklBCNrZ",
    "outputId": "d76ee255-7b3d-4530-8538-f7d818464ae3"
   },
   "outputs": [
    {
     "name": "stderr",
     "output_type": "stream",
     "text": [
      "100%|██████████| 9/9 [04:20<00:00, 28.95s/it]\n"
     ]
    }
   ],
   "source": [
    "label_lists = []\n",
    "n_rows = 400_000\n",
    "for df in tqdm(train.iter_slices(n_rows=n_rows), total=math.ceil(train.height/n_rows)): # specify \"total\" parameter to display tqdm progress bar\n",
    "    # process data\n",
    "    df = df.join(candidates, on=\"session_id\", how=\"left\")\n",
    "    df = df.with_columns((pl.col(\"candidate_item\") == pl.col(\"next_item\")).cast(pl.Int8).alias(\"label\"))\n",
    "    label_lists.extend(df.groupby(\"session_id\", maintain_order=True).all()[\"label\"].to_list())"
   ]
  },
  {
   "cell_type": "code",
   "execution_count": null,
   "metadata": {
    "colab": {
     "base_uri": "https://localhost:8080/"
    },
    "executionInfo": {
     "elapsed": 42077,
     "status": "ok",
     "timestamp": 1705211073269,
     "user": {
      "displayName": "王晓",
      "userId": "03118875830758001304"
     },
     "user_tz": -480
    },
    "id": "_PKVe9yzdkk_",
    "outputId": "6981c004-f771-4985-da2d-e3168b5d31fb"
   },
   "outputs": [
    {
     "name": "stdout",
     "output_type": "stream",
     "text": [
      "MRR: 0.20114\n"
     ]
    }
   ],
   "source": [
    "# MRR\n",
    "rr = 0\n",
    "for labels in label_lists:\n",
    "    labels = labels[:100]\n",
    "    for i, label in enumerate(labels):\n",
    "        if label == 1:\n",
    "            rr += 1 / (i+1)\n",
    "            break\n",
    "mrr = rr / len(label_lists)\n",
    "print(\"MRR:\", round(mrr, 5))"
   ]
  },
  {
   "cell_type": "markdown",
   "metadata": {
    "id": "4cWSkVKWig9K"
   },
   "source": [
    "# for inference"
   ]
  },
  {
   "cell_type": "code",
   "execution_count": null,
   "metadata": {
    "id": "ZEo0QVdc7Jj6"
   },
   "outputs": [],
   "source": [
    "candidates = pl.concat([\n",
    "    pl.read_parquet(DIR + f\"data/interim/candidates/task1/imf_{VER}_DE_for_inference.parquet\").filter(pl.col(\"session_id\").str.starts_with(\"test\")).sort([\"session_id\", \"imf_score\"], descending=[False, True]).groupby(\"session_id\", maintain_order=True).head(TOP_N),\n",
    "    pl.read_parquet(DIR + f\"data/interim/candidates/task1/imf_{VER}_UK_for_inference.parquet\").filter(pl.col(\"session_id\").str.starts_with(\"test\")).sort([\"session_id\", \"imf_score\"], descending=[False, True]).groupby(\"session_id\", maintain_order=True).head(TOP_N),\n",
    "    pl.read_parquet(DIR + f\"data/interim/candidates/task1/imf_{VER}_JP_for_inference.parquet\").filter(pl.col(\"session_id\").str.starts_with(\"test\")).sort([\"session_id\", \"imf_score\"], descending=[False, True]).groupby(\"session_id\", maintain_order=True).head(TOP_N),\n",
    "])"
   ]
  },
  {
   "cell_type": "code",
   "execution_count": null,
   "metadata": {
    "id": "AtyzE9iOirz8"
   },
   "outputs": [],
   "source": [
    "candidates = candidates.filter(pl.col(\"imf_score\") != 0)\n",
    "candidates.write_parquet(DIR + f\"data/interim/candidates/task1/imf_{VER}_for_inference.parquet\")"
   ]
  },
  {
   "cell_type": "code",
   "execution_count": null,
   "metadata": {
    "colab": {
     "base_uri": "https://localhost:8080/",
     "height": 255
    },
    "executionInfo": {
     "elapsed": 18,
     "status": "ok",
     "timestamp": 1705211259166,
     "user": {
      "displayName": "王晓",
      "userId": "03118875830758001304"
     },
     "user_tz": -480
    },
    "id": "XxhE_7yiiyTb",
    "outputId": "a7265e9d-7e17-4abf-dc13-18b0b390af78"
   },
   "outputs": [
    {
     "data": {
      "text/html": [
       "<div><style>\n",
       ".dataframe > thead > tr > th,\n",
       ".dataframe > tbody > tr > td {\n",
       "  text-align: right;\n",
       "}\n",
       "</style>\n",
       "<small>shape: (5, 4)</small><table border=\"1\" class=\"dataframe\"><thead><tr><th>session_id</th><th>candidate_item</th><th>imf_score</th><th>imf_rank</th></tr><tr><td>str</td><td>str</td><td>f32</td><td>u32</td></tr></thead><tbody><tr><td>&quot;test_phase2_0&quot;</td><td>&quot;B0B3HMH1JP&quot;</td><td>0.619421</td><td>1</td></tr><tr><td>&quot;test_phase2_0&quot;</td><td>&quot;B0B87N98MM&quot;</td><td>0.500755</td><td>2</td></tr><tr><td>&quot;test_phase2_0&quot;</td><td>&quot;B091CK241X&quot;</td><td>0.491179</td><td>3</td></tr><tr><td>&quot;test_phase2_0&quot;</td><td>&quot;B07SDFLVKD&quot;</td><td>0.484973</td><td>4</td></tr><tr><td>&quot;test_phase2_0&quot;</td><td>&quot;B09BR9YCJ9&quot;</td><td>0.455285</td><td>5</td></tr></tbody></table></div>"
      ],
      "text/plain": [
       "shape: (5, 4)\n",
       "┌───────────────┬────────────────┬───────────┬──────────┐\n",
       "│ session_id    ┆ candidate_item ┆ imf_score ┆ imf_rank │\n",
       "│ ---           ┆ ---            ┆ ---       ┆ ---      │\n",
       "│ str           ┆ str            ┆ f32       ┆ u32      │\n",
       "╞═══════════════╪════════════════╪═══════════╪══════════╡\n",
       "│ test_phase2_0 ┆ B0B3HMH1JP     ┆ 0.619421  ┆ 1        │\n",
       "│ test_phase2_0 ┆ B0B87N98MM     ┆ 0.500755  ┆ 2        │\n",
       "│ test_phase2_0 ┆ B091CK241X     ┆ 0.491179  ┆ 3        │\n",
       "│ test_phase2_0 ┆ B07SDFLVKD     ┆ 0.484973  ┆ 4        │\n",
       "│ test_phase2_0 ┆ B09BR9YCJ9     ┆ 0.455285  ┆ 5        │\n",
       "└───────────────┴────────────────┴───────────┴──────────┘"
      ]
     },
     "execution_count": 15,
     "metadata": {},
     "output_type": "execute_result"
    }
   ],
   "source": [
    "candidates.head()"
   ]
  },
  {
   "cell_type": "code",
   "execution_count": null,
   "metadata": {
    "id": "Fu58n2GWja05"
   },
   "outputs": [],
   "source": []
  }
 ],
 "metadata": {
  "colab": {
   "machine_shape": "hm",
   "provenance": []
  },
  "gpuClass": "standard",
  "kernelspec": {
   "display_name": "Python 3",
   "name": "python3"
  },
  "language_info": {
   "name": "python"
  }
 },
 "nbformat": 4,
 "nbformat_minor": 0
}
