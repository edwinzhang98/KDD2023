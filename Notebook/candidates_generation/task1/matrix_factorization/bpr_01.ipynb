{
 "cells": [
  {
   "cell_type": "code",
   "execution_count": null,
   "metadata": {
    "colab": {
     "base_uri": "https://localhost:8080/"
    },
    "executionInfo": {
     "elapsed": 22264,
     "status": "ok",
     "timestamp": 1702478078006,
     "user": {
      "displayName": "pp rich",
      "userId": "00371241177131396451"
     },
     "user_tz": -480
    },
    "id": "8ZGfFvBIc5zD",
    "outputId": "af1d5a0f-772f-43bc-ca08-f0588b17911e"
   },
   "outputs": [
    {
     "name": "stdout",
     "output_type": "stream",
     "text": [
      "Mounted at /content/drive\n"
     ]
    }
   ],
   "source": [
    "from google.colab import drive\n",
    "drive.mount('/content/drive')"
   ]
  },
  {
   "cell_type": "code",
   "execution_count": null,
   "metadata": {
    "colab": {
     "base_uri": "https://localhost:8080/"
    },
    "executionInfo": {
     "elapsed": 6722,
     "status": "ok",
     "timestamp": 1702478090585,
     "user": {
      "displayName": "pp rich",
      "userId": "00371241177131396451"
     },
     "user_tz": -480
    },
    "id": "LAxxcmTYBPJh",
    "outputId": "c854f8bc-063d-4a29-b7cb-f7fa253b40b5"
   },
   "outputs": [
    {
     "name": "stdout",
     "output_type": "stream",
     "text": [
      "Requirement already satisfied: polars in /usr/local/lib/python3.10/dist-packages (0.17.3)\n",
      "Requirement already satisfied: typing_extensions>=4.0.1 in /usr/local/lib/python3.10/dist-packages (from polars) (4.5.0)\n"
     ]
    }
   ],
   "source": [
    "!pip install polars"
   ]
  },
  {
   "cell_type": "code",
   "execution_count": null,
   "metadata": {
    "id": "0fhZc9OKdHz0"
   },
   "outputs": [],
   "source": [
    "import concurrent.futures\n",
    "import math\n",
    "\n",
    "from tqdm import tqdm\n",
    "import numpy as np\n",
    "import polars as pl\n",
    "import pandas as pd\n",
    "from sklearn.feature_extraction.text import TfidfVectorizer\n",
    "from sklearn.metrics.pairwise import cosine_similarity\n",
    "from scipy.sparse import csr_matrix\n",
    "from scipy.spatial.distance import cosine"
   ]
  },
  {
   "cell_type": "code",
   "execution_count": null,
   "metadata": {
    "id": "ZGG5lcnkoC7b"
   },
   "outputs": [],
   "source": [
    "TOP_N = 50\n",
    "VER = \"01\"\n",
    "DIR = \"/content/drive/MyDrive/kddcup2023/\""
   ]
  },
  {
   "cell_type": "markdown",
   "metadata": {
    "id": "eEh9d0v8dgLP"
   },
   "source": [
    "# MRR@100"
   ]
  },
  {
   "cell_type": "code",
   "execution_count": null,
   "metadata": {
    "id": "ZUzb3ed-dH8l"
   },
   "outputs": [],
   "source": [
    "train = pl.read_parquet(DIR + \"data/preprocessed/task1/train_task1.parquet\")"
   ]
  },
  {
   "cell_type": "code",
   "execution_count": null,
   "metadata": {
    "id": "S0pPABU-JGrF"
   },
   "outputs": [],
   "source": [
    "candidates = pl.concat([\n",
    "    pl.read_parquet(DIR + f\"data/interim/candidates/task1/bpr_{VER}_DE_for_train_or_eval.parquet\").filter(pl.col(\"session_id\").str.starts_with(\"train\")).sort([\"session_id\", \"bpr_score\"], descending=[False, True]).groupby(\"session_id\", maintain_order=True).head(TOP_N),\n",
    "    pl.read_parquet(DIR + f\"data/interim/candidates/task1/bpr_{VER}_UK_for_train_or_eval.parquet\").filter(pl.col(\"session_id\").str.starts_with(\"train\")).sort([\"session_id\", \"bpr_score\"], descending=[False, True]).groupby(\"session_id\", maintain_order=True).head(TOP_N),\n",
    "    pl.read_parquet(DIR + f\"data/interim/candidates/task1/bpr_{VER}_JP_for_train_or_eval.parquet\").filter(pl.col(\"session_id\").str.starts_with(\"train\")).sort([\"session_id\", \"bpr_score\"], descending=[False, True]).groupby(\"session_id\", maintain_order=True).head(TOP_N),\n",
    "])"
   ]
  },
  {
   "cell_type": "code",
   "execution_count": null,
   "metadata": {
    "id": "vHa0Z-qMJ8It"
   },
   "outputs": [],
   "source": [
    "candidates = candidates.filter(pl.col(\"bpr_score\") != 0)\n",
    "candidates.write_parquet(DIR + f\"data/interim/candidates/task1/bpr_{VER}_for_train_or_eval.parquet\")"
   ]
  },
  {
   "cell_type": "code",
   "execution_count": null,
   "metadata": {
    "colab": {
     "base_uri": "https://localhost:8080/",
     "height": 255
    },
    "executionInfo": {
     "elapsed": 17,
     "status": "ok",
     "timestamp": 1702478237240,
     "user": {
      "displayName": "pp rich",
      "userId": "00371241177131396451"
     },
     "user_tz": -480
    },
    "id": "iyOQEEMNJK01",
    "outputId": "b56fb9a6-c548-477c-e208-a9071b2d9884"
   },
   "outputs": [
    {
     "data": {
      "text/html": [
       "<div><style>\n",
       ".dataframe > thead > tr > th,\n",
       ".dataframe > tbody > tr > td {\n",
       "  text-align: right;\n",
       "}\n",
       "</style>\n",
       "<small>shape: (5, 4)</small><table border=\"1\" class=\"dataframe\"><thead><tr><th>session_id</th><th>candidate_item</th><th>bpr_score</th><th>bpr_rank</th></tr><tr><td>str</td><td>str</td><td>f32</td><td>u32</td></tr></thead><tbody><tr><td>&quot;train_0&quot;</td><td>&quot;B002QZX9K0&quot;</td><td>2.203246</td><td>1</td></tr><tr><td>&quot;train_0&quot;</td><td>&quot;B081LL9TV2&quot;</td><td>2.090522</td><td>2</td></tr><tr><td>&quot;train_0&quot;</td><td>&quot;B07HYXKQXW&quot;</td><td>2.090392</td><td>3</td></tr><tr><td>&quot;train_0&quot;</td><td>&quot;B07MSMBJCM&quot;</td><td>2.077719</td><td>4</td></tr><tr><td>&quot;train_0&quot;</td><td>&quot;B09GKJKT7W&quot;</td><td>2.077087</td><td>5</td></tr></tbody></table></div>"
      ],
      "text/plain": [
       "shape: (5, 4)\n",
       "┌────────────┬────────────────┬───────────┬──────────┐\n",
       "│ session_id ┆ candidate_item ┆ bpr_score ┆ bpr_rank │\n",
       "│ ---        ┆ ---            ┆ ---       ┆ ---      │\n",
       "│ str        ┆ str            ┆ f32       ┆ u32      │\n",
       "╞════════════╪════════════════╪═══════════╪══════════╡\n",
       "│ train_0    ┆ B002QZX9K0     ┆ 2.203246  ┆ 1        │\n",
       "│ train_0    ┆ B081LL9TV2     ┆ 2.090522  ┆ 2        │\n",
       "│ train_0    ┆ B07HYXKQXW     ┆ 2.090392  ┆ 3        │\n",
       "│ train_0    ┆ B07MSMBJCM     ┆ 2.077719  ┆ 4        │\n",
       "│ train_0    ┆ B09GKJKT7W     ┆ 2.077087  ┆ 5        │\n",
       "└────────────┴────────────────┴───────────┴──────────┘"
      ]
     },
     "execution_count": 8,
     "metadata": {},
     "output_type": "execute_result"
    }
   ],
   "source": [
    "candidates.head()"
   ]
  },
  {
   "cell_type": "code",
   "execution_count": null,
   "metadata": {
    "colab": {
     "base_uri": "https://localhost:8080/"
    },
    "executionInfo": {
     "elapsed": 204175,
     "status": "ok",
     "timestamp": 1702478441403,
     "user": {
      "displayName": "pp rich",
      "userId": "00371241177131396451"
     },
     "user_tz": -480
    },
    "id": "jXavJklBCNrZ",
    "outputId": "601b3181-e890-40c8-aac5-e0ca0796cb83"
   },
   "outputs": [
    {
     "name": "stderr",
     "output_type": "stream",
     "text": [
      "100%|██████████| 9/9 [03:24<00:00, 22.68s/it]\n"
     ]
    }
   ],
   "source": [
    "label_lists = []\n",
    "n_rows = 400_000\n",
    "for df in tqdm(train.iter_slices(n_rows=n_rows), total=math.ceil(train.height/n_rows)): # specify \"total\" parameter to display tqdm progress bar\n",
    "    # process data\n",
    "    df = df.join(candidates, on=\"session_id\", how=\"left\")\n",
    "    df = df.with_columns((pl.col(\"candidate_item\") == pl.col(\"next_item\")).cast(pl.Int8).alias(\"label\"))\n",
    "    label_lists.extend(df.groupby(\"session_id\", maintain_order=True).all()[\"label\"].to_list())"
   ]
  },
  {
   "cell_type": "code",
   "execution_count": null,
   "metadata": {
    "colab": {
     "base_uri": "https://localhost:8080/"
    },
    "executionInfo": {
     "elapsed": 13584,
     "status": "ok",
     "timestamp": 1702478454976,
     "user": {
      "displayName": "pp rich",
      "userId": "00371241177131396451"
     },
     "user_tz": -480
    },
    "id": "_PKVe9yzdkk_",
    "outputId": "0b23e84e-9f80-4c42-bbe0-fc59f03679cb"
   },
   "outputs": [
    {
     "name": "stdout",
     "output_type": "stream",
     "text": [
      "MRR: 0.11601\n"
     ]
    }
   ],
   "source": [
    "# MRR\n",
    "rr = 0\n",
    "for labels in label_lists:\n",
    "    labels = labels[:100]\n",
    "    for i, label in enumerate(labels):\n",
    "        if label == 1:\n",
    "            rr += 1 / (i+1)\n",
    "            break\n",
    "mrr = rr / len(label_lists)\n",
    "print(\"MRR:\", round(mrr, 5))"
   ]
  },
  {
   "cell_type": "markdown",
   "metadata": {
    "id": "4cWSkVKWig9K"
   },
   "source": [
    "# for inference"
   ]
  },
  {
   "cell_type": "code",
   "execution_count": null,
   "metadata": {
    "id": "ZEo0QVdc7Jj6"
   },
   "outputs": [],
   "source": [
    "candidates = pl.concat([\n",
    "    pl.read_parquet(DIR + f\"data/interim/candidates/task1/bpr_{VER}_DE_for_inference.parquet\").filter(pl.col(\"session_id\").str.starts_with(\"test\")).sort([\"session_id\", \"bpr_score\"], descending=[False, True]).groupby(\"session_id\", maintain_order=True).head(TOP_N),\n",
    "    pl.read_parquet(DIR + f\"data/interim/candidates/task1/bpr_{VER}_UK_for_inference.parquet\").filter(pl.col(\"session_id\").str.starts_with(\"test\")).sort([\"session_id\", \"bpr_score\"], descending=[False, True]).groupby(\"session_id\", maintain_order=True).head(TOP_N),\n",
    "    pl.read_parquet(DIR + f\"data/interim/candidates/task1/bpr_{VER}_JP_for_inference.parquet\").filter(pl.col(\"session_id\").str.starts_with(\"test\")).sort([\"session_id\", \"bpr_score\"], descending=[False, True]).groupby(\"session_id\", maintain_order=True).head(TOP_N),\n",
    "])"
   ]
  },
  {
   "cell_type": "code",
   "execution_count": null,
   "metadata": {
    "id": "AtyzE9iOirz8"
   },
   "outputs": [],
   "source": [
    "candidates = candidates.filter(pl.col(\"bpr_score\") != 0)\n",
    "candidates.write_parquet(DIR + f\"data/interim/candidates/task1/bpr_{VER}_for_inference.parquet\")"
   ]
  },
  {
   "cell_type": "code",
   "execution_count": null,
   "metadata": {
    "colab": {
     "base_uri": "https://localhost:8080/",
     "height": 255
    },
    "executionInfo": {
     "elapsed": 5,
     "status": "ok",
     "timestamp": 1702478494634,
     "user": {
      "displayName": "pp rich",
      "userId": "00371241177131396451"
     },
     "user_tz": -480
    },
    "id": "XxhE_7yiiyTb",
    "outputId": "2ac509a7-7c2a-4186-a453-71ed4ba9ab43"
   },
   "outputs": [
    {
     "data": {
      "text/html": [
       "<div><style>\n",
       ".dataframe > thead > tr > th,\n",
       ".dataframe > tbody > tr > td {\n",
       "  text-align: right;\n",
       "}\n",
       "</style>\n",
       "<small>shape: (5, 4)</small><table border=\"1\" class=\"dataframe\"><thead><tr><th>session_id</th><th>candidate_item</th><th>bpr_score</th><th>bpr_rank</th></tr><tr><td>str</td><td>str</td><td>f32</td><td>u32</td></tr></thead><tbody><tr><td>&quot;test_phase2_0&quot;</td><td>&quot;B00ZQW91DE&quot;</td><td>4.037469</td><td>1</td></tr><tr><td>&quot;test_phase2_0&quot;</td><td>&quot;B0B3HMH1JP&quot;</td><td>4.017115</td><td>2</td></tr><tr><td>&quot;test_phase2_0&quot;</td><td>&quot;B07T4NH1W4&quot;</td><td>3.995347</td><td>3</td></tr><tr><td>&quot;test_phase2_0&quot;</td><td>&quot;B0B87N98MM&quot;</td><td>3.992003</td><td>4</td></tr><tr><td>&quot;test_phase2_0&quot;</td><td>&quot;B09Y57N2S1&quot;</td><td>3.982798</td><td>5</td></tr></tbody></table></div>"
      ],
      "text/plain": [
       "shape: (5, 4)\n",
       "┌───────────────┬────────────────┬───────────┬──────────┐\n",
       "│ session_id    ┆ candidate_item ┆ bpr_score ┆ bpr_rank │\n",
       "│ ---           ┆ ---            ┆ ---       ┆ ---      │\n",
       "│ str           ┆ str            ┆ f32       ┆ u32      │\n",
       "╞═══════════════╪════════════════╪═══════════╪══════════╡\n",
       "│ test_phase2_0 ┆ B00ZQW91DE     ┆ 4.037469  ┆ 1        │\n",
       "│ test_phase2_0 ┆ B0B3HMH1JP     ┆ 4.017115  ┆ 2        │\n",
       "│ test_phase2_0 ┆ B07T4NH1W4     ┆ 3.995347  ┆ 3        │\n",
       "│ test_phase2_0 ┆ B0B87N98MM     ┆ 3.992003  ┆ 4        │\n",
       "│ test_phase2_0 ┆ B09Y57N2S1     ┆ 3.982798  ┆ 5        │\n",
       "└───────────────┴────────────────┴───────────┴──────────┘"
      ]
     },
     "execution_count": 13,
     "metadata": {},
     "output_type": "execute_result"
    }
   ],
   "source": [
    "candidates.head()"
   ]
  },
  {
   "cell_type": "code",
   "execution_count": null,
   "metadata": {
    "id": "Fu58n2GWja05"
   },
   "outputs": [],
   "source": []
  }
 ],
 "metadata": {
  "colab": {
   "machine_shape": "hm",
   "provenance": []
  },
  "gpuClass": "standard",
  "kernelspec": {
   "display_name": "Python 3",
   "name": "python3"
  },
  "language_info": {
   "name": "python"
  }
 },
 "nbformat": 4,
 "nbformat_minor": 0
}
