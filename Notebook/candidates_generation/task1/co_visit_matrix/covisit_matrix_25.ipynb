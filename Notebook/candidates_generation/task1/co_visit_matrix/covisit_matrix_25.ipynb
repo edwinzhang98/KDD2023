{
 "cells": [
  {
   "cell_type": "code",
   "execution_count": 1,
   "metadata": {
    "colab": {
     "base_uri": "https://localhost:8080/"
    },
    "executionInfo": {
     "elapsed": 17817,
     "status": "ok",
     "timestamp": 1712457326502,
     "user": {
      "displayName": "LIANGYU WANG",
      "userId": "14294738231560219046"
     },
     "user_tz": 240
    },
    "id": "BnKnD-UQWSEg",
    "outputId": "43d9c687-d2a8-441b-de42-c02357c60426"
   },
   "outputs": [
    {
     "name": "stdout",
     "output_type": "stream",
     "text": [
      "Mounted at /content/drive\n"
     ]
    }
   ],
   "source": [
    "from google.colab import drive\n",
    "drive.mount('/content/drive')"
   ]
  },
  {
   "cell_type": "code",
   "execution_count": 2,
   "metadata": {
    "colab": {
     "base_uri": "https://localhost:8080/"
    },
    "executionInfo": {
     "elapsed": 7449,
     "status": "ok",
     "timestamp": 1712457333948,
     "user": {
      "displayName": "LIANGYU WANG",
      "userId": "14294738231560219046"
     },
     "user_tz": 240
    },
    "id": "8Af_47xxWVhC",
    "outputId": "f3a8785b-9cd2-4550-f3da-9e50f630d1ef"
   },
   "outputs": [
    {
     "name": "stdout",
     "output_type": "stream",
     "text": [
      "Requirement already satisfied: polars in /usr/local/lib/python3.10/dist-packages (0.20.2)\n"
     ]
    }
   ],
   "source": [
    "!pip install polars"
   ]
  },
  {
   "cell_type": "code",
   "execution_count": 3,
   "metadata": {
    "executionInfo": {
     "elapsed": 179,
     "status": "ok",
     "timestamp": 1712457334124,
     "user": {
      "displayName": "LIANGYU WANG",
      "userId": "14294738231560219046"
     },
     "user_tz": 240
    },
    "id": "F-RBDJdwWdI-"
   },
   "outputs": [],
   "source": [
    "from collections import defaultdict, Counter\n",
    "from typing import List, Dict, Union\n",
    "\n",
    "from tqdm import tqdm\n",
    "import polars as pl"
   ]
  },
  {
   "cell_type": "code",
   "execution_count": 4,
   "metadata": {
    "executionInfo": {
     "elapsed": 3,
     "status": "ok",
     "timestamp": 1712457334124,
     "user": {
      "displayName": "LIANGYU WANG",
      "userId": "14294738231560219046"
     },
     "user_tz": 240
    },
    "id": "YamzEAnvF6Sz"
   },
   "outputs": [],
   "source": [
    "WINDOW_N = 10\n",
    "WEIGHTS = {-10:0.01, -9:0.01, -8:0.01, -7:0.01, -6:0.01, -5:0.05, -4:0.05, -3:0.1, -2:0.25, -1:0.5, 1:3, \\\n",
    "2:0.5, 3:0.25, 4:0.1, 5:0.05, 6:0.01, 7:0.01, 8:0.01, 9:0.01, 10:0.01, }\n",
    "TOP_N = 200\n",
    "LOCALES = [\"DE\", \"UK\", \"JP\"]\n",
    "VER = \"25\"\n",
    "DIR = \"/content/drive/MyDrive/kddcup2023-ly/kddcup2023/\"\n"
   ]
  },
  {
   "cell_type": "code",
   "execution_count": 5,
   "metadata": {
    "executionInfo": {
     "elapsed": 2,
     "status": "ok",
     "timestamp": 1712457334124,
     "user": {
      "displayName": "LIANGYU WANG",
      "userId": "14294738231560219046"
     },
     "user_tz": 240
    },
    "id": "fTqrjJF11A4n"
   },
   "outputs": [],
   "source": [
    "def preprocess(df:pl.DataFrame) -> pl.DataFrame:\n",
    "    df = df.explode([\"prev_items\"])\n",
    "    df = df.with_columns(\n",
    "        df.select(pl.col(\"session_id\").cumcount().over(\"session_id\").alias(\"sequence_num\"))\n",
    "    )\n",
    "    return df"
   ]
  },
  {
   "cell_type": "code",
   "execution_count": 6,
   "metadata": {
    "executionInfo": {
     "elapsed": 3,
     "status": "ok",
     "timestamp": 1712457334125,
     "user": {
      "displayName": "LIANGYU WANG",
      "userId": "14294738231560219046"
     },
     "user_tz": 240
    },
    "id": "a-55dFNZvS1j"
   },
   "outputs": [],
   "source": [
    "def generate_co_visit_matrix(df:pl.DataFrame, window_n:int, weights:Dict[int, float]) -> pl.DataFrame:\n",
    "    # Creation of co-occurrence pairs\n",
    "    df = df[[\"session_id\", \"prev_items\", \"sequence_num\"]].join(df[[\"session_id\", \"prev_items\", \"sequence_num\"]], on=\"session_id\")\n",
    "\n",
    "    # Calculate the co-occurrence interval and filter\n",
    "    df = df.with_columns(\n",
    "        (pl.col(\"sequence_num_right\").cast(pl.Int64) - pl.col(\"sequence_num\").cast(pl.Int64)).alias(\"diff_sequence_num\")\n",
    "    )\n",
    "    df = df.filter(pl.col(\"diff_sequence_num\").abs() <= window_n)\n",
    "    df = df.filter(pl.col(\"prev_items\") != pl.col(\"prev_items_right\"))\n",
    "\n",
    "    # Calculate the weight and sum for each co-occurrence pair\n",
    "    df = df.with_columns(\n",
    "        pl.col(\"diff_sequence_num\").map_dict(weights).alias(\"co_visit_weight\")\n",
    "    )\n",
    "    df = df.groupby([\"prev_items\", \"prev_items_right\"]).sum()\n",
    "    df = df.rename({\"prev_items\":\"item\", \"prev_items_right\":\"candidate_item\"})[[\"item\", \"candidate_item\", \"co_visit_weight\"]]\n",
    "\n",
    "    return df"
   ]
  },
  {
   "cell_type": "code",
   "execution_count": 7,
   "metadata": {
    "executionInfo": {
     "elapsed": 3,
     "status": "ok",
     "timestamp": 1712457334125,
     "user": {
      "displayName": "LIANGYU WANG",
      "userId": "14294738231560219046"
     },
     "user_tz": 240
    },
    "id": "xDePQQB7E9A9"
   },
   "outputs": [],
   "source": [
    "def filter_by_locale_availability(co_visit_matrix:pl.DataFrame, product:pl.DataFrame):\n",
    "    product = product.unique(subset=[\"id\"])\n",
    "    product = product[[\"id\", \"available_locales\"]]\n",
    "    co_visit_matrix = co_visit_matrix.join(product, left_on=\"item\", right_on=\"id\", how=\"left\").rename({\"available_locales\":\"item_locales\"})\n",
    "    co_visit_matrix = co_visit_matrix.join(product, left_on=\"candidate_item\", right_on=\"id\", how=\"left\").rename({\"available_locales\":\"candidate_item_locales\"})\n",
    "    dfs = []\n",
    "    for locale in LOCALES:\n",
    "        df = co_visit_matrix.filter(pl.lit(locale).is_in(pl.col(\"item_locales\")) & pl.lit(locale).is_in(pl.col(\"candidate_item_locales\")))\n",
    "        df = df.with_columns(pl.lit(locale).alias(\"locale\"))\n",
    "        df = df[[\"item\", \"candidate_item\", \"co_visit_weight\", \"locale\"]]\n",
    "        df = df.sort([\"item\", \"co_visit_weight\"], descending=[False, True])\n",
    "        df = df.groupby(\"item\", maintain_order=True).head(TOP_N)\n",
    "        df = df.with_columns(\n",
    "            pl.col(\"co_visit_weight\").rank(descending=True, method=\"min\").over(\"item\").alias(\"co_visit_rank\")\n",
    "        )\n",
    "        dfs.append(df)\n",
    "    co_visit_matrix = pl.concat(dfs)\n",
    "    return co_visit_matrix"
   ]
  },
  {
   "cell_type": "markdown",
   "metadata": {
    "id": "YSRUru1RZSeW"
   },
   "source": [
    "# For local train/eval"
   ]
  },
  {
   "cell_type": "code",
   "execution_count": 56,
   "metadata": {
    "executionInfo": {
     "elapsed": 3910,
     "status": "ok",
     "timestamp": 1712459950485,
     "user": {
      "displayName": "LIANGYU WANG",
      "userId": "14294738231560219046"
     },
     "user_tz": 240
    },
    "id": "kppiCZHz2kMb"
   },
   "outputs": [],
   "source": [
    "train1 = pl.read_parquet(DIR + \"data/preprocessed/task1/train_task1.parquet\")\n",
    "train2 = pl.read_parquet(DIR + \"data/preprocessed/task2/train_task2.parquet\")\n",
    "train1 = train1.with_columns(\n",
    "    (pl.col(\"session_id\") + \"_from_task1\").alias(\"session_id\")\n",
    ")\n",
    "train = pl.concat([train1, train2])\n",
    "\n",
    "test1_1 = pl.read_parquet(DIR + \"data/preprocessed/task1/test_task1_phase1.parquet\")\n",
    "test1_2 = pl.read_parquet(DIR + \"data/preprocessed/task1/test_task1_phase2.parquet\")\n",
    "test2_1 = pl.read_parquet(DIR + \"data/preprocessed/task2/test_task2_phase1.parquet\")\n",
    "test2_2 = pl.read_parquet(DIR + \"data/preprocessed/task2/test_task2_phase2.parquet\")\n",
    "test3_1 = pl.read_parquet(DIR + \"data/preprocessed/task3/test_task3_phase1.parquet\")\n",
    "test3_2 = pl.read_parquet(DIR + \"data/preprocessed/task3/test_task3_phase2.parquet\")\n",
    "test1_1 = test1_1.with_columns(\n",
    "    (pl.col(\"session_id\") + \"_from_task1\").alias(\"session_id\")\n",
    ")\n",
    "test1_2 = test1_2.with_columns(\n",
    "    (pl.col(\"session_id\") + \"_from_task1\").alias(\"session_id\")\n",
    ")\n",
    "test3_1 = test3_1.with_columns(\n",
    "    (pl.col(\"session_id\") + \"_from_task3\").alias(\"session_id\")\n",
    ")\n",
    "test3_2 = test3_2.with_columns(\n",
    "    (pl.col(\"session_id\") + \"_from_task3\").alias(\"session_id\")\n",
    ")\n",
    "test = pl.concat([test1_1, test1_2, test2_1, test2_2, test3_1, test3_2])"
   ]
  },
  {
   "cell_type": "code",
   "execution_count": 57,
   "metadata": {
    "colab": {
     "base_uri": "https://localhost:8080/"
    },
    "executionInfo": {
     "elapsed": 12110,
     "status": "ok",
     "timestamp": 1712459962594,
     "user": {
      "displayName": "LIANGYU WANG",
      "userId": "14294738231560219046"
     },
     "user_tz": 240
    },
    "id": "mgtgFHKi0xy5",
    "outputId": "c249a2a8-e3b5-4b3d-b39b-6130cccea5bd"
   },
   "outputs": [
    {
     "name": "stderr",
     "output_type": "stream",
     "text": [
      "<ipython-input-5-1bd84c2a05d5>:4: DeprecationWarning: `cumcount` is deprecated. It has been renamed to `cum_count`.\n",
      "  df.select(pl.col(\"session_id\").cumcount().over(\"session_id\").alias(\"sequence_num\"))\n"
     ]
    }
   ],
   "source": [
    "train = preprocess(train)\n",
    "test = preprocess(test)\n",
    "session_df = pl.concat([\n",
    "    train[[\"prev_items\", \"locale\", \"session_id\", \"sequence_num\"]],\n",
    "    test[[\"prev_items\", \"locale\", \"session_id\", \"sequence_num\"]],\n",
    "])"
   ]
  },
  {
   "cell_type": "code",
   "execution_count": 63,
   "metadata": {
    "colab": {
     "base_uri": "https://localhost:8080/",
     "height": 881
    },
    "executionInfo": {
     "elapsed": 1582,
     "status": "ok",
     "timestamp": 1712460148011,
     "user": {
      "displayName": "LIANGYU WANG",
      "userId": "14294738231560219046"
     },
     "user_tz": 240
    },
    "id": "726In8f6ayla",
    "outputId": "df48b553-e22e-4244-db3c-6b2e3b7841bb"
   },
   "outputs": [
    {
     "data": {
      "text/html": [
       "<div><style>\n",
       ".dataframe > thead > tr,\n",
       ".dataframe > tbody > tr {\n",
       "  text-align: right;\n",
       "  white-space: pre-wrap;\n",
       "}\n",
       "</style>\n",
       "<small>shape: (1_345_118, 2)</small><table border=\"1\" class=\"dataframe\"><thead><tr><th>prev_items</th><th>count</th></tr><tr><td>str</td><td>u32</td></tr></thead><tbody><tr><td>&quot;B07QPV9Z7X&quot;</td><td>3285</td></tr><tr><td>&quot;B0BD5MFPMF&quot;</td><td>3137</td></tr><tr><td>&quot;B08GWS298V&quot;</td><td>2894</td></tr><tr><td>&quot;B0BDML9477&quot;</td><td>2818</td></tr><tr><td>&quot;B01MXLEVR7&quot;</td><td>2784</td></tr><tr><td>&quot;B08CN3G4N9&quot;</td><td>2634</td></tr><tr><td>&quot;B00NTCH52W&quot;</td><td>2492</td></tr><tr><td>&quot;B07N8QY3YH&quot;</td><td>2447</td></tr><tr><td>&quot;B0BD88WWQ8&quot;</td><td>2397</td></tr><tr><td>&quot;B09VKWKZ16&quot;</td><td>2380</td></tr><tr><td>&quot;B09NQGVSPD&quot;</td><td>2368</td></tr><tr><td>&quot;B09QFPZ9B7&quot;</td><td>2353</td></tr><tr><td>&hellip;</td><td>&hellip;</td></tr><tr><td>&quot;B07CVVZH37&quot;</td><td>1</td></tr><tr><td>&quot;B09Y8SSZ1N&quot;</td><td>1</td></tr><tr><td>&quot;B073VKPY35&quot;</td><td>1</td></tr><tr><td>&quot;B07DFNVZSP&quot;</td><td>1</td></tr><tr><td>&quot;B00FYNN3GG&quot;</td><td>1</td></tr><tr><td>&quot;B000VVXZM8&quot;</td><td>1</td></tr><tr><td>&quot;B09GK89GWD&quot;</td><td>1</td></tr><tr><td>&quot;B07XJWLJGS&quot;</td><td>1</td></tr><tr><td>&quot;B0B9X1KVYJ&quot;</td><td>1</td></tr><tr><td>&quot;B07SX41NX4&quot;</td><td>1</td></tr><tr><td>&quot;B0BKTWJWBC&quot;</td><td>1</td></tr><tr><td>&quot;B0BD83MKFQ&quot;</td><td>1</td></tr></tbody></table></div>"
      ],
      "text/plain": [
       "shape: (1_345_118, 2)\n",
       "┌────────────┬───────┐\n",
       "│ prev_items ┆ count │\n",
       "│ ---        ┆ ---   │\n",
       "│ str        ┆ u32   │\n",
       "╞════════════╪═══════╡\n",
       "│ B07QPV9Z7X ┆ 3285  │\n",
       "│ B0BD5MFPMF ┆ 3137  │\n",
       "│ B08GWS298V ┆ 2894  │\n",
       "│ B0BDML9477 ┆ 2818  │\n",
       "│ …          ┆ …     │\n",
       "│ B0B9X1KVYJ ┆ 1     │\n",
       "│ B07SX41NX4 ┆ 1     │\n",
       "│ B0BKTWJWBC ┆ 1     │\n",
       "│ B0BD83MKFQ ┆ 1     │\n",
       "└────────────┴───────┘"
      ]
     },
     "execution_count": 63,
     "metadata": {},
     "output_type": "execute_result"
    }
   ],
   "source": [
    "result = session_df.group_by(\"prev_items\").agg(pl.count(\"prev_items\").alias(\"count\"))\n",
    "\n",
    "# 根据 'count' 列降序排序\n",
    "sorted_result = result.sort(\"count\", descending=True)\n",
    "\n",
    "# 显示排序后的结果\n",
    "sorted_result"
   ]
  },
  {
   "cell_type": "code",
   "execution_count": 60,
   "metadata": {
    "colab": {
     "base_uri": "https://localhost:8080/",
     "height": 807
    },
    "executionInfo": {
     "elapsed": 15632,
     "status": "ok",
     "timestamp": 1712460045452,
     "user": {
      "displayName": "LIANGYU WANG",
      "userId": "14294738231560219046"
     },
     "user_tz": 240
    },
    "id": "fDzabREekbcp",
    "outputId": "15c5c5f0-6b92-46b8-b59f-adf495b74cf4"
   },
   "outputs": [
    {
     "data": {
      "image/png": "[encoded data removed]",
      "text/plain": [
       "<Figure size 1200x800 with 1 Axes>"
      ]
     },
     "metadata": {},
     "output_type": "display_data"
    }
   ],
   "source": [
    "import matplotlib.pyplot as plt\n",
    "\n",
    "# 假设sorted_result_pd已经是转换好的Pandas DataFrame\n",
    "# 选择前100行\n",
    "top_100 = sorted_result.head(10000)\n",
    "\n",
    "plt.figure(figsize=(12, 8))  # 调整图形大小\n",
    "plt.bar(range(len(top_100)), top_100['count'], color='skyblue')  # 使用索引作为x轴\n",
    "\n",
    "plt.ylabel('Count')\n",
    "plt.title('Items by Count')\n",
    "\n",
    "# 清除x轴标签名\n",
    "plt.xticks([])  # 设置为空列表，不显示任何x轴标签\n",
    "\n",
    "plt.tight_layout()  # 自动调整子图参数, 使之填充整个图表区域\n",
    "plt.show()\n"
   ]
  },
  {
   "cell_type": "code",
   "execution_count": 10,
   "metadata": {
    "executionInfo": {
     "elapsed": 4070,
     "status": "ok",
     "timestamp": 1712457367707,
     "user": {
      "displayName": "LIANGYU WANG",
      "userId": "14294738231560219046"
     },
     "user_tz": 240
    },
    "id": "TQ5wXFmjErFV"
   },
   "outputs": [],
   "source": [
    "product = pl.read_parquet(\"/content/drive/MyDrive/kddcup2023-ly/kddcup2023/data/preprocessed/common/product_03.parquet\")"
   ]
  },
  {
   "cell_type": "code",
   "execution_count": 11,
   "metadata": {
    "colab": {
     "base_uri": "https://localhost:8080/"
    },
    "executionInfo": {
     "elapsed": 46099,
     "status": "ok",
     "timestamp": 1712457415503,
     "user": {
      "displayName": "LIANGYU WANG",
      "userId": "14294738231560219046"
     },
     "user_tz": 240
    },
    "id": "WJmJYFIWAUqV",
    "outputId": "fe885b55-5afd-4232-d8d4-d5277e501c57"
   },
   "outputs": [
    {
     "name": "stderr",
     "output_type": "stream",
     "text": [
      "<ipython-input-6-eed425043d3b>:14: DeprecationWarning: `map_dict` is deprecated. It has been renamed to `replace`. The default behavior has changed to keep any values not present in the mapping unchanged. Pass `default=None` to keep existing behavior.\n",
      "  pl.col(\"diff_sequence_num\").map_dict(weights).alias(\"co_visit_weight\")\n",
      "<ipython-input-6-eed425043d3b>:16: DeprecationWarning: `groupby` is deprecated. It has been renamed to `group_by`.\n",
      "  df = df.groupby([\"prev_items\", \"prev_items_right\"]).sum()\n"
     ]
    }
   ],
   "source": [
    "co_visit_matrix = generate_co_visit_matrix(session_df, window_n=WINDOW_N, weights=WEIGHTS)"
   ]
  },
  {
   "cell_type": "code",
   "execution_count": null,
   "metadata": {
    "id": "306jq0ePafid"
   },
   "outputs": [],
   "source": []
  },
  {
   "cell_type": "code",
   "execution_count": null,
   "metadata": {
    "colab": {
     "base_uri": "https://localhost:8080/",
     "height": 255
    },
    "executionInfo": {
     "elapsed": 4,
     "status": "ok",
     "timestamp": 1712361707655,
     "user": {
      "displayName": "LIANGYU WANG",
      "userId": "14294738231560219046"
     },
     "user_tz": 240
    },
    "id": "hZka8A2OQ4XX",
    "outputId": "8ed14be1-fe80-4154-9e1e-6f5ffcaf12a9"
   },
   "outputs": [
    {
     "data": {
      "text/html": [
       "<div><style>\n",
       ".dataframe > thead > tr,\n",
       ".dataframe > tbody > tr {\n",
       "  text-align: right;\n",
       "  white-space: pre-wrap;\n",
       "}\n",
       "</style>\n",
       "<small>shape: (5, 3)</small><table border=\"1\" class=\"dataframe\"><thead><tr><th>item</th><th>candidate_item</th><th>co_visit_weight</th></tr><tr><td>str</td><td>str</td><td>f64</td></tr></thead><tbody><tr><td>&quot;B076THCGSG&quot;</td><td>&quot;B007MO8IME&quot;</td><td>3.0</td></tr><tr><td>&quot;B001B4TKA0&quot;</td><td>&quot;B007MO8IME&quot;</td><td>0.25</td></tr><tr><td>&quot;B007MO8IME&quot;</td><td>&quot;B08MF65MLV&quot;</td><td>3.0</td></tr><tr><td>&quot;B076THCGSG&quot;</td><td>&quot;B001B4TKA0&quot;</td><td>0.25</td></tr><tr><td>&quot;B09XMTWDVT&quot;</td><td>&quot;B0B4MZZ8MB&quot;</td><td>922.41</td></tr></tbody></table></div>"
      ],
      "text/plain": [
       "shape: (5, 3)\n",
       "┌────────────┬────────────────┬─────────────────┐\n",
       "│ item       ┆ candidate_item ┆ co_visit_weight │\n",
       "│ ---        ┆ ---            ┆ ---             │\n",
       "│ str        ┆ str            ┆ f64             │\n",
       "╞════════════╪════════════════╪═════════════════╡\n",
       "│ B076THCGSG ┆ B007MO8IME     ┆ 3.0             │\n",
       "│ B001B4TKA0 ┆ B007MO8IME     ┆ 0.25            │\n",
       "│ B007MO8IME ┆ B08MF65MLV     ┆ 3.0             │\n",
       "│ B076THCGSG ┆ B001B4TKA0     ┆ 0.25            │\n",
       "│ B09XMTWDVT ┆ B0B4MZZ8MB     ┆ 922.41          │\n",
       "└────────────┴────────────────┴─────────────────┘"
      ]
     },
     "execution_count": 12,
     "metadata": {},
     "output_type": "execute_result"
    }
   ],
   "source": [
    "co_visit_matrix.head()"
   ]
  },
  {
   "cell_type": "code",
   "execution_count": null,
   "metadata": {
    "colab": {
     "base_uri": "https://localhost:8080/"
    },
    "executionInfo": {
     "elapsed": 90377,
     "status": "ok",
     "timestamp": 1712361816997,
     "user": {
      "displayName": "LIANGYU WANG",
      "userId": "14294738231560219046"
     },
     "user_tz": 240
    },
    "id": "AjxxQyGDIGR8",
    "outputId": "b093e41a-8117-447b-a72d-43bcf39d9ef9"
   },
   "outputs": [
    {
     "name": "stderr",
     "output_type": "stream",
     "text": [
      "<ipython-input-7-56a96cf9c84c>:12: DeprecationWarning: `groupby` is deprecated. It has been renamed to `group_by`.\n",
      "  df = df.groupby(\"item\", maintain_order=True).head(TOP_N)\n"
     ]
    }
   ],
   "source": [
    "co_visit_matrix = filter_by_locale_availability(co_visit_matrix, product)"
   ]
  },
  {
   "cell_type": "code",
   "execution_count": null,
   "metadata": {
    "colab": {
     "base_uri": "https://localhost:8080/"
    },
    "executionInfo": {
     "elapsed": 14,
     "status": "ok",
     "timestamp": 1712361816997,
     "user": {
      "displayName": "LIANGYU WANG",
      "userId": "14294738231560219046"
     },
     "user_tz": 240
    },
    "id": "iqygXLO7QeJ6",
    "outputId": "4e7b5265-93bb-4679-ec28-0a30622a9e96"
   },
   "outputs": [
    {
     "data": {
      "text/html": [
       "<div><style>\n",
       ".dataframe > thead > tr,\n",
       ".dataframe > tbody > tr {\n",
       "  text-align: right;\n",
       "  white-space: pre-wrap;\n",
       "}\n",
       "</style>\n",
       "<small>shape: (5, 5)</small><table border=\"1\" class=\"dataframe\"><thead><tr><th>item</th><th>candidate_item</th><th>co_visit_weight</th><th>locale</th><th>co_visit_rank</th></tr><tr><td>str</td><td>str</td><td>f64</td><td>str</td><td>u32</td></tr></thead><tbody><tr><td>&quot;0007440847&quot;</td><td>&quot;0008376107&quot;</td><td>3.25</td><td>&quot;DE&quot;</td><td>1</td></tr><tr><td>&quot;0007440847&quot;</td><td>&quot;3608937145&quot;</td><td>0.5</td><td>&quot;DE&quot;</td><td>2</td></tr><tr><td>&quot;0007440847&quot;</td><td>&quot;0261103563&quot;</td><td>0.5</td><td>&quot;DE&quot;</td><td>2</td></tr><tr><td>&quot;0007440847&quot;</td><td>&quot;3608938184&quot;</td><td>0.5</td><td>&quot;DE&quot;</td><td>2</td></tr><tr><td>&quot;0007440847&quot;</td><td>&quot;3608939849&quot;</td><td>0.4</td><td>&quot;DE&quot;</td><td>5</td></tr></tbody></table></div>"
      ],
      "text/plain": [
       "shape: (5, 5)\n",
       "┌────────────┬────────────────┬─────────────────┬────────┬───────────────┐\n",
       "│ item       ┆ candidate_item ┆ co_visit_weight ┆ locale ┆ co_visit_rank │\n",
       "│ ---        ┆ ---            ┆ ---             ┆ ---    ┆ ---           │\n",
       "│ str        ┆ str            ┆ f64             ┆ str    ┆ u32           │\n",
       "╞════════════╪════════════════╪═════════════════╪════════╪═══════════════╡\n",
       "│ 0007440847 ┆ 0008376107     ┆ 3.25            ┆ DE     ┆ 1             │\n",
       "│ 0007440847 ┆ 3608937145     ┆ 0.5             ┆ DE     ┆ 2             │\n",
       "│ 0007440847 ┆ 0261103563     ┆ 0.5             ┆ DE     ┆ 2             │\n",
       "│ 0007440847 ┆ 3608938184     ┆ 0.5             ┆ DE     ┆ 2             │\n",
       "│ 0007440847 ┆ 3608939849     ┆ 0.4             ┆ DE     ┆ 5             │\n",
       "└────────────┴────────────────┴─────────────────┴────────┴───────────────┘"
      ]
     },
     "execution_count": 14,
     "metadata": {},
     "output_type": "execute_result"
    }
   ],
   "source": [
    "co_visit_matrix.head()"
   ]
  },
  {
   "cell_type": "code",
   "execution_count": null,
   "metadata": {
    "id": "KXodoFWbucGI"
   },
   "outputs": [],
   "source": [
    "file_name = f\"co_visit_matrix_{VER}_for_train_or_eval.parquet\"\n",
    "co_visit_matrix.write_parquet(\"/content/drive/MyDrive/kddcup2023/data/interim/candidates/task1/\" + file_name)"
   ]
  },
  {
   "cell_type": "code",
   "execution_count": null,
   "metadata": {
    "colab": {
     "base_uri": "https://localhost:8080/",
     "height": 255
    },
    "executionInfo": {
     "elapsed": 5,
     "status": "ok",
     "timestamp": 1702913733134,
     "user": {
      "displayName": "pp rich",
      "userId": "00371241177131396451"
     },
     "user_tz": -480
    },
    "id": "bT3wtCCCxSEa",
    "outputId": "edd354b7-b052-4c8c-eca0-75580dcc37a6"
   },
   "outputs": [
    {
     "data": {
      "text/html": [
       "<div><style>\n",
       ".dataframe > thead > tr > th,\n",
       ".dataframe > tbody > tr > td {\n",
       "  text-align: right;\n",
       "}\n",
       "</style>\n",
       "<small>shape: (5, 5)</small><table border=\"1\" class=\"dataframe\"><thead><tr><th>item</th><th>candidate_item</th><th>co_visit_weight</th><th>locale</th><th>co_visit_rank</th></tr><tr><td>str</td><td>str</td><td>f64</td><td>str</td><td>u32</td></tr></thead><tbody><tr><td>&quot;0007440847&quot;</td><td>&quot;0008376107&quot;</td><td>3.25</td><td>&quot;DE&quot;</td><td>1</td></tr><tr><td>&quot;0007440847&quot;</td><td>&quot;3608938184&quot;</td><td>0.5</td><td>&quot;DE&quot;</td><td>2</td></tr><tr><td>&quot;0007440847&quot;</td><td>&quot;0261103563&quot;</td><td>0.5</td><td>&quot;DE&quot;</td><td>2</td></tr><tr><td>&quot;0007440847&quot;</td><td>&quot;3608937145&quot;</td><td>0.5</td><td>&quot;DE&quot;</td><td>2</td></tr><tr><td>&quot;0007440847&quot;</td><td>&quot;3608939849&quot;</td><td>0.4</td><td>&quot;DE&quot;</td><td>5</td></tr></tbody></table></div>"
      ],
      "text/plain": [
       "shape: (5, 5)\n",
       "┌────────────┬────────────────┬─────────────────┬────────┬───────────────┐\n",
       "│ item       ┆ candidate_item ┆ co_visit_weight ┆ locale ┆ co_visit_rank │\n",
       "│ ---        ┆ ---            ┆ ---             ┆ ---    ┆ ---           │\n",
       "│ str        ┆ str            ┆ f64             ┆ str    ┆ u32           │\n",
       "╞════════════╪════════════════╪═════════════════╪════════╪═══════════════╡\n",
       "│ 0007440847 ┆ 0008376107     ┆ 3.25            ┆ DE     ┆ 1             │\n",
       "│ 0007440847 ┆ 3608938184     ┆ 0.5             ┆ DE     ┆ 2             │\n",
       "│ 0007440847 ┆ 0261103563     ┆ 0.5             ┆ DE     ┆ 2             │\n",
       "│ 0007440847 ┆ 3608937145     ┆ 0.5             ┆ DE     ┆ 2             │\n",
       "│ 0007440847 ┆ 3608939849     ┆ 0.4             ┆ DE     ┆ 5             │\n",
       "└────────────┴────────────────┴─────────────────┴────────┴───────────────┘"
      ]
     },
     "execution_count": 14,
     "metadata": {},
     "output_type": "execute_result"
    }
   ],
   "source": [
    "co_visit_matrix.head()"
   ]
  },
  {
   "cell_type": "markdown",
   "metadata": {
    "id": "cOtwZthQl0Ha"
   },
   "source": [
    "## MRR@100"
   ]
  },
  {
   "cell_type": "code",
   "execution_count": null,
   "metadata": {
    "id": "sA9yoJBn2fC8"
   },
   "outputs": [],
   "source": [
    "train = pl.read_parquet(\"/content/drive/MyDrive/kddcup2023/data/preprocessed/task1/train_task1.parquet\")"
   ]
  },
  {
   "cell_type": "code",
   "execution_count": null,
   "metadata": {
    "id": "0Ia9azZcl0P0"
   },
   "outputs": [],
   "source": [
    "# last_item\n",
    "last_item_list = []\n",
    "prev_items_list = train[\"prev_items\"].to_list()\n",
    "for prev_items in prev_items_list:\n",
    "    last_item_list.append(prev_items[-1])\n",
    "train = train.with_columns(pl.Series(name=\"last_item\", values=last_item_list))"
   ]
  },
  {
   "cell_type": "code",
   "execution_count": null,
   "metadata": {
    "id": "k6Wcc4ci4TYa"
   },
   "outputs": [],
   "source": [
    "train = train[[\"session_id\", \"locale\", \"last_item\", \"next_item\"]]"
   ]
  },
  {
   "cell_type": "code",
   "execution_count": null,
   "metadata": {
    "id": "dPSyGuvLIKIJ"
   },
   "outputs": [],
   "source": [
    "co_visit_matrix = pl.read_parquet(\"/content/drive/MyDrive/kddcup2023/data/interim/candidates/task1/\" + file_name)"
   ]
  },
  {
   "cell_type": "code",
   "execution_count": null,
   "metadata": {
    "id": "06aTXFJ9l0Sc"
   },
   "outputs": [],
   "source": [
    "# Merge candidate and add label\n",
    "dfs = []\n",
    "label_lists = []\n",
    "for locale in LOCALES:\n",
    "    df = train.filter(pl.col(\"locale\")==locale)\n",
    "    matrix = co_visit_matrix.filter(pl.col(\"locale\")==locale)\n",
    "    df = df.join(matrix, left_on=[\"locale\", \"last_item\"], right_on=[\"locale\", \"item\"], how=\"left\")\n",
    "    df = df.sort([\"session_id\", \"co_visit_weight\"], descending=[False, True])\n",
    "    df = df.with_columns((pl.col(\"candidate_item\") == pl.col(\"next_item\")).cast(pl.Int8).alias(\"label\"))\n",
    "    label_lists.extend(df.groupby(\"session_id\", maintain_order=True).all()[\"label\"].to_list())"
   ]
  },
  {
   "cell_type": "code",
   "execution_count": null,
   "metadata": {
    "colab": {
     "base_uri": "https://localhost:8080/"
    },
    "executionInfo": {
     "elapsed": 11064,
     "status": "ok",
     "timestamp": 1702913863596,
     "user": {
      "displayName": "pp rich",
      "userId": "00371241177131396451"
     },
     "user_tz": -480
    },
    "id": "F7KhQJN3l0Uy",
    "outputId": "96486e19-2fd8-4066-f7f9-6454c1c3fdd8"
   },
   "outputs": [
    {
     "name": "stdout",
     "output_type": "stream",
     "text": [
      "MRR: 0.23472\n"
     ]
    }
   ],
   "source": [
    "# MRR\n",
    "rr = 0\n",
    "for labels in label_lists:\n",
    "    labels = labels[:100]\n",
    "    for i, label in enumerate(labels):\n",
    "        if label == 1:\n",
    "            rr += 1 / (i+1)\n",
    "            break\n",
    "mrr = rr / len(label_lists)\n",
    "print(\"MRR:\", round(mrr, 5))"
   ]
  },
  {
   "cell_type": "markdown",
   "metadata": {
    "id": "WePFxwftxF2S"
   },
   "source": [
    "# For test inference"
   ]
  },
  {
   "cell_type": "code",
   "execution_count": null,
   "metadata": {
    "id": "glff-u5Y7vCm"
   },
   "outputs": [],
   "source": [
    "train1 = pl.read_parquet(DIR + \"data/preprocessed/task1/train_task1.parquet\")\n",
    "train2 = pl.read_parquet(DIR + \"data/preprocessed/task2/train_task2.parquet\")\n",
    "train1 = train1.with_columns(\n",
    "    (pl.col(\"session_id\") + \"_from_task1\").alias(\"session_id\")\n",
    ")\n",
    "train = pl.concat([train1, train2])\n",
    "\n",
    "test1_1 = pl.read_parquet(DIR + \"data/preprocessed/task1/test_task1_phase1.parquet\")\n",
    "test1_2 = pl.read_parquet(DIR + \"data/preprocessed/task1/test_task1_phase2.parquet\")\n",
    "test2_1 = pl.read_parquet(DIR + \"data/preprocessed/task2/test_task2_phase1.parquet\")\n",
    "test2_2 = pl.read_parquet(DIR + \"data/preprocessed/task2/test_task2_phase2.parquet\")\n",
    "test3_1 = pl.read_parquet(DIR + \"data/preprocessed/task3/test_task3_phase1.parquet\")\n",
    "test3_2 = pl.read_parquet(DIR + \"data/preprocessed/task3/test_task3_phase2.parquet\")\n",
    "test1_1 = test1_1.with_columns(\n",
    "    (pl.col(\"session_id\") + \"_from_task1\").alias(\"session_id\")\n",
    ")\n",
    "test1_2 = test1_2.with_columns(\n",
    "    (pl.col(\"session_id\") + \"_from_task1\").alias(\"session_id\")\n",
    ")\n",
    "test3_1 = test3_1.with_columns(\n",
    "    (pl.col(\"session_id\") + \"_from_task3\").alias(\"session_id\")\n",
    ")\n",
    "test3_2 = test3_2.with_columns(\n",
    "    (pl.col(\"session_id\") + \"_from_task3\").alias(\"session_id\")\n",
    ")\n",
    "test = pl.concat([test1_1, test1_2, test2_1, test2_2, test3_1, test3_2])"
   ]
  },
  {
   "cell_type": "code",
   "execution_count": null,
   "metadata": {
    "id": "um9Y8XD09W2v"
   },
   "outputs": [],
   "source": [
    "# Append train's next_item to prev_items\n",
    "prev_items_list = train[\"prev_items\"].to_list()\n",
    "next_item_list = train[\"next_item\"].to_list()\n",
    "prev_items_list_updated = []\n",
    "for prev_items, next_item in zip(prev_items_list, next_item_list):\n",
    "    prev_items.append(next_item)\n",
    "    prev_items_list_updated.append(prev_items)\n",
    "\n",
    "train = train.with_columns(\n",
    "    pl.Series(name=\"prev_items\", values=prev_items_list_updated)\n",
    ")"
   ]
  },
  {
   "cell_type": "code",
   "execution_count": null,
   "metadata": {
    "id": "zhFPqBM17vE5"
   },
   "outputs": [],
   "source": [
    "train = preprocess(train)\n",
    "test = preprocess(test)\n",
    "session_df = pl.concat([\n",
    "    train[\"prev_items\", \"locale\", \"session_id\", \"sequence_num\"],\n",
    "    test[\"prev_items\", \"locale\", \"session_id\", \"sequence_num\"],\n",
    "])"
   ]
  },
  {
   "cell_type": "code",
   "execution_count": null,
   "metadata": {
    "id": "3lPMwOkfL_tZ"
   },
   "outputs": [],
   "source": [
    "product = pl.read_parquet(\"/content/drive/MyDrive/kddcup2023/data/preprocessed/common/product_03.parquet\")"
   ]
  },
  {
   "cell_type": "code",
   "execution_count": null,
   "metadata": {
    "id": "wbwhO4n2MBCk"
   },
   "outputs": [],
   "source": [
    "co_visit_matrix = generate_co_visit_matrix(session_df, window_n=WINDOW_N, weights=WEIGHTS)"
   ]
  },
  {
   "cell_type": "code",
   "execution_count": null,
   "metadata": {
    "id": "hTalWNeKMBZp"
   },
   "outputs": [],
   "source": [
    "co_visit_matrix = filter_by_locale_availability(co_visit_matrix, product)"
   ]
  },
  {
   "cell_type": "code",
   "execution_count": null,
   "metadata": {
    "id": "De0bLV0nxM3T"
   },
   "outputs": [],
   "source": [
    "file_name = f\"co_visit_matrix_{VER}_for_inference.parquet\"\n",
    "co_visit_matrix.write_parquet(\"/content/drive/MyDrive/kddcup2023/data/interim/candidates/task1/\" + file_name)"
   ]
  },
  {
   "cell_type": "code",
   "execution_count": null,
   "metadata": {
    "id": "293Toe7pxaBI"
   },
   "outputs": [],
   "source": [
    "co_visit_matrix.head()"
   ]
  },
  {
   "cell_type": "code",
   "execution_count": null,
   "metadata": {
    "id": "2bhuOxE0HS5C"
   },
   "outputs": [],
   "source": []
  }
 ],
 "metadata": {
  "colab": {
   "machine_shape": "hm",
   "provenance": []
  },
  "gpuClass": "standard",
  "kernelspec": {
   "display_name": "Python 3",
   "name": "python3"
  },
  "language_info": {
   "name": "python"
  }
 },
 "nbformat": 4,
 "nbformat_minor": 0
}
