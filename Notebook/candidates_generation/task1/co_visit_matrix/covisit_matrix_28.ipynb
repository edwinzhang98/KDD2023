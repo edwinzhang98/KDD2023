{
 "cells": [
  {
   "cell_type": "code",
   "execution_count": null,
   "metadata": {
    "colab": {
     "base_uri": "https://localhost:8080/"
    },
    "executionInfo": {
     "elapsed": 20418,
     "status": "ok",
     "timestamp": 1702867580367,
     "user": {
      "displayName": "pp rich",
      "userId": "00371241177131396451"
     },
     "user_tz": -480
    },
    "id": "BnKnD-UQWSEg",
    "outputId": "04d38755-8b62-47eb-c60f-bcd27d9d3865"
   },
   "outputs": [
    {
     "name": "stdout",
     "output_type": "stream",
     "text": [
      "Mounted at /content/drive\n"
     ]
    }
   ],
   "source": [
    "from google.colab import drive\n",
    "drive.mount('/content/drive')"
   ]
  },
  {
   "cell_type": "code",
   "execution_count": null,
   "metadata": {
    "colab": {
     "base_uri": "https://localhost:8080/"
    },
    "executionInfo": {
     "elapsed": 5499,
     "status": "ok",
     "timestamp": 1702867602967,
     "user": {
      "displayName": "pp rich",
      "userId": "00371241177131396451"
     },
     "user_tz": -480
    },
    "id": "8Af_47xxWVhC",
    "outputId": "ca5599b2-f29b-4c14-bd02-c144579ba1f5"
   },
   "outputs": [
    {
     "name": "stdout",
     "output_type": "stream",
     "text": [
      "Requirement already satisfied: polars in /usr/local/lib/python3.10/dist-packages (0.17.3)\n",
      "Requirement already satisfied: typing_extensions>=4.0.1 in /usr/local/lib/python3.10/dist-packages (from polars) (4.5.0)\n"
     ]
    }
   ],
   "source": [
    "!pip install polars"
   ]
  },
  {
   "cell_type": "code",
   "execution_count": null,
   "metadata": {
    "id": "F-RBDJdwWdI-"
   },
   "outputs": [],
   "source": [
    "from collections import defaultdict, Counter\n",
    "from typing import List, Dict, Union\n",
    "\n",
    "from tqdm import tqdm\n",
    "import polars as pl"
   ]
  },
  {
   "cell_type": "code",
   "execution_count": null,
   "metadata": {
    "id": "YamzEAnvF6Sz"
   },
   "outputs": [],
   "source": [
    "TOP_N = 100\n",
    "LOCALES = [\"UK\", \"JP\", \"DE\"]\n",
    "VER = \"28\"\n",
    "DIR = \"/content/drive/MyDrive/kddcup2023/\"\n"
   ]
  },
  {
   "cell_type": "code",
   "execution_count": null,
   "metadata": {
    "id": "fTqrjJF11A4n"
   },
   "outputs": [],
   "source": [
    "def preprocess(df:pl.DataFrame) -> pl.DataFrame:\n",
    "    df = df.explode([\"prev_items\"])\n",
    "    df = df.with_columns(\n",
    "        df.select(pl.col(\"session_id\").cumcount().over(\"session_id\").alias(\"sequence_num\"))\n",
    "    )\n",
    "    return df"
   ]
  },
  {
   "cell_type": "code",
   "execution_count": null,
   "metadata": {
    "id": "a-55dFNZvS1j"
   },
   "outputs": [],
   "source": [
    "def generate_co_visit_matrix(df:pl.DataFrame) -> pl.DataFrame:\n",
    "    # Creation of co-occurrence pairs\n",
    "    df = df[[\"session_id\", \"prev_items\", \"sequence_num\"]].join(df[[\"session_id\", \"prev_items\", \"sequence_num\"]], on=\"session_id\")\n",
    "\n",
    "    # Calculate the interval of co-occurrence and filter\n",
    "    df = df.with_columns(\n",
    "        (pl.col(\"sequence_num_right\").cast(pl.Int64) - pl.col(\"sequence_num\").cast(pl.Int64)).alias(\"diff_sequence_num\")\n",
    "    )\n",
    "    df = df.filter((pl.col(\"diff_sequence_num\") > 0) & (pl.col(\"diff_sequence_num\") <= 5))\n",
    "    df = df.filter(pl.col(\"prev_items\") != pl.col(\"prev_items_right\"))\n",
    "\n",
    "    # Calculate the weight and sum for each co-occurrence pair\n",
    "    df = df.with_columns(\n",
    "        pl.lit(1).alias(\"consective_5_weight\")\n",
    "    )\n",
    "    df = df.groupby([\"prev_items\", \"prev_items_right\"]).sum()\n",
    "    df = df.rename({\"prev_items\":\"item\", \"prev_items_right\":\"candidate_item\"})[[\"item\", \"candidate_item\", \"consective_5_weight\"]]\n",
    "\n",
    "    return df"
   ]
  },
  {
   "cell_type": "code",
   "execution_count": null,
   "metadata": {
    "id": "xDePQQB7E9A9"
   },
   "outputs": [],
   "source": [
    "def filter_by_locale_availability(co_visit_matrix:pl.DataFrame, product:pl.DataFrame):\n",
    "    product = product.unique(subset=[\"id\"])\n",
    "    product = product[[\"id\", \"available_locales\"]]\n",
    "    co_visit_matrix = co_visit_matrix.join(product, left_on=\"item\", right_on=\"id\", how=\"left\").rename({\"available_locales\":\"item_locales\"})\n",
    "    co_visit_matrix = co_visit_matrix.join(product, left_on=\"candidate_item\", right_on=\"id\", how=\"left\").rename({\"available_locales\":\"candidate_item_locales\"})\n",
    "    dfs = []\n",
    "    for locale in LOCALES:\n",
    "        df = co_visit_matrix.filter(pl.lit(locale).is_in(pl.col(\"item_locales\")) & pl.lit(locale).is_in(pl.col(\"candidate_item_locales\")))\n",
    "        df = df.with_columns(pl.lit(locale).alias(\"locale\"))\n",
    "        df = df[[\"item\", \"candidate_item\", \"consective_5_weight\", \"locale\"]]\n",
    "        df = df.sort([\"item\", \"consective_5_weight\"], descending=[False, True])\n",
    "        df = df.groupby(\"item\", maintain_order=True).head(TOP_N)\n",
    "        df = df.with_columns(\n",
    "            pl.col(\"consective_5_weight\").rank(descending=True, method=\"min\").over(\"item\").alias(\"consective_5_rank\")\n",
    "        )\n",
    "        dfs.append(df)\n",
    "    co_visit_matrix = pl.concat(dfs)\n",
    "    return co_visit_matrix"
   ]
  },
  {
   "cell_type": "markdown",
   "metadata": {
    "id": "YSRUru1RZSeW"
   },
   "source": [
    "# For local train/eval"
   ]
  },
  {
   "cell_type": "code",
   "execution_count": null,
   "metadata": {
    "id": "dxk-pgae1yd6"
   },
   "outputs": [],
   "source": [
    "train1 = pl.read_parquet(DIR + \"data/preprocessed/task1/train_task1.parquet\")\n",
    "train2 = pl.read_parquet(DIR + \"data/preprocessed/task2/train_task2.parquet\")\n",
    "train1 = train1.with_columns(\n",
    "    (pl.col(\"session_id\") + \"_from_task1\").alias(\"session_id\")\n",
    ")\n",
    "train = pl.concat([train1, train2])\n",
    "\n",
    "test1_1 = pl.read_parquet(DIR + \"data/preprocessed/task1/test_task1_phase1.parquet\")\n",
    "test1_2 = pl.read_parquet(DIR + \"data/preprocessed/task1/test_task1_phase2.parquet\")\n",
    "test2_1 = pl.read_parquet(DIR + \"data/preprocessed/task2/test_task2_phase1.parquet\")\n",
    "test2_2 = pl.read_parquet(DIR + \"data/preprocessed/task2/test_task2_phase2.parquet\")\n",
    "test3_1 = pl.read_parquet(DIR + \"data/preprocessed/task3/test_task3_phase1.parquet\")\n",
    "test3_2 = pl.read_parquet(DIR + \"data/preprocessed/task3/test_task3_phase2.parquet\")\n",
    "test1_1 = test1_1.with_columns(\n",
    "    (pl.col(\"session_id\") + \"_from_task1\").alias(\"session_id\")\n",
    ")\n",
    "test1_2 = test1_2.with_columns(\n",
    "    (pl.col(\"session_id\") + \"_from_task1\").alias(\"session_id\")\n",
    ")\n",
    "test3_1 = test3_1.with_columns(\n",
    "    (pl.col(\"session_id\") + \"_from_task3\").alias(\"session_id\")\n",
    ")\n",
    "test3_2 = test3_2.with_columns(\n",
    "    (pl.col(\"session_id\") + \"_from_task3\").alias(\"session_id\")\n",
    ")\n",
    "test = pl.concat([test1_1, test1_2, test2_1, test2_2, test3_1, test3_2])"
   ]
  },
  {
   "cell_type": "code",
   "execution_count": null,
   "metadata": {
    "id": "mgtgFHKi0xy5"
   },
   "outputs": [],
   "source": [
    "train = preprocess(train)\n",
    "test = preprocess(test)\n",
    "session_df = pl.concat([\n",
    "    train[\"prev_items\", \"locale\", \"session_id\", \"sequence_num\"],\n",
    "    test[\"prev_items\", \"locale\", \"session_id\", \"sequence_num\"],\n",
    "])"
   ]
  },
  {
   "cell_type": "code",
   "execution_count": null,
   "metadata": {
    "id": "TQ5wXFmjErFV"
   },
   "outputs": [],
   "source": [
    "product = pl.read_parquet(\"/content/drive/MyDrive/kddcup2023/data/preprocessed/common/product_03.parquet\")"
   ]
  },
  {
   "cell_type": "code",
   "execution_count": null,
   "metadata": {
    "id": "WJmJYFIWAUqV"
   },
   "outputs": [],
   "source": [
    "co_visit_matrix = generate_co_visit_matrix(session_df)"
   ]
  },
  {
   "cell_type": "code",
   "execution_count": null,
   "metadata": {
    "id": "AjxxQyGDIGR8"
   },
   "outputs": [],
   "source": [
    "co_visit_matrix = filter_by_locale_availability(co_visit_matrix, product)"
   ]
  },
  {
   "cell_type": "code",
   "execution_count": null,
   "metadata": {
    "id": "KXodoFWbucGI"
   },
   "outputs": [],
   "source": [
    "file_name = f\"co_visit_matrix_{VER}_for_train_or_eval.parquet\"\n",
    "co_visit_matrix.write_parquet(\"/content/drive/MyDrive/kddcup2023/data/interim/candidates/task1/\" + file_name)"
   ]
  },
  {
   "cell_type": "code",
   "execution_count": null,
   "metadata": {
    "colab": {
     "base_uri": "https://localhost:8080/",
     "height": 255
    },
    "executionInfo": {
     "elapsed": 13,
     "status": "ok",
     "timestamp": 1702867681350,
     "user": {
      "displayName": "pp rich",
      "userId": "00371241177131396451"
     },
     "user_tz": -480
    },
    "id": "bT3wtCCCxSEa",
    "outputId": "64ede126-34d1-40a9-ddbb-0666c2200bdf"
   },
   "outputs": [
    {
     "data": {
      "text/html": [
       "<div><style>\n",
       ".dataframe > thead > tr > th,\n",
       ".dataframe > tbody > tr > td {\n",
       "  text-align: right;\n",
       "}\n",
       "</style>\n",
       "<small>shape: (5, 5)</small><table border=\"1\" class=\"dataframe\"><thead><tr><th>item</th><th>candidate_item</th><th>consective_5_weight</th><th>locale</th><th>consective_5_rank</th></tr><tr><td>str</td><td>str</td><td>i32</td><td>str</td><td>u32</td></tr></thead><tbody><tr><td>&quot;0001821946&quot;</td><td>&quot;0008326045&quot;</td><td>2</td><td>&quot;UK&quot;</td><td>1</td></tr><tr><td>&quot;0001821946&quot;</td><td>&quot;0702303518&quot;</td><td>1</td><td>&quot;UK&quot;</td><td>2</td></tr><tr><td>&quot;0001821946&quot;</td><td>&quot;B0B5Y3W62S&quot;</td><td>1</td><td>&quot;UK&quot;</td><td>2</td></tr><tr><td>&quot;000647988X&quot;</td><td>&quot;B077ZC5D9D&quot;</td><td>1</td><td>&quot;UK&quot;</td><td>1</td></tr><tr><td>&quot;000647988X&quot;</td><td>&quot;0007428545&quot;</td><td>1</td><td>&quot;UK&quot;</td><td>1</td></tr></tbody></table></div>"
      ],
      "text/plain": [
       "shape: (5, 5)\n",
       "┌────────────┬────────────────┬─────────────────────┬────────┬───────────────────┐\n",
       "│ item       ┆ candidate_item ┆ consective_5_weight ┆ locale ┆ consective_5_rank │\n",
       "│ ---        ┆ ---            ┆ ---                 ┆ ---    ┆ ---               │\n",
       "│ str        ┆ str            ┆ i32                 ┆ str    ┆ u32               │\n",
       "╞════════════╪════════════════╪═════════════════════╪════════╪═══════════════════╡\n",
       "│ 0001821946 ┆ 0008326045     ┆ 2                   ┆ UK     ┆ 1                 │\n",
       "│ 0001821946 ┆ 0702303518     ┆ 1                   ┆ UK     ┆ 2                 │\n",
       "│ 0001821946 ┆ B0B5Y3W62S     ┆ 1                   ┆ UK     ┆ 2                 │\n",
       "│ 000647988X ┆ B077ZC5D9D     ┆ 1                   ┆ UK     ┆ 1                 │\n",
       "│ 000647988X ┆ 0007428545     ┆ 1                   ┆ UK     ┆ 1                 │\n",
       "└────────────┴────────────────┴─────────────────────┴────────┴───────────────────┘"
      ]
     },
     "execution_count": 14,
     "metadata": {},
     "output_type": "execute_result"
    }
   ],
   "source": [
    "co_visit_matrix.head()"
   ]
  },
  {
   "cell_type": "markdown",
   "metadata": {
    "id": "cOtwZthQl0Ha"
   },
   "source": [
    "## MRR@100"
   ]
  },
  {
   "cell_type": "code",
   "execution_count": null,
   "metadata": {
    "id": "sA9yoJBn2fC8"
   },
   "outputs": [],
   "source": [
    "train = pl.read_parquet(\"/content/drive/MyDrive/kddcup2023/data/preprocessed/task1/train_task1.parquet\")"
   ]
  },
  {
   "cell_type": "code",
   "execution_count": null,
   "metadata": {
    "id": "0Ia9azZcl0P0"
   },
   "outputs": [],
   "source": [
    "# last_item\n",
    "last_item_list = []\n",
    "prev_items_list = train[\"prev_items\"].to_list()\n",
    "for prev_items in prev_items_list:\n",
    "    last_item_list.append(prev_items[-1])\n",
    "train = train.with_columns(pl.Series(name=\"last_item\", values=last_item_list))"
   ]
  },
  {
   "cell_type": "code",
   "execution_count": null,
   "metadata": {
    "id": "k6Wcc4ci4TYa"
   },
   "outputs": [],
   "source": [
    "train = train[[\"session_id\", \"locale\", \"last_item\", \"next_item\"]]"
   ]
  },
  {
   "cell_type": "code",
   "execution_count": null,
   "metadata": {
    "id": "dPSyGuvLIKIJ"
   },
   "outputs": [],
   "source": [
    "co_visit_matrix = pl.read_parquet(\"/content/drive/MyDrive/kddcup2023/data/interim/candidates/task1/\" + file_name)"
   ]
  },
  {
   "cell_type": "code",
   "execution_count": null,
   "metadata": {
    "id": "06aTXFJ9l0Sc"
   },
   "outputs": [],
   "source": [
    "# Merge candidate and add label\n",
    "df = train.join(co_visit_matrix, left_on=[\"locale\", \"last_item\"], right_on=[\"locale\", \"item\"], how=\"left\")\n",
    "df = df.sort([\"session_id\", \"consective_5_weight\"], descending=[False, True])\n",
    "df = df.with_columns((pl.col(\"candidate_item\") == pl.col(\"next_item\")).cast(pl.Int8).alias(\"label\"))\n",
    "label_lists = df.groupby(\"session_id\", maintain_order=True).all()[\"label\"].to_list()"
   ]
  },
  {
   "cell_type": "code",
   "execution_count": null,
   "metadata": {
    "colab": {
     "base_uri": "https://localhost:8080/"
    },
    "executionInfo": {
     "elapsed": 5427,
     "status": "ok",
     "timestamp": 1702867737831,
     "user": {
      "displayName": "pp rich",
      "userId": "00371241177131396451"
     },
     "user_tz": -480
    },
    "id": "F7KhQJN3l0Uy",
    "outputId": "88ef4f8b-1679-4ca0-86b6-63d44254231b"
   },
   "outputs": [
    {
     "name": "stdout",
     "output_type": "stream",
     "text": [
      "MRR: 0.21706\n"
     ]
    }
   ],
   "source": [
    "# MRR\n",
    "rr = 0\n",
    "for labels in label_lists:\n",
    "    labels = labels[:100]\n",
    "    for i, label in enumerate(labels):\n",
    "        if label == 1:\n",
    "            rr += 1 / (i+1)\n",
    "            break\n",
    "mrr = rr / len(label_lists)\n",
    "print(\"MRR:\", round(mrr, 5))"
   ]
  },
  {
   "cell_type": "markdown",
   "metadata": {
    "id": "WePFxwftxF2S"
   },
   "source": [
    "# For test inference"
   ]
  },
  {
   "cell_type": "code",
   "execution_count": null,
   "metadata": {
    "id": "glff-u5Y7vCm"
   },
   "outputs": [],
   "source": [
    "train1 = pl.read_parquet(DIR + \"data/preprocessed/task1/train_task1.parquet\")\n",
    "train2 = pl.read_parquet(DIR + \"data/preprocessed/task2/train_task2.parquet\")\n",
    "train1 = train1.with_columns(\n",
    "    (pl.col(\"session_id\") + \"_from_task1\").alias(\"session_id\")\n",
    ")\n",
    "train = pl.concat([train1, train2])\n",
    "\n",
    "test1_1 = pl.read_parquet(DIR + \"data/preprocessed/task1/test_task1_phase1.parquet\")\n",
    "test1_2 = pl.read_parquet(DIR + \"data/preprocessed/task1/test_task1_phase2.parquet\")\n",
    "test2_1 = pl.read_parquet(DIR + \"data/preprocessed/task2/test_task2_phase1.parquet\")\n",
    "test2_2 = pl.read_parquet(DIR + \"data/preprocessed/task2/test_task2_phase2.parquet\")\n",
    "test3_1 = pl.read_parquet(DIR + \"data/preprocessed/task3/test_task3_phase1.parquet\")\n",
    "test3_2 = pl.read_parquet(DIR + \"data/preprocessed/task3/test_task3_phase2.parquet\")\n",
    "test1_1 = test1_1.with_columns(\n",
    "    (pl.col(\"session_id\") + \"_from_task1\").alias(\"session_id\")\n",
    ")\n",
    "test1_2 = test1_2.with_columns(\n",
    "    (pl.col(\"session_id\") + \"_from_task1\").alias(\"session_id\")\n",
    ")\n",
    "test3_1 = test3_1.with_columns(\n",
    "    (pl.col(\"session_id\") + \"_from_task3\").alias(\"session_id\")\n",
    ")\n",
    "test3_2 = test3_2.with_columns(\n",
    "    (pl.col(\"session_id\") + \"_from_task3\").alias(\"session_id\")\n",
    ")\n",
    "test = pl.concat([test1_1, test1_2, test2_1, test2_2, test3_1, test3_2])"
   ]
  },
  {
   "cell_type": "code",
   "execution_count": null,
   "metadata": {
    "id": "um9Y8XD09W2v"
   },
   "outputs": [],
   "source": [
    "# Append train's next_item to prev_items\n",
    "prev_items_list = train[\"prev_items\"].to_list()\n",
    "next_item_list = train[\"next_item\"].to_list()\n",
    "prev_items_list_updated = []\n",
    "for prev_items, next_item in zip(prev_items_list, next_item_list):\n",
    "    prev_items.append(next_item)\n",
    "    prev_items_list_updated.append(prev_items)\n",
    "\n",
    "train = train.with_columns(\n",
    "    pl.Series(name=\"prev_items\", values=prev_items_list_updated)\n",
    ")"
   ]
  },
  {
   "cell_type": "code",
   "execution_count": null,
   "metadata": {
    "id": "zhFPqBM17vE5"
   },
   "outputs": [],
   "source": [
    "train = preprocess(train)\n",
    "test = preprocess(test)\n",
    "session_df = pl.concat([\n",
    "    train[\"prev_items\", \"locale\", \"session_id\", \"sequence_num\"],\n",
    "    test[\"prev_items\", \"locale\", \"session_id\", \"sequence_num\"],\n",
    "])"
   ]
  },
  {
   "cell_type": "code",
   "execution_count": null,
   "metadata": {
    "id": "3lPMwOkfL_tZ"
   },
   "outputs": [],
   "source": [
    "product = pl.read_parquet(\"/content/drive/MyDrive/kddcup2023/data/preprocessed/common/product_03.parquet\")"
   ]
  },
  {
   "cell_type": "code",
   "execution_count": null,
   "metadata": {
    "id": "wbwhO4n2MBCk"
   },
   "outputs": [],
   "source": [
    "co_visit_matrix = generate_co_visit_matrix(session_df)"
   ]
  },
  {
   "cell_type": "code",
   "execution_count": null,
   "metadata": {
    "id": "hTalWNeKMBZp"
   },
   "outputs": [],
   "source": [
    "co_visit_matrix = filter_by_locale_availability(co_visit_matrix, product)"
   ]
  },
  {
   "cell_type": "code",
   "execution_count": null,
   "metadata": {
    "id": "De0bLV0nxM3T"
   },
   "outputs": [],
   "source": [
    "file_name = f\"co_visit_matrix_{VER}_for_inference.parquet\"\n",
    "co_visit_matrix.write_parquet(\"/content/drive/MyDrive/kddcup2023/data/interim/candidates/task1/\" + file_name)"
   ]
  },
  {
   "cell_type": "code",
   "execution_count": null,
   "metadata": {
    "colab": {
     "base_uri": "https://localhost:8080/",
     "height": 255
    },
    "executionInfo": {
     "elapsed": 28,
     "status": "ok",
     "timestamp": 1702867845688,
     "user": {
      "displayName": "pp rich",
      "userId": "00371241177131396451"
     },
     "user_tz": -480
    },
    "id": "293Toe7pxaBI",
    "outputId": "14300374-9847-4074-e1f9-f04518883d54"
   },
   "outputs": [
    {
     "data": {
      "text/html": [
       "<div><style>\n",
       ".dataframe > thead > tr > th,\n",
       ".dataframe > tbody > tr > td {\n",
       "  text-align: right;\n",
       "}\n",
       "</style>\n",
       "<small>shape: (5, 5)</small><table border=\"1\" class=\"dataframe\"><thead><tr><th>item</th><th>candidate_item</th><th>consective_5_weight</th><th>locale</th><th>consective_5_rank</th></tr><tr><td>str</td><td>str</td><td>i32</td><td>str</td><td>u32</td></tr></thead><tbody><tr><td>&quot;0001821946&quot;</td><td>&quot;0008326045&quot;</td><td>2</td><td>&quot;UK&quot;</td><td>1</td></tr><tr><td>&quot;0001821946&quot;</td><td>&quot;B0B5Y3W62S&quot;</td><td>1</td><td>&quot;UK&quot;</td><td>2</td></tr><tr><td>&quot;0001821946&quot;</td><td>&quot;B09C18ZXBC&quot;</td><td>1</td><td>&quot;UK&quot;</td><td>2</td></tr><tr><td>&quot;0001821946&quot;</td><td>&quot;0702303518&quot;</td><td>1</td><td>&quot;UK&quot;</td><td>2</td></tr><tr><td>&quot;0001821946&quot;</td><td>&quot;0008195803&quot;</td><td>1</td><td>&quot;UK&quot;</td><td>2</td></tr></tbody></table></div>"
      ],
      "text/plain": [
       "shape: (5, 5)\n",
       "┌────────────┬────────────────┬─────────────────────┬────────┬───────────────────┐\n",
       "│ item       ┆ candidate_item ┆ consective_5_weight ┆ locale ┆ consective_5_rank │\n",
       "│ ---        ┆ ---            ┆ ---                 ┆ ---    ┆ ---               │\n",
       "│ str        ┆ str            ┆ i32                 ┆ str    ┆ u32               │\n",
       "╞════════════╪════════════════╪═════════════════════╪════════╪═══════════════════╡\n",
       "│ 0001821946 ┆ 0008326045     ┆ 2                   ┆ UK     ┆ 1                 │\n",
       "│ 0001821946 ┆ B0B5Y3W62S     ┆ 1                   ┆ UK     ┆ 2                 │\n",
       "│ 0001821946 ┆ B09C18ZXBC     ┆ 1                   ┆ UK     ┆ 2                 │\n",
       "│ 0001821946 ┆ 0702303518     ┆ 1                   ┆ UK     ┆ 2                 │\n",
       "│ 0001821946 ┆ 0008195803     ┆ 1                   ┆ UK     ┆ 2                 │\n",
       "└────────────┴────────────────┴─────────────────────┴────────┴───────────────────┘"
      ]
     },
     "execution_count": 28,
     "metadata": {},
     "output_type": "execute_result"
    }
   ],
   "source": [
    "co_visit_matrix.head()"
   ]
  },
  {
   "cell_type": "code",
   "execution_count": null,
   "metadata": {
    "id": "2bhuOxE0HS5C"
   },
   "outputs": [],
   "source": []
  }
 ],
 "metadata": {
  "colab": {
   "machine_shape": "hm",
   "provenance": []
  },
  "gpuClass": "standard",
  "kernelspec": {
   "display_name": "Python 3",
   "name": "python3"
  },
  "language_info": {
   "name": "python"
  }
 },
 "nbformat": 4,
 "nbformat_minor": 0
}
