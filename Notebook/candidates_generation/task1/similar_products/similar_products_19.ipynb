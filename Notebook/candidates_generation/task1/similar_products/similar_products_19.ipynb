{
 "cells": [
  {
   "cell_type": "code",
   "execution_count": null,
   "metadata": {
    "colab": {
     "base_uri": "https://localhost:8080/"
    },
    "executionInfo": {
     "elapsed": 33771,
     "status": "ok",
     "timestamp": 1702516715633,
     "user": {
      "displayName": "pp rich",
      "userId": "00371241177131396451"
     },
     "user_tz": -480
    },
    "id": "8ZGfFvBIc5zD",
    "outputId": "17ba7b40-71a0-42c6-92a6-c010a0abf20e"
   },
   "outputs": [
    {
     "name": "stdout",
     "output_type": "stream",
     "text": [
      "Mounted at /content/drive\n"
     ]
    }
   ],
   "source": [
    "from google.colab import drive\n",
    "drive.mount('/content/drive')"
   ]
  },
  {
   "cell_type": "code",
   "execution_count": null,
   "metadata": {
    "colab": {
     "base_uri": "https://localhost:8080/"
    },
    "executionInfo": {
     "elapsed": 7120,
     "status": "ok",
     "timestamp": 1702516731714,
     "user": {
      "displayName": "pp rich",
      "userId": "00371241177131396451"
     },
     "user_tz": -480
    },
    "id": "LAxxcmTYBPJh",
    "outputId": "6fe2b753-d1e0-4d3f-b855-6be08e75ed4c"
   },
   "outputs": [
    {
     "name": "stdout",
     "output_type": "stream",
     "text": [
      "Requirement already satisfied: polars in /usr/local/lib/python3.10/dist-packages (0.17.3)\n",
      "Requirement already satisfied: typing_extensions>=4.0.1 in /usr/local/lib/python3.10/dist-packages (from polars) (4.5.0)\n"
     ]
    }
   ],
   "source": [
    "!pip install polars"
   ]
  },
  {
   "cell_type": "code",
   "execution_count": null,
   "metadata": {
    "id": "0fhZc9OKdHz0"
   },
   "outputs": [],
   "source": [
    "import concurrent.futures\n",
    "import math\n",
    "\n",
    "from tqdm import tqdm\n",
    "import numpy as np\n",
    "import polars as pl\n",
    "import pandas as pd\n",
    "from sklearn.feature_extraction.text import TfidfVectorizer\n",
    "from sklearn.metrics.pairwise import cosine_similarity\n",
    "from scipy.sparse import csr_matrix\n",
    "from scipy.spatial.distance import cosine"
   ]
  },
  {
   "cell_type": "code",
   "execution_count": null,
   "metadata": {
    "id": "77_yo73ZDoJh"
   },
   "outputs": [],
   "source": [
    "TOP_N = 25"
   ]
  },
  {
   "cell_type": "markdown",
   "metadata": {
    "id": "eEh9d0v8dgLP"
   },
   "source": [
    "# MRR@100"
   ]
  },
  {
   "cell_type": "code",
   "execution_count": null,
   "metadata": {
    "id": "ZUzb3ed-dH8l"
   },
   "outputs": [],
   "source": [
    "train = pl.read_parquet(\"/content/drive/MyDrive/kddcup2023/data/preprocessed/task1/train_task1.parquet\")"
   ]
  },
  {
   "cell_type": "code",
   "execution_count": null,
   "metadata": {
    "id": "S0pPABU-JGrF"
   },
   "outputs": [],
   "source": [
    "candidates = pl.concat([\n",
    "    pl.read_parquet(\"/content/drive/MyDrive/kddcup2023/data/interim/candidates/task1/similar_products_19_DE.parquet\").sort([\"locale\", \"item\", \"bert_distance\"], descending=[False, False, False]).groupby([\"locale\", \"item\"], maintain_order=True).head(TOP_N),\n",
    "    pl.read_parquet(\"/content/drive/MyDrive/kddcup2023/data/interim/candidates/task1/similar_products_19_UK.parquet\").sort([\"locale\", \"item\", \"bert_distance\"], descending=[False, False, False]).groupby([\"locale\", \"item\"], maintain_order=True).head(TOP_N),\n",
    "    pl.read_parquet(\"/content/drive/MyDrive/kddcup2023/data/interim/candidates/task1/similar_products_19_JP.parquet\").sort([\"locale\", \"item\", \"bert_distance\"], descending=[False, False, False]).groupby([\"locale\", \"item\"], maintain_order=True).head(TOP_N),\n",
    "])"
   ]
  },
  {
   "cell_type": "code",
   "execution_count": null,
   "metadata": {
    "id": "vHa0Z-qMJ8It"
   },
   "outputs": [],
   "source": [
    "candidates.write_parquet(\"/content/drive/MyDrive/kddcup2023/data/interim/candidates/task1/similar_products_19.parquet\")"
   ]
  },
  {
   "cell_type": "code",
   "execution_count": null,
   "metadata": {
    "id": "bf4C-vzEdkdH"
   },
   "outputs": [],
   "source": [
    "# last_item\n",
    "last_item_list = []\n",
    "prev_items_list = train[\"prev_items\"].to_list()\n",
    "for prev_items in prev_items_list:\n",
    "    last_item_list.append(prev_items[-1])\n",
    "train = train.with_columns(pl.Series(name=\"last_item\", values=last_item_list))"
   ]
  },
  {
   "cell_type": "code",
   "execution_count": null,
   "metadata": {
    "id": "Yj3-ILBtdkfN"
   },
   "outputs": [],
   "source": [
    "train = train[[\"locale\", \"session_id\", \"last_item\", \"next_item\"]]"
   ]
  },
  {
   "cell_type": "code",
   "execution_count": null,
   "metadata": {
    "colab": {
     "base_uri": "https://localhost:8080/"
    },
    "executionInfo": {
     "elapsed": 41049,
     "status": "ok",
     "timestamp": 1702516865914,
     "user": {
      "displayName": "pp rich",
      "userId": "00371241177131396451"
     },
     "user_tz": -480
    },
    "id": "jXavJklBCNrZ",
    "outputId": "afc311dd-6ba7-41ad-c8a6-e6656eb42482"
   },
   "outputs": [
    {
     "name": "stderr",
     "output_type": "stream",
     "text": [
      "100%|██████████| 7/7 [00:41<00:00,  5.86s/it]\n"
     ]
    }
   ],
   "source": [
    "label_lists = []\n",
    "n_rows = 500_000\n",
    "for df in tqdm(train.iter_slices(n_rows=n_rows), total=math.ceil(train.height/n_rows)): # specify \"total\" parameter to display tqdm progress bar\n",
    "    # process data\n",
    "    df = df.join(candidates, left_on=[\"last_item\", \"locale\"], right_on=[\"item\", \"locale\"], how=\"left\")\n",
    "    df = df.with_columns((pl.col(\"candidate_item\") == pl.col(\"next_item\")).cast(pl.Int8).alias(\"label\"))\n",
    "    label_lists.extend(df.groupby(\"session_id\", maintain_order=True).all()[\"label\"].to_list())"
   ]
  },
  {
   "cell_type": "code",
   "execution_count": null,
   "metadata": {
    "colab": {
     "base_uri": "https://localhost:8080/"
    },
    "executionInfo": {
     "elapsed": 7258,
     "status": "ok",
     "timestamp": 1702516873148,
     "user": {
      "displayName": "pp rich",
      "userId": "00371241177131396451"
     },
     "user_tz": -480
    },
    "id": "_PKVe9yzdkk_",
    "outputId": "3609d80c-69cb-4347-f35a-9d2437cd24d7"
   },
   "outputs": [
    {
     "name": "stdout",
     "output_type": "stream",
     "text": [
      "MRR: 0.16878\n"
     ]
    }
   ],
   "source": [
    "# MRR\n",
    "rr = 0\n",
    "for labels in label_lists:\n",
    "    labels = labels[:100]\n",
    "    for i, label in enumerate(labels):\n",
    "        if label == 1:\n",
    "            rr += 1 / (i+1)\n",
    "            break\n",
    "mrr = rr / len(label_lists)\n",
    "print(\"MRR:\", round(mrr, 5))"
   ]
  },
  {
   "cell_type": "code",
   "execution_count": null,
   "metadata": {
    "id": "xcyP0XYxWg5N"
   },
   "outputs": [],
   "source": []
  }
 ],
 "metadata": {
  "colab": {
   "machine_shape": "hm",
   "provenance": []
  },
  "gpuClass": "standard",
  "kernelspec": {
   "display_name": "Python 3",
   "name": "python3"
  },
  "language_info": {
   "name": "python"
  }
 },
 "nbformat": 4,
 "nbformat_minor": 0
}
