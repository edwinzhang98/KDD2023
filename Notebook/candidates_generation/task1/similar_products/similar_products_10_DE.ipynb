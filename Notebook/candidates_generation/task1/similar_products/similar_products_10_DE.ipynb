{
 "cells": [
  {
   "cell_type": "code",
   "execution_count": null,
   "metadata": {
    "colab": {
     "base_uri": "https://localhost:8080/"
    },
    "executionInfo": {
     "elapsed": 17720,
     "status": "ok",
     "timestamp": 1702297878719,
     "user": {
      "displayName": "pp rich",
      "userId": "00371241177131396451"
     },
     "user_tz": -480
    },
    "id": "8ZGfFvBIc5zD",
    "outputId": "a4379019-c386-4804-e362-1d0d64d4f0d0"
   },
   "outputs": [
    {
     "name": "stdout",
     "output_type": "stream",
     "text": [
      "Mounted at /content/drive\n"
     ]
    }
   ],
   "source": [
    "from google.colab import drive\n",
    "drive.mount('/content/drive')"
   ]
  },
  {
   "cell_type": "code",
   "execution_count": null,
   "metadata": {
    "colab": {
     "base_uri": "https://localhost:8080/"
    },
    "executionInfo": {
     "elapsed": 6265,
     "status": "ok",
     "timestamp": 1702224723959,
     "user": {
      "displayName": "pp rich",
      "userId": "00371241177131396451"
     },
     "user_tz": -480
    },
    "id": "LAxxcmTYBPJh",
    "outputId": "5def734e-6a53-4907-fc86-eb9a88545af6"
   },
   "outputs": [
    {
     "name": "stdout",
     "output_type": "stream",
     "text": [
      "Requirement already satisfied: polars in /usr/local/lib/python3.10/dist-packages (0.17.3)\n",
      "Requirement already satisfied: typing_extensions>=4.0.1 in /usr/local/lib/python3.10/dist-packages (from polars) (4.5.0)\n"
     ]
    }
   ],
   "source": [
    "!pip install polars"
   ]
  },
  {
   "cell_type": "code",
   "execution_count": null,
   "metadata": {
    "id": "0fhZc9OKdHz0"
   },
   "outputs": [],
   "source": [
    "import concurrent.futures\n",
    "\n",
    "from tqdm import tqdm\n",
    "import numpy as np\n",
    "import polars as pl\n",
    "import pandas as pd\n",
    "from sklearn.feature_extraction.text import TfidfVectorizer\n",
    "from sklearn.metrics.pairwise import cosine_similarity\n",
    "from scipy.sparse import csr_matrix\n",
    "from scipy.spatial.distance import cosine"
   ]
  },
  {
   "cell_type": "code",
   "execution_count": null,
   "metadata": {
    "id": "KMv0JvhR0zr1"
   },
   "outputs": [],
   "source": [
    "LOCALES = [\"DE\"]\n",
    "TOP_N = 200"
   ]
  },
  {
   "cell_type": "markdown",
   "metadata": {
    "id": "4R4xsHc-ddr4"
   },
   "source": [
    "# Generate candidates"
   ]
  },
  {
   "cell_type": "code",
   "execution_count": null,
   "metadata": {
    "id": "gfBkGgPkdH3i"
   },
   "outputs": [],
   "source": [
    "product = pd.read_parquet(\"/content/drive/MyDrive/kddcup2023/data/preprocessed/common/product.parquet\")\n",
    "train = pl.read_parquet(\"/content/drive/MyDrive/kddcup2023/data/preprocessed/task1/train_task1.parquet\")\n",
    "# test = pl.read_parquet(\"/content/drive/MyDrive/kddcup2023-master/data/preprocessed/task1/test_task1.parquet\")"
   ]
  },
  {
   "cell_type": "code",
   "execution_count": null,
   "metadata": {
    "colab": {
     "base_uri": "https://localhost:8080/"
    },
    "executionInfo": {
     "elapsed": 250237,
     "status": "ok",
     "timestamp": 1702273559416,
     "user": {
      "displayName": "pp rich",
      "userId": "00371241177131396451"
     },
     "user_tz": -480
    },
    "id": "akzCPjE8zx0b",
    "outputId": "c0a44aa5-de2d-4d34-d810-c8b13d303099"
   },
   "outputs": [
    {
     "name": "stdout",
     "output_type": "stream",
     "text": [
      "start DE...\n"
     ]
    },
    {
     "name": "stderr",
     "output_type": "stream",
     "text": [
      "100%|██████████| 518327/518327 [13:21:49<00:00, 10.77it/s]\n"
     ]
    }
   ],
   "source": [
    "def calculate_similar_items(product_id):\n",
    "    # Get query product vecto\n",
    "    query_vec = tfidf_matrix[df.index[df['id'] == product_id]][0]\n",
    "\n",
    "    # Calculate similarity and sort in descending order\n",
    "    similarity = cosine_similarity(tfidf_matrix, query_vec).flatten()\n",
    "    similarity_scores = pd.Series(similarity, index=df.index)\n",
    "    similarity_scores = similarity_scores.sort_values(ascending=False)\n",
    "\n",
    "    # Extract the top ones with high similarity\n",
    "    similar_items = similarity_scores.iloc[1:TOP_N+1]\n",
    "    similar_items_ids = df.loc[similar_items.index][\"id\"].values\n",
    "    similar_items_scores = similar_items.values\n",
    "\n",
    "    return (product_id, similar_items_ids, similar_items_scores)\n",
    "\n",
    "\n",
    "for locale in LOCALES:\n",
    "    print(f\"start {locale}...\")\n",
    "    locales, items, candidate_items, similality_scores = [], [], [], []\n",
    "\n",
    "    # Filter by locale\n",
    "    df = product[product[\"locale\"] == locale].reset_index()\n",
    "    product_ids = df[\"id\"].to_list()\n",
    "\n",
    "    # Create TF-IDF vectorizer\n",
    "    tfidf = TfidfVectorizer()\n",
    "\n",
    "    # Create text data that combines product information\n",
    "    text_data = df[\"title\"].fillna(\"\") + \" \" + df[\"color\"].fillna(\"\") + \" \" + df[\"size\"].fillna(\"\") + \" \" + \\\n",
    "                df[\"model\"].fillna(\"\") + \" \" + df[\"material\"].fillna(\"\") + \" \" + df[\"author\"].fillna(\"\") + \" \" + \\\n",
    "                df[\"brand\"].fillna(\"\") + \" \" + df[\"desc\"].fillna(\"\")\n",
    "\n",
    "    # Create TF-IDF matrix\n",
    "    tfidf_matrix = tfidf.fit_transform(text_data)\n",
    "\n",
    "    with concurrent.futures.ProcessPoolExecutor() as executor:\n",
    "        results = list(tqdm(executor.map(calculate_similar_items, product_ids), total=len(product_ids)))\n",
    "\n",
    "    for result in results:\n",
    "        product_id, similar_items_ids, similar_items_scores = result\n",
    "\n",
    "        # store results\n",
    "        locales.extend([locale] * TOP_N)\n",
    "        items.extend([product_id] * TOP_N)\n",
    "        candidate_items.extend(list(similar_items_ids))\n",
    "        similality_scores.extend(list(similar_items_scores))\n",
    "\n",
    "    # Convert result to data frame\n",
    "    similar_products = pd.DataFrame({\n",
    "        \"locale\": locales,\n",
    "        \"item\": items,\n",
    "        \"candidate_item\": candidate_items,\n",
    "        \"similarity_score\": similality_scores,\n",
    "    })\n",
    "\n",
    "    # rank granted\n",
    "    similar_products = pl.from_pandas(similar_products)\n",
    "    similar_products = similar_products \\\n",
    "    .sort([\"item\", \"similarity_score\"], descending=[False, True]) \\\n",
    "    .with_columns(pl.col(\"similarity_score\").rank(descending=True, method=\"min\").over(\"item\").alias(\"similarity_rank\"))\n",
    "\n",
    "    # file output\n",
    "    file_name = f\"similar_products_10_{locale}.parquet\"\n",
    "    similar_products.write_parquet(\"/content/drive/MyDrive/kddcup2023/data/interim/candidates/task1/\" + file_name)"
   ]
  },
  {
   "cell_type": "code",
   "execution_count": null,
   "metadata": {
    "id": "xcyP0XYxWg5N"
   },
   "outputs": [],
   "source": []
  }
 ],
 "metadata": {
  "colab": {
   "machine_shape": "hm",
   "provenance": []
  },
  "gpuClass": "standard",
  "kernelspec": {
   "display_name": "Python 3",
   "name": "python3"
  },
  "language_info": {
   "name": "python"
  }
 },
 "nbformat": 4,
 "nbformat_minor": 0
}
