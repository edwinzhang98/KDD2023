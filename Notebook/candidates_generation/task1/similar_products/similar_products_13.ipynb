{
 "cells": [
  {
   "cell_type": "code",
   "execution_count": null,
   "metadata": {
    "colab": {
     "base_uri": "https://localhost:8080/"
    },
    "executionInfo": {
     "elapsed": 81448,
     "status": "ok",
     "timestamp": 1702298007145,
     "user": {
      "displayName": "pp rich",
      "userId": "00371241177131396451"
     },
     "user_tz": -480
    },
    "id": "8ZGfFvBIc5zD",
    "outputId": "e04d3cee-6d60-4579-ec93-df02b1bf264e"
   },
   "outputs": [
    {
     "name": "stdout",
     "output_type": "stream",
     "text": [
      "Mounted at /content/drive\n"
     ]
    }
   ],
   "source": [
    "from google.colab import drive\n",
    "drive.mount('/content/drive')"
   ]
  },
  {
   "cell_type": "code",
   "execution_count": null,
   "metadata": {
    "colab": {
     "base_uri": "https://localhost:8080/"
    },
    "executionInfo": {
     "elapsed": 7116,
     "status": "ok",
     "timestamp": 1702298019947,
     "user": {
      "displayName": "pp rich",
      "userId": "00371241177131396451"
     },
     "user_tz": -480
    },
    "id": "LAxxcmTYBPJh",
    "outputId": "cb30c5fe-b317-4253-c1ba-881c73785c2f"
   },
   "outputs": [
    {
     "name": "stdout",
     "output_type": "stream",
     "text": [
      "Requirement already satisfied: polars in /usr/local/lib/python3.10/dist-packages (0.17.3)\n",
      "Requirement already satisfied: typing_extensions>=4.0.1 in /usr/local/lib/python3.10/dist-packages (from polars) (4.5.0)\n"
     ]
    }
   ],
   "source": [
    "!pip install polars"
   ]
  },
  {
   "cell_type": "code",
   "execution_count": null,
   "metadata": {
    "id": "0fhZc9OKdHz0"
   },
   "outputs": [],
   "source": [
    "import concurrent.futures\n",
    "import math\n",
    "\n",
    "from tqdm import tqdm\n",
    "import numpy as np\n",
    "import polars as pl\n",
    "import pandas as pd\n",
    "from sklearn.feature_extraction.text import TfidfVectorizer\n",
    "from sklearn.metrics.pairwise import cosine_similarity\n",
    "from scipy.sparse import csr_matrix\n",
    "from scipy.spatial.distance import cosine"
   ]
  },
  {
   "cell_type": "markdown",
   "metadata": {
    "id": "eEh9d0v8dgLP"
   },
   "source": [
    "# MRR@100"
   ]
  },
  {
   "cell_type": "code",
   "execution_count": null,
   "metadata": {
    "id": "ZUzb3ed-dH8l"
   },
   "outputs": [],
   "source": [
    "train = pl.read_parquet(\"/content/drive/MyDrive/kddcup2023/data/preprocessed/task1/train_task1.parquet\")"
   ]
  },
  {
   "cell_type": "code",
   "execution_count": null,
   "metadata": {
    "id": "S0pPABU-JGrF"
   },
   "outputs": [],
   "source": [
    "candidates = pl.concat([\n",
    "    pl.read_parquet(\"/content/drive/MyDrive/kddcup2023/data/interim/candidates/task1/similar_products_10_DE.parquet\").sort([\"locale\", \"item\", \"similarity_score\"], descending=[False, False, True]).groupby([\"locale\", \"item\"], maintain_order=True).head(150),\n",
    "    pl.read_parquet(\"/content/drive/MyDrive/kddcup2023/data/interim/candidates/task1/similar_products_10_UK.parquet\").sort([\"locale\", \"item\", \"similarity_score\"], descending=[False, False, True]).groupby([\"locale\", \"item\"], maintain_order=True).head(150),\n",
    "    pl.read_parquet(\"/content/drive/MyDrive/kddcup2023/data/interim/candidates/task1/similar_products_10_JP.parquet\").sort([\"locale\", \"item\", \"similarity_score\"], descending=[False, False, True]).groupby([\"locale\", \"item\"], maintain_order=True).head(150),\n",
    "])"
   ]
  },
  {
   "cell_type": "code",
   "execution_count": null,
   "metadata": {
    "id": "vHa0Z-qMJ8It"
   },
   "outputs": [],
   "source": [
    "candidates = candidates.filter(pl.col(\"similarity_score\") != 0)\n",
    "candidates.write_parquet(\"/content/drive/MyDrive/kddcup2023/data/interim/candidates/task1/similar_products_13.parquet\")"
   ]
  },
  {
   "cell_type": "code",
   "execution_count": null,
   "metadata": {
    "id": "bf4C-vzEdkdH"
   },
   "outputs": [],
   "source": [
    "# last_item\n",
    "last_item_list = []\n",
    "prev_items_list = train[\"prev_items\"].to_list()\n",
    "for prev_items in prev_items_list:\n",
    "    last_item_list.append(prev_items[-1])\n",
    "train = train.with_columns(pl.Series(name=\"last_item\", values=last_item_list))"
   ]
  },
  {
   "cell_type": "code",
   "execution_count": null,
   "metadata": {
    "id": "Yj3-ILBtdkfN"
   },
   "outputs": [],
   "source": [
    "train = train[[\"locale\", \"session_id\", \"last_item\", \"next_item\"]]"
   ]
  },
  {
   "cell_type": "code",
   "execution_count": null,
   "metadata": {
    "colab": {
     "base_uri": "https://localhost:8080/"
    },
    "executionInfo": {
     "elapsed": 187501,
     "status": "ok",
     "timestamp": 1702298745773,
     "user": {
      "displayName": "pp rich",
      "userId": "00371241177131396451"
     },
     "user_tz": -480
    },
    "id": "jXavJklBCNrZ",
    "outputId": "c96d6b21-bf66-440b-ad76-ce2cafe6e02a"
   },
   "outputs": [
    {
     "name": "stderr",
     "output_type": "stream",
     "text": [
      "100%|██████████| 7/7 [03:05<00:00, 26.53s/it]\n"
     ]
    }
   ],
   "source": [
    "label_lists = []\n",
    "n_rows = 500_000\n",
    "for df in tqdm(train.iter_slices(n_rows=n_rows), total=math.ceil(train.height/n_rows)): # specify \"total\" parameter to display tqdm progress bar\n",
    "    # process data\n",
    "    df = df.join(candidates, left_on=[\"last_item\", \"locale\"], right_on=[\"item\", \"locale\"], how=\"left\")\n",
    "    df = df.with_columns((pl.col(\"candidate_item\") == pl.col(\"next_item\")).cast(pl.Int8).alias(\"label\"))\n",
    "    label_lists.extend(df.groupby(\"session_id\", maintain_order=True).all()[\"label\"].to_list())"
   ]
  },
  {
   "cell_type": "code",
   "execution_count": null,
   "metadata": {
    "colab": {
     "base_uri": "https://localhost:8080/"
    },
    "executionInfo": {
     "elapsed": 19722,
     "status": "ok",
     "timestamp": 1702298765492,
     "user": {
      "displayName": "pp rich",
      "userId": "00371241177131396451"
     },
     "user_tz": -480
    },
    "id": "_PKVe9yzdkk_",
    "outputId": "51cbbbd1-5b04-4629-d003-017e79df901f"
   },
   "outputs": [
    {
     "name": "stdout",
     "output_type": "stream",
     "text": [
      "MRR: 0.20243\n"
     ]
    }
   ],
   "source": [
    "# MRR\n",
    "rr = 0\n",
    "for labels in label_lists:\n",
    "    labels = labels[:100]\n",
    "    for i, label in enumerate(labels):\n",
    "        if label == 1:\n",
    "            rr += 1 / (i+1)\n",
    "            break\n",
    "mrr = rr / len(label_lists)\n",
    "print(\"MRR:\", round(mrr, 5))"
   ]
  },
  {
   "cell_type": "code",
   "execution_count": null,
   "metadata": {
    "id": "xcyP0XYxWg5N"
   },
   "outputs": [],
   "source": []
  }
 ],
 "metadata": {
  "colab": {
   "machine_shape": "hm",
   "provenance": []
  },
  "gpuClass": "standard",
  "kernelspec": {
   "display_name": "Python 3",
   "name": "python3"
  },
  "language_info": {
   "name": "python"
  }
 },
 "nbformat": 4,
 "nbformat_minor": 0
}
