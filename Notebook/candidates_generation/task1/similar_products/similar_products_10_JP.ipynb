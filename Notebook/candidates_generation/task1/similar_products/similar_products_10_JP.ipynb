{
 "cells": [
  {
   "cell_type": "code",
   "execution_count": null,
   "metadata": {
    "colab": {
     "base_uri": "https://localhost:8080/"
    },
    "executionInfo": {
     "elapsed": 39000,
     "status": "ok",
     "timestamp": 1702224731669,
     "user": {
      "displayName": "pp rich",
      "userId": "00371241177131396451"
     },
     "user_tz": -480
    },
    "id": "8ZGfFvBIc5zD",
    "outputId": "ebe4a842-0096-4a03-95c0-1f57163e99e1"
   },
   "outputs": [
    {
     "name": "stdout",
     "output_type": "stream",
     "text": [
      "Mounted at /content/drive\n"
     ]
    }
   ],
   "source": [
    "from google.colab import drive\n",
    "drive.mount('/content/drive')"
   ]
  },
  {
   "cell_type": "code",
   "execution_count": null,
   "metadata": {
    "colab": {
     "base_uri": "https://localhost:8080/"
    },
    "executionInfo": {
     "elapsed": 6366,
     "status": "ok",
     "timestamp": 1702224738032,
     "user": {
      "displayName": "pp rich",
      "userId": "00371241177131396451"
     },
     "user_tz": -480
    },
    "id": "LAxxcmTYBPJh",
    "outputId": "7045aab0-ea77-426e-ab58-1f3c99baa758"
   },
   "outputs": [
    {
     "name": "stdout",
     "output_type": "stream",
     "text": [
      "Requirement already satisfied: polars in /usr/local/lib/python3.10/dist-packages (0.17.3)\n",
      "Requirement already satisfied: typing_extensions>=4.0.1 in /usr/local/lib/python3.10/dist-packages (from polars) (4.5.0)\n"
     ]
    }
   ],
   "source": [
    "!pip install polars"
   ]
  },
  {
   "cell_type": "code",
   "execution_count": null,
   "metadata": {
    "id": "0fhZc9OKdHz0"
   },
   "outputs": [],
   "source": [
    "import concurrent.futures\n",
    "import math\n",
    "\n",
    "from tqdm import tqdm\n",
    "import numpy as np\n",
    "import polars as pl\n",
    "import pandas as pd\n",
    "from sklearn.feature_extraction.text import TfidfVectorizer\n",
    "from sklearn.metrics.pairwise import cosine_similarity\n",
    "from scipy.sparse import csr_matrix\n",
    "from scipy.spatial.distance import cosine"
   ]
  },
  {
   "cell_type": "code",
   "execution_count": null,
   "metadata": {
    "id": "KMv0JvhR0zr1"
   },
   "outputs": [],
   "source": [
    "LOCALES = [\"JP\"]\n",
    "TOP_N = 200"
   ]
  },
  {
   "cell_type": "markdown",
   "metadata": {
    "id": "4R4xsHc-ddr4"
   },
   "source": [
    "# Generate candidates"
   ]
  },
  {
   "cell_type": "code",
   "execution_count": null,
   "metadata": {
    "id": "gfBkGgPkdH3i"
   },
   "outputs": [],
   "source": [
    "product = pd.read_parquet(\"/content/drive/MyDrive/kddcup2023/data/preprocessed/common/product.parquet\")\n",
    "# train = pl.read_parquet(\"/content/drive/MyDrive/kddcup2023-master/data/preprocessed/task1/train_task1.parquet\")\n",
    "# test = pl.read_parquet(\"/content/drive/MyDrive/kddcup2023-master/data/preprocessed/task1/test_task1.parquet\")"
   ]
  },
  {
   "cell_type": "code",
   "execution_count": null,
   "metadata": {
    "colab": {
     "base_uri": "https://localhost:8080/"
    },
    "executionInfo": {
     "elapsed": 18098608,
     "status": "ok",
     "timestamp": 1702243428469,
     "user": {
      "displayName": "pp rich",
      "userId": "00371241177131396451"
     },
     "user_tz": -480
    },
    "id": "akzCPjE8zx0b",
    "outputId": "04517fdd-9340-490c-fd9d-d4dc8b25c126"
   },
   "outputs": [
    {
     "name": "stdout",
     "output_type": "stream",
     "text": [
      "start JP...\n"
     ]
    },
    {
     "name": "stderr",
     "output_type": "stream",
     "text": [
      "100%|██████████| 395009/395009 [4:59:17<00:00, 22.00it/s]\n"
     ]
    }
   ],
   "source": [
    "def calculate_similar_items(product_id):\n",
    "    # クエリ商品のベクトル取得\n",
    "    query_vec = tfidf_matrix[df.index[df['id'] == product_id]][0]\n",
    "\n",
    "    # 類似度を計算し、降順にソート\n",
    "    similarity = cosine_similarity(tfidf_matrix, query_vec).flatten()\n",
    "    similarity_scores = pd.Series(similarity, index=df.index)\n",
    "    similarity_scores = similarity_scores.sort_values(ascending=False)\n",
    "\n",
    "    # 類似度が高い上位を抽出\n",
    "    similar_items = similarity_scores.iloc[1:TOP_N+1]\n",
    "    similar_items_ids = df.loc[similar_items.index][\"id\"].values\n",
    "    similar_items_scores = similar_items.values\n",
    "\n",
    "    return (product_id, similar_items_ids, similar_items_scores)\n",
    "\n",
    "\n",
    "for locale in LOCALES:\n",
    "    print(f\"start {locale}...\")\n",
    "    locales, items, candidate_items, similality_scores = [], [], [], []\n",
    "\n",
    "    # localeで絞る\n",
    "    df = product[product[\"locale\"] == locale].reset_index()\n",
    "    product_ids = df[\"id\"].to_list()\n",
    "\n",
    "    # TF-IDFベクトル化器を作成\n",
    "    tfidf = TfidfVectorizer()\n",
    "\n",
    "    # 商品情報を結合したテキストデータを作成\n",
    "    text_data = df[\"title\"].fillna(\"\") + \" \" + df[\"color\"].fillna(\"\") + \" \" + df[\"size\"].fillna(\"\") + \" \" + \\\n",
    "                df[\"model\"].fillna(\"\") + \" \" + df[\"material\"].fillna(\"\") + \" \" + df[\"author\"].fillna(\"\") + \" \" + \\\n",
    "                df[\"brand\"].fillna(\"\") + \" \" + df[\"desc\"].fillna(\"\")\n",
    "\n",
    "    # TF-IDF行列を作成\n",
    "    tfidf_matrix = tfidf.fit_transform(text_data)\n",
    "\n",
    "    with concurrent.futures.ProcessPoolExecutor() as executor:\n",
    "        results = list(tqdm(executor.map(calculate_similar_items, product_ids), total=len(product_ids)))\n",
    "\n",
    "    for result in results:\n",
    "        product_id, similar_items_ids, similar_items_scores = result\n",
    "\n",
    "        # 結果を格納\n",
    "        locales.extend([locale] * TOP_N)\n",
    "        items.extend([product_id] * TOP_N)\n",
    "        candidate_items.extend(list(similar_items_ids))\n",
    "        similality_scores.extend(list(similar_items_scores))\n",
    "\n",
    "    # 結果をデータフレームに変換\n",
    "    similar_products = pd.DataFrame({\n",
    "        \"locale\": locales,\n",
    "        \"item\": items,\n",
    "        \"candidate_item\": candidate_items,\n",
    "        \"similarity_score\": similality_scores,\n",
    "    })\n",
    "\n",
    "   # rank付与\n",
    "    similar_products = pl.from_pandas(similar_products)\n",
    "    similar_products = similar_products \\\n",
    "    .sort([\"item\", \"similarity_score\"], descending=[False, True]) \\\n",
    "    .with_columns(pl.col(\"similarity_score\").rank(descending=True, method=\"min\").over(\"item\").alias(\"similarity_rank\"))\n",
    "\n",
    "    # ファイル出力\n",
    "    file_name = f\"similar_products_10_{locale}.parquet\"\n",
    "    similar_products.write_parquet(\"/content/drive/MyDrive/kddcup2023/data/interim/candidates/task1/\" + file_name)"
   ]
  },
  {
   "cell_type": "code",
   "execution_count": null,
   "metadata": {
    "id": "Wwfb7CwziJU_"
   },
   "outputs": [],
   "source": []
  }
 ],
 "metadata": {
  "colab": {
   "machine_shape": "hm",
   "provenance": []
  },
  "gpuClass": "standard",
  "kernelspec": {
   "display_name": "Python 3",
   "name": "python3"
  },
  "language_info": {
   "name": "python"
  }
 },
 "nbformat": 4,
 "nbformat_minor": 0
}
