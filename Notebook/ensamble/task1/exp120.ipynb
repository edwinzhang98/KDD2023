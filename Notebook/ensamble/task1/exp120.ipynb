{
 "cells": [
  {
   "cell_type": "code",
   "execution_count": null,
   "metadata": {
    "colab": {
     "base_uri": "https://localhost:8080/"
    },
    "executionInfo": {
     "elapsed": 21993,
     "status": "ok",
     "timestamp": 1686263276842,
     "user": {
      "displayName": "chimuichimu",
      "userId": "08341172728947671838"
     },
     "user_tz": -540
    },
    "id": "yGMph0g6fQDO",
    "outputId": "0499ecb5-2930-4fb6-fa79-74e3d6d98aba"
   },
   "outputs": [
    {
     "name": "stdout",
     "output_type": "stream",
     "text": [
      "Mounted at /gdrive\n"
     ]
    }
   ],
   "source": [
    "from google.colab import drive\n",
    "drive.mount('/content/drive')"
   ]
  },
  {
   "cell_type": "code",
   "execution_count": null,
   "metadata": {
    "id": "p6nhizChhYis"
   },
   "outputs": [],
   "source": [
    "import os\n",
    "import numpy as np\n",
    "import pandas as pd\n",
    "import matplotlib.pyplot as plt\n",
    "import seaborn as sns\n",
    "import itertools\n",
    "from tqdm import tqdm"
   ]
  },
  {
   "cell_type": "code",
   "execution_count": null,
   "metadata": {
    "id": "sImlqY57fGHZ"
   },
   "outputs": [],
   "source": [
    "EXP_NAME = \"exp120\"\n",
    "DIR = \"/content/drive/MyDrive/kddcup2023/\"\n",
    "WEIGHTS = [1.0, 1.0, 1.0, 1.0]"
   ]
  },
  {
   "cell_type": "code",
   "execution_count": null,
   "metadata": {
    "id": "3Ip6BHo7gh5x"
   },
   "outputs": [],
   "source": [
    "subs = {\n",
    "    \"exp115\": DIR + \"data/output/task1/exp115.parquet\",\n",
    "    \"exp116\": DIR + \"data/output/task1/exp116.parquet\",\n",
    "    \"exp117\": DIR + \"data/output/task1/exp117.parquet\",\n",
    "    \"exp123\": DIR + \"data/output/task1/exp123.parquet\",\n",
    "}"
   ]
  },
  {
   "cell_type": "code",
   "execution_count": null,
   "metadata": {
    "id": "jqmYP639hjxp"
   },
   "outputs": [],
   "source": [
    "assert(len(WEIGHTS) == len(subs))"
   ]
  },
  {
   "cell_type": "code",
   "execution_count": null,
   "metadata": {
    "id": "lPDbkevXh3ii"
   },
   "outputs": [],
   "source": [
    "for i, n in enumerate(subs):\n",
    "    path = subs[n]\n",
    "    if i == 0:\n",
    "        sub = pd.read_parquet(path)\n",
    "        sub.columns = ['locale', 'labels0']\n",
    "    else:\n",
    "        sub[f'labels{i}'] = pd.read_parquet(path)['next_item_prediction']"
   ]
  },
  {
   "cell_type": "code",
   "execution_count": null,
   "metadata": {
    "id": "rqZWGHFGBwkV"
   },
   "outputs": [],
   "source": [
    "def cust_blend(dt, W = [1,1,1,1], base=3):\n",
    "    REC = []\n",
    "    for i in range(len(W)):\n",
    "        REC.append(dt[f'labels{i}'])\n",
    "\n",
    "    res = {}\n",
    "    for M in range(len(REC)):\n",
    "        for n, v in enumerate(REC[M]):\n",
    "            if v in res:\n",
    "                res[v] += (W[M]/(n+base))\n",
    "            else:\n",
    "                res[v] = (W[M]/(n+base))\n",
    "\n",
    "    res = list(dict(sorted(res.items(), key=lambda item: -item[1])).keys())\n",
    "\n",
    "    return res[:100]"
   ]
  },
  {
   "cell_type": "code",
   "execution_count": null,
   "metadata": {
    "id": "2GMnvfNGnQoQ"
   },
   "outputs": [],
   "source": [
    "sub['next_item_prediction'] = sub.apply(cust_blend, W = WEIGHTS, base=4, axis=1)"
   ]
  },
  {
   "cell_type": "code",
   "execution_count": null,
   "metadata": {
    "id": "9MmJbZLnh0uG"
   },
   "outputs": [],
   "source": [
    "sub[[\"locale\", \"next_item_prediction\"]].to_parquet(DIR + \"data/output/task1/\" + EXP_NAME + \".parquet\", engine='pyarrow')"
   ]
  },
  {
   "cell_type": "code",
   "execution_count": null,
   "metadata": {
    "colab": {
     "base_uri": "https://localhost:8080/",
     "height": 337
    },
    "executionInfo": {
     "elapsed": 24,
     "status": "ok",
     "timestamp": 1686263452877,
     "user": {
      "displayName": "chimuichimu",
      "userId": "08341172728947671838"
     },
     "user_tz": -540
    },
    "id": "zJu_9Eu7hGOl",
    "outputId": "f5fe58af-803f-453e-bfe7-aaed62709466"
   },
   "outputs": [
    {
     "data": {
      "text/html": [
       "\n",
       "  <div id=\"df-a8ca8c16-7091-4d13-9d3c-6dd94c167a92\">\n",
       "    <div class=\"colab-df-container\">\n",
       "      <div>\n",
       "<style scoped>\n",
       "    .dataframe tbody tr th:only-of-type {\n",
       "        vertical-align: middle;\n",
       "    }\n",
       "\n",
       "    .dataframe tbody tr th {\n",
       "        vertical-align: top;\n",
       "    }\n",
       "\n",
       "    .dataframe thead th {\n",
       "        text-align: right;\n",
       "    }\n",
       "</style>\n",
       "<table border=\"1\" class=\"dataframe\">\n",
       "  <thead>\n",
       "    <tr style=\"text-align: right;\">\n",
       "      <th></th>\n",
       "      <th>locale</th>\n",
       "      <th>labels0</th>\n",
       "      <th>labels1</th>\n",
       "      <th>labels2</th>\n",
       "      <th>labels3</th>\n",
       "      <th>next_item_prediction</th>\n",
       "    </tr>\n",
       "  </thead>\n",
       "  <tbody>\n",
       "    <tr>\n",
       "      <th>0</th>\n",
       "      <td>DE</td>\n",
       "      <td>[B07SDFLVKD, B091CK241X, B0BGC82WVW, B093X59B3...</td>\n",
       "      <td>[B07SDFLVKD, B091CK241X, B0BGC82WVW, B093X59B3...</td>\n",
       "      <td>[B07SDFLVKD, B091CK241X, B0BGC82WVW, B093X59B3...</td>\n",
       "      <td>[B07SDFLVKD, B091CK241X, B0BGC82WVW, B093X59B3...</td>\n",
       "      <td>[B07SDFLVKD, B091CK241X, B0BGC82WVW, B093X59B3...</td>\n",
       "    </tr>\n",
       "    <tr>\n",
       "      <th>1</th>\n",
       "      <td>DE</td>\n",
       "      <td>[B084CB7GX9, B004P4QFJM, B08HQWQ1SK, B08XW6P9P...</td>\n",
       "      <td>[B084CB7GX9, B08HQWQ1SK, B004P4QFJM, B08XW6P9P...</td>\n",
       "      <td>[B084CB7GX9, B0B7KCP6SL, B004P4QFJM, B004P4OF1...</td>\n",
       "      <td>[B084CB7GX9, B08HQWQ1SK, B004P4QFJM, B004P4OF1...</td>\n",
       "      <td>[B084CB7GX9, B004P4QFJM, B08HQWQ1SK, B004P4OF1...</td>\n",
       "    </tr>\n",
       "    <tr>\n",
       "      <th>2</th>\n",
       "      <td>DE</td>\n",
       "      <td>[B09Z4PZQBF, B07HFTJLR8, B09KBCTXF5, B09GPJ15G...</td>\n",
       "      <td>[B09Z4PZQBF, B07HFTJLR8, B09KBCTXF5, B09GPJ15G...</td>\n",
       "      <td>[B09Z4PZQBF, B09KBCTXF5, B07HFTJLR8, B08LLF9M1...</td>\n",
       "      <td>[B09Z4PZQBF, B09KBCTXF5, B07HFTJLR8, B08LLF9M1...</td>\n",
       "      <td>[B09Z4PZQBF, B09KBCTXF5, B07HFTJLR8, B09GPJ15G...</td>\n",
       "    </tr>\n",
       "    <tr>\n",
       "      <th>3</th>\n",
       "      <td>DE</td>\n",
       "      <td>[B07Y1KLF25, B07T5XY2CJ, B07SZHKGZJ, B07VSNX4G...</td>\n",
       "      <td>[B07Y1KLF25, B07T5XY2CJ, B07SZHKGZJ, B07YCFFC4...</td>\n",
       "      <td>[B07Y1KLF25, B07T5XY2CJ, B07QQZD49D, B07VSNX4G...</td>\n",
       "      <td>[B07Y1KLF25, B07T5XY2CJ, B07SZHKGZJ, B07QQZD49...</td>\n",
       "      <td>[B07Y1KLF25, B07T5XY2CJ, B07SZHKGZJ, B07QQZD49...</td>\n",
       "    </tr>\n",
       "    <tr>\n",
       "      <th>4</th>\n",
       "      <td>DE</td>\n",
       "      <td>[B0B2JY9THB, B08SXLWXH9, B08P94RML3, B08YK8FQJ...</td>\n",
       "      <td>[B0B2JY9THB, B08SXLWXH9, B08P94RML3, B08YK8FQJ...</td>\n",
       "      <td>[B0B2JY9THB, B08SXLWXH9, B08P94RML3, B08YK8FQJ...</td>\n",
       "      <td>[B0B2JY9THB, B08SXLWXH9, B08P94RML3, B08YK8FQJ...</td>\n",
       "      <td>[B0B2JY9THB, B08SXLWXH9, B08P94RML3, B08YK8FQJ...</td>\n",
       "    </tr>\n",
       "  </tbody>\n",
       "</table>\n",
       "</div>\n",
       "      <button class=\"colab-df-convert\" onclick=\"convertToInteractive('df-a8ca8c16-7091-4d13-9d3c-6dd94c167a92')\"\n",
       "              title=\"Convert this dataframe to an interactive table.\"\n",
       "              style=\"display:none;\">\n",
       "        \n",
       "  <svg xmlns=\"http://www.w3.org/2000/svg\" height=\"24px\"viewBox=\"0 0 24 24\"\n",
       "       width=\"24px\">\n",
       "    <path d=\"M0 0h24v24H0V0z\" fill=\"none\"/>\n",
       "    <path d=\"M18.56 5.44l.94 2.06.94-2.06 2.06-.94-2.06-.94-.94-2.06-.94 2.06-2.06.94zm-11 1L8.5 8.5l.94-2.06 2.06-.94-2.06-.94L8.5 2.5l-.94 2.06-2.06.94zm10 10l.94 2.06.94-2.06 2.06-.94-2.06-.94-.94-2.06-.94 2.06-2.06.94z\"/><path d=\"M17.41 7.96l-1.37-1.37c-.4-.4-.92-.59-1.43-.59-.52 0-1.04.2-1.43.59L10.3 9.45l-7.72 7.72c-.78.78-.78 2.05 0 2.83L4 21.41c.39.39.9.59 1.41.59.51 0 1.02-.2 1.41-.59l7.78-7.78 2.81-2.81c.8-.78.8-2.07 0-2.86zM5.41 20L4 18.59l7.72-7.72 1.47 1.35L5.41 20z\"/>\n",
       "  </svg>\n",
       "      </button>\n",
       "      \n",
       "  <style>\n",
       "    .colab-df-container {\n",
       "      display:flex;\n",
       "      flex-wrap:wrap;\n",
       "      gap: 12px;\n",
       "    }\n",
       "\n",
       "    .colab-df-convert {\n",
       "      background-color: #E8F0FE;\n",
       "      border: none;\n",
       "      border-radius: 50%;\n",
       "      cursor: pointer;\n",
       "      display: none;\n",
       "      fill: #1967D2;\n",
       "      height: 32px;\n",
       "      padding: 0 0 0 0;\n",
       "      width: 32px;\n",
       "    }\n",
       "\n",
       "    .colab-df-convert:hover {\n",
       "      background-color: #E2EBFA;\n",
       "      box-shadow: 0px 1px 2px rgba(60, 64, 67, 0.3), 0px 1px 3px 1px rgba(60, 64, 67, 0.15);\n",
       "      fill: #174EA6;\n",
       "    }\n",
       "\n",
       "    [theme=dark] .colab-df-convert {\n",
       "      background-color: #3B4455;\n",
       "      fill: #D2E3FC;\n",
       "    }\n",
       "\n",
       "    [theme=dark] .colab-df-convert:hover {\n",
       "      background-color: #434B5C;\n",
       "      box-shadow: 0px 1px 3px 1px rgba(0, 0, 0, 0.15);\n",
       "      filter: drop-shadow(0px 1px 2px rgba(0, 0, 0, 0.3));\n",
       "      fill: #FFFFFF;\n",
       "    }\n",
       "  </style>\n",
       "\n",
       "      <script>\n",
       "        const buttonEl =\n",
       "          document.querySelector('#df-a8ca8c16-7091-4d13-9d3c-6dd94c167a92 button.colab-df-convert');\n",
       "        buttonEl.style.display =\n",
       "          google.colab.kernel.accessAllowed ? 'block' : 'none';\n",
       "\n",
       "        async function convertToInteractive(key) {\n",
       "          const element = document.querySelector('#df-a8ca8c16-7091-4d13-9d3c-6dd94c167a92');\n",
       "          const dataTable =\n",
       "            await google.colab.kernel.invokeFunction('convertToInteractive',\n",
       "                                                     [key], {});\n",
       "          if (!dataTable) return;\n",
       "\n",
       "          const docLinkHtml = 'Like what you see? Visit the ' +\n",
       "            '<a target=\"_blank\" href=https://colab.research.google.com/notebooks/data_table.ipynb>data table notebook</a>'\n",
       "            + ' to learn more about interactive tables.';\n",
       "          element.innerHTML = '';\n",
       "          dataTable['output_type'] = 'display_data';\n",
       "          await google.colab.output.renderOutput(dataTable, element);\n",
       "          const docLink = document.createElement('div');\n",
       "          docLink.innerHTML = docLinkHtml;\n",
       "          element.appendChild(docLink);\n",
       "        }\n",
       "      </script>\n",
       "    </div>\n",
       "  </div>\n",
       "  "
      ],
      "text/plain": [
       "  locale                                            labels0  \\\n",
       "0     DE  [B07SDFLVKD, B091CK241X, B0BGC82WVW, B093X59B3...   \n",
       "1     DE  [B084CB7GX9, B004P4QFJM, B08HQWQ1SK, B08XW6P9P...   \n",
       "2     DE  [B09Z4PZQBF, B07HFTJLR8, B09KBCTXF5, B09GPJ15G...   \n",
       "3     DE  [B07Y1KLF25, B07T5XY2CJ, B07SZHKGZJ, B07VSNX4G...   \n",
       "4     DE  [B0B2JY9THB, B08SXLWXH9, B08P94RML3, B08YK8FQJ...   \n",
       "\n",
       "                                             labels1  \\\n",
       "0  [B07SDFLVKD, B091CK241X, B0BGC82WVW, B093X59B3...   \n",
       "1  [B084CB7GX9, B08HQWQ1SK, B004P4QFJM, B08XW6P9P...   \n",
       "2  [B09Z4PZQBF, B07HFTJLR8, B09KBCTXF5, B09GPJ15G...   \n",
       "3  [B07Y1KLF25, B07T5XY2CJ, B07SZHKGZJ, B07YCFFC4...   \n",
       "4  [B0B2JY9THB, B08SXLWXH9, B08P94RML3, B08YK8FQJ...   \n",
       "\n",
       "                                             labels2  \\\n",
       "0  [B07SDFLVKD, B091CK241X, B0BGC82WVW, B093X59B3...   \n",
       "1  [B084CB7GX9, B0B7KCP6SL, B004P4QFJM, B004P4OF1...   \n",
       "2  [B09Z4PZQBF, B09KBCTXF5, B07HFTJLR8, B08LLF9M1...   \n",
       "3  [B07Y1KLF25, B07T5XY2CJ, B07QQZD49D, B07VSNX4G...   \n",
       "4  [B0B2JY9THB, B08SXLWXH9, B08P94RML3, B08YK8FQJ...   \n",
       "\n",
       "                                             labels3  \\\n",
       "0  [B07SDFLVKD, B091CK241X, B0BGC82WVW, B093X59B3...   \n",
       "1  [B084CB7GX9, B08HQWQ1SK, B004P4QFJM, B004P4OF1...   \n",
       "2  [B09Z4PZQBF, B09KBCTXF5, B07HFTJLR8, B08LLF9M1...   \n",
       "3  [B07Y1KLF25, B07T5XY2CJ, B07SZHKGZJ, B07QQZD49...   \n",
       "4  [B0B2JY9THB, B08SXLWXH9, B08P94RML3, B08YK8FQJ...   \n",
       "\n",
       "                                next_item_prediction  \n",
       "0  [B07SDFLVKD, B091CK241X, B0BGC82WVW, B093X59B3...  \n",
       "1  [B084CB7GX9, B004P4QFJM, B08HQWQ1SK, B004P4OF1...  \n",
       "2  [B09Z4PZQBF, B09KBCTXF5, B07HFTJLR8, B09GPJ15G...  \n",
       "3  [B07Y1KLF25, B07T5XY2CJ, B07SZHKGZJ, B07QQZD49...  \n",
       "4  [B0B2JY9THB, B08SXLWXH9, B08P94RML3, B08YK8FQJ...  "
      ]
     },
     "execution_count": 10,
     "metadata": {},
     "output_type": "execute_result"
    }
   ],
   "source": [
    "sub.head()"
   ]
  },
  {
   "cell_type": "code",
   "execution_count": null,
   "metadata": {
    "colab": {
     "base_uri": "https://localhost:8080/"
    },
    "executionInfo": {
     "elapsed": 10,
     "status": "ok",
     "timestamp": 1686263452877,
     "user": {
      "displayName": "chimuichimu",
      "userId": "08341172728947671838"
     },
     "user_tz": -540
    },
    "id": "WHRwQ7it2xzR",
    "outputId": "75aa3f1b-a934-42e2-9d68-5cf86f73bace"
   },
   "outputs": [
    {
     "name": "stdout",
     "output_type": "stream",
     "text": [
      "<class 'pandas.core.frame.DataFrame'>\n",
      "RangeIndex: 316972 entries, 0 to 316971\n",
      "Data columns (total 6 columns):\n",
      " #   Column                Non-Null Count   Dtype \n",
      "---  ------                --------------   ----- \n",
      " 0   locale                316972 non-null  object\n",
      " 1   labels0               316972 non-null  object\n",
      " 2   labels1               316972 non-null  object\n",
      " 3   labels2               316972 non-null  object\n",
      " 4   labels3               316972 non-null  object\n",
      " 5   next_item_prediction  316972 non-null  object\n",
      "dtypes: object(6)\n",
      "memory usage: 14.5+ MB\n"
     ]
    }
   ],
   "source": [
    "sub.info()"
   ]
  },
  {
   "cell_type": "code",
   "execution_count": null,
   "metadata": {
    "colab": {
     "base_uri": "https://localhost:8080/"
    },
    "executionInfo": {
     "elapsed": 9,
     "status": "ok",
     "timestamp": 1686263452878,
     "user": {
      "displayName": "chimuichimu",
      "userId": "08341172728947671838"
     },
     "user_tz": -540
    },
    "id": "0LNBw-4QijKr",
    "outputId": "ad03d6aa-5e6e-49df-8ea7-92933604d1bd"
   },
   "outputs": [
    {
     "data": {
      "text/plain": [
       "316972"
      ]
     },
     "execution_count": 12,
     "metadata": {},
     "output_type": "execute_result"
    }
   ],
   "source": [
    "len(sub)"
   ]
  },
  {
   "cell_type": "code",
   "execution_count": null,
   "metadata": {
    "id": "gLu_jonanw41"
   },
   "outputs": [],
   "source": []
  }
 ],
 "metadata": {
  "colab": {
   "machine_shape": "hm",
   "provenance": []
  },
  "gpuClass": "standard",
  "kernelspec": {
   "display_name": "py39",
   "language": "python",
   "name": "python3"
  },
  "language_info": {
   "name": "python",
   "version": "3.9.1 (default, Dec 11 2020, 09:29:25) [MSC v.1916 64 bit (AMD64)]"
  },
  "vscode": {
   "interpreter": {
    "hash": "7bf9227335684a71c61bfe5034b029174b8b8625eabcf049c0e38a0e70d1b74d"
   }
  }
 },
 "nbformat": 4,
 "nbformat_minor": 0
}
