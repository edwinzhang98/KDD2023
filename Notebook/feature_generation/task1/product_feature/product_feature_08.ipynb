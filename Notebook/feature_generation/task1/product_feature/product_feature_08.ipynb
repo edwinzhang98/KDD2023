{
 "cells": [
  {
   "cell_type": "code",
   "execution_count": null,
   "metadata": {
    "colab": {
     "base_uri": "https://localhost:8080/"
    },
    "executionInfo": {
     "elapsed": 32735,
     "status": "ok",
     "timestamp": 1702222993236,
     "user": {
      "displayName": "pp rich",
      "userId": "00371241177131396451"
     },
     "user_tz": -480
    },
    "id": "BnKnD-UQWSEg",
    "outputId": "5f297e3e-a2ee-4782-95c0-fd2e9b2ad7d0"
   },
   "outputs": [
    {
     "name": "stdout",
     "output_type": "stream",
     "text": [
      "Mounted at /content/drive\n"
     ]
    }
   ],
   "source": [
    "from google.colab import drive\n",
    "drive.mount('/content/drive')"
   ]
  },
  {
   "cell_type": "code",
   "execution_count": null,
   "metadata": {
    "colab": {
     "base_uri": "https://localhost:8080/"
    },
    "executionInfo": {
     "elapsed": 6633,
     "status": "ok",
     "timestamp": 1702223780908,
     "user": {
      "displayName": "pp rich",
      "userId": "00371241177131396451"
     },
     "user_tz": -480
    },
    "id": "8Af_47xxWVhC",
    "outputId": "b0c8931a-790b-4fee-df05-36bf74e39c04"
   },
   "outputs": [
    {
     "name": "stdout",
     "output_type": "stream",
     "text": [
      "Requirement already satisfied: polars in /usr/local/lib/python3.10/dist-packages (0.17.3)\n",
      "Requirement already satisfied: typing_extensions>=4.0.1 in /usr/local/lib/python3.10/dist-packages (from polars) (4.5.0)\n"
     ]
    }
   ],
   "source": [
    "!pip install polars"
   ]
  },
  {
   "cell_type": "code",
   "execution_count": null,
   "metadata": {
    "id": "F-RBDJdwWdI-"
   },
   "outputs": [],
   "source": [
    "import os\n",
    "import gc\n",
    "import random\n",
    "from collections import defaultdict, Counter\n",
    "from typing import List, Dict\n",
    "import joblib\n",
    "import pickle\n",
    "\n",
    "from tqdm import tqdm\n",
    "import matplotlib.pyplot as plt\n",
    "import seaborn as sns\n",
    "import numpy as np\n",
    "import polars as pl\n",
    "import pandas as pd\n",
    "import lightgbm as lgb\n",
    "from sklearn.model_selection import StratifiedKFold"
   ]
  },
  {
   "cell_type": "code",
   "execution_count": null,
   "metadata": {
    "id": "5f6domQNdt95"
   },
   "outputs": [],
   "source": [
    "VER = \"08\"\n",
    "LOCALES = [\"DE\", \"UK\", \"JP\"]"
   ]
  },
  {
   "cell_type": "code",
   "execution_count": null,
   "metadata": {
    "id": "kccf39P80MDn"
   },
   "outputs": [],
   "source": [
    "train = pl.read_parquet(\"/content/drive/MyDrive/kddcup2023/data/preprocessed/task1/train_task1.parquet\")\n",
    "test1_1 = pl.read_parquet(\"/content/drive/MyDrive/kddcup2023/data/preprocessed/task1/test_task1_phase1.parquet\")\n",
    "test1_2 = pl.read_parquet(\"/content/drive/MyDrive/kddcup2023/data/preprocessed/task1/test_task1_phase2.parquet\")\n",
    "test3_1 = pl.read_parquet(\"/content/drive/MyDrive/kddcup2023/data/preprocessed/task3/test_task3_phase1.parquet\").filter(pl.col(\"locale\").is_in(LOCALES))\n",
    "test3_2 = pl.read_parquet(\"/content/drive/MyDrive/kddcup2023/data/preprocessed/task3/test_task3_phase2.parquet\").filter(pl.col(\"locale\").is_in(LOCALES))\n",
    "test3_1 = test3_1.with_columns(\n",
    "    (pl.col(\"session_id\") + \"_from_task3\").alias(\"session_id\")\n",
    ")\n",
    "test3_2 = test3_2.with_columns(\n",
    "    (pl.col(\"session_id\") + \"_from_task3\").alias(\"session_id\")\n",
    ")\n",
    "test = pl.concat([test1_1, test1_2, test3_1, test3_2])\n",
    "product = pl.read_parquet(\"/content/drive/MyDrive/kddcup2023/data/preprocessed/common/product_04.parquet\")"
   ]
  },
  {
   "cell_type": "code",
   "execution_count": null,
   "metadata": {
    "id": "1uMw_khW0KvS"
   },
   "outputs": [],
   "source": [
    "def preprocess(session_df: pl.DataFrame, product_df: pl.DataFrame) -> pl.DataFrame:\n",
    "    session_df = session_df.explode(\"prev_items\")\n",
    "    session_df = session_df.join(product_df, left_on=[\"prev_items\", \"locale\"], right_on=[\"id\", \"locale\"], how=\"left\")\n",
    "    return session_df"
   ]
  },
  {
   "cell_type": "code",
   "execution_count": null,
   "metadata": {
    "id": "FnVmD7EFw0yI"
   },
   "outputs": [],
   "source": [
    "def generate_product_features(session_df: pl.DataFrame, product_df: pl.DataFrame):\n",
    "    product_features_df = product_df[[\"id\", \"locale\", \"price\", \"brand\", \"color\", \"size\", \"model\", \"material\", \"author\"]]\n",
    "\n",
    "    # Basic features of items\n",
    "    product_features_df = product_features_df.rename({\n",
    "        \"price\":\"P_price\",\n",
    "        \"brand\":\"P_brand\",\n",
    "        \"color\":\"P_color\",\n",
    "        \"size\":\"P_size\",\n",
    "        \"model\":\"P_model\",\n",
    "        \"material\":\"P_material\",\n",
    "        \"author\":\"P_author\",\n",
    "    })\n",
    "\n",
    "    # how many locales the item is deployed in\n",
    "    product_features_df = product_features_df.join(\n",
    "        product_df.groupby(\"id\").count().rename({\"count\":\"P_n_unique_locale\"}),\n",
    "        on=\"id\",\n",
    "        how=\"left\"\n",
    "    )\n",
    "\n",
    "    # Number of items purchased\n",
    "    product_features_df = product_features_df.join(\n",
    "        session_df.groupby([\"prev_items\", \"locale\"]).count().rename({\"count\":\"P_purchase_count\"}),\n",
    "        left_on=[\"id\", \"locale\"],\n",
    "        right_on=[\"prev_items\", \"locale\"],\n",
    "        how=\"left\"\n",
    "    )\n",
    "\n",
    "    # Item purchase count (global)\n",
    "    product_features_df = product_features_df.join(\n",
    "        session_df.groupby([\"prev_items\"]).count().rename({\"count\":\"P_purchase_count_global\"}),\n",
    "        left_on=[\"id\"],\n",
    "        right_on=[\"prev_items\"],\n",
    "        how=\"left\"\n",
    "    )\n",
    "\n",
    "    # Number of times a product is purchased x product price\n",
    "    product_features_df = product_features_df.with_columns(\n",
    "        (pl.col(\"P_price\") * pl.col(\"P_purchase_count\")).alias(\"P_total_amount\")\n",
    "    )\n",
    "\n",
    "    # non-null for each item\n",
    "    is_null_df = product_df.with_columns(\n",
    "        pl.col(\"color\").is_null().cast(pl.UInt8).alias(\"P_is_color_null\"),\n",
    "        pl.col(\"size\").is_null().cast(pl.UInt8).alias(\"P_is_size_null\"),\n",
    "        pl.col(\"model\").is_null().cast(pl.UInt8).alias(\"P_is_model_null\"),\n",
    "        pl.col(\"material\").is_null().cast(pl.UInt8).alias(\"P_is_material_null\"),\n",
    "        pl.col(\"author\").is_null().cast(pl.UInt8).alias(\"P_is_author_null\"),\n",
    "    )[[\"id\", \"locale\", \"P_is_color_null\", \"P_is_size_null\", \"P_is_model_null\", \"P_is_material_null\", \"P_is_author_null\"]]\n",
    "    product_features_df = product_features_df.join(is_null_df, on=[\"id\", \"locale\"], how=\"left\")\n",
    "\n",
    "    # Number of purchases of the brand to which the item belongs\n",
    "    product_features_df = product_features_df.join(\n",
    "        session_df.groupby([\"brand\", \"locale\"]).count().rename({\"count\":\"P_brand_purchase_count\"}),\n",
    "        left_on=[\"P_brand\", \"locale\"],\n",
    "        right_on=[\"brand\", \"locale\"],\n",
    "        how=\"left\",\n",
    "    )\n",
    "\n",
    "    # Number of purchases of the brand to which the item belongs (global)\n",
    "    product_features_df = product_features_df.join(\n",
    "        session_df.groupby([\"brand\"]).count().rename({\"count\":\"P_brand_purchase_count_global\"}),\n",
    "        left_on=[\"P_brand\"],\n",
    "        right_on=[\"brand\"],\n",
    "        how=\"left\",\n",
    "    )\n",
    "\n",
    "    # Number of purchases of the brand to which the item belongs (global)\n",
    "    product_features_df = product_features_df.join(\n",
    "        session_df.groupby([\"brand\"]).agg(pl.col(\"price\").sum().alias(\"P_total_brand_amount\")),\n",
    "        left_on=[\"P_brand\"],\n",
    "        right_on=[\"brand\"],\n",
    "        how=\"left\",\n",
    "    )\n",
    "\n",
    "    # Average, maximum, minimum, and standard deviation of the price of the brand of the item to which the product belongs\n",
    "    product_features_df = product_features_df.join(\n",
    "        product_df.groupby([\"locale\", \"brand\"]).agg(\n",
    "            pl.col(\"price\").mean().alias(\"P_brand_mean_price\"),\n",
    "            pl.col(\"price\").max().alias(\"P_brand_max_price\"),\n",
    "            pl.col(\"price\").min().alias(\"P_brand_min_price\"),\n",
    "            pl.col(\"price\").std().alias(\"P_brand_std_price\"),\n",
    "        ),\n",
    "        left_on=[\"locale\", \"P_brand\"],\n",
    "        right_on=[\"locale\", \"brand\"],\n",
    "        how=\"left\"\n",
    "    )\n",
    "\n",
    "    # The difference between the product's price and the brand's average price\n",
    "    product_features_df = product_features_df.with_columns(\n",
    "        (pl.col(\"P_price\") - pl.col(\"P_brand_mean_price\")).alias(\"P_price_diff_to_avg_brand_price\")\n",
    "    )\n",
    "\n",
    "    # Number of purchases for the locale to which the item belongs\n",
    "    product_features_df = product_features_df.join(\n",
    "        session_df.groupby([\"locale\"]).count().rename({\"count\":\"P_locale_purchase_count\"}),\n",
    "        on=[\"locale\"],\n",
    "        how=\"left\",\n",
    "    )\n",
    "\n",
    "    # Total purchase amount for the locale to which the item belongs\n",
    "    product_features_df = product_features_df.join(\n",
    "        session_df.groupby([\"locale\"]).agg(pl.col(\"price\").sum().alias(\"P_total_locale_amount\")),\n",
    "        on=[\"locale\"],\n",
    "        how=\"left\",\n",
    "    )\n",
    "\n",
    "    # Sales volume and sales amount of that product vs. sales volume and sales amount of the group\n",
    "    product_features_df = product_features_df.with_columns([\n",
    "        (pl.col(\"P_purchase_count\") / (pl.col(\"P_locale_purchase_count\") + 1)).alias(\"P_purchase_count_ratio_to_locale\"),\n",
    "        (pl.col(\"P_total_amount\") / (pl.col(\"P_total_locale_amount\") + 1)).alias(\"P_purchase_amount_ratio_to_locale\"),\n",
    "        (pl.col(\"P_purchase_count\") / (pl.col(\"P_brand_purchase_count\") + 1)).alias(\"P_purchase_count_ratio_to_brand\"),\n",
    "        (pl.col(\"P_total_amount\") / (pl.col(\"P_total_brand_amount\") + 1)).alias(\"P_purchase_amount_ratio_to_brand\"),\n",
    "    ])\n",
    "\n",
    "    return product_features_df"
   ]
  },
  {
   "cell_type": "markdown",
   "metadata": {
    "id": "VRkv1KNn821o"
   },
   "source": [
    "# train/eval"
   ]
  },
  {
   "cell_type": "code",
   "execution_count": null,
   "metadata": {
    "id": "TEa30lxO3HqC"
   },
   "outputs": [],
   "source": [
    "session_df = pl.concat([\n",
    "    train[[\"prev_items\", \"locale\"]],\n",
    "    test[[\"prev_items\", \"locale\"]],\n",
    "])"
   ]
  },
  {
   "cell_type": "code",
   "execution_count": null,
   "metadata": {
    "id": "9jEi9MY9y-H_"
   },
   "outputs": [],
   "source": [
    "session_df = preprocess(session_df, product)"
   ]
  },
  {
   "cell_type": "code",
   "execution_count": null,
   "metadata": {
    "id": "BJY0vKK20YKL"
   },
   "outputs": [],
   "source": [
    "product_features = generate_product_features(session_df, product)"
   ]
  },
  {
   "cell_type": "code",
   "execution_count": null,
   "metadata": {
    "id": "pWlvl5360YNq"
   },
   "outputs": [],
   "source": [
    "product_features.write_parquet(f\"/content/drive/MyDrive/kddcup2023/data/interim/features/task1/product_feature_train_{VER}.parquet\", use_pyarrow=True)"
   ]
  },
  {
   "cell_type": "markdown",
   "metadata": {
    "id": "G-HMwnV6BpSu"
   },
   "source": [
    "# test"
   ]
  },
  {
   "cell_type": "code",
   "execution_count": null,
   "metadata": {
    "id": "rx8g-xkOBqCj"
   },
   "outputs": [],
   "source": [
    "# Append next_item of train to prev_items\n",
    "prev_items_list = train[\"prev_items\"].to_list()\n",
    "next_item_list = train[\"next_item\"].to_list()\n",
    "prev_items_list_updated = []\n",
    "for prev_items, next_item in zip(prev_items_list, next_item_list):\n",
    "    prev_items.append(next_item)\n",
    "    prev_items_list_updated.append(prev_items)\n",
    "train = train.with_columns(\n",
    "    pl.Series(name=\"prev_items\", values=prev_items_list_updated)\n",
    ")"
   ]
  },
  {
   "cell_type": "code",
   "execution_count": null,
   "metadata": {
    "id": "hEja_uE2DFwC"
   },
   "outputs": [],
   "source": [
    "session_df = pl.concat([\n",
    "    train[[\"prev_items\", \"locale\"]],\n",
    "    test[[\"prev_items\", \"locale\"]],\n",
    "])"
   ]
  },
  {
   "cell_type": "code",
   "execution_count": null,
   "metadata": {
    "id": "i1Pu7hk5DPSg"
   },
   "outputs": [],
   "source": [
    "session_df = preprocess(session_df, product)"
   ]
  },
  {
   "cell_type": "code",
   "execution_count": null,
   "metadata": {
    "id": "LcXrPL7IDPUQ"
   },
   "outputs": [],
   "source": [
    "product_features = generate_product_features(session_df, product)"
   ]
  },
  {
   "cell_type": "code",
   "execution_count": null,
   "metadata": {
    "id": "WrtRomrEDPWV"
   },
   "outputs": [],
   "source": [
    "product_features.write_parquet(f\"/content/drive/MyDrive/kddcup2023-master/data/interim/features/task1/product_feature_test_{VER}.parquet\", use_pyarrow=True)"
   ]
  },
  {
   "cell_type": "code",
   "execution_count": null,
   "metadata": {
    "id": "_jcZA8WcIiri"
   },
   "outputs": [],
   "source": []
  }
 ],
 "metadata": {
  "colab": {
   "machine_shape": "hm",
   "provenance": []
  },
  "gpuClass": "standard",
  "kernelspec": {
   "display_name": "Python 3",
   "name": "python3"
  },
  "language_info": {
   "name": "python"
  }
 },
 "nbformat": 4,
 "nbformat_minor": 0
}
