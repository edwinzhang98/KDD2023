{
 "cells": [
  {
   "cell_type": "code",
   "execution_count": null,
   "metadata": {
    "id": "fVu9jDlA_Lgj"
   },
   "outputs": [],
   "source": [
    "!mkdir /content/drive/MyDrive/kddcup2023-origin"
   ]
  },
  {
   "cell_type": "code",
   "execution_count": null,
   "metadata": {
    "id": "IBtBx2o4xt3v"
   },
   "outputs": [],
   "source": [
    "!cp -r /content/drive/MyDrive/kddcup2023-pgy/kddcup2023 /content/drive/MyDrive/kddcup2023-origin\n",
    "# !/content/drive/MyDrive/kddcup2023-ly/kddcup2023"
   ]
  },
  {
   "cell_type": "code",
   "execution_count": 1,
   "metadata": {
    "colab": {
     "base_uri": "https://localhost:8080/"
    },
    "executionInfo": {
     "elapsed": 24324,
     "status": "ok",
     "timestamp": 1711332043860,
     "user": {
      "displayName": "LIANGYU WANG",
      "userId": "14294738231560219046"
     },
     "user_tz": 240
    },
    "id": "BnKnD-UQWSEg",
    "outputId": "0c383f03-4fdd-4e89-f832-534059a427ce"
   },
   "outputs": [
    {
     "name": "stdout",
     "output_type": "stream",
     "text": [
      "Mounted at /content/drive\n"
     ]
    }
   ],
   "source": [
    "from google.colab import drive\n",
    "drive.mount('/content/drive')"
   ]
  },
  {
   "cell_type": "code",
   "execution_count": 2,
   "metadata": {
    "colab": {
     "base_uri": "https://localhost:8080/"
    },
    "executionInfo": {
     "elapsed": 5994,
     "status": "ok",
     "timestamp": 1711332066832,
     "user": {
      "displayName": "LIANGYU WANG",
      "userId": "14294738231560219046"
     },
     "user_tz": 240
    },
    "id": "8Af_47xxWVhC",
    "outputId": "e911b3be-1eaa-42a6-ea00-52699ade6f51"
   },
   "outputs": [
    {
     "name": "stdout",
     "output_type": "stream",
     "text": [
      "Requirement already satisfied: polars in /usr/local/lib/python3.10/dist-packages (0.20.2)\n"
     ]
    }
   ],
   "source": [
    "!pip install polars"
   ]
  },
  {
   "cell_type": "code",
   "execution_count": 3,
   "metadata": {
    "executionInfo": {
     "elapsed": 2997,
     "status": "ok",
     "timestamp": 1711332069826,
     "user": {
      "displayName": "LIANGYU WANG",
      "userId": "14294738231560219046"
     },
     "user_tz": 240
    },
    "id": "F-RBDJdwWdI-"
   },
   "outputs": [],
   "source": [
    "import os\n",
    "import gc\n",
    "import random\n",
    "from collections import defaultdict, Counter\n",
    "from typing import List, Dict\n",
    "import joblib\n",
    "import pickle\n",
    "\n",
    "from tqdm import tqdm\n",
    "import matplotlib.pyplot as plt\n",
    "import seaborn as sns\n",
    "import numpy as np\n",
    "import polars as pl\n",
    "import pandas as pd\n",
    "import lightgbm as lgb\n",
    "from sklearn.model_selection import StratifiedKFold\n",
    "from sklearn.preprocessing import LabelEncoder"
   ]
  },
  {
   "cell_type": "code",
   "execution_count": 4,
   "metadata": {
    "executionInfo": {
     "elapsed": 4,
     "status": "ok",
     "timestamp": 1711332069826,
     "user": {
      "displayName": "LIANGYU WANG",
      "userId": "14294738231560219046"
     },
     "user_tz": 240
    },
    "id": "aalFm-YujbL9"
   },
   "outputs": [],
   "source": [
    "VER = \"06\""
   ]
  },
  {
   "cell_type": "code",
   "execution_count": 6,
   "metadata": {
    "executionInfo": {
     "elapsed": 15757,
     "status": "ok",
     "timestamp": 1711332193059,
     "user": {
      "displayName": "LIANGYU WANG",
      "userId": "14294738231560219046"
     },
     "user_tz": 240
    },
    "id": "LOiuD_bFC4jA"
   },
   "outputs": [],
   "source": [
    "train = pl.read_parquet(\"/content/drive/MyDrive/kddcup2023-ly/kddcup2023/data/preprocessed/task1/train_task1.parquet\")\n",
    "test = pl.read_parquet(\"/content/drive/MyDrive/kddcup2023-ly/kddcup2023/data/preprocessed/task1/test_task1_phase2.parquet\")\n",
    "product = pl.read_parquet(\"/content/drive/MyDrive/kddcup2023-ly/kddcup2023/data/preprocessed/common/product_04.parquet\")"
   ]
  },
  {
   "cell_type": "code",
   "execution_count": 12,
   "metadata": {
    "colab": {
     "base_uri": "https://localhost:8080/"
    },
    "executionInfo": {
     "elapsed": 277,
     "status": "ok",
     "timestamp": 1711332255542,
     "user": {
      "displayName": "LIANGYU WANG",
      "userId": "14294738231560219046"
     },
     "user_tz": 240
    },
    "id": "bWrs9PuVWd6h",
    "outputId": "f01ce5cb-d13a-4453-9df9-4851161367af"
   },
   "outputs": [
    {
     "name": "stdout",
     "output_type": "stream",
     "text": [
      "['prev_items', 'next_item', 'locale', 'session_id']\n",
      "['prev_items', 'locale', 'session_id']\n"
     ]
    }
   ],
   "source": [
    "print(train.columns)\n",
    "print(test.columns)"
   ]
  },
  {
   "cell_type": "code",
   "execution_count": 13,
   "metadata": {
    "colab": {
     "base_uri": "https://localhost:8080/"
    },
    "executionInfo": {
     "elapsed": 264,
     "status": "ok",
     "timestamp": 1711332279441,
     "user": {
      "displayName": "LIANGYU WANG",
      "userId": "14294738231560219046"
     },
     "user_tz": 240
    },
    "id": "r3YS0jAFWjyU",
    "outputId": "ec0e7366-561a-43c1-9833-ce8663488e5f"
   },
   "outputs": [
    {
     "name": "stdout",
     "output_type": "stream",
     "text": [
      "True\n",
      "True\n",
      "True\n",
      "True\n",
      "True\n",
      "True\n"
     ]
    }
   ],
   "source": [
    "print(\"prev_items\" in train.columns)\n",
    "print(\"locale\" in train.columns)\n",
    "print(\"session_id\" in train.columns)\n",
    "\n",
    "print(\"prev_items\" in test.columns)\n",
    "print(\"locale\" in test.columns)\n",
    "print(\"session_id\" in test.columns)"
   ]
  },
  {
   "cell_type": "code",
   "execution_count": 9,
   "metadata": {
    "executionInfo": {
     "elapsed": 282,
     "status": "ok",
     "timestamp": 1711332219838,
     "user": {
      "displayName": "LIANGYU WANG",
      "userId": "14294738231560219046"
     },
     "user_tz": 240
    },
    "id": "6gwwXKPGGCi3"
   },
   "outputs": [],
   "source": [
    "def preprocess(session_df: pl.DataFrame, product_df: pl.DataFrame) -> pl.DataFrame:\n",
    "    session_df = session_df.explode(\"prev_items\")\n",
    "    session_df = session_df.with_columns(\n",
    "        session_df.select(pl.col(\"session_id\").cumcount(reverse=True).over(\"session_id\").alias(\"sequence_num\"))\n",
    "    )\n",
    "    session_df = session_df.join(product_df, left_on=[\"prev_items\", \"locale\"], right_on=[\"id\", \"locale\"], how=\"left\")\n",
    "    return session_df"
   ]
  },
  {
   "cell_type": "code",
   "execution_count": 10,
   "metadata": {
    "executionInfo": {
     "elapsed": 266,
     "status": "ok",
     "timestamp": 1711332221550,
     "user": {
      "displayName": "LIANGYU WANG",
      "userId": "14294738231560219046"
     },
     "user_tz": 240
    },
    "id": "FnVmD7EFw0yI"
   },
   "outputs": [],
   "source": [
    "def generate_session_features(df: pl.DataFrame) -> pl.DataFrame:\n",
    "    session_feat_df = df.groupby(\"session_id\").first()[[\"session_id\", \"locale\"]]\n",
    "\n",
    "    # session locale\n",
    "    enc = LabelEncoder()\n",
    "    enc.fit(session_feat_df[\"locale\"])\n",
    "    session_feat_df = session_feat_df.with_columns(\n",
    "        pl.Series(name=\"locale\", values=enc.transform(session_feat_df[\"locale\"]))\n",
    "    ).rename({\"locale\":\"S_locale\"})\n",
    "\n",
    "    # Number of items in each session\n",
    "    session_feat_df = session_feat_df.join(\n",
    "        df.groupby(\"session_id\").agg(pl.count()).rename({\"count\":\"S_session_length\"}),\n",
    "        on=\"session_id\",\n",
    "        how=\"left\"\n",
    "    )\n",
    "\n",
    "    # Number of unique items in each\n",
    "    session_feat_df = session_feat_df.join(\n",
    "        df.groupby(\"session_id\").n_unique()[[\"session_id\", \"prev_items\"]].rename({\"prev_items\":\"S_nunique_item\"}),\n",
    "        on=\"session_id\",\n",
    "        how=\"left\"\n",
    "    )\n",
    "\n",
    "    # Number of unique brands in each sessio\n",
    "    session_feat_df = session_feat_df.join(\n",
    "        df.groupby(\"session_id\").n_unique()[[\"session_id\", \"brand\"]].rename({\"brand\":\"S_nunique_brand\"}),\n",
    "        on=\"session_id\",\n",
    "        how=\"left\"\n",
    "    )\n",
    "\n",
    "    # Repurchase rate for each session, ratio of number of items to number of unique brands\n",
    "    session_feat_df = session_feat_df.with_columns(\n",
    "            ((pl.col(\"S_session_length\") - pl.col(\"S_nunique_item\")) / pl.col(\"S_session_length\")).alias(\"S_ratio_repurchase\"),\n",
    "            (pl.col(\"S_nunique_brand\") / pl.col(\"S_session_length\")).alias(\"S_ratio_unique_brand\")\n",
    "    )\n",
    "\n",
    "    # Mean, maximum, minimum, and standard deviation of PRICE of items for each session\n",
    "    session_feat_df = session_feat_df.join(\n",
    "        df.groupby(\"session_id\").agg(\n",
    "            pl.col(\"price\").mean().alias(\"S_mean_price\"),\n",
    "            pl.col(\"price\").max().alias(\"S_max_price\"),\n",
    "            pl.col(\"price\").min().alias(\"S_min_price\"),\n",
    "            pl.col(\"price\").std().alias(\"S_std_price\"),\n",
    "            pl.col(\"price\").sum().alias(\"S_total_amount\"),\n",
    "        ),\n",
    "        on=\"session_id\",\n",
    "        how=\"left\"\n",
    "    )\n",
    "    # Price of items purchased at the end of each session\n",
    "    session_feat_df = session_feat_df.join(\n",
    "        df.groupby(\"session_id\", maintain_order=True).tail(1)[[\"session_id\", \"price\"]].rename({\"price\":\"S_last_item_price\"}),\n",
    "        on=\"session_id\",\n",
    "        how=\"left\"\n",
    "    )\n",
    "\n",
    "    # Non-null count of each category of purchased products\n",
    "    session_feat_df = session_feat_df.join(\n",
    "        df.groupby(\"session_id\").agg(\n",
    "            pl.col(\"color\").is_not_null().sum().alias(\"S_color_not_null_count\"),\n",
    "            pl.col(\"size\").is_not_null().sum().alias(\"S_size_not_null_count\"),\n",
    "            pl.col(\"model\").is_not_null().sum().alias(\"S_model_not_null_count\"),\n",
    "            pl.col(\"material\").is_not_null().sum().alias(\"S_material_not_null_count\"),\n",
    "            pl.col(\"author\").is_not_null().sum().alias(\"S_author_not_null_count\")\n",
    "        ),\n",
    "        on=\"session_id\",\n",
    "        how=\"left\"\n",
    "    )\n",
    "\n",
    "    # Product information for the last 3 times\n",
    "    # model是型号 三级类目\n",
    "    last_ns = [1, 2, 3]\n",
    "    for last_n in last_ns:\n",
    "        last_n_df = df.filter(pl.col(\"sequence_num\") == last_n-1)\n",
    "        last_n_df = last_n_df[[\"session_id\", \"brand\", \"color\", \"size\", \"model\", \"material\", \"author\"]]\n",
    "        last_n_df = last_n_df.rename({\n",
    "            \"brand\":f\"S_brand_last{last_n}\",\n",
    "            \"color\":f\"S_color_last{last_n}\",\n",
    "            \"size\":f\"S_size_last{last_n}\",\n",
    "            \"model\":f\"S_model_last{last_n}\",\n",
    "            \"material\":f\"S_material_last{last_n}\",\n",
    "            \"author\":f\"S_author_last{last_n}\",\n",
    "        })\n",
    "        session_feat_df = session_feat_df.join(last_n_df, on=\"session_id\", how=\"left\")\n",
    "\n",
    "    return session_feat_df"
   ]
  },
  {
   "cell_type": "code",
   "execution_count": 16,
   "metadata": {
    "executionInfo": {
     "elapsed": 904,
     "status": "ok",
     "timestamp": 1711332335756,
     "user": {
      "displayName": "LIANGYU WANG",
      "userId": "14294738231560219046"
     },
     "user_tz": 240
    },
    "id": "yBIj2wfhvv_y"
   },
   "outputs": [],
   "source": [
    "session_df = pl.concat([\n",
    "    train[[\"prev_items\", \"locale\", \"session_id\"]],\n",
    "    test[[\"prev_items\", \"locale\", \"session_id\"]],\n",
    "])"
   ]
  },
  {
   "cell_type": "code",
   "execution_count": 17,
   "metadata": {
    "colab": {
     "base_uri": "https://localhost:8080/",
     "height": 255
    },
    "executionInfo": {
     "elapsed": 274,
     "status": "ok",
     "timestamp": 1711332347809,
     "user": {
      "displayName": "LIANGYU WANG",
      "userId": "14294738231560219046"
     },
     "user_tz": 240
    },
    "id": "yAMZLDwjWy7a",
    "outputId": "84a62250-53c9-4241-83f8-141af617ba82"
   },
   "outputs": [
    {
     "data": {
      "text/html": [
       "<div><style>\n",
       ".dataframe > thead > tr,\n",
       ".dataframe > tbody > tr {\n",
       "  text-align: right;\n",
       "  white-space: pre-wrap;\n",
       "}\n",
       "</style>\n",
       "<small>shape: (5, 3)</small><table border=\"1\" class=\"dataframe\"><thead><tr><th>prev_items</th><th>locale</th><th>session_id</th></tr><tr><td>list[str]</td><td>str</td><td>str</td></tr></thead><tbody><tr><td>[&quot;B09W9FND7K&quot;, &quot;B09JSPLN1M&quot;]</td><td>&quot;DE&quot;</td><td>&quot;train_0&quot;</td></tr><tr><td>[&quot;B076THCGSG&quot;, &quot;B007MO8IME&quot;, … &quot;B001B4TKA0&quot;]</td><td>&quot;DE&quot;</td><td>&quot;train_1&quot;</td></tr><tr><td>[&quot;B0B1LGXWDS&quot;, &quot;B00AZYORS2&quot;, … &quot;B00AZYORS2&quot;]</td><td>&quot;DE&quot;</td><td>&quot;train_2&quot;</td></tr><tr><td>[&quot;B09XMTWDVT&quot;, &quot;B0B4MZZ8MB&quot;, … &quot;B0B71CHT1L&quot;]</td><td>&quot;DE&quot;</td><td>&quot;train_3&quot;</td></tr><tr><td>[&quot;B09Y5CSL3T&quot;, &quot;B09Y5DPTXN&quot;, &quot;B09FKD61R8&quot;]</td><td>&quot;DE&quot;</td><td>&quot;train_4&quot;</td></tr></tbody></table></div>"
      ],
      "text/plain": [
       "shape: (5, 3)\n",
       "┌───────────────────────────────────┬────────┬────────────┐\n",
       "│ prev_items                        ┆ locale ┆ session_id │\n",
       "│ ---                               ┆ ---    ┆ ---        │\n",
       "│ list[str]                         ┆ str    ┆ str        │\n",
       "╞═══════════════════════════════════╪════════╪════════════╡\n",
       "│ [\"B09W9FND7K\", \"B09JSPLN1M\"]      ┆ DE     ┆ train_0    │\n",
       "│ [\"B076THCGSG\", \"B007MO8IME\", … \"… ┆ DE     ┆ train_1    │\n",
       "│ [\"B0B1LGXWDS\", \"B00AZYORS2\", … \"… ┆ DE     ┆ train_2    │\n",
       "│ [\"B09XMTWDVT\", \"B0B4MZZ8MB\", … \"… ┆ DE     ┆ train_3    │\n",
       "│ [\"B09Y5CSL3T\", \"B09Y5DPTXN\", \"B0… ┆ DE     ┆ train_4    │\n",
       "└───────────────────────────────────┴────────┴────────────┘"
      ]
     },
     "execution_count": 17,
     "metadata": {},
     "output_type": "execute_result"
    }
   ],
   "source": [
    "session_df.head()"
   ]
  },
  {
   "cell_type": "code",
   "execution_count": 18,
   "metadata": {
    "colab": {
     "base_uri": "https://localhost:8080/"
    },
    "executionInfo": {
     "elapsed": 25854,
     "status": "ok",
     "timestamp": 1711332383643,
     "user": {
      "displayName": "LIANGYU WANG",
      "userId": "14294738231560219046"
     },
     "user_tz": 240
    },
    "id": "pf6xDi24wVl8",
    "outputId": "28233207-e131-4eec-ec58-dee143536f2b"
   },
   "outputs": [
    {
     "name": "stderr",
     "output_type": "stream",
     "text": [
      "<ipython-input-9-538f5600e264>:4: DeprecationWarning: `cumcount` is deprecated. It has been renamed to `cum_count`.\n",
      "  session_df.select(pl.col(\"session_id\").cumcount(reverse=True).over(\"session_id\").alias(\"sequence_num\"))\n"
     ]
    }
   ],
   "source": [
    "session_df = preprocess(session_df, product)"
   ]
  },
  {
   "cell_type": "code",
   "execution_count": 19,
   "metadata": {
    "colab": {
     "base_uri": "https://localhost:8080/"
    },
    "executionInfo": {
     "elapsed": 63969,
     "status": "ok",
     "timestamp": 1711332453456,
     "user": {
      "displayName": "LIANGYU WANG",
      "userId": "14294738231560219046"
     },
     "user_tz": 240
    },
    "id": "Hwj2E7hkvyg8",
    "outputId": "dc76e000-2f04-46e6-92dc-1f3745a7b665"
   },
   "outputs": [
    {
     "name": "stderr",
     "output_type": "stream",
     "text": [
      "<ipython-input-10-0c3706075767>:2: DeprecationWarning: `groupby` is deprecated. It has been renamed to `group_by`.\n",
      "  session_feat_df = df.groupby(\"session_id\").first()[[\"session_id\", \"locale\"]]\n",
      "<ipython-input-10-0c3706075767>:13: DeprecationWarning: `groupby` is deprecated. It has been renamed to `group_by`.\n",
      "  df.groupby(\"session_id\").agg(pl.count()).rename({\"count\":\"S_session_length\"}),\n",
      "<ipython-input-10-0c3706075767>:20: DeprecationWarning: `groupby` is deprecated. It has been renamed to `group_by`.\n",
      "  df.groupby(\"session_id\").n_unique()[[\"session_id\", \"prev_items\"]].rename({\"prev_items\":\"S_nunique_item\"}),\n",
      "<ipython-input-10-0c3706075767>:27: DeprecationWarning: `groupby` is deprecated. It has been renamed to `group_by`.\n",
      "  df.groupby(\"session_id\").n_unique()[[\"session_id\", \"brand\"]].rename({\"brand\":\"S_nunique_brand\"}),\n",
      "<ipython-input-10-0c3706075767>:40: DeprecationWarning: `groupby` is deprecated. It has been renamed to `group_by`.\n",
      "  df.groupby(\"session_id\").agg(\n",
      "<ipython-input-10-0c3706075767>:52: DeprecationWarning: `groupby` is deprecated. It has been renamed to `group_by`.\n",
      "  df.groupby(\"session_id\", maintain_order=True).tail(1)[[\"session_id\", \"price\"]].rename({\"price\":\"S_last_item_price\"}),\n",
      "<ipython-input-10-0c3706075767>:59: DeprecationWarning: `groupby` is deprecated. It has been renamed to `group_by`.\n",
      "  df.groupby(\"session_id\").agg(\n"
     ]
    }
   ],
   "source": [
    "session_features = generate_session_features(session_df)"
   ]
  },
  {
   "cell_type": "code",
   "execution_count": null,
   "metadata": {
    "id": "ZESVttQwv0kI"
   },
   "outputs": [],
   "source": [
    "session_features.write_parquet(f\"/content/drive/MyDrive/kddcup2023/data/interim/features/task1/session_feature_{VER}.parquet\", use_pyarrow=True)"
   ]
  },
  {
   "cell_type": "code",
   "execution_count": null,
   "metadata": {
    "colab": {
     "base_uri": "https://localhost:8080/",
     "height": 255
    },
    "executionInfo": {
     "elapsed": 5,
     "status": "ok",
     "timestamp": 1702223869952,
     "user": {
      "displayName": "pp rich",
      "userId": "00371241177131396451"
     },
     "user_tz": -480
    },
    "id": "3LuvBl3qlUKN",
    "outputId": "2ad3ac80-85ac-4b43-ab26-e84369e30635"
   },
   "outputs": [
    {
     "data": {
      "text/html": [
       "<div><style>\n",
       ".dataframe > thead > tr > th,\n",
       ".dataframe > tbody > tr > td {\n",
       "  text-align: right;\n",
       "}\n",
       "</style>\n",
       "<small>shape: (5, 14)</small><table border=\"1\" class=\"dataframe\"><thead><tr><th>prev_items</th><th>locale</th><th>session_id</th><th>sequence_num</th><th>title</th><th>price</th><th>brand</th><th>color</th><th>size</th><th>model</th><th>material</th><th>author</th><th>desc</th><th>available_locales</th></tr><tr><td>str</td><td>str</td><td>str</td><td>u32</td><td>str</td><td>f64</td><td>str</td><td>str</td><td>str</td><td>str</td><td>str</td><td>str</td><td>str</td><td>list[str]</td></tr></thead><tbody><tr><td>&quot;B09W9FND7K&quot;</td><td>&quot;DE&quot;</td><td>&quot;train_0&quot;</td><td>1</td><td>&quot;OREiN LED Einb…</td><td>39.99</td><td>&quot;OREiN&quot;</td><td>&quot;6*ip65 (3000k,…</td><td>&quot;Lochgröße Φ68-…</td><td>null</td><td>&quot;塑料&quot;</td><td>null</td><td>&quot;【Angenehmes Li…</td><td>[&quot;DE&quot;, &quot;UK&quot;, &quot;FR&quot;]</td></tr><tr><td>&quot;B09JSPLN1M&quot;</td><td>&quot;DE&quot;</td><td>&quot;train_0&quot;</td><td>0</td><td>&quot;OREiN LED Spot…</td><td>36.99</td><td>&quot;OREiN&quot;</td><td>&quot;6*ip65(3000k)&quot;</td><td>&quot;Lochgröße Φ68-…</td><td>null</td><td>&quot;Kunststoff&quot;</td><td>null</td><td>&quot;【Angenehmes Li…</td><td>[&quot;DE&quot;, &quot;UK&quot;, &quot;FR&quot;]</td></tr><tr><td>&quot;B076THCGSG&quot;</td><td>&quot;DE&quot;</td><td>&quot;train_1&quot;</td><td>3</td><td>&quot;VIETSCHI Profi…</td><td>39.8</td><td>&quot;Vietschi&quot;</td><td>null</td><td>&quot;12.5 l (1er Pa…</td><td>null</td><td>null</td><td>null</td><td>&quot;✅ Einfache Ver…</td><td>[&quot;DE&quot;]</td></tr><tr><td>&quot;B007MO8IME&quot;</td><td>&quot;DE&quot;</td><td>&quot;train_1&quot;</td><td>2</td><td>&quot;Caparol Capa D…</td><td>40.27</td><td>&quot;Caparol&quot;</td><td>&quot;Weiss&quot;</td><td>&quot;12.5 l (1er Pa…</td><td>&quot;11283000&quot;</td><td>&quot;Dispersionsfar…</td><td>null</td><td>&quot;Caparol&quot;</td><td>[&quot;DE&quot;]</td></tr><tr><td>&quot;B08MF65MLV&quot;</td><td>&quot;DE&quot;</td><td>&quot;train_1&quot;</td><td>1</td><td>&quot;Metzler Edelst…</td><td>29.99</td><td>&quot;Metzler&quot;</td><td>&quot;Anthrazit&quot;</td><td>&quot;8 x 6 cm&quot;</td><td>null</td><td>&quot;Edelstahl V2A&quot;</td><td>null</td><td>&quot;Der Anschluss …</td><td>[&quot;DE&quot;]</td></tr></tbody></table></div>"
      ],
      "text/plain": [
       "shape: (5, 14)\n",
       "┌──────────┬────────┬─────────────┬────────────┬───┬────────────┬────────┬────────────┬────────────┐\n",
       "│ prev_ite ┆ locale ┆ session_id  ┆ sequence_n ┆ … ┆ material   ┆ author ┆ desc       ┆ available_ │\n",
       "│ ms       ┆ ---    ┆ ---         ┆ um         ┆   ┆ ---        ┆ ---    ┆ ---        ┆ locales    │\n",
       "│ ---      ┆ str    ┆ str         ┆ ---        ┆   ┆ str        ┆ str    ┆ str        ┆ ---        │\n",
       "│ str      ┆        ┆             ┆ u32        ┆   ┆            ┆        ┆            ┆ list[str]  │\n",
       "╞══════════╪════════╪═════════════╪════════════╪═══╪════════════╪════════╪════════════╪════════════╡\n",
       "│ B09W9FND ┆ DE     ┆ train_0     ┆ 1          ┆ … ┆ 塑料       ┆ null   ┆ 【Angenehm ┆ [\"DE\",     │\n",
       "│ 7K       ┆        ┆             ┆            ┆   ┆            ┆        ┆ es Licht】 ┆ \"UK\",      │\n",
       "│          ┆        ┆             ┆            ┆   ┆            ┆        ┆ Dieser     ┆ \"FR\"]      │\n",
       "│          ┆        ┆             ┆            ┆   ┆            ┆        ┆ Einbaus…   ┆            │\n",
       "│ B09JSPLN ┆ DE     ┆ train_0     ┆ 0          ┆ … ┆ Kunststoff ┆ null   ┆ 【Angenehm ┆ [\"DE\",     │\n",
       "│ 1M       ┆        ┆             ┆            ┆   ┆            ┆        ┆ es Licht】 ┆ \"UK\",      │\n",
       "│          ┆        ┆             ┆            ┆   ┆            ┆        ┆ Dieser     ┆ \"FR\"]      │\n",
       "│          ┆        ┆             ┆            ┆   ┆            ┆        ┆ Einbaus…   ┆            │\n",
       "│ B076THCG ┆ DE     ┆ train_1     ┆ 3          ┆ … ┆ null       ┆ null   ┆ ✅         ┆ [\"DE\"]     │\n",
       "│ SG       ┆        ┆             ┆            ┆   ┆            ┆        ┆ Einfache   ┆            │\n",
       "│          ┆        ┆             ┆            ┆   ┆            ┆        ┆ Verarbeitu ┆            │\n",
       "│          ┆        ┆             ┆            ┆   ┆            ┆        ┆ ng - Egal  ┆            │\n",
       "│          ┆        ┆             ┆            ┆   ┆            ┆        ┆ o…         ┆            │\n",
       "│ B007MO8I ┆ DE     ┆ train_1     ┆ 2          ┆ … ┆ Dispersion ┆ null   ┆ Caparol    ┆ [\"DE\"]     │\n",
       "│ ME       ┆        ┆             ┆            ┆   ┆ sfarbe     ┆        ┆            ┆            │\n",
       "│ B08MF65M ┆ DE     ┆ train_1     ┆ 1          ┆ … ┆ Edelstahl  ┆ null   ┆ Der        ┆ [\"DE\"]     │\n",
       "│ LV       ┆        ┆             ┆            ┆   ┆ V2A        ┆        ┆ Anschluss  ┆            │\n",
       "│          ┆        ┆             ┆            ┆   ┆            ┆        ┆ erfolgt an ┆            │\n",
       "│          ┆        ┆             ┆            ┆   ┆            ┆        ┆ herkömm…   ┆            │\n",
       "└──────────┴────────┴─────────────┴────────────┴───┴────────────┴────────┴────────────┴────────────┘"
      ]
     },
     "execution_count": 12,
     "metadata": {},
     "output_type": "execute_result"
    }
   ],
   "source": [
    "session_df.head()\n"
   ]
  },
  {
   "cell_type": "code",
   "execution_count": null,
   "metadata": {
    "colab": {
     "base_uri": "https://localhost:8080/",
     "height": 327
    },
    "executionInfo": {
     "elapsed": 3,
     "status": "ok",
     "timestamp": 1702223943212,
     "user": {
      "displayName": "pp rich",
      "userId": "00371241177131396451"
     },
     "user_tz": -480
    },
    "id": "Ct9RBNn7cu_c",
    "outputId": "37365241-9ac4-4e2e-9bc0-8c1818d3585b"
   },
   "outputs": [
    {
     "data": {
      "text/html": [
       "<div><style>\n",
       ".dataframe > thead > tr > th,\n",
       ".dataframe > tbody > tr > td {\n",
       "  text-align: right;\n",
       "}\n",
       "</style>\n",
       "<small>shape: (5, 36)</small><table border=\"1\" class=\"dataframe\"><thead><tr><th>session_id</th><th>S_locale</th><th>S_session_length</th><th>S_nunique_item</th><th>S_nunique_brand</th><th>S_ratio_repurchase</th><th>S_ratio_unique_brand</th><th>S_mean_price</th><th>S_max_price</th><th>S_min_price</th><th>S_std_price</th><th>S_total_amount</th><th>S_last_item_price</th><th>S_color_not_null_count</th><th>S_size_not_null_count</th><th>S_model_not_null_count</th><th>S_material_not_null_count</th><th>S_author_not_null_count</th><th>S_brand_last1</th><th>S_color_last1</th><th>S_size_last1</th><th>S_model_last1</th><th>S_material_last1</th><th>S_author_last1</th><th>S_brand_last2</th><th>S_color_last2</th><th>S_size_last2</th><th>S_model_last2</th><th>S_material_last2</th><th>S_author_last2</th><th>S_brand_last3</th><th>S_color_last3</th><th>S_size_last3</th><th>S_model_last3</th><th>S_material_last3</th><th>S_author_last3</th></tr><tr><td>str</td><td>i64</td><td>u32</td><td>u32</td><td>u32</td><td>f64</td><td>f64</td><td>f64</td><td>f64</td><td>f64</td><td>f64</td><td>f64</td><td>f64</td><td>u32</td><td>u32</td><td>u32</td><td>u32</td><td>u32</td><td>str</td><td>str</td><td>str</td><td>str</td><td>str</td><td>str</td><td>str</td><td>str</td><td>str</td><td>str</td><td>str</td><td>str</td><td>str</td><td>str</td><td>str</td><td>str</td><td>str</td><td>str</td></tr></thead><tbody><tr><td>&quot;train_1182994&quot;</td><td>1</td><td>3</td><td>3</td><td>2</td><td>0.0</td><td>0.666667</td><td>10.742857</td><td>13.507143</td><td>9.235714</td><td>2.397203</td><td>32.228571</td><td>13.507143</td><td>0</td><td>3</td><td>0</td><td>0</td><td>0</td><td>&quot;エッセンシャル&quot;</td><td>null</td><td>&quot;2.0リットル (x 1)&quot;</td><td>null</td><td>null</td><td>null</td><td>&quot;DX(デラックス)&quot;</td><td>null</td><td>&quot;1リットル (x 1)&quot;</td><td>null</td><td>null</td><td>null</td><td>&quot;DX(デラックス)&quot;</td><td>null</td><td>&quot;1リットル (x 1)&quot;</td><td>null</td><td>null</td><td>null</td></tr><tr><td>&quot;train_490007&quot;</td><td>0</td><td>3</td><td>2</td><td>2</td><td>0.333333</td><td>0.666667</td><td>22.663333</td><td>26.5</td><td>14.99</td><td>6.645302</td><td>67.99</td><td>14.99</td><td>1</td><td>1</td><td>1</td><td>2</td><td>0</td><td>&quot;Bonlux&quot;</td><td>&quot;Warmweiß&quot;</td><td>&quot;5 Stück (1er P…</td><td>&quot;UK-INS-0596-WW…</td><td>null</td><td>null</td><td>&quot;Marhynchus&quot;</td><td>null</td><td>null</td><td>null</td><td>&quot;Material&quot;</td><td>null</td><td>&quot;Marhynchus&quot;</td><td>null</td><td>null</td><td>null</td><td>&quot;Material&quot;</td><td>null</td></tr><tr><td>&quot;train_1821541&quot;</td><td>1</td><td>2</td><td>2</td><td>1</td><td>0.0</td><td>0.5</td><td>73.485714</td><td>92.128571</td><td>54.842857</td><td>26.364981</td><td>146.971429</td><td>54.842857</td><td>0</td><td>0</td><td>1</td><td>0</td><td>0</td><td>&quot;任天堂&quot;</td><td>null</td><td>null</td><td>null</td><td>null</td><td>null</td><td>&quot;任天堂&quot;</td><td>null</td><td>null</td><td>&quot;2200630055090&quot;</td><td>null</td><td>null</td><td>null</td><td>null</td><td>null</td><td>null</td><td>null</td><td>null</td></tr><tr><td>&quot;train_2472402&quot;</td><td>2</td><td>2</td><td>1</td><td>1</td><td>0.5</td><td>0.5</td><td>4.99</td><td>4.99</td><td>4.99</td><td>0.0</td><td>9.98</td><td>4.99</td><td>2</td><td>0</td><td>0</td><td>0</td><td>0</td><td>&quot;YT Direct&quot;</td><td>&quot;Natural Bamboo…</td><td>null</td><td>null</td><td>null</td><td>null</td><td>&quot;YT Direct&quot;</td><td>&quot;Natural Bamboo…</td><td>null</td><td>null</td><td>null</td><td>null</td><td>null</td><td>null</td><td>null</td><td>null</td><td>null</td><td>null</td></tr><tr><td>&quot;train_2590079&quot;</td><td>2</td><td>6</td><td>6</td><td>5</td><td>0.0</td><td>0.833333</td><td>47.878</td><td>50.71</td><td>43.99</td><td>3.13425</td><td>239.39</td><td>50.71</td><td>6</td><td>4</td><td>5</td><td>1</td><td>0</td><td>&quot;Russell Hobbs&quot;</td><td>&quot;Black&quot;</td><td>&quot;Black 600ml&quot;</td><td>&quot;RHDH1061B&quot;</td><td>null</td><td>null</td><td>&quot;Russell Hobbs&quot;</td><td>&quot;Grey&quot;</td><td>&quot;Grey 600ml&quot;</td><td>&quot;RHDH1061G&quot;</td><td>null</td><td>null</td><td>&quot;CONOPU&quot;</td><td>&quot;Black&quot;</td><td>null</td><td>&quot;OZC20S03&quot;</td><td>null</td><td>null</td></tr></tbody></table></div>"
      ],
      "text/plain": [
       "shape: (5, 36)\n",
       "┌──────────┬──────────┬────────────┬────────────┬───┬────────────┬────────────┬────────────┬────────────┐\n",
       "│ session_ ┆ S_locale ┆ S_session_ ┆ S_nunique_ ┆ … ┆ S_size_las ┆ S_model_la ┆ S_material ┆ S_author_l │\n",
       "│ id       ┆ ---      ┆ length     ┆ item       ┆   ┆ t3         ┆ st3        ┆ _last3     ┆ ast3       │\n",
       "│ ---      ┆ i64      ┆ ---        ┆ ---        ┆   ┆ ---        ┆ ---        ┆ ---        ┆ ---        │\n",
       "│ str      ┆          ┆ u32        ┆ u32        ┆   ┆ str        ┆ str        ┆ str        ┆ str        │\n",
       "╞══════════╪══════════╪════════════╪════════════╪═══╪════════════╪════════════╪════════════╪════════════╡\n",
       "│ train_11 ┆ 1        ┆ 3          ┆ 3          ┆ … ┆ 1リットル  ┆ null       ┆ null       ┆ null       │\n",
       "│ 82994    ┆          ┆            ┆            ┆   ┆ (x 1)      ┆            ┆            ┆            │\n",
       "│ train_49 ┆ 0        ┆ 3          ┆ 2          ┆ … ┆ null       ┆ null       ┆ Material   ┆ null       │\n",
       "│ 0007     ┆          ┆            ┆            ┆   ┆            ┆            ┆            ┆            │\n",
       "│ train_18 ┆ 1        ┆ 2          ┆ 2          ┆ … ┆ null       ┆ null       ┆ null       ┆ null       │\n",
       "│ 21541    ┆          ┆            ┆            ┆   ┆            ┆            ┆            ┆            │\n",
       "│ train_24 ┆ 2        ┆ 2          ┆ 1          ┆ … ┆ null       ┆ null       ┆ null       ┆ null       │\n",
       "│ 72402    ┆          ┆            ┆            ┆   ┆            ┆            ┆            ┆            │\n",
       "│ train_25 ┆ 2        ┆ 6          ┆ 6          ┆ … ┆ null       ┆ OZC20S03   ┆ null       ┆ null       │\n",
       "│ 90079    ┆          ┆            ┆            ┆   ┆            ┆            ┆            ┆            │\n",
       "└──────────┴──────────┴────────────┴────────────┴───┴────────────┴────────────┴────────────┴────────────┘"
      ]
     },
     "execution_count": 13,
     "metadata": {},
     "output_type": "execute_result"
    }
   ],
   "source": [
    "session_features.head()\n"
   ]
  },
  {
   "cell_type": "code",
   "execution_count": null,
   "metadata": {
    "id": "Jz8rAyuzdAxI"
   },
   "outputs": [],
   "source": []
  }
 ],
 "metadata": {
  "colab": {
   "machine_shape": "hm",
   "provenance": []
  },
  "gpuClass": "standard",
  "kernelspec": {
   "display_name": "Python 3",
   "name": "python3"
  },
  "language_info": {
   "name": "python"
  }
 },
 "nbformat": 4,
 "nbformat_minor": 0
}
